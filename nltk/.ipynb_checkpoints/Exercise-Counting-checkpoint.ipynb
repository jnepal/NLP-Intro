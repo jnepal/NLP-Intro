{
 "cells": [
  {
   "cell_type": "markdown",
   "metadata": {},
   "source": [
    " Words per sentence"
   ]
  },
  {
   "cell_type": "code",
   "execution_count": 52,
   "metadata": {
    "collapsed": true
   },
   "outputs": [],
   "source": [
    "import nltk"
   ]
  },
  {
   "cell_type": "code",
   "execution_count": 2,
   "metadata": {
    "collapsed": true
   },
   "outputs": [],
   "source": [
    "from nltk.corpus import inaugural"
   ]
  },
  {
   "cell_type": "markdown",
   "metadata": {},
   "source": [
    "loads all the files associated with inaugural"
   ]
  },
  {
   "cell_type": "code",
   "execution_count": 3,
   "metadata": {
    "collapsed": false
   },
   "outputs": [
    {
     "data": {
      "text/plain": [
       "['1789-Washington.txt',\n",
       " '1793-Washington.txt',\n",
       " '1797-Adams.txt',\n",
       " '1801-Jefferson.txt',\n",
       " '1805-Jefferson.txt',\n",
       " '1809-Madison.txt',\n",
       " '1813-Madison.txt',\n",
       " '1817-Monroe.txt',\n",
       " '1821-Monroe.txt',\n",
       " '1825-Adams.txt',\n",
       " '1829-Jackson.txt',\n",
       " '1833-Jackson.txt',\n",
       " '1837-VanBuren.txt',\n",
       " '1841-Harrison.txt',\n",
       " '1845-Polk.txt',\n",
       " '1849-Taylor.txt',\n",
       " '1853-Pierce.txt',\n",
       " '1857-Buchanan.txt',\n",
       " '1861-Lincoln.txt',\n",
       " '1865-Lincoln.txt',\n",
       " '1869-Grant.txt',\n",
       " '1873-Grant.txt',\n",
       " '1877-Hayes.txt',\n",
       " '1881-Garfield.txt',\n",
       " '1885-Cleveland.txt',\n",
       " '1889-Harrison.txt',\n",
       " '1893-Cleveland.txt',\n",
       " '1897-McKinley.txt',\n",
       " '1901-McKinley.txt',\n",
       " '1905-Roosevelt.txt',\n",
       " '1909-Taft.txt',\n",
       " '1913-Wilson.txt',\n",
       " '1917-Wilson.txt',\n",
       " '1921-Harding.txt',\n",
       " '1925-Coolidge.txt',\n",
       " '1929-Hoover.txt',\n",
       " '1933-Roosevelt.txt',\n",
       " '1937-Roosevelt.txt',\n",
       " '1941-Roosevelt.txt',\n",
       " '1945-Roosevelt.txt',\n",
       " '1949-Truman.txt',\n",
       " '1953-Eisenhower.txt',\n",
       " '1957-Eisenhower.txt',\n",
       " '1961-Kennedy.txt',\n",
       " '1965-Johnson.txt',\n",
       " '1969-Nixon.txt',\n",
       " '1973-Nixon.txt',\n",
       " '1977-Carter.txt',\n",
       " '1981-Reagan.txt',\n",
       " '1985-Reagan.txt',\n",
       " '1989-Bush.txt',\n",
       " '1993-Clinton.txt',\n",
       " '1997-Clinton.txt',\n",
       " '2001-Bush.txt',\n",
       " '2005-Bush.txt',\n",
       " '2009-Obama.txt']"
      ]
     },
     "execution_count": 3,
     "metadata": {},
     "output_type": "execute_result"
    }
   ],
   "source": [
    "inaugural.fileids()"
   ]
  },
  {
   "cell_type": "code",
   "execution_count": 42,
   "metadata": {
    "collapsed": false
   },
   "outputs": [
    {
     "name": "stdout",
     "output_type": "stream",
     "text": [
      "Avg words: 64.08333333333333 speech: 1789-Washington.txt\n",
      "Avg words: 36.75 speech: 1793-Washington.txt\n",
      "Avg words: 69.86486486486487 speech: 1797-Adams.txt\n",
      "Avg words: 46.07142857142857 speech: 1801-Jefferson.txt\n",
      "Avg words: 52.977777777777774 speech: 1805-Jefferson.txt\n",
      "Avg words: 60.23809523809524 speech: 1809-Madison.txt\n",
      "Avg words: 39.515151515151516 speech: 1813-Madison.txt\n",
      "Avg words: 30.270491803278688 speech: 1817-Monroe.txt\n",
      "Avg words: 38.054263565891475 speech: 1821-Monroe.txt\n",
      "Avg words: 42.567567567567565 speech: 1825-Adams.txt\n",
      "Avg words: 48.32 speech: 1829-Jackson.txt\n",
      "Avg words: 42.233333333333334 speech: 1833-Jackson.txt\n",
      "Avg words: 43.90526315789474 speech: 1837-VanBuren.txt\n",
      "Avg words: 43.642857142857146 speech: 1841-Harrison.txt\n",
      "Avg words: 33.96078431372549 speech: 1845-Polk.txt\n",
      "Avg words: 53.72727272727273 speech: 1849-Taylor.txt\n",
      "Avg words: 35.16346153846154 speech: 1853-Pierce.txt\n",
      "Avg words: 34.80898876404494 speech: 1857-Buchanan.txt\n",
      "Avg words: 29.02173913043478 speech: 1861-Lincoln.txt\n",
      "Avg words: 29.074074074074073 speech: 1865-Lincoln.txt\n",
      "Avg words: 30.21951219512195 speech: 1869-Grant.txt\n",
      "Avg words: 33.59090909090909 speech: 1873-Grant.txt\n",
      "Avg words: 46.16949152542373 speech: 1877-Hayes.txt\n",
      "Avg words: 28.919642857142858 speech: 1881-Garfield.txt\n",
      "Avg words: 41.54545454545455 speech: 1885-Cleveland.txt\n",
      "Avg words: 30.254777070063696 speech: 1889-Harrison.txt\n",
      "Avg words: 37.12068965517241 speech: 1893-Cleveland.txt\n",
      "Avg words: 33.62307692307692 speech: 1897-McKinley.txt\n",
      "Avg words: 24.5 speech: 1901-McKinley.txt\n",
      "Avg words: 33.06060606060606 speech: 1905-Roosevelt.txt\n",
      "Avg words: 36.76729559748428 speech: 1909-Taft.txt\n",
      "Avg words: 28.014705882352942 speech: 1913-Wilson.txt\n",
      "Avg words: 27.6 speech: 1917-Wilson.txt\n",
      "Avg words: 25.20805369127517 speech: 1921-Harding.txt\n",
      "Avg words: 22.548223350253807 speech: 1925-Coolidge.txt\n",
      "Avg words: 24.620253164556964 speech: 1929-Hoover.txt\n",
      "Avg words: 24.270588235294117 speech: 1933-Roosevelt.txt\n",
      "Avg words: 21.03125 speech: 1937-Roosevelt.txt\n",
      "Avg words: 22.58823529411765 speech: 1941-Roosevelt.txt\n",
      "Avg words: 24.5 speech: 1945-Roosevelt.txt\n",
      "Avg words: 21.79310344827586 speech: 1949-Truman.txt\n",
      "Avg words: 22.5609756097561 speech: 1953-Eisenhower.txt\n",
      "Avg words: 20.83695652173913 speech: 1957-Eisenhower.txt\n",
      "Avg words: 29.73076923076923 speech: 1961-Kennedy.txt\n",
      "Avg words: 18.24468085106383 speech: 1965-Johnson.txt\n",
      "Avg words: 22.87735849056604 speech: 1969-Nixon.txt\n",
      "Avg words: 29.391304347826086 speech: 1973-Nixon.txt\n",
      "Avg words: 26.037735849056602 speech: 1977-Carter.txt\n",
      "Avg words: 22.055118110236222 speech: 1981-Reagan.txt\n",
      "Avg words: 23.38095238095238 speech: 1985-Reagan.txt\n",
      "Avg words: 18.71034482758621 speech: 1989-Bush.txt\n",
      "Avg words: 22.901234567901234 speech: 1993-Clinton.txt\n",
      "Avg words: 21.982142857142858 speech: 1997-Clinton.txt\n",
      "Avg words: 18.814432989690722 speech: 2001-Bush.txt\n",
      "Avg words: 25.010526315789473 speech: 2005-Bush.txt\n",
      "Avg words: 24.339285714285715 speech: 2009-Obama.txt\n"
     ]
    }
   ],
   "source": [
    "for speech in inaugural.fileids():\n",
    "    wordSet    = inaugural.words(speech)\n",
    "    sentSet    = inaugural.sents(speech)\n",
    "    sentLen    = len(sentSet)\n",
    "    wordLen    = len(wordSet)\n",
    "    print('Avg words: ' + str(wordLen/sentLen) + ' speech: ' + speech)"
   ]
  },
  {
   "cell_type": "code",
   "execution_count": 45,
   "metadata": {
    "collapsed": false
   },
   "outputs": [],
   "source": [
    "#creating a list of (no of words, speech title)\n",
    "speechLen = [(len(inaugural.words(speech)), speech)for speech in inaugural.fileids()]"
   ]
  },
  {
   "cell_type": "code",
   "execution_count": 46,
   "metadata": {
    "collapsed": false
   },
   "outputs": [
    {
     "name": "stdout",
     "output_type": "stream",
     "text": [
      "[(1538, '1789-Washington.txt'), (147, '1793-Washington.txt'), (2585, '1797-Adams.txt'), (1935, '1801-Jefferson.txt'), (2384, '1805-Jefferson.txt'), (1265, '1809-Madison.txt'), (1304, '1813-Madison.txt'), (3693, '1817-Monroe.txt'), (4909, '1821-Monroe.txt'), (3150, '1825-Adams.txt'), (1208, '1829-Jackson.txt'), (1267, '1833-Jackson.txt'), (4171, '1837-VanBuren.txt'), (9165, '1841-Harrison.txt'), (5196, '1845-Polk.txt'), (1182, '1849-Taylor.txt'), (3657, '1853-Pierce.txt'), (3098, '1857-Buchanan.txt'), (4005, '1861-Lincoln.txt'), (785, '1865-Lincoln.txt'), (1239, '1869-Grant.txt'), (1478, '1873-Grant.txt'), (2724, '1877-Hayes.txt'), (3239, '1881-Garfield.txt'), (1828, '1885-Cleveland.txt'), (4750, '1889-Harrison.txt'), (2153, '1893-Cleveland.txt'), (4371, '1897-McKinley.txt'), (2450, '1901-McKinley.txt'), (1091, '1905-Roosevelt.txt'), (5846, '1909-Taft.txt'), (1905, '1913-Wilson.txt'), (1656, '1917-Wilson.txt'), (3756, '1921-Harding.txt'), (4442, '1925-Coolidge.txt'), (3890, '1929-Hoover.txt'), (2063, '1933-Roosevelt.txt'), (2019, '1937-Roosevelt.txt'), (1536, '1941-Roosevelt.txt'), (637, '1945-Roosevelt.txt'), (2528, '1949-Truman.txt'), (2775, '1953-Eisenhower.txt'), (1917, '1957-Eisenhower.txt'), (1546, '1961-Kennedy.txt'), (1715, '1965-Johnson.txt'), (2425, '1969-Nixon.txt'), (2028, '1973-Nixon.txt'), (1380, '1977-Carter.txt'), (2801, '1981-Reagan.txt'), (2946, '1985-Reagan.txt'), (2713, '1989-Bush.txt'), (1855, '1993-Clinton.txt'), (2462, '1997-Clinton.txt'), (1825, '2001-Bush.txt'), (2376, '2005-Bush.txt'), (2726, '2009-Obama.txt')]\n"
     ]
    }
   ],
   "source": [
    "print(speechLen)"
   ]
  },
  {
   "cell_type": "code",
   "execution_count": 49,
   "metadata": {
    "collapsed": false
   },
   "outputs": [
    {
     "data": {
      "text/plain": [
       "(9165, '1841-Harrison.txt')"
      ]
     },
     "execution_count": 49,
     "metadata": {},
     "output_type": "execute_result"
    }
   ],
   "source": [
    "#speech with maximum words\n",
    "max(speechLen)\n"
   ]
  },
  {
   "cell_type": "code",
   "execution_count": 50,
   "metadata": {
    "collapsed": false
   },
   "outputs": [
    {
     "data": {
      "text/plain": [
       "(147, '1793-Washington.txt')"
      ]
     },
     "execution_count": 50,
     "metadata": {},
     "output_type": "execute_result"
    }
   ],
   "source": [
    "#speech with minimum words\n",
    "min(speechLen)"
   ]
  },
  {
   "cell_type": "code",
   "execution_count": 54,
   "metadata": {
    "collapsed": false
   },
   "outputs": [],
   "source": [
    "import pandas"
   ]
  },
  {
   "cell_type": "code",
   "execution_count": 58,
   "metadata": {
    "collapsed": false
   },
   "outputs": [],
   "source": [
    "#creating dataframe using pandas\n",
    "dataFrame = pandas.DataFrame([int(speech[:4]), speech, len(inaugural.words(speech))/len(inaugural.sents(speech))] for speech in inaugural.fileids())"
   ]
  },
  {
   "cell_type": "code",
   "execution_count": 60,
   "metadata": {
    "collapsed": false
   },
   "outputs": [
    {
     "data": {
      "text/html": [
       "<div>\n",
       "<table border=\"1\" class=\"dataframe\">\n",
       "  <thead>\n",
       "    <tr style=\"text-align: right;\">\n",
       "      <th></th>\n",
       "      <th>0</th>\n",
       "      <th>1</th>\n",
       "      <th>2</th>\n",
       "    </tr>\n",
       "  </thead>\n",
       "  <tbody>\n",
       "    <tr>\n",
       "      <th>0</th>\n",
       "      <td>1789</td>\n",
       "      <td>1789-Washington.txt</td>\n",
       "      <td>64.083333</td>\n",
       "    </tr>\n",
       "    <tr>\n",
       "      <th>1</th>\n",
       "      <td>1793</td>\n",
       "      <td>1793-Washington.txt</td>\n",
       "      <td>36.750000</td>\n",
       "    </tr>\n",
       "    <tr>\n",
       "      <th>2</th>\n",
       "      <td>1797</td>\n",
       "      <td>1797-Adams.txt</td>\n",
       "      <td>69.864865</td>\n",
       "    </tr>\n",
       "    <tr>\n",
       "      <th>3</th>\n",
       "      <td>1801</td>\n",
       "      <td>1801-Jefferson.txt</td>\n",
       "      <td>46.071429</td>\n",
       "    </tr>\n",
       "    <tr>\n",
       "      <th>4</th>\n",
       "      <td>1805</td>\n",
       "      <td>1805-Jefferson.txt</td>\n",
       "      <td>52.977778</td>\n",
       "    </tr>\n",
       "    <tr>\n",
       "      <th>5</th>\n",
       "      <td>1809</td>\n",
       "      <td>1809-Madison.txt</td>\n",
       "      <td>60.238095</td>\n",
       "    </tr>\n",
       "    <tr>\n",
       "      <th>6</th>\n",
       "      <td>1813</td>\n",
       "      <td>1813-Madison.txt</td>\n",
       "      <td>39.515152</td>\n",
       "    </tr>\n",
       "    <tr>\n",
       "      <th>7</th>\n",
       "      <td>1817</td>\n",
       "      <td>1817-Monroe.txt</td>\n",
       "      <td>30.270492</td>\n",
       "    </tr>\n",
       "    <tr>\n",
       "      <th>8</th>\n",
       "      <td>1821</td>\n",
       "      <td>1821-Monroe.txt</td>\n",
       "      <td>38.054264</td>\n",
       "    </tr>\n",
       "    <tr>\n",
       "      <th>9</th>\n",
       "      <td>1825</td>\n",
       "      <td>1825-Adams.txt</td>\n",
       "      <td>42.567568</td>\n",
       "    </tr>\n",
       "  </tbody>\n",
       "</table>\n",
       "</div>"
      ],
      "text/plain": [
       "      0                    1          2\n",
       "0  1789  1789-Washington.txt  64.083333\n",
       "1  1793  1793-Washington.txt  36.750000\n",
       "2  1797       1797-Adams.txt  69.864865\n",
       "3  1801   1801-Jefferson.txt  46.071429\n",
       "4  1805   1805-Jefferson.txt  52.977778\n",
       "5  1809     1809-Madison.txt  60.238095\n",
       "6  1813     1813-Madison.txt  39.515152\n",
       "7  1817      1817-Monroe.txt  30.270492\n",
       "8  1821      1821-Monroe.txt  38.054264\n",
       "9  1825       1825-Adams.txt  42.567568"
      ]
     },
     "execution_count": 60,
     "metadata": {},
     "output_type": "execute_result"
    }
   ],
   "source": [
    "#printing first 10 dataFrames\n",
    "dataFrame.head(10)"
   ]
  },
  {
   "cell_type": "code",
   "execution_count": 62,
   "metadata": {
    "collapsed": false
   },
   "outputs": [],
   "source": [
    "#giving these dataFrames columns titles\n",
    "dataFrame.columns = ['Year', 'Speech', 'Average WPS']"
   ]
  },
  {
   "cell_type": "code",
   "execution_count": 63,
   "metadata": {
    "collapsed": false
   },
   "outputs": [
    {
     "data": {
      "text/html": [
       "<div>\n",
       "<table border=\"1\" class=\"dataframe\">\n",
       "  <thead>\n",
       "    <tr style=\"text-align: right;\">\n",
       "      <th></th>\n",
       "      <th>Year</th>\n",
       "      <th>Speech</th>\n",
       "      <th>Average WPS</th>\n",
       "    </tr>\n",
       "  </thead>\n",
       "  <tbody>\n",
       "    <tr>\n",
       "      <th>0</th>\n",
       "      <td>1789</td>\n",
       "      <td>1789-Washington.txt</td>\n",
       "      <td>64.083333</td>\n",
       "    </tr>\n",
       "    <tr>\n",
       "      <th>1</th>\n",
       "      <td>1793</td>\n",
       "      <td>1793-Washington.txt</td>\n",
       "      <td>36.750000</td>\n",
       "    </tr>\n",
       "    <tr>\n",
       "      <th>2</th>\n",
       "      <td>1797</td>\n",
       "      <td>1797-Adams.txt</td>\n",
       "      <td>69.864865</td>\n",
       "    </tr>\n",
       "    <tr>\n",
       "      <th>3</th>\n",
       "      <td>1801</td>\n",
       "      <td>1801-Jefferson.txt</td>\n",
       "      <td>46.071429</td>\n",
       "    </tr>\n",
       "    <tr>\n",
       "      <th>4</th>\n",
       "      <td>1805</td>\n",
       "      <td>1805-Jefferson.txt</td>\n",
       "      <td>52.977778</td>\n",
       "    </tr>\n",
       "    <tr>\n",
       "      <th>5</th>\n",
       "      <td>1809</td>\n",
       "      <td>1809-Madison.txt</td>\n",
       "      <td>60.238095</td>\n",
       "    </tr>\n",
       "    <tr>\n",
       "      <th>6</th>\n",
       "      <td>1813</td>\n",
       "      <td>1813-Madison.txt</td>\n",
       "      <td>39.515152</td>\n",
       "    </tr>\n",
       "    <tr>\n",
       "      <th>7</th>\n",
       "      <td>1817</td>\n",
       "      <td>1817-Monroe.txt</td>\n",
       "      <td>30.270492</td>\n",
       "    </tr>\n",
       "    <tr>\n",
       "      <th>8</th>\n",
       "      <td>1821</td>\n",
       "      <td>1821-Monroe.txt</td>\n",
       "      <td>38.054264</td>\n",
       "    </tr>\n",
       "    <tr>\n",
       "      <th>9</th>\n",
       "      <td>1825</td>\n",
       "      <td>1825-Adams.txt</td>\n",
       "      <td>42.567568</td>\n",
       "    </tr>\n",
       "    <tr>\n",
       "      <th>10</th>\n",
       "      <td>1829</td>\n",
       "      <td>1829-Jackson.txt</td>\n",
       "      <td>48.320000</td>\n",
       "    </tr>\n",
       "    <tr>\n",
       "      <th>11</th>\n",
       "      <td>1833</td>\n",
       "      <td>1833-Jackson.txt</td>\n",
       "      <td>42.233333</td>\n",
       "    </tr>\n",
       "    <tr>\n",
       "      <th>12</th>\n",
       "      <td>1837</td>\n",
       "      <td>1837-VanBuren.txt</td>\n",
       "      <td>43.905263</td>\n",
       "    </tr>\n",
       "    <tr>\n",
       "      <th>13</th>\n",
       "      <td>1841</td>\n",
       "      <td>1841-Harrison.txt</td>\n",
       "      <td>43.642857</td>\n",
       "    </tr>\n",
       "    <tr>\n",
       "      <th>14</th>\n",
       "      <td>1845</td>\n",
       "      <td>1845-Polk.txt</td>\n",
       "      <td>33.960784</td>\n",
       "    </tr>\n",
       "  </tbody>\n",
       "</table>\n",
       "</div>"
      ],
      "text/plain": [
       "    Year               Speech  Average WPS\n",
       "0   1789  1789-Washington.txt    64.083333\n",
       "1   1793  1793-Washington.txt    36.750000\n",
       "2   1797       1797-Adams.txt    69.864865\n",
       "3   1801   1801-Jefferson.txt    46.071429\n",
       "4   1805   1805-Jefferson.txt    52.977778\n",
       "5   1809     1809-Madison.txt    60.238095\n",
       "6   1813     1813-Madison.txt    39.515152\n",
       "7   1817      1817-Monroe.txt    30.270492\n",
       "8   1821      1821-Monroe.txt    38.054264\n",
       "9   1825       1825-Adams.txt    42.567568\n",
       "10  1829     1829-Jackson.txt    48.320000\n",
       "11  1833     1833-Jackson.txt    42.233333\n",
       "12  1837    1837-VanBuren.txt    43.905263\n",
       "13  1841    1841-Harrison.txt    43.642857\n",
       "14  1845        1845-Polk.txt    33.960784"
      ]
     },
     "execution_count": 63,
     "metadata": {},
     "output_type": "execute_result"
    }
   ],
   "source": [
    "#Printing first 15 pandas dataFrames\n",
    "dataFrame.head(15)"
   ]
  },
  {
   "cell_type": "code",
   "execution_count": 76,
   "metadata": {
    "collapsed": true
   },
   "outputs": [],
   "source": [
    "import matplotlib\n",
    "%matplotlib inline"
   ]
  },
  {
   "cell_type": "code",
   "execution_count": 77,
   "metadata": {
    "collapsed": false
   },
   "outputs": [
    {
     "data": {
      "text/plain": [
       "<matplotlib.axes._subplots.AxesSubplot at 0xeba007eb70>"
      ]
     },
     "execution_count": 77,
     "metadata": {},
     "output_type": "execute_result"
    },
    {
     "data": {
      "image/png": "[encoded data removed]",
      "text/plain": [
       "<matplotlib.figure.Figure at 0xeba0223f60>"
      ]
     },
     "metadata": {},
     "output_type": "display_data"
    }
   ],
   "source": [
    "#plotting these data\n",
    "dataFrame.plot(\"Year\", figsize=(15,5)) #figsize is w,h of tuple in inches "
   ]
  },
  {
   "cell_type": "code",
   "execution_count": null,
   "metadata": {
    "collapsed": true
   },
   "outputs": [],
   "source": []
  }
 ],
 "metadata": {
  "anaconda-cloud": {},
  "kernelspec": {
   "display_name": "Python [Root]",
   "language": "python",
   "name": "Python [Root]"
  },
  "language_info": {
   "codemirror_mode": {
    "name": "ipython",
    "version": 3
   },
   "file_extension": ".py",
   "mimetype": "text/x-python",
   "name": "python",
   "nbconvert_exporter": "python",
   "pygments_lexer": "ipython3",
   "version": "3.5.2"
  }
 },
 "nbformat": 4,
 "nbformat_minor": 0
}
