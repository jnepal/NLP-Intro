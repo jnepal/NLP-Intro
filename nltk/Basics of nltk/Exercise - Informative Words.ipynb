{
 "cells": [
  {
   "cell_type": "code",
   "execution_count": 1,
   "metadata": {
    "collapsed": true
   },
   "outputs": [],
   "source": [
    "import nltk"
   ]
  },
  {
   "cell_type": "code",
   "execution_count": 3,
   "metadata": {
    "collapsed": false
   },
   "outputs": [],
   "source": [
    "#alice in wonderland wordset\n",
    "aliceWordSet = nltk.corpus.gutenberg.words('carroll-alice.txt')"
   ]
  },
  {
   "cell_type": "code",
   "execution_count": 5,
   "metadata": {
    "collapsed": false
   },
   "outputs": [],
   "source": [
    "#frequency distribution of aliceWordSet\n",
    "aliceWordSetFd = nltk.FreqDist(aliceWordSet)"
   ]
  },
  {
   "cell_type": "code",
   "execution_count": 8,
   "metadata": {
    "collapsed": false
   },
   "outputs": [],
   "source": [
    "#most common 100 words\n",
    "aliceWordSetFdCommon = aliceWordSetFd.most_common(100)\n"
   ]
  },
  {
   "cell_type": "code",
   "execution_count": 9,
   "metadata": {
    "collapsed": true
   },
   "outputs": [],
   "source": [
    "#moby dick \n",
    "mobyWordSet = nltk.corpus.gutenberg.words('melville-moby_dick.txt')"
   ]
  },
  {
   "cell_type": "code",
   "execution_count": 10,
   "metadata": {
    "collapsed": true
   },
   "outputs": [],
   "source": [
    "#frequency distribution of mobyWordSet\n",
    "mobyWordSetFd = nltk.FreqDist(mobyWordSet)"
   ]
  },
  {
   "cell_type": "code",
   "execution_count": 11,
   "metadata": {
    "collapsed": true
   },
   "outputs": [],
   "source": [
    "#most common 100 words\n",
    "mobyWordSetFdCommon = mobyWordSetFd.most_common(100)"
   ]
  },
  {
   "cell_type": "code",
   "execution_count": 12,
   "metadata": {
    "collapsed": false
   },
   "outputs": [
    {
     "data": {
      "text/plain": [
       "[(',', 18713),\n",
       " ('the', 13721),\n",
       " ('.', 6862),\n",
       " ('of', 6536),\n",
       " ('and', 6024),\n",
       " ('a', 4569),\n",
       " ('to', 4542),\n",
       " (';', 4072),\n",
       " ('in', 3916),\n",
       " ('that', 2982),\n",
       " (\"'\", 2684),\n",
       " ('-', 2552),\n",
       " ('his', 2459),\n",
       " ('it', 2209),\n",
       " ('I', 2124),\n",
       " ('s', 1739),\n",
       " ('is', 1695),\n",
       " ('he', 1661),\n",
       " ('with', 1659),\n",
       " ('was', 1632),\n",
       " ('as', 1620),\n",
       " ('\"', 1478),\n",
       " ('all', 1462),\n",
       " ('for', 1414),\n",
       " ('this', 1280),\n",
       " ('!', 1269),\n",
       " ('at', 1231),\n",
       " ('by', 1137),\n",
       " ('but', 1113),\n",
       " ('not', 1103),\n",
       " ('--', 1070),\n",
       " ('him', 1058),\n",
       " ('from', 1052),\n",
       " ('be', 1030),\n",
       " ('on', 1005),\n",
       " ('so', 918),\n",
       " ('whale', 906),\n",
       " ('one', 889),\n",
       " ('you', 841),\n",
       " ('had', 767),\n",
       " ('have', 760),\n",
       " ('there', 715),\n",
       " ('But', 705),\n",
       " ('or', 697),\n",
       " ('were', 680),\n",
       " ('now', 646),\n",
       " ('which', 640),\n",
       " ('?', 637),\n",
       " ('me', 627),\n",
       " ('like', 624),\n",
       " ('their', 612),\n",
       " ('The', 612),\n",
       " ('they', 586),\n",
       " ('are', 586),\n",
       " ('an', 582),\n",
       " ('some', 578),\n",
       " ('then', 571),\n",
       " ('my', 564),\n",
       " ('when', 553),\n",
       " ('upon', 538),\n",
       " ('out', 529),\n",
       " ('into', 520),\n",
       " ('man', 508),\n",
       " ('ship', 507),\n",
       " ('up', 505),\n",
       " ('Ahab', 501),\n",
       " ('more', 501),\n",
       " ('.\"', 489),\n",
       " ('no', 484),\n",
       " ('them', 471),\n",
       " ('ye', 460),\n",
       " ('what', 442),\n",
       " ('old', 436),\n",
       " ('sea', 433),\n",
       " ('if', 421),\n",
       " ('would', 421),\n",
       " ('been', 415),\n",
       " ('we', 413),\n",
       " ('other', 412),\n",
       " ('over', 403),\n",
       " ('these', 381),\n",
       " ('will', 379),\n",
       " ('its', 372),\n",
       " ('And', 369),\n",
       " ('down', 364),\n",
       " ('only', 360),\n",
       " ('such', 336),\n",
       " ('head', 335),\n",
       " ('though', 335),\n",
       " ('boat', 330),\n",
       " ('her', 329),\n",
       " ('time', 324),\n",
       " ('any', 320),\n",
       " ('who', 319),\n",
       " ('long', 318),\n",
       " ('very', 311),\n",
       " ('It', 310),\n",
       " ('than', 309),\n",
       " ('!\"', 305),\n",
       " ('about', 304)]"
      ]
     },
     "execution_count": 12,
     "metadata": {},
     "output_type": "execute_result"
    }
   ],
   "source": [
    "mobyWordSetFdCommon"
   ]
  },
  {
   "cell_type": "code",
   "execution_count": 17,
   "metadata": {
    "collapsed": false
   },
   "outputs": [],
   "source": [
    "#creating list for common words only without counter\n",
    "aliceWordSetFdComm = [word[0] for word in aliceWordSetFdCommon ]\n",
    "mobyWordSetFdComm  = [word[0] for word in mobyWordSetFdCommon]"
   ]
  },
  {
   "cell_type": "code",
   "execution_count": 20,
   "metadata": {
    "collapsed": false
   },
   "outputs": [
    {
     "data": {
      "text/plain": [
       "{\"!'\",\n",
       " '*',\n",
       " \",'\",\n",
       " \"--'\",\n",
       " \".'\",\n",
       " ':',\n",
       " \"?'\",\n",
       " 'Alice',\n",
       " 'Gryphon',\n",
       " 'Hatter',\n",
       " 'King',\n",
       " 'Mock',\n",
       " 'Queen',\n",
       " 'Turtle',\n",
       " 'again',\n",
       " 'began',\n",
       " 'can',\n",
       " 'could',\n",
       " 'did',\n",
       " 'do',\n",
       " 'herself',\n",
       " 'know',\n",
       " 'little',\n",
       " 'll',\n",
       " 'm',\n",
       " 'much',\n",
       " 'off',\n",
       " 'quite',\n",
       " 'said',\n",
       " 'see',\n",
       " 'she',\n",
       " 't',\n",
       " 'thought',\n",
       " 'way',\n",
       " 'went',\n",
       " 'your'}"
      ]
     },
     "execution_count": 20,
     "metadata": {},
     "output_type": "execute_result"
    }
   ],
   "source": [
    "#substracting most common words of two\n",
    "#Removing overlapping common words\n",
    "set(aliceWordSetFdComm) - set(mobyWordSetFdComm)"
   ]
  },
  {
   "cell_type": "code",
   "execution_count": null,
   "metadata": {
    "collapsed": true
   },
   "outputs": [],
   "source": []
  }
 ],
 "metadata": {
  "anaconda-cloud": {},
  "kernelspec": {
   "display_name": "Python [Root]",
   "language": "python",
   "name": "Python [Root]"
  },
  "language_info": {
   "codemirror_mode": {
    "name": "ipython",
    "version": 3
   },
   "file_extension": ".py",
   "mimetype": "text/x-python",
   "name": "python",
   "nbconvert_exporter": "python",
   "pygments_lexer": "ipython3",
   "version": "3.5.2"
  }
 },
 "nbformat": 4,
 "nbformat_minor": 0
}
