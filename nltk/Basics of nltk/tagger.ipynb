{
 "cells": [
  {
   "cell_type": "code",
   "execution_count": 41,
   "metadata": {
    "collapsed": true
   },
   "outputs": [],
   "source": [
    "import nltk"
   ]
  },
  {
   "cell_type": "code",
   "execution_count": 42,
   "metadata": {
    "collapsed": true
   },
   "outputs": [],
   "source": [
    "text = \"And Now for something completely different\""
   ]
  },
  {
   "cell_type": "code",
   "execution_count": 43,
   "metadata": {
    "collapsed": true
   },
   "outputs": [],
   "source": [
    "textWordTokens = nltk.word_tokenize(text)"
   ]
  },
  {
   "cell_type": "code",
   "execution_count": 44,
   "metadata": {
    "collapsed": false
   },
   "outputs": [
    {
     "data": {
      "text/plain": [
       "[('And', 'CC'),\n",
       " ('Now', 'RB'),\n",
       " ('for', 'IN'),\n",
       " ('something', 'NN'),\n",
       " ('completely', 'RB'),\n",
       " ('different', 'JJ')]"
      ]
     },
     "execution_count": 44,
     "metadata": {},
     "output_type": "execute_result"
    }
   ],
   "source": [
    "nltk.pos_tag(textWordTokens)"
   ]
  },
  {
   "cell_type": "code",
   "execution_count": 45,
   "metadata": {
    "collapsed": false
   },
   "outputs": [
    {
     "name": "stdout",
     "output_type": "stream",
     "text": [
      "[('They', 'PRP'), ('refuse', 'VBP'), ('to', 'TO'), ('permit', 'VB'), ('us', 'PRP'), ('the', 'DT'), ('refuse', 'NN'), ('permit', 'NN')]\n"
     ]
    }
   ],
   "source": [
    "print(nltk.pos_tag(nltk.word_tokenize(\"They refuse to permit us the refuse permit\")))"
   ]
  },
  {
   "cell_type": "code",
   "execution_count": 46,
   "metadata": {
    "collapsed": true
   },
   "outputs": [],
   "source": [
    "# text() method returns text object for the given word tokens\n",
    "text1 = nltk.Text(word.lower() for word in nltk.corpus.brown.words())"
   ]
  },
  {
   "cell_type": "markdown",
   "metadata": {},
   "source": [
    "similar() takes a word w and finds all contexts w1, w2, w3 then finds\n",
    " all words w' that appear in the similar contexts i.e w1, w2, w3"
   ]
  },
  {
   "cell_type": "code",
   "execution_count": 47,
   "metadata": {
    "collapsed": false
   },
   "outputs": [
    {
     "name": "stdout",
     "output_type": "stream",
     "text": [
      "man day time year moment car world family house boy country child\n",
      "state job war place girl way case week\n"
     ]
    }
   ],
   "source": [
    "\n",
    "text1.similar('woman')"
   ]
  },
  {
   "cell_type": "code",
   "execution_count": 48,
   "metadata": {
    "collapsed": false
   },
   "outputs": [
    {
     "name": "stdout",
     "output_type": "stream",
     "text": [
      "made said done put had seen found left given heard been was got\n",
      "brought set in took called felt that\n"
     ]
    }
   ],
   "source": [
    "text1.similar('bought')"
   ]
  },
  {
   "cell_type": "code",
   "execution_count": 49,
   "metadata": {
    "collapsed": false
   },
   "outputs": [
    {
     "name": "stdout",
     "output_type": "stream",
     "text": [
      "in on to of and for with from at by that into as up out down through\n",
      "is all about\n"
     ]
    }
   ],
   "source": [
    "text1.similar('over')"
   ]
  },
  {
   "cell_type": "code",
   "execution_count": 52,
   "metadata": {
    "collapsed": false
   },
   "outputs": [
    {
     "name": "stdout",
     "output_type": "stream",
     "text": [
      "a his this their its her an that our any all one these my in your no\n",
      "some other and\n"
     ]
    }
   ],
   "source": [
    "text1.similar('the')"
   ]
  },
  {
   "cell_type": "markdown",
   "metadata": {},
   "source": [
    "# Tagged Corpora\n",
    "By convention in NLTK, a tagged token is represented using a tupple consisting of the token and the tag.We can create one of these special tuples from the standard string representation of a tagged token, using the function str2tuple()\n"
   ]
  },
  {
   "cell_type": "code",
   "execution_count": 53,
   "metadata": {
    "collapsed": true
   },
   "outputs": [],
   "source": [
    "taggedToken = nltk.tag.str2tuple('fly/NN')"
   ]
  },
  {
   "cell_type": "code",
   "execution_count": 54,
   "metadata": {
    "collapsed": false
   },
   "outputs": [
    {
     "name": "stdout",
     "output_type": "stream",
     "text": [
      "('fly', 'NN')\n"
     ]
    }
   ],
   "source": [
    "print(taggedToken)"
   ]
  },
  {
   "cell_type": "code",
   "execution_count": 55,
   "metadata": {
    "collapsed": false
   },
   "outputs": [
    {
     "name": "stdout",
     "output_type": "stream",
     "text": [
      "fly\n"
     ]
    }
   ],
   "source": [
    "print(taggedToken[0])"
   ]
  },
  {
   "cell_type": "code",
   "execution_count": 56,
   "metadata": {
    "collapsed": false
   },
   "outputs": [
    {
     "name": "stdout",
     "output_type": "stream",
     "text": [
      "NN\n"
     ]
    }
   ],
   "source": [
    "print(taggedToken[1])"
   ]
  },
  {
   "cell_type": "markdown",
   "metadata": {},
   "source": [
    "We can construct a list of tagged tokens directly from a string. The first step is to tokenize the string to access the individual word/tag strings, and then to convert each of these into a tuple using str2tuple()"
   ]
  },
  {
   "cell_type": "code",
   "execution_count": 57,
   "metadata": {
    "collapsed": true
   },
   "outputs": [],
   "source": [
    "sent = '''\n",
    "     The/AT grand/JJ jury/NN commented/VBD on/IN a/AT number/NN of/IN \n",
    "     other/AP topics/NNS ,/, AMONG/IN them/PPO the/AT Atlanta/NP and/CC \n",
    "     Fulton/NP-tl County/NN-tl purchasing/VBG departments/NNS which/WDT it/PPS \n",
    "     said/VBD ``/`` ARE/BER well/QL operated/VBN and/CC follow/VB generally/RB \n",
    "     accepted/VBN practices/NNS which/WDT inure/VB to/IN the/AT best/JJT \n",
    "     interest/NN of/IN both/ABX governments/NNS ''/'' ./. \n",
    "'''"
   ]
  },
  {
   "cell_type": "code",
   "execution_count": 58,
   "metadata": {
    "collapsed": false
   },
   "outputs": [
    {
     "data": {
      "text/plain": [
       "[('The', 'AT'),\n",
       " ('grand', 'JJ'),\n",
       " ('jury', 'NN'),\n",
       " ('commented', 'VBD'),\n",
       " ('on', 'IN'),\n",
       " ('a', 'AT'),\n",
       " ('number', 'NN'),\n",
       " ('of', 'IN'),\n",
       " ('other', 'AP'),\n",
       " ('topics', 'NNS'),\n",
       " (',', ','),\n",
       " ('AMONG', 'IN'),\n",
       " ('them', 'PPO'),\n",
       " ('the', 'AT'),\n",
       " ('Atlanta', 'NP'),\n",
       " ('and', 'CC'),\n",
       " ('Fulton', 'NP-TL'),\n",
       " ('County', 'NN-TL'),\n",
       " ('purchasing', 'VBG'),\n",
       " ('departments', 'NNS'),\n",
       " ('which', 'WDT'),\n",
       " ('it', 'PPS'),\n",
       " ('said', 'VBD'),\n",
       " ('``', '``'),\n",
       " ('ARE', 'BER'),\n",
       " ('well', 'QL'),\n",
       " ('operated', 'VBN'),\n",
       " ('and', 'CC'),\n",
       " ('follow', 'VB'),\n",
       " ('generally', 'RB'),\n",
       " ('accepted', 'VBN'),\n",
       " ('practices', 'NNS'),\n",
       " ('which', 'WDT'),\n",
       " ('inure', 'VB'),\n",
       " ('to', 'IN'),\n",
       " ('the', 'AT'),\n",
       " ('best', 'JJT'),\n",
       " ('interest', 'NN'),\n",
       " ('of', 'IN'),\n",
       " ('both', 'ABX'),\n",
       " ('governments', 'NNS'),\n",
       " (\"''\", \"''\"),\n",
       " ('.', '.')]"
      ]
     },
     "execution_count": 58,
     "metadata": {},
     "output_type": "execute_result"
    }
   ],
   "source": [
    "[nltk.tag.str2tuple(t) for t in sent.split( )]"
   ]
  },
  {
   "cell_type": "code",
   "execution_count": 59,
   "metadata": {
    "collapsed": false
   },
   "outputs": [
    {
     "data": {
      "text/plain": [
       "[('The', 'AT'), ('Fulton', 'NP-TL'), ...]"
      ]
     },
     "execution_count": 59,
     "metadata": {},
     "output_type": "execute_result"
    }
   ],
   "source": [
    "nltk.corpus.brown.tagged_words()"
   ]
  },
  {
   "cell_type": "code",
   "execution_count": 60,
   "metadata": {
    "collapsed": false
   },
   "outputs": [
    {
     "data": {
      "text/plain": [
       "[('now', 'RB'), ('im', 'PRP'), ('left', 'VBD'), ...]"
      ]
     },
     "execution_count": 60,
     "metadata": {},
     "output_type": "execute_result"
    }
   ],
   "source": [
    "nltk.corpus.nps_chat.tagged_words()"
   ]
  },
  {
   "cell_type": "code",
   "execution_count": 61,
   "metadata": {
    "collapsed": false
   },
   "outputs": [
    {
     "data": {
      "text/plain": [
       "[('一', 'Neu'), ('友情', 'Nad'), ('嘉珍', 'Nba'), ...]"
      ]
     },
     "execution_count": 61,
     "metadata": {},
     "output_type": "execute_result"
    }
   ],
   "source": [
    "nltk.corpus.sinica_treebank.tagged_words()"
   ]
  },
  {
   "cell_type": "code",
   "execution_count": 62,
   "metadata": {
    "collapsed": false
   },
   "outputs": [],
   "source": [
    "brownNewsTagged = nltk.corpus.brown.tagged_words(categories='news')"
   ]
  },
  {
   "cell_type": "code",
   "execution_count": 63,
   "metadata": {
    "collapsed": false
   },
   "outputs": [
    {
     "name": "stdout",
     "output_type": "stream",
     "text": [
      "[('The', 'AT'), ('Fulton', 'NP-TL'), ...]\n"
     ]
    }
   ],
   "source": [
    "print(brownNewsTagged)"
   ]
  },
  {
   "cell_type": "code",
   "execution_count": 64,
   "metadata": {
    "collapsed": false
   },
   "outputs": [],
   "source": [
    "brownNewsTaggedFd = nltk.FreqDist(tag for (word, tag) in brownNewsTagged)"
   ]
  },
  {
   "cell_type": "code",
   "execution_count": 65,
   "metadata": {
    "collapsed": false
   },
   "outputs": [
    {
     "data": {
      "text/plain": [
       "dict_keys(['HVN', 'WPO', 'PP$$', 'BEDZ-HL', 'PPLS', 'FW-VB', 'NN', 'NN-TL-HL', 'BER', 'AT-TL', 'JJT-HL', 'OD-HL', 'VBG-HL', 'BEN', 'HVD*', 'PPS+BEZ', 'IN-TL', 'CD$', 'TO-TL', 'VBN-TL-HL', 'NN$-HL', 'NP-HL', ':', 'WRB', 'FW-DT', 'JJR-HL', 'CD', \"''\", '*', 'VBN', 'VBG-TL', 'NP$', 'FW-*', 'NN$', 'BEZ', 'RBR', 'NN-TL', 'JJS', 'FW-VB-NC', 'FW-WDT', 'IN-HL', 'FW-IN+NN', 'ABN-HL', 'DO', 'PPL', ',', 'BEDZ*', 'WQL', 'BEZ*', '*-HL', 'PN', 'VBD-TL', 'HVZ*', 'QL-TL', 'JJR-TL', 'CC-TL', 'BER*', 'WDT', 'NPS', 'NNS$-HL', 'WP$', 'RP-HL', 'CS', 'ABN', 'NPS-TL', 'BED', \"'\", 'PPS+HVZ', 'ABX', 'AT-HL', 'NNS$-TL', 'DT-HL', 'DOZ*', 'UH', 'FW-IN', 'QLP', 'NR-TL', 'VBN-HL', 'UH-TL', 'RP', 'AP-HL', 'HVZ', 'AT', 'PP$-TL', 'JJ-TL', 'DOZ', 'NP-TL-HL', 'PN$', 'RB', 'VB-TL', 'JJR', 'NP-TL', 'HVD', 'JJ', 'NP$-TL', 'PPSS+HVD', 'NR', 'NNS$', 'FW-PP$-NC', 'NNS-TL-HL', 'AP', '.-HL', 'VBZ-HL', 'HV', 'FW-AT-HL', 'DTI', 'PPSS+MD', 'HVD-HL', 'NN-HL', 'TO-HL', 'CD-TL', 'NPS$-TL', 'JJ-NC', 'VBD', 'FW-AT', 'CC-HL', 'NN-NC', '(-HL', 'NR$-TL', 'BER-TL', 'OD-TL', 'BE', 'NNS-TL', 'NP', 'NP+BEZ', 'FW-NN', ')-HL', 'AP$', 'AP-TL', 'VB-HL', 'VBG', 'BER-HL', 'IN', 'VB+PPO', 'DTS', 'MD-HL', 'MD', ',-HL', 'MD+HV', 'NR$', 'PPSS+BEM', 'FW-AT-TL', 'VBD-HL', 'PPSS-HL', 'VBZ', 'JJR-NC', 'RBT', 'JJT', 'PPS+MD', 'FW-IN+NN-TL', 'NNS-HL', '.', 'FW-IN+AT-TL', 'NPS$', 'BE-HL', 'PPSS+HV', 'QL', ')', 'FW-NNS', 'PN-HL', 'PN+HVZ', 'WPS+BEZ', 'BEM', 'PPSS+BER', 'BEG', 'JJS-TL', 'DO-HL', 'PPO', 'NN$-TL', 'OD', 'RB$', 'NNS', 'JJ-HL', 'FW-JJ', 'TO', 'NR-HL', 'DOD', 'WPS', 'FW-CC', '``', 'DT+BEZ', 'DTI-HL', 'ABL', 'MD-TL', 'CS-HL', 'PPSS', 'BED*', 'PP$', 'RB-TL', '--', 'DO*', 'DT', 'DOD*', 'RB-HL', 'RB+BEZ', 'WDT+BEZ', 'DT$', 'CC', 'EX+BEZ', 'VBN-TL', 'MD*', 'DTX', '(', 'FW-CD', 'EX', 'FW-IN-TL', 'FW-JJ-TL', 'HVG', 'FW-NN-TL', 'BEZ-HL', 'PPS+BEZ-HL', 'VB', 'MD*-HL', 'PPS', ':-HL', 'BEDZ', 'CD-HL', 'NPS-HL'])"
      ]
     },
     "execution_count": 65,
     "metadata": {},
     "output_type": "execute_result"
    }
   ],
   "source": [
    "brownNewsTaggedFd.keys()"
   ]
  },
  {
   "cell_type": "code",
   "execution_count": 66,
   "metadata": {
    "collapsed": true
   },
   "outputs": [],
   "source": [
    "brownWordTagPairs = nltk.bigrams(brownNewsTagged)"
   ]
  },
  {
   "cell_type": "code",
   "execution_count": 67,
   "metadata": {
    "collapsed": false
   },
   "outputs": [
    {
     "data": {
      "text/plain": [
       "[(('The', 'AT'), ('Fulton', 'NP-TL')),\n",
       " (('Fulton', 'NP-TL'), ('County', 'NN-TL')),\n",
       " (('County', 'NN-TL'), ('Grand', 'JJ-TL')),\n",
       " (('Grand', 'JJ-TL'), ('Jury', 'NN-TL')),\n",
       " (('Jury', 'NN-TL'), ('said', 'VBD')),\n",
       " (('said', 'VBD'), ('Friday', 'NR')),\n",
       " (('Friday', 'NR'), ('an', 'AT')),\n",
       " (('an', 'AT'), ('investigation', 'NN')),\n",
       " (('investigation', 'NN'), ('of', 'IN')),\n",
       " (('of', 'IN'), (\"Atlanta's\", 'NP$')),\n",
       " ((\"Atlanta's\", 'NP$'), ('recent', 'JJ')),\n",
       " (('recent', 'JJ'), ('primary', 'NN')),\n",
       " (('primary', 'NN'), ('election', 'NN')),\n",
       " (('election', 'NN'), ('produced', 'VBD')),\n",
       " (('produced', 'VBD'), ('``', '``')),\n",
       " (('``', '``'), ('no', 'AT')),\n",
       " (('no', 'AT'), ('evidence', 'NN')),\n",
       " (('evidence', 'NN'), (\"''\", \"''\")),\n",
       " ((\"''\", \"''\"), ('that', 'CS')),\n",
       " (('that', 'CS'), ('any', 'DTI')),\n",
       " (('any', 'DTI'), ('irregularities', 'NNS')),\n",
       " (('irregularities', 'NNS'), ('took', 'VBD')),\n",
       " (('took', 'VBD'), ('place', 'NN')),\n",
       " (('place', 'NN'), ('.', '.')),\n",
       " (('.', '.'), ('The', 'AT')),\n",
       " (('The', 'AT'), ('jury', 'NN')),\n",
       " (('jury', 'NN'), ('further', 'RBR')),\n",
       " (('further', 'RBR'), ('said', 'VBD')),\n",
       " (('said', 'VBD'), ('in', 'IN')),\n",
       " (('in', 'IN'), ('term-end', 'NN')),\n",
       " (('term-end', 'NN'), ('presentments', 'NNS')),\n",
       " (('presentments', 'NNS'), ('that', 'CS')),\n",
       " (('that', 'CS'), ('the', 'AT')),\n",
       " (('the', 'AT'), ('City', 'NN-TL')),\n",
       " (('City', 'NN-TL'), ('Executive', 'JJ-TL')),\n",
       " (('Executive', 'JJ-TL'), ('Committee', 'NN-TL')),\n",
       " (('Committee', 'NN-TL'), (',', ',')),\n",
       " ((',', ','), ('which', 'WDT')),\n",
       " (('which', 'WDT'), ('had', 'HVD')),\n",
       " (('had', 'HVD'), ('over-all', 'JJ')),\n",
       " (('over-all', 'JJ'), ('charge', 'NN')),\n",
       " (('charge', 'NN'), ('of', 'IN')),\n",
       " (('of', 'IN'), ('the', 'AT')),\n",
       " (('the', 'AT'), ('election', 'NN')),\n",
       " (('election', 'NN'), (',', ',')),\n",
       " ((',', ','), ('``', '``')),\n",
       " (('``', '``'), ('deserves', 'VBZ')),\n",
       " (('deserves', 'VBZ'), ('the', 'AT')),\n",
       " (('the', 'AT'), ('praise', 'NN')),\n",
       " (('praise', 'NN'), ('and', 'CC')),\n",
       " (('and', 'CC'), ('thanks', 'NNS')),\n",
       " (('thanks', 'NNS'), ('of', 'IN')),\n",
       " (('of', 'IN'), ('the', 'AT')),\n",
       " (('the', 'AT'), ('City', 'NN-TL')),\n",
       " (('City', 'NN-TL'), ('of', 'IN-TL')),\n",
       " (('of', 'IN-TL'), ('Atlanta', 'NP-TL')),\n",
       " (('Atlanta', 'NP-TL'), (\"''\", \"''\")),\n",
       " ((\"''\", \"''\"), ('for', 'IN')),\n",
       " (('for', 'IN'), ('the', 'AT')),\n",
       " (('the', 'AT'), ('manner', 'NN')),\n",
       " (('manner', 'NN'), ('in', 'IN')),\n",
       " (('in', 'IN'), ('which', 'WDT')),\n",
       " (('which', 'WDT'), ('the', 'AT')),\n",
       " (('the', 'AT'), ('election', 'NN')),\n",
       " (('election', 'NN'), ('was', 'BEDZ')),\n",
       " (('was', 'BEDZ'), ('conducted', 'VBN')),\n",
       " (('conducted', 'VBN'), ('.', '.')),\n",
       " (('.', '.'), ('The', 'AT')),\n",
       " (('The', 'AT'), ('September-October', 'NP')),\n",
       " (('September-October', 'NP'), ('term', 'NN')),\n",
       " (('term', 'NN'), ('jury', 'NN')),\n",
       " (('jury', 'NN'), ('had', 'HVD')),\n",
       " (('had', 'HVD'), ('been', 'BEN')),\n",
       " (('been', 'BEN'), ('charged', 'VBN')),\n",
       " (('charged', 'VBN'), ('by', 'IN')),\n",
       " (('by', 'IN'), ('Fulton', 'NP-TL')),\n",
       " (('Fulton', 'NP-TL'), ('Superior', 'JJ-TL')),\n",
       " (('Superior', 'JJ-TL'), ('Court', 'NN-TL')),\n",
       " (('Court', 'NN-TL'), ('Judge', 'NN-TL')),\n",
       " (('Judge', 'NN-TL'), ('Durwood', 'NP')),\n",
       " (('Durwood', 'NP'), ('Pye', 'NP')),\n",
       " (('Pye', 'NP'), ('to', 'TO')),\n",
       " (('to', 'TO'), ('investigate', 'VB')),\n",
       " (('investigate', 'VB'), ('reports', 'NNS')),\n",
       " (('reports', 'NNS'), ('of', 'IN')),\n",
       " (('of', 'IN'), ('possible', 'JJ')),\n",
       " (('possible', 'JJ'), ('``', '``')),\n",
       " (('``', '``'), ('irregularities', 'NNS')),\n",
       " (('irregularities', 'NNS'), (\"''\", \"''\")),\n",
       " ((\"''\", \"''\"), ('in', 'IN')),\n",
       " (('in', 'IN'), ('the', 'AT')),\n",
       " (('the', 'AT'), ('hard-fought', 'JJ')),\n",
       " (('hard-fought', 'JJ'), ('primary', 'NN')),\n",
       " (('primary', 'NN'), ('which', 'WDT')),\n",
       " (('which', 'WDT'), ('was', 'BEDZ')),\n",
       " (('was', 'BEDZ'), ('won', 'VBN')),\n",
       " (('won', 'VBN'), ('by', 'IN')),\n",
       " (('by', 'IN'), ('Mayor-nominate', 'NN-TL')),\n",
       " (('Mayor-nominate', 'NN-TL'), ('Ivan', 'NP')),\n",
       " (('Ivan', 'NP'), ('Allen', 'NP')),\n",
       " (('Allen', 'NP'), ('Jr.', 'NP')),\n",
       " (('Jr.', 'NP'), ('.', '.')),\n",
       " (('.', '.'), ('``', '``')),\n",
       " (('``', '``'), ('Only', 'RB')),\n",
       " (('Only', 'RB'), ('a', 'AT')),\n",
       " (('a', 'AT'), ('relative', 'JJ')),\n",
       " (('relative', 'JJ'), ('handful', 'NN')),\n",
       " (('handful', 'NN'), ('of', 'IN')),\n",
       " (('of', 'IN'), ('such', 'JJ')),\n",
       " (('such', 'JJ'), ('reports', 'NNS')),\n",
       " (('reports', 'NNS'), ('was', 'BEDZ')),\n",
       " (('was', 'BEDZ'), ('received', 'VBN')),\n",
       " (('received', 'VBN'), (\"''\", \"''\")),\n",
       " ((\"''\", \"''\"), (',', ',')),\n",
       " ((',', ','), ('the', 'AT')),\n",
       " (('the', 'AT'), ('jury', 'NN')),\n",
       " (('jury', 'NN'), ('said', 'VBD')),\n",
       " (('said', 'VBD'), (',', ',')),\n",
       " ((',', ','), ('``', '``')),\n",
       " (('``', '``'), ('considering', 'IN')),\n",
       " (('considering', 'IN'), ('the', 'AT')),\n",
       " (('the', 'AT'), ('widespread', 'JJ')),\n",
       " (('widespread', 'JJ'), ('interest', 'NN')),\n",
       " (('interest', 'NN'), ('in', 'IN')),\n",
       " (('in', 'IN'), ('the', 'AT')),\n",
       " (('the', 'AT'), ('election', 'NN')),\n",
       " (('election', 'NN'), (',', ',')),\n",
       " ((',', ','), ('the', 'AT')),\n",
       " (('the', 'AT'), ('number', 'NN')),\n",
       " (('number', 'NN'), ('of', 'IN')),\n",
       " (('of', 'IN'), ('voters', 'NNS')),\n",
       " (('voters', 'NNS'), ('and', 'CC')),\n",
       " (('and', 'CC'), ('the', 'AT')),\n",
       " (('the', 'AT'), ('size', 'NN')),\n",
       " (('size', 'NN'), ('of', 'IN')),\n",
       " (('of', 'IN'), ('this', 'DT')),\n",
       " (('this', 'DT'), ('city', 'NN')),\n",
       " (('city', 'NN'), (\"''\", \"''\")),\n",
       " ((\"''\", \"''\"), ('.', '.')),\n",
       " (('.', '.'), ('The', 'AT')),\n",
       " (('The', 'AT'), ('jury', 'NN')),\n",
       " (('jury', 'NN'), ('said', 'VBD')),\n",
       " (('said', 'VBD'), ('it', 'PPS')),\n",
       " (('it', 'PPS'), ('did', 'DOD')),\n",
       " (('did', 'DOD'), ('find', 'VB')),\n",
       " (('find', 'VB'), ('that', 'CS')),\n",
       " (('that', 'CS'), ('many', 'AP')),\n",
       " (('many', 'AP'), ('of', 'IN')),\n",
       " (('of', 'IN'), (\"Georgia's\", 'NP$')),\n",
       " ((\"Georgia's\", 'NP$'), ('registration', 'NN')),\n",
       " (('registration', 'NN'), ('and', 'CC')),\n",
       " (('and', 'CC'), ('election', 'NN')),\n",
       " (('election', 'NN'), ('laws', 'NNS')),\n",
       " (('laws', 'NNS'), ('``', '``')),\n",
       " (('``', '``'), ('are', 'BER')),\n",
       " (('are', 'BER'), ('outmoded', 'JJ')),\n",
       " (('outmoded', 'JJ'), ('or', 'CC')),\n",
       " (('or', 'CC'), ('inadequate', 'JJ')),\n",
       " (('inadequate', 'JJ'), ('and', 'CC')),\n",
       " (('and', 'CC'), ('often', 'RB')),\n",
       " (('often', 'RB'), ('ambiguous', 'JJ')),\n",
       " (('ambiguous', 'JJ'), (\"''\", \"''\")),\n",
       " ((\"''\", \"''\"), ('.', '.')),\n",
       " (('.', '.'), ('It', 'PPS')),\n",
       " (('It', 'PPS'), ('recommended', 'VBD')),\n",
       " (('recommended', 'VBD'), ('that', 'CS')),\n",
       " (('that', 'CS'), ('Fulton', 'NP')),\n",
       " (('Fulton', 'NP'), ('legislators', 'NNS')),\n",
       " (('legislators', 'NNS'), ('act', 'VB')),\n",
       " (('act', 'VB'), ('``', '``')),\n",
       " (('``', '``'), ('to', 'TO')),\n",
       " (('to', 'TO'), ('have', 'HV')),\n",
       " (('have', 'HV'), ('these', 'DTS')),\n",
       " (('these', 'DTS'), ('laws', 'NNS')),\n",
       " (('laws', 'NNS'), ('studied', 'VBN')),\n",
       " (('studied', 'VBN'), ('and', 'CC')),\n",
       " (('and', 'CC'), ('revised', 'VBN')),\n",
       " (('revised', 'VBN'), ('to', 'IN')),\n",
       " (('to', 'IN'), ('the', 'AT')),\n",
       " (('the', 'AT'), ('end', 'NN')),\n",
       " (('end', 'NN'), ('of', 'IN')),\n",
       " (('of', 'IN'), ('modernizing', 'VBG')),\n",
       " (('modernizing', 'VBG'), ('and', 'CC')),\n",
       " (('and', 'CC'), ('improving', 'VBG')),\n",
       " (('improving', 'VBG'), ('them', 'PPO')),\n",
       " (('them', 'PPO'), (\"''\", \"''\")),\n",
       " ((\"''\", \"''\"), ('.', '.')),\n",
       " (('.', '.'), ('The', 'AT')),\n",
       " (('The', 'AT'), ('grand', 'JJ')),\n",
       " (('grand', 'JJ'), ('jury', 'NN')),\n",
       " (('jury', 'NN'), ('commented', 'VBD')),\n",
       " (('commented', 'VBD'), ('on', 'IN')),\n",
       " (('on', 'IN'), ('a', 'AT')),\n",
       " (('a', 'AT'), ('number', 'NN')),\n",
       " (('number', 'NN'), ('of', 'IN')),\n",
       " (('of', 'IN'), ('other', 'AP')),\n",
       " (('other', 'AP'), ('topics', 'NNS')),\n",
       " (('topics', 'NNS'), (',', ',')),\n",
       " ((',', ','), ('among', 'IN')),\n",
       " (('among', 'IN'), ('them', 'PPO')),\n",
       " (('them', 'PPO'), ('the', 'AT')),\n",
       " (('the', 'AT'), ('Atlanta', 'NP')),\n",
       " (('Atlanta', 'NP'), ('and', 'CC')),\n",
       " (('and', 'CC'), ('Fulton', 'NP-TL')),\n",
       " (('Fulton', 'NP-TL'), ('County', 'NN-TL')),\n",
       " (('County', 'NN-TL'), ('purchasing', 'VBG')),\n",
       " (('purchasing', 'VBG'), ('departments', 'NNS')),\n",
       " (('departments', 'NNS'), ('which', 'WDT')),\n",
       " (('which', 'WDT'), ('it', 'PPS')),\n",
       " (('it', 'PPS'), ('said', 'VBD')),\n",
       " (('said', 'VBD'), ('``', '``')),\n",
       " (('``', '``'), ('are', 'BER')),\n",
       " (('are', 'BER'), ('well', 'QL')),\n",
       " (('well', 'QL'), ('operated', 'VBN')),\n",
       " (('operated', 'VBN'), ('and', 'CC')),\n",
       " (('and', 'CC'), ('follow', 'VB')),\n",
       " (('follow', 'VB'), ('generally', 'RB')),\n",
       " (('generally', 'RB'), ('accepted', 'VBN')),\n",
       " (('accepted', 'VBN'), ('practices', 'NNS')),\n",
       " (('practices', 'NNS'), ('which', 'WDT')),\n",
       " (('which', 'WDT'), ('inure', 'VB')),\n",
       " (('inure', 'VB'), ('to', 'IN')),\n",
       " (('to', 'IN'), ('the', 'AT')),\n",
       " (('the', 'AT'), ('best', 'JJT')),\n",
       " (('best', 'JJT'), ('interest', 'NN')),\n",
       " (('interest', 'NN'), ('of', 'IN')),\n",
       " (('of', 'IN'), ('both', 'ABX')),\n",
       " (('both', 'ABX'), ('governments', 'NNS')),\n",
       " (('governments', 'NNS'), (\"''\", \"''\")),\n",
       " ((\"''\", \"''\"), ('.', '.')),\n",
       " (('.', '.'), ('Merger', 'NN-HL')),\n",
       " (('Merger', 'NN-HL'), ('proposed', 'VBN-HL')),\n",
       " (('proposed', 'VBN-HL'), ('However', 'WRB')),\n",
       " (('However', 'WRB'), (',', ',')),\n",
       " ((',', ','), ('the', 'AT')),\n",
       " (('the', 'AT'), ('jury', 'NN')),\n",
       " (('jury', 'NN'), ('said', 'VBD')),\n",
       " (('said', 'VBD'), ('it', 'PPS')),\n",
       " (('it', 'PPS'), ('believes', 'VBZ')),\n",
       " (('believes', 'VBZ'), ('``', '``')),\n",
       " (('``', '``'), ('these', 'DTS')),\n",
       " (('these', 'DTS'), ('two', 'CD')),\n",
       " (('two', 'CD'), ('offices', 'NNS')),\n",
       " (('offices', 'NNS'), ('should', 'MD')),\n",
       " (('should', 'MD'), ('be', 'BE')),\n",
       " (('be', 'BE'), ('combined', 'VBN')),\n",
       " (('combined', 'VBN'), ('to', 'TO')),\n",
       " (('to', 'TO'), ('achieve', 'VB')),\n",
       " (('achieve', 'VB'), ('greater', 'JJR')),\n",
       " (('greater', 'JJR'), ('efficiency', 'NN')),\n",
       " (('efficiency', 'NN'), ('and', 'CC')),\n",
       " (('and', 'CC'), ('reduce', 'VB')),\n",
       " (('reduce', 'VB'), ('the', 'AT')),\n",
       " (('the', 'AT'), ('cost', 'NN')),\n",
       " (('cost', 'NN'), ('of', 'IN')),\n",
       " (('of', 'IN'), ('administration', 'NN')),\n",
       " (('administration', 'NN'), (\"''\", \"''\")),\n",
       " ((\"''\", \"''\"), ('.', '.')),\n",
       " (('.', '.'), ('The', 'AT')),\n",
       " (('The', 'AT'), ('City', 'NN-TL')),\n",
       " (('City', 'NN-TL'), ('Purchasing', 'VBG-TL')),\n",
       " (('Purchasing', 'VBG-TL'), ('Department', 'NN-TL')),\n",
       " (('Department', 'NN-TL'), (',', ',')),\n",
       " ((',', ','), ('the', 'AT')),\n",
       " (('the', 'AT'), ('jury', 'NN')),\n",
       " (('jury', 'NN'), ('said', 'VBD')),\n",
       " (('said', 'VBD'), (',', ',')),\n",
       " ((',', ','), ('``', '``')),\n",
       " (('``', '``'), ('is', 'BEZ')),\n",
       " (('is', 'BEZ'), ('lacking', 'VBG')),\n",
       " (('lacking', 'VBG'), ('in', 'IN')),\n",
       " (('in', 'IN'), ('experienced', 'VBN')),\n",
       " (('experienced', 'VBN'), ('clerical', 'JJ')),\n",
       " (('clerical', 'JJ'), ('personnel', 'NNS')),\n",
       " (('personnel', 'NNS'), ('as', 'CS')),\n",
       " (('as', 'CS'), ('a', 'AT')),\n",
       " (('a', 'AT'), ('result', 'NN')),\n",
       " (('result', 'NN'), ('of', 'IN')),\n",
       " (('of', 'IN'), ('city', 'NN')),\n",
       " (('city', 'NN'), ('personnel', 'NNS')),\n",
       " (('personnel', 'NNS'), ('policies', 'NNS')),\n",
       " (('policies', 'NNS'), (\"''\", \"''\")),\n",
       " ((\"''\", \"''\"), ('.', '.')),\n",
       " (('.', '.'), ('It', 'PPS')),\n",
       " (('It', 'PPS'), ('urged', 'VBD')),\n",
       " (('urged', 'VBD'), ('that', 'CS')),\n",
       " (('that', 'CS'), ('the', 'AT')),\n",
       " (('the', 'AT'), ('city', 'NN')),\n",
       " (('city', 'NN'), ('``', '``')),\n",
       " (('``', '``'), ('take', 'VB')),\n",
       " (('take', 'VB'), ('steps', 'NNS')),\n",
       " (('steps', 'NNS'), ('to', 'TO')),\n",
       " (('to', 'TO'), ('remedy', 'VB')),\n",
       " (('remedy', 'VB'), (\"''\", \"''\")),\n",
       " ((\"''\", \"''\"), ('this', 'DT')),\n",
       " (('this', 'DT'), ('problem', 'NN')),\n",
       " (('problem', 'NN'), ('.', '.')),\n",
       " (('.', '.'), ('Implementation', 'NN')),\n",
       " (('Implementation', 'NN'), ('of', 'IN')),\n",
       " (('of', 'IN'), (\"Georgia's\", 'NP$')),\n",
       " ((\"Georgia's\", 'NP$'), ('automobile', 'NN')),\n",
       " (('automobile', 'NN'), ('title', 'NN')),\n",
       " (('title', 'NN'), ('law', 'NN')),\n",
       " (('law', 'NN'), ('was', 'BEDZ')),\n",
       " (('was', 'BEDZ'), ('also', 'RB')),\n",
       " (('also', 'RB'), ('recommended', 'VBN')),\n",
       " (('recommended', 'VBN'), ('by', 'IN')),\n",
       " (('by', 'IN'), ('the', 'AT')),\n",
       " (('the', 'AT'), ('outgoing', 'JJ')),\n",
       " (('outgoing', 'JJ'), ('jury', 'NN')),\n",
       " (('jury', 'NN'), ('.', '.')),\n",
       " (('.', '.'), ('It', 'PPS')),\n",
       " (('It', 'PPS'), ('urged', 'VBD')),\n",
       " (('urged', 'VBD'), ('that', 'CS')),\n",
       " (('that', 'CS'), ('the', 'AT')),\n",
       " (('the', 'AT'), ('next', 'AP')),\n",
       " (('next', 'AP'), ('Legislature', 'NN-TL')),\n",
       " (('Legislature', 'NN-TL'), ('``', '``')),\n",
       " (('``', '``'), ('provide', 'VB')),\n",
       " (('provide', 'VB'), ('enabling', 'VBG')),\n",
       " (('enabling', 'VBG'), ('funds', 'NNS')),\n",
       " (('funds', 'NNS'), ('and', 'CC')),\n",
       " (('and', 'CC'), ('re-set', 'VB')),\n",
       " (('re-set', 'VB'), ('the', 'AT')),\n",
       " (('the', 'AT'), ('effective', 'JJ')),\n",
       " (('effective', 'JJ'), ('date', 'NN')),\n",
       " (('date', 'NN'), ('so', 'CS')),\n",
       " (('so', 'CS'), ('that', 'CS')),\n",
       " (('that', 'CS'), ('an', 'AT')),\n",
       " (('an', 'AT'), ('orderly', 'JJ')),\n",
       " (('orderly', 'JJ'), ('implementation', 'NN')),\n",
       " (('implementation', 'NN'), ('of', 'IN')),\n",
       " (('of', 'IN'), ('the', 'AT')),\n",
       " (('the', 'AT'), ('law', 'NN')),\n",
       " (('law', 'NN'), ('may', 'MD')),\n",
       " (('may', 'MD'), ('be', 'BE')),\n",
       " (('be', 'BE'), ('effected', 'VBN')),\n",
       " (('effected', 'VBN'), (\"''\", \"''\")),\n",
       " ((\"''\", \"''\"), ('.', '.')),\n",
       " (('.', '.'), ('The', 'AT')),\n",
       " (('The', 'AT'), ('grand', 'JJ')),\n",
       " (('grand', 'JJ'), ('jury', 'NN')),\n",
       " (('jury', 'NN'), ('took', 'VBD')),\n",
       " (('took', 'VBD'), ('a', 'AT')),\n",
       " (('a', 'AT'), ('swipe', 'NN')),\n",
       " (('swipe', 'NN'), ('at', 'IN')),\n",
       " (('at', 'IN'), ('the', 'AT')),\n",
       " (('the', 'AT'), ('State', 'NN-TL')),\n",
       " (('State', 'NN-TL'), ('Welfare', 'NN-TL')),\n",
       " (('Welfare', 'NN-TL'), (\"Department's\", 'NN$-TL')),\n",
       " ((\"Department's\", 'NN$-TL'), ('handling', 'NN')),\n",
       " (('handling', 'NN'), ('of', 'IN')),\n",
       " (('of', 'IN'), ('federal', 'JJ')),\n",
       " (('federal', 'JJ'), ('funds', 'NNS')),\n",
       " (('funds', 'NNS'), ('granted', 'VBN')),\n",
       " (('granted', 'VBN'), ('for', 'IN')),\n",
       " (('for', 'IN'), ('child', 'NN')),\n",
       " (('child', 'NN'), ('welfare', 'NN')),\n",
       " (('welfare', 'NN'), ('services', 'NNS')),\n",
       " (('services', 'NNS'), ('in', 'IN')),\n",
       " (('in', 'IN'), ('foster', 'JJ')),\n",
       " (('foster', 'JJ'), ('homes', 'NNS')),\n",
       " (('homes', 'NNS'), ('.', '.')),\n",
       " (('.', '.'), ('``', '``')),\n",
       " (('``', '``'), ('This', 'DT')),\n",
       " (('This', 'DT'), ('is', 'BEZ')),\n",
       " (('is', 'BEZ'), ('one', 'CD')),\n",
       " (('one', 'CD'), ('of', 'IN')),\n",
       " (('of', 'IN'), ('the', 'AT')),\n",
       " (('the', 'AT'), ('major', 'JJ')),\n",
       " (('major', 'JJ'), ('items', 'NNS')),\n",
       " (('items', 'NNS'), ('in', 'IN')),\n",
       " (('in', 'IN'), ('the', 'AT')),\n",
       " (('the', 'AT'), ('Fulton', 'NP-TL')),\n",
       " (('Fulton', 'NP-TL'), ('County', 'NN-TL')),\n",
       " (('County', 'NN-TL'), ('general', 'JJ')),\n",
       " (('general', 'JJ'), ('assistance', 'NN')),\n",
       " (('assistance', 'NN'), ('program', 'NN')),\n",
       " (('program', 'NN'), (\"''\", \"''\")),\n",
       " ((\"''\", \"''\"), (',', ',')),\n",
       " ((',', ','), ('the', 'AT')),\n",
       " (('the', 'AT'), ('jury', 'NN')),\n",
       " (('jury', 'NN'), ('said', 'VBD')),\n",
       " (('said', 'VBD'), (',', ',')),\n",
       " ((',', ','), ('but', 'CC')),\n",
       " (('but', 'CC'), ('the', 'AT')),\n",
       " (('the', 'AT'), ('State', 'NN-TL')),\n",
       " (('State', 'NN-TL'), ('Welfare', 'NN-TL')),\n",
       " (('Welfare', 'NN-TL'), ('Department', 'NN-TL')),\n",
       " (('Department', 'NN-TL'), ('``', '``')),\n",
       " (('``', '``'), ('has', 'HVZ')),\n",
       " (('has', 'HVZ'), ('seen', 'VBN')),\n",
       " (('seen', 'VBN'), ('fit', 'JJ')),\n",
       " (('fit', 'JJ'), ('to', 'TO')),\n",
       " (('to', 'TO'), ('distribute', 'VB')),\n",
       " (('distribute', 'VB'), ('these', 'DTS')),\n",
       " (('these', 'DTS'), ('funds', 'NNS')),\n",
       " (('funds', 'NNS'), ('through', 'IN')),\n",
       " (('through', 'IN'), ('the', 'AT')),\n",
       " (('the', 'AT'), ('welfare', 'NN')),\n",
       " (('welfare', 'NN'), ('departments', 'NNS')),\n",
       " (('departments', 'NNS'), ('of', 'IN')),\n",
       " (('of', 'IN'), ('all', 'ABN')),\n",
       " (('all', 'ABN'), ('the', 'AT')),\n",
       " (('the', 'AT'), ('counties', 'NNS')),\n",
       " (('counties', 'NNS'), ('in', 'IN')),\n",
       " (('in', 'IN'), ('the', 'AT')),\n",
       " (('the', 'AT'), ('state', 'NN')),\n",
       " (('state', 'NN'), ('with', 'IN')),\n",
       " (('with', 'IN'), ('the', 'AT')),\n",
       " (('the', 'AT'), ('exception', 'NN')),\n",
       " (('exception', 'NN'), ('of', 'IN')),\n",
       " (('of', 'IN'), ('Fulton', 'NP-TL')),\n",
       " (('Fulton', 'NP-TL'), ('County', 'NN-TL')),\n",
       " (('County', 'NN-TL'), (',', ',')),\n",
       " ((',', ','), ('which', 'WDT')),\n",
       " (('which', 'WDT'), ('receives', 'VBZ')),\n",
       " (('receives', 'VBZ'), ('none', 'PN')),\n",
       " (('none', 'PN'), ('of', 'IN')),\n",
       " (('of', 'IN'), ('this', 'DT')),\n",
       " (('this', 'DT'), ('money', 'NN')),\n",
       " (('money', 'NN'), ('.', '.')),\n",
       " (('.', '.'), ('The', 'AT')),\n",
       " (('The', 'AT'), ('jurors', 'NNS')),\n",
       " (('jurors', 'NNS'), ('said', 'VBD')),\n",
       " (('said', 'VBD'), ('they', 'PPSS')),\n",
       " (('they', 'PPSS'), ('realize', 'VB')),\n",
       " (('realize', 'VB'), ('``', '``')),\n",
       " (('``', '``'), ('a', 'AT')),\n",
       " (('a', 'AT'), ('proportionate', 'JJ')),\n",
       " (('proportionate', 'JJ'), ('distribution', 'NN')),\n",
       " (('distribution', 'NN'), ('of', 'IN')),\n",
       " (('of', 'IN'), ('these', 'DTS')),\n",
       " (('these', 'DTS'), ('funds', 'NNS')),\n",
       " (('funds', 'NNS'), ('might', 'MD')),\n",
       " (('might', 'MD'), ('disable', 'VB')),\n",
       " (('disable', 'VB'), ('this', 'DT')),\n",
       " (('this', 'DT'), ('program', 'NN')),\n",
       " (('program', 'NN'), ('in', 'IN')),\n",
       " (('in', 'IN'), ('our', 'PP$')),\n",
       " (('our', 'PP$'), ('less', 'QL')),\n",
       " (('less', 'QL'), ('populous', 'JJ')),\n",
       " (('populous', 'JJ'), ('counties', 'NNS')),\n",
       " (('counties', 'NNS'), (\"''\", \"''\")),\n",
       " ((\"''\", \"''\"), ('.', '.')),\n",
       " (('.', '.'), ('Nevertheless', 'RB')),\n",
       " (('Nevertheless', 'RB'), (',', ',')),\n",
       " ((',', ','), ('``', '``')),\n",
       " (('``', '``'), ('we', 'PPSS')),\n",
       " (('we', 'PPSS'), ('feel', 'VB')),\n",
       " (('feel', 'VB'), ('that', 'CS')),\n",
       " (('that', 'CS'), ('in', 'IN')),\n",
       " (('in', 'IN'), ('the', 'AT')),\n",
       " (('the', 'AT'), ('future', 'NN')),\n",
       " (('future', 'NN'), ('Fulton', 'NP-TL')),\n",
       " (('Fulton', 'NP-TL'), ('County', 'NN-TL')),\n",
       " (('County', 'NN-TL'), ('should', 'MD')),\n",
       " (('should', 'MD'), ('receive', 'VB')),\n",
       " (('receive', 'VB'), ('some', 'DTI')),\n",
       " (('some', 'DTI'), ('portion', 'NN')),\n",
       " (('portion', 'NN'), ('of', 'IN')),\n",
       " (('of', 'IN'), ('these', 'DTS')),\n",
       " (('these', 'DTS'), ('available', 'JJ')),\n",
       " (('available', 'JJ'), ('funds', 'NNS')),\n",
       " (('funds', 'NNS'), (\"''\", \"''\")),\n",
       " ((\"''\", \"''\"), (',', ',')),\n",
       " ((',', ','), ('the', 'AT')),\n",
       " (('the', 'AT'), ('jurors', 'NNS')),\n",
       " (('jurors', 'NNS'), ('said', 'VBD')),\n",
       " (('said', 'VBD'), ('.', '.')),\n",
       " (('.', '.'), ('``', '``')),\n",
       " (('``', '``'), ('Failure', 'NN')),\n",
       " (('Failure', 'NN'), ('to', 'TO')),\n",
       " (('to', 'TO'), ('do', 'DO')),\n",
       " (('do', 'DO'), ('this', 'DT')),\n",
       " (('this', 'DT'), ('will', 'MD')),\n",
       " (('will', 'MD'), ('continue', 'VB')),\n",
       " (('continue', 'VB'), ('to', 'TO')),\n",
       " (('to', 'TO'), ('place', 'VB')),\n",
       " (('place', 'VB'), ('a', 'AT')),\n",
       " (('a', 'AT'), ('disproportionate', 'JJ')),\n",
       " (('disproportionate', 'JJ'), ('burden', 'NN')),\n",
       " (('burden', 'NN'), (\"''\", \"''\")),\n",
       " ((\"''\", \"''\"), ('on', 'IN')),\n",
       " (('on', 'IN'), ('Fulton', 'NP')),\n",
       " (('Fulton', 'NP'), ('taxpayers', 'NNS')),\n",
       " (('taxpayers', 'NNS'), ('.', '.')),\n",
       " (('.', '.'), ('The', 'AT')),\n",
       " (('The', 'AT'), ('jury', 'NN')),\n",
       " (('jury', 'NN'), ('also', 'RB')),\n",
       " (('also', 'RB'), ('commented', 'VBD')),\n",
       " (('commented', 'VBD'), ('on', 'IN')),\n",
       " (('on', 'IN'), ('the', 'AT')),\n",
       " (('the', 'AT'), ('Fulton', 'NP')),\n",
       " (('Fulton', 'NP'), (\"ordinary's\", 'NN$')),\n",
       " ((\"ordinary's\", 'NN$'), ('court', 'NN')),\n",
       " (('court', 'NN'), ('which', 'WDT')),\n",
       " (('which', 'WDT'), ('has', 'HVZ')),\n",
       " (('has', 'HVZ'), ('been', 'BEN')),\n",
       " (('been', 'BEN'), ('under', 'IN')),\n",
       " (('under', 'IN'), ('fire', 'NN')),\n",
       " (('fire', 'NN'), ('for', 'IN')),\n",
       " (('for', 'IN'), ('its', 'PP$')),\n",
       " (('its', 'PP$'), ('practices', 'NNS')),\n",
       " (('practices', 'NNS'), ('in', 'IN')),\n",
       " (('in', 'IN'), ('the', 'AT')),\n",
       " (('the', 'AT'), ('appointment', 'NN')),\n",
       " (('appointment', 'NN'), ('of', 'IN')),\n",
       " (('of', 'IN'), ('appraisers', 'NNS')),\n",
       " (('appraisers', 'NNS'), (',', ',')),\n",
       " ((',', ','), ('guardians', 'NNS')),\n",
       " (('guardians', 'NNS'), ('and', 'CC')),\n",
       " (('and', 'CC'), ('administrators', 'NNS')),\n",
       " (('administrators', 'NNS'), ('and', 'CC')),\n",
       " (('and', 'CC'), ('the', 'AT')),\n",
       " (('the', 'AT'), ('awarding', 'NN')),\n",
       " (('awarding', 'NN'), ('of', 'IN')),\n",
       " (('of', 'IN'), ('fees', 'NNS')),\n",
       " (('fees', 'NNS'), ('and', 'CC')),\n",
       " (('and', 'CC'), ('compensation', 'NN')),\n",
       " (('compensation', 'NN'), ('.', '.')),\n",
       " (('.', '.'), ('Wards', 'NNS-HL')),\n",
       " (('Wards', 'NNS-HL'), ('protected', 'VBN-HL')),\n",
       " (('protected', 'VBN-HL'), ('The', 'AT')),\n",
       " (('The', 'AT'), ('jury', 'NN')),\n",
       " (('jury', 'NN'), ('said', 'VBD')),\n",
       " (('said', 'VBD'), ('it', 'PPS')),\n",
       " (('it', 'PPS'), ('found', 'VBD')),\n",
       " (('found', 'VBD'), ('the', 'AT')),\n",
       " (('the', 'AT'), ('court', 'NN')),\n",
       " (('court', 'NN'), ('``', '``')),\n",
       " (('``', '``'), ('has', 'HVZ')),\n",
       " (('has', 'HVZ'), ('incorporated', 'VBN')),\n",
       " (('incorporated', 'VBN'), ('into', 'IN')),\n",
       " (('into', 'IN'), ('its', 'PP$')),\n",
       " (('its', 'PP$'), ('operating', 'VBG')),\n",
       " (('operating', 'VBG'), ('procedures', 'NNS')),\n",
       " (('procedures', 'NNS'), ('the', 'AT')),\n",
       " (('the', 'AT'), ('recommendations', 'NNS')),\n",
       " (('recommendations', 'NNS'), (\"''\", \"''\")),\n",
       " ((\"''\", \"''\"), ('of', 'IN')),\n",
       " (('of', 'IN'), ('two', 'CD')),\n",
       " (('two', 'CD'), ('previous', 'JJ')),\n",
       " (('previous', 'JJ'), ('grand', 'JJ')),\n",
       " (('grand', 'JJ'), ('juries', 'NNS')),\n",
       " (('juries', 'NNS'), (',', ',')),\n",
       " ((',', ','), ('the', 'AT')),\n",
       " (('the', 'AT'), ('Atlanta', 'NP-TL')),\n",
       " (('Atlanta', 'NP-TL'), ('Bar', 'NN-TL')),\n",
       " (('Bar', 'NN-TL'), ('Association', 'NN-TL')),\n",
       " (('Association', 'NN-TL'), ('and', 'CC')),\n",
       " (('and', 'CC'), ('an', 'AT')),\n",
       " (('an', 'AT'), ('interim', 'NN')),\n",
       " (('interim', 'NN'), ('citizens', 'NNS')),\n",
       " (('citizens', 'NNS'), ('committee', 'NN')),\n",
       " (('committee', 'NN'), ('.', '.')),\n",
       " (('.', '.'), ('``', '``')),\n",
       " (('``', '``'), ('These', 'DTS')),\n",
       " (('These', 'DTS'), ('actions', 'NNS')),\n",
       " (('actions', 'NNS'), ('should', 'MD')),\n",
       " (('should', 'MD'), ('serve', 'VB')),\n",
       " (('serve', 'VB'), ('to', 'TO')),\n",
       " (('to', 'TO'), ('protect', 'VB')),\n",
       " (('protect', 'VB'), ('in', 'IN')),\n",
       " (('in', 'IN'), ('fact', 'NN')),\n",
       " (('fact', 'NN'), ('and', 'CC')),\n",
       " (('and', 'CC'), ('in', 'IN')),\n",
       " (('in', 'IN'), ('effect', 'NN')),\n",
       " (('effect', 'NN'), ('the', 'AT')),\n",
       " (('the', 'AT'), (\"court's\", 'NN$')),\n",
       " ((\"court's\", 'NN$'), ('wards', 'NNS')),\n",
       " (('wards', 'NNS'), ('from', 'IN')),\n",
       " (('from', 'IN'), ('undue', 'JJ')),\n",
       " (('undue', 'JJ'), ('costs', 'NNS')),\n",
       " (('costs', 'NNS'), ('and', 'CC')),\n",
       " (('and', 'CC'), ('its', 'PP$')),\n",
       " (('its', 'PP$'), ('appointed', 'VBN')),\n",
       " (('appointed', 'VBN'), ('and', 'CC')),\n",
       " (('and', 'CC'), ('elected', 'VBN')),\n",
       " (('elected', 'VBN'), ('servants', 'NNS')),\n",
       " (('servants', 'NNS'), ('from', 'IN')),\n",
       " (('from', 'IN'), ('unmeritorious', 'JJ')),\n",
       " (('unmeritorious', 'JJ'), ('criticisms', 'NNS')),\n",
       " (('criticisms', 'NNS'), (\"''\", \"''\")),\n",
       " ((\"''\", \"''\"), (',', ',')),\n",
       " ((',', ','), ('the', 'AT')),\n",
       " (('the', 'AT'), ('jury', 'NN')),\n",
       " (('jury', 'NN'), ('said', 'VBD')),\n",
       " (('said', 'VBD'), ('.', '.')),\n",
       " (('.', '.'), ('Regarding', 'IN')),\n",
       " (('Regarding', 'IN'), (\"Atlanta's\", 'NP$')),\n",
       " ((\"Atlanta's\", 'NP$'), ('new', 'JJ')),\n",
       " (('new', 'JJ'), ('multi-million-dollar', 'JJ')),\n",
       " (('multi-million-dollar', 'JJ'), ('airport', 'NN')),\n",
       " (('airport', 'NN'), (',', ',')),\n",
       " ((',', ','), ('the', 'AT')),\n",
       " (('the', 'AT'), ('jury', 'NN')),\n",
       " (('jury', 'NN'), ('recommended', 'VBD')),\n",
       " (('recommended', 'VBD'), ('``', '``')),\n",
       " (('``', '``'), ('that', 'CS')),\n",
       " (('that', 'CS'), ('when', 'WRB')),\n",
       " (('when', 'WRB'), ('the', 'AT')),\n",
       " (('the', 'AT'), ('new', 'JJ')),\n",
       " (('new', 'JJ'), ('management', 'NN')),\n",
       " (('management', 'NN'), ('takes', 'VBZ')),\n",
       " (('takes', 'VBZ'), ('charge', 'NN')),\n",
       " (('charge', 'NN'), ('Jan.', 'NP')),\n",
       " (('Jan.', 'NP'), ('1', 'CD')),\n",
       " (('1', 'CD'), ('the', 'AT')),\n",
       " (('the', 'AT'), ('airport', 'NN')),\n",
       " (('airport', 'NN'), ('be', 'BE')),\n",
       " (('be', 'BE'), ('operated', 'VBN')),\n",
       " (('operated', 'VBN'), ('in', 'IN')),\n",
       " (('in', 'IN'), ('a', 'AT')),\n",
       " (('a', 'AT'), ('manner', 'NN')),\n",
       " (('manner', 'NN'), ('that', 'WPS')),\n",
       " (('that', 'WPS'), ('will', 'MD')),\n",
       " (('will', 'MD'), ('eliminate', 'VB')),\n",
       " (('eliminate', 'VB'), ('political', 'JJ')),\n",
       " (('political', 'JJ'), ('influences', 'NNS')),\n",
       " (('influences', 'NNS'), (\"''\", \"''\")),\n",
       " ((\"''\", \"''\"), ('.', '.')),\n",
       " (('.', '.'), ('The', 'AT')),\n",
       " (('The', 'AT'), ('jury', 'NN')),\n",
       " (('jury', 'NN'), ('did', 'DOD')),\n",
       " (('did', 'DOD'), ('not', '*')),\n",
       " (('not', '*'), ('elaborate', 'VB')),\n",
       " (('elaborate', 'VB'), (',', ',')),\n",
       " ((',', ','), ('but', 'CC')),\n",
       " (('but', 'CC'), ('it', 'PPS')),\n",
       " (('it', 'PPS'), ('added', 'VBD')),\n",
       " (('added', 'VBD'), ('that', 'CS')),\n",
       " (('that', 'CS'), ('``', '``')),\n",
       " (('``', '``'), ('there', 'EX')),\n",
       " (('there', 'EX'), ('should', 'MD')),\n",
       " (('should', 'MD'), ('be', 'BE')),\n",
       " (('be', 'BE'), ('periodic', 'JJ')),\n",
       " (('periodic', 'JJ'), ('surveillance', 'NN')),\n",
       " (('surveillance', 'NN'), ('of', 'IN')),\n",
       " (('of', 'IN'), ('the', 'AT')),\n",
       " (('the', 'AT'), ('pricing', 'VBG')),\n",
       " (('pricing', 'VBG'), ('practices', 'NNS')),\n",
       " (('practices', 'NNS'), ('of', 'IN')),\n",
       " (('of', 'IN'), ('the', 'AT')),\n",
       " (('the', 'AT'), ('concessionaires', 'NNS')),\n",
       " (('concessionaires', 'NNS'), ('for', 'IN')),\n",
       " (('for', 'IN'), ('the', 'AT')),\n",
       " (('the', 'AT'), ('purpose', 'NN')),\n",
       " (('purpose', 'NN'), ('of', 'IN')),\n",
       " (('of', 'IN'), ('keeping', 'VBG')),\n",
       " (('keeping', 'VBG'), ('the', 'AT')),\n",
       " (('the', 'AT'), ('prices', 'NNS')),\n",
       " (('prices', 'NNS'), ('reasonable', 'JJ')),\n",
       " (('reasonable', 'JJ'), (\"''\", \"''\")),\n",
       " ((\"''\", \"''\"), ('.', '.')),\n",
       " (('.', '.'), ('Ask', 'VB-HL')),\n",
       " (('Ask', 'VB-HL'), ('jail', 'NN-HL')),\n",
       " (('jail', 'NN-HL'), ('deputies', 'NNS-HL')),\n",
       " (('deputies', 'NNS-HL'), ('On', 'IN')),\n",
       " (('On', 'IN'), ('other', 'AP')),\n",
       " (('other', 'AP'), ('matters', 'NNS')),\n",
       " (('matters', 'NNS'), (',', ',')),\n",
       " ((',', ','), ('the', 'AT')),\n",
       " (('the', 'AT'), ('jury', 'NN')),\n",
       " (('jury', 'NN'), ('recommended', 'VBD')),\n",
       " (('recommended', 'VBD'), ('that', 'CS')),\n",
       " (('that', 'CS'), (':', ':')),\n",
       " ((':', ':'), ('(', '(')),\n",
       " (('(', '('), ('1', 'CD')),\n",
       " (('1', 'CD'), (')', ')')),\n",
       " ((')', ')'), ('Four', 'CD')),\n",
       " (('Four', 'CD'), ('additional', 'JJ')),\n",
       " (('additional', 'JJ'), ('deputies', 'NNS')),\n",
       " (('deputies', 'NNS'), ('be', 'BE')),\n",
       " (('be', 'BE'), ('employed', 'VBN')),\n",
       " (('employed', 'VBN'), ('at', 'IN')),\n",
       " (('at', 'IN'), ('the', 'AT')),\n",
       " (('the', 'AT'), ('Fulton', 'NP-TL')),\n",
       " (('Fulton', 'NP-TL'), ('County', 'NN-TL')),\n",
       " (('County', 'NN-TL'), ('Jail', 'NN-TL')),\n",
       " (('Jail', 'NN-TL'), ('and', 'CC')),\n",
       " (('and', 'CC'), ('``', '``')),\n",
       " (('``', '``'), ('a', 'AT')),\n",
       " (('a', 'AT'), ('doctor', 'NN')),\n",
       " (('doctor', 'NN'), (',', ',')),\n",
       " ((',', ','), ('medical', 'JJ')),\n",
       " (('medical', 'JJ'), ('intern', 'NN')),\n",
       " (('intern', 'NN'), ('or', 'CC')),\n",
       " (('or', 'CC'), ('extern', 'NN')),\n",
       " (('extern', 'NN'), ('be', 'BE')),\n",
       " (('be', 'BE'), ('employed', 'VBN')),\n",
       " (('employed', 'VBN'), ('for', 'IN')),\n",
       " (('for', 'IN'), ('night', 'NN')),\n",
       " (('night', 'NN'), ('and', 'CC')),\n",
       " (('and', 'CC'), ('weekend', 'NN')),\n",
       " (('weekend', 'NN'), ('duty', 'NN')),\n",
       " (('duty', 'NN'), ('at', 'IN')),\n",
       " (('at', 'IN'), ('the', 'AT')),\n",
       " (('the', 'AT'), ('jail', 'NN')),\n",
       " (('jail', 'NN'), (\"''\", \"''\")),\n",
       " ((\"''\", \"''\"), ('.', '.')),\n",
       " (('.', '.'), ('(', '(')),\n",
       " (('(', '('), ('2', 'CD')),\n",
       " (('2', 'CD'), (')', ')')),\n",
       " ((')', ')'), ('Fulton', 'NP')),\n",
       " (('Fulton', 'NP'), ('legislators', 'NNS')),\n",
       " (('legislators', 'NNS'), ('``', '``')),\n",
       " (('``', '``'), ('work', 'VB')),\n",
       " (('work', 'VB'), ('with', 'IN')),\n",
       " (('with', 'IN'), ('city', 'NN')),\n",
       " (('city', 'NN'), ('officials', 'NNS')),\n",
       " (('officials', 'NNS'), ('to', 'TO')),\n",
       " (('to', 'TO'), ('pass', 'VB')),\n",
       " (('pass', 'VB'), ('enabling', 'VBG')),\n",
       " (('enabling', 'VBG'), ('legislation', 'NN')),\n",
       " (('legislation', 'NN'), ('that', 'WPS')),\n",
       " (('that', 'WPS'), ('will', 'MD')),\n",
       " (('will', 'MD'), ('permit', 'VB')),\n",
       " (('permit', 'VB'), ('the', 'AT')),\n",
       " (('the', 'AT'), ('establishment', 'NN')),\n",
       " (('establishment', 'NN'), ('of', 'IN')),\n",
       " (('of', 'IN'), ('a', 'AT')),\n",
       " (('a', 'AT'), ('fair', 'JJ')),\n",
       " (('fair', 'JJ'), ('and', 'CC')),\n",
       " (('and', 'CC'), ('equitable', 'JJ')),\n",
       " (('equitable', 'JJ'), (\"''\", \"''\")),\n",
       " ((\"''\", \"''\"), ('pension', 'NN')),\n",
       " (('pension', 'NN'), ('plan', 'NN')),\n",
       " (('plan', 'NN'), ('for', 'IN')),\n",
       " (('for', 'IN'), ('city', 'NN')),\n",
       " (('city', 'NN'), ('employes', 'NNS')),\n",
       " (('employes', 'NNS'), ('.', '.')),\n",
       " (('.', '.'), ('The', 'AT')),\n",
       " (('The', 'AT'), ('jury', 'NN')),\n",
       " (('jury', 'NN'), ('praised', 'VBD')),\n",
       " (('praised', 'VBD'), ('the', 'AT')),\n",
       " (('the', 'AT'), ('administration', 'NN')),\n",
       " (('administration', 'NN'), ('and', 'CC')),\n",
       " (('and', 'CC'), ('operation', 'NN')),\n",
       " (('operation', 'NN'), ('of', 'IN')),\n",
       " (('of', 'IN'), ('the', 'AT')),\n",
       " (('the', 'AT'), ('Atlanta', 'NP-TL')),\n",
       " (('Atlanta', 'NP-TL'), ('Police', 'NNS-TL')),\n",
       " (('Police', 'NNS-TL'), ('Department', 'NN-TL')),\n",
       " (('Department', 'NN-TL'), (',', ',')),\n",
       " ((',', ','), ('the', 'AT')),\n",
       " (('the', 'AT'), ('Fulton', 'NP-TL')),\n",
       " (('Fulton', 'NP-TL'), ('Tax', 'NN-TL')),\n",
       " (('Tax', 'NN-TL'), (\"Commissioner's\", 'NN$-TL')),\n",
       " ((\"Commissioner's\", 'NN$-TL'), ('Office', 'NN-TL')),\n",
       " (('Office', 'NN-TL'), (',', ',')),\n",
       " ((',', ','), ('the', 'AT')),\n",
       " (('the', 'AT'), ('Bellwood', 'NP')),\n",
       " (('Bellwood', 'NP'), ('and', 'CC')),\n",
       " (('and', 'CC'), ('Alpharetta', 'NP')),\n",
       " (('Alpharetta', 'NP'), ('prison', 'NN')),\n",
       " (('prison', 'NN'), ('farms', 'NNS')),\n",
       " (('farms', 'NNS'), (',', ',')),\n",
       " ((',', ','), ('Grady', 'NP-TL')),\n",
       " (('Grady', 'NP-TL'), ('Hospital', 'NN-TL')),\n",
       " (('Hospital', 'NN-TL'), ('and', 'CC')),\n",
       " (('and', 'CC'), ('the', 'AT')),\n",
       " (('the', 'AT'), ('Fulton', 'NP-TL')),\n",
       " (('Fulton', 'NP-TL'), ('Health', 'NN-TL')),\n",
       " (('Health', 'NN-TL'), ('Department', 'NN-TL')),\n",
       " (('Department', 'NN-TL'), ('.', '.')),\n",
       " (('.', '.'), ('Mayor', 'NN-TL')),\n",
       " (('Mayor', 'NN-TL'), ('William', 'NP')),\n",
       " (('William', 'NP'), ('B.', 'NP')),\n",
       " (('B.', 'NP'), ('Hartsfield', 'NP')),\n",
       " (('Hartsfield', 'NP'), ('filed', 'VBD')),\n",
       " (('filed', 'VBD'), ('suit', 'NN')),\n",
       " (('suit', 'NN'), ('for', 'IN')),\n",
       " (('for', 'IN'), ('divorce', 'NN')),\n",
       " (('divorce', 'NN'), ('from', 'IN')),\n",
       " (('from', 'IN'), ('his', 'PP$')),\n",
       " (('his', 'PP$'), ('wife', 'NN')),\n",
       " (('wife', 'NN'), (',', ',')),\n",
       " ((',', ','), ('Pearl', 'NP')),\n",
       " (('Pearl', 'NP'), ('Williams', 'NP')),\n",
       " (('Williams', 'NP'), ('Hartsfield', 'NP')),\n",
       " (('Hartsfield', 'NP'), (',', ',')),\n",
       " ((',', ','), ('in', 'IN')),\n",
       " (('in', 'IN'), ('Fulton', 'NP-TL')),\n",
       " (('Fulton', 'NP-TL'), ('Superior', 'JJ-TL')),\n",
       " (('Superior', 'JJ-TL'), ('Court', 'NN-TL')),\n",
       " (('Court', 'NN-TL'), ('Friday', 'NR')),\n",
       " (('Friday', 'NR'), ('.', '.')),\n",
       " (('.', '.'), ('His', 'PP$')),\n",
       " (('His', 'PP$'), ('petition', 'NN')),\n",
       " (('petition', 'NN'), ('charged', 'VBD')),\n",
       " (('charged', 'VBD'), ('mental', 'JJ')),\n",
       " (('mental', 'JJ'), ('cruelty', 'NN')),\n",
       " (('cruelty', 'NN'), ('.', '.')),\n",
       " (('.', '.'), ('The', 'AT')),\n",
       " (('The', 'AT'), ('couple', 'NN')),\n",
       " (('couple', 'NN'), ('was', 'BEDZ')),\n",
       " (('was', 'BEDZ'), ('married', 'VBN')),\n",
       " (('married', 'VBN'), ('Aug.', 'NP')),\n",
       " (('Aug.', 'NP'), ('2', 'CD')),\n",
       " (('2', 'CD'), (',', ',')),\n",
       " ((',', ','), ('1913', 'CD')),\n",
       " (('1913', 'CD'), ('.', '.')),\n",
       " (('.', '.'), ('They', 'PPSS')),\n",
       " (('They', 'PPSS'), ('have', 'HV')),\n",
       " (('have', 'HV'), ('a', 'AT')),\n",
       " (('a', 'AT'), ('son', 'NN')),\n",
       " (('son', 'NN'), (',', ',')),\n",
       " ((',', ','), ('William', 'NP')),\n",
       " (('William', 'NP'), ('Berry', 'NP')),\n",
       " (('Berry', 'NP'), ('Jr.', 'NP')),\n",
       " (('Jr.', 'NP'), (',', ',')),\n",
       " ((',', ','), ('and', 'CC')),\n",
       " (('and', 'CC'), ('a', 'AT')),\n",
       " (('a', 'AT'), ('daughter', 'NN')),\n",
       " (('daughter', 'NN'), (',', ',')),\n",
       " ((',', ','), ('Mrs.', 'NP')),\n",
       " (('Mrs.', 'NP'), ('J.', 'NP')),\n",
       " (('J.', 'NP'), ('M.', 'NP')),\n",
       " (('M.', 'NP'), ('Cheshire', 'NP')),\n",
       " (('Cheshire', 'NP'), ('of', 'IN')),\n",
       " (('of', 'IN'), ('Griffin', 'NP')),\n",
       " (('Griffin', 'NP'), ('.', '.')),\n",
       " (('.', '.'), ('Attorneys', 'NNS')),\n",
       " (('Attorneys', 'NNS'), ('for', 'IN')),\n",
       " (('for', 'IN'), ('the', 'AT')),\n",
       " (('the', 'AT'), ('mayor', 'NN')),\n",
       " (('mayor', 'NN'), ('said', 'VBD')),\n",
       " (('said', 'VBD'), ('that', 'CS')),\n",
       " (('that', 'CS'), ('an', 'AT')),\n",
       " (('an', 'AT'), ('amicable', 'JJ')),\n",
       " (('amicable', 'JJ'), ('property', 'NN')),\n",
       " (('property', 'NN'), ('settlement', 'NN')),\n",
       " (('settlement', 'NN'), ('has', 'HVZ')),\n",
       " (('has', 'HVZ'), ('been', 'BEN')),\n",
       " (('been', 'BEN'), ('agreed', 'VBN')),\n",
       " (('agreed', 'VBN'), ('upon', 'RB')),\n",
       " (('upon', 'RB'), ('.', '.')),\n",
       " (('.', '.'), ('The', 'AT')),\n",
       " (('The', 'AT'), ('petition', 'NN')),\n",
       " (('petition', 'NN'), ('listed', 'VBD')),\n",
       " (('listed', 'VBD'), ('the', 'AT')),\n",
       " (('the', 'AT'), (\"mayor's\", 'NN$')),\n",
       " ((\"mayor's\", 'NN$'), ('occupation', 'NN')),\n",
       " (('occupation', 'NN'), ('as', 'CS')),\n",
       " (('as', 'CS'), ('``', '``')),\n",
       " (('``', '``'), ('attorney', 'NN')),\n",
       " (('attorney', 'NN'), (\"''\", \"''\")),\n",
       " ((\"''\", \"''\"), ('and', 'CC')),\n",
       " (('and', 'CC'), ('his', 'PP$')),\n",
       " (('his', 'PP$'), ('age', 'NN')),\n",
       " (('age', 'NN'), ('as', 'CS')),\n",
       " (('as', 'CS'), ('71', 'CD')),\n",
       " (('71', 'CD'), ('.', '.')),\n",
       " (('.', '.'), ('It', 'PPS')),\n",
       " (('It', 'PPS'), ('listed', 'VBD')),\n",
       " (('listed', 'VBD'), ('his', 'PP$')),\n",
       " (('his', 'PP$'), (\"wife's\", 'NN$')),\n",
       " ((\"wife's\", 'NN$'), ('age', 'NN')),\n",
       " (('age', 'NN'), ('as', 'CS')),\n",
       " (('as', 'CS'), ('74', 'CD')),\n",
       " (('74', 'CD'), ('and', 'CC')),\n",
       " (('and', 'CC'), ('place', 'NN')),\n",
       " (('place', 'NN'), ('of', 'IN')),\n",
       " (('of', 'IN'), ('birth', 'NN')),\n",
       " (('birth', 'NN'), ('as', 'CS')),\n",
       " (('as', 'CS'), ('Opelika', 'NP')),\n",
       " (('Opelika', 'NP'), (',', ',')),\n",
       " ((',', ','), ('Ala.', 'NP')),\n",
       " (('Ala.', 'NP'), ('.', '.')),\n",
       " (('.', '.'), ('The', 'AT')),\n",
       " (('The', 'AT'), ('petition', 'NN')),\n",
       " (('petition', 'NN'), ('said', 'VBD')),\n",
       " (('said', 'VBD'), ('that', 'CS')),\n",
       " (('that', 'CS'), ('the', 'AT')),\n",
       " (('the', 'AT'), ('couple', 'NN')),\n",
       " (('couple', 'NN'), ('has', 'HVZ')),\n",
       " (('has', 'HVZ'), ('not', '*')),\n",
       " (('not', '*'), ('lived', 'VBN')),\n",
       " (('lived', 'VBN'), ('together', 'RB')),\n",
       " (('together', 'RB'), ('as', 'CS')),\n",
       " (('as', 'CS'), ('man', 'NN')),\n",
       " (('man', 'NN'), ('and', 'CC')),\n",
       " (('and', 'CC'), ('wife', 'NN')),\n",
       " (('wife', 'NN'), ('for', 'IN')),\n",
       " (('for', 'IN'), ('more', 'AP')),\n",
       " (('more', 'AP'), ('than', 'IN')),\n",
       " (('than', 'IN'), ('a', 'AT')),\n",
       " (('a', 'AT'), ('year', 'NN')),\n",
       " (('year', 'NN'), ('.', '.')),\n",
       " (('.', '.'), ('The', 'AT')),\n",
       " (('The', 'AT'), ('Hartsfield', 'NP')),\n",
       " (('Hartsfield', 'NP'), ('home', 'NR')),\n",
       " (('home', 'NR'), ('is', 'BEZ')),\n",
       " (('is', 'BEZ'), ('at', 'IN')),\n",
       " (('at', 'IN'), ('637', 'CD')),\n",
       " (('637', 'CD'), ('E.', 'NP')),\n",
       " (('E.', 'NP'), ('Pelham', 'NP')),\n",
       " (('Pelham', 'NP'), ('Rd.', 'NN-TL')),\n",
       " (('Rd.', 'NN-TL'), ('Aj', 'NN')),\n",
       " (('Aj', 'NN'), ('.', '.')),\n",
       " (('.', '.'), ('Henry', 'NP')),\n",
       " (('Henry', 'NP'), ('L.', 'NP')),\n",
       " (('L.', 'NP'), ('Bowden', 'NP')),\n",
       " (('Bowden', 'NP'), ('was', 'BEDZ')),\n",
       " (('was', 'BEDZ'), ('listed', 'VBN')),\n",
       " (('listed', 'VBN'), ('on', 'IN')),\n",
       " (('on', 'IN'), ('the', 'AT')),\n",
       " (('the', 'AT'), ('petition', 'NN')),\n",
       " (('petition', 'NN'), ('as', 'CS')),\n",
       " (('as', 'CS'), ('the', 'AT')),\n",
       " (('the', 'AT'), (\"mayor's\", 'NN$')),\n",
       " ((\"mayor's\", 'NN$'), ('attorney', 'NN')),\n",
       " (('attorney', 'NN'), ('.', '.')),\n",
       " (('.', '.'), ('Hartsfield', 'NP')),\n",
       " (('Hartsfield', 'NP'), ('has', 'HVZ')),\n",
       " (('has', 'HVZ'), ('been', 'BEN')),\n",
       " (('been', 'BEN'), ('mayor', 'NN')),\n",
       " (('mayor', 'NN'), ('of', 'IN')),\n",
       " (('of', 'IN'), ('Atlanta', 'NP')),\n",
       " (('Atlanta', 'NP'), (',', ',')),\n",
       " ((',', ','), ('with', 'IN')),\n",
       " (('with', 'IN'), ('exception', 'NN')),\n",
       " (('exception', 'NN'), ('of', 'IN')),\n",
       " (('of', 'IN'), ('one', 'CD')),\n",
       " (('one', 'CD'), ('brief', 'JJ')),\n",
       " (('brief', 'JJ'), ('interlude', 'NN')),\n",
       " (('interlude', 'NN'), (',', ',')),\n",
       " ((',', ','), ('since', 'IN')),\n",
       " (('since', 'IN'), ('1937', 'CD')),\n",
       " (('1937', 'CD'), ('.', '.')),\n",
       " (('.', '.'), ('His', 'PP$')),\n",
       " (('His', 'PP$'), ('political', 'JJ')),\n",
       " (('political', 'JJ'), ('career', 'NN')),\n",
       " (('career', 'NN'), ('goes', 'VBZ')),\n",
       " (('goes', 'VBZ'), ('back', 'RB')),\n",
       " (('back', 'RB'), ('to', 'IN')),\n",
       " (('to', 'IN'), ('his', 'PP$')),\n",
       " (('his', 'PP$'), ('election', 'NN')),\n",
       " (('election', 'NN'), ('to', 'IN')),\n",
       " (('to', 'IN'), ('city', 'NN')),\n",
       " (('city', 'NN'), ('council', 'NN')),\n",
       " (('council', 'NN'), ('in', 'IN')),\n",
       " (('in', 'IN'), ('1923', 'CD')),\n",
       " (('1923', 'CD'), ('.', '.')),\n",
       " (('.', '.'), ('The', 'AT')),\n",
       " (('The', 'AT'), (\"mayor's\", 'NN$')),\n",
       " ((\"mayor's\", 'NN$'), ('present', 'JJ')),\n",
       " (('present', 'JJ'), ('term', 'NN')),\n",
       " (('term', 'NN'), ('of', 'IN')),\n",
       " (('of', 'IN'), ('office', 'NN')),\n",
       " (('office', 'NN'), ('expires', 'VBZ')),\n",
       " (('expires', 'VBZ'), ('Jan.', 'NP')),\n",
       " (('Jan.', 'NP'), ('1', 'CD')),\n",
       " (('1', 'CD'), ('.', '.')),\n",
       " (('.', '.'), ('He', 'PPS')),\n",
       " (('He', 'PPS'), ('will', 'MD')),\n",
       " (('will', 'MD'), ('be', 'BE')),\n",
       " (('be', 'BE'), ('succeeded', 'VBN')),\n",
       " (('succeeded', 'VBN'), ('by', 'IN')),\n",
       " (('by', 'IN'), ('Ivan', 'NP')),\n",
       " (('Ivan', 'NP'), ('Allen', 'NP')),\n",
       " (('Allen', 'NP'), ('Jr.', 'NP')),\n",
       " (('Jr.', 'NP'), (',', ',')),\n",
       " ((',', ','), ('who', 'WPS')),\n",
       " (('who', 'WPS'), ('became', 'VBD')),\n",
       " (('became', 'VBD'), ('a', 'AT')),\n",
       " (('a', 'AT'), ('candidate', 'NN')),\n",
       " (('candidate', 'NN'), ('in', 'IN')),\n",
       " (('in', 'IN'), ('the', 'AT')),\n",
       " (('the', 'AT'), ('Sept.', 'NP')),\n",
       " (('Sept.', 'NP'), ('13', 'CD')),\n",
       " (('13', 'CD'), ('primary', 'NN')),\n",
       " (('primary', 'NN'), ('after', 'CS')),\n",
       " (('after', 'CS'), ('Mayor', 'NN-TL')),\n",
       " (('Mayor', 'NN-TL'), ('Hartsfield', 'NP')),\n",
       " (('Hartsfield', 'NP'), ('announced', 'VBD')),\n",
       " (('announced', 'VBD'), ('that', 'CS')),\n",
       " (('that', 'CS'), ('he', 'PPS')),\n",
       " (('he', 'PPS'), ('would', 'MD')),\n",
       " (('would', 'MD'), ('not', '*')),\n",
       " (('not', '*'), ('run', 'VB')),\n",
       " (('run', 'VB'), ('for', 'IN')),\n",
       " (('for', 'IN'), ('reelection', 'NN')),\n",
       " (('reelection', 'NN'), ('.', '.')),\n",
       " (('.', '.'), ('Georgia', 'NP')),\n",
       " (('Georgia', 'NP'), ('Republicans', 'NPS')),\n",
       " (('Republicans', 'NPS'), ('are', 'BER')),\n",
       " (('are', 'BER'), ('getting', 'VBG')),\n",
       " (('getting', 'VBG'), ('strong', 'JJ')),\n",
       " (('strong', 'JJ'), ('encouragement', 'NN')),\n",
       " (('encouragement', 'NN'), ('to', 'TO')),\n",
       " (('to', 'TO'), ('enter', 'VB')),\n",
       " (('enter', 'VB'), ('a', 'AT')),\n",
       " (('a', 'AT'), ('candidate', 'NN')),\n",
       " (('candidate', 'NN'), ('in', 'IN')),\n",
       " (('in', 'IN'), ('the', 'AT')),\n",
       " (('the', 'AT'), ('1962', 'CD')),\n",
       " (('1962', 'CD'), (\"governor's\", 'NN$')),\n",
       " ((\"governor's\", 'NN$'), ('race', 'NN')),\n",
       " ...]"
      ]
     },
     "execution_count": 67,
     "metadata": {},
     "output_type": "execute_result"
    }
   ],
   "source": [
    "list(brownWordTagPairs)"
   ]
  },
  {
   "cell_type": "code",
   "execution_count": 68,
   "metadata": {
    "collapsed": false
   },
   "outputs": [
    {
     "data": {
      "text/plain": [
       "[]"
      ]
     },
     "execution_count": 68,
     "metadata": {},
     "output_type": "execute_result"
    }
   ],
   "source": [
    "# Let's inspect some tagged text to see what parts-of-speech occur before a noun\n",
    "# with the most frequent ones\n",
    "list(nltk.FreqDist(a[1] for (a, b) in brownWordTagPairs if b[1] == 'NN'))"
   ]
  },
  {
   "cell_type": "markdown",
   "metadata": {},
   "source": [
    "# Default Tagger"
   ]
  },
  {
   "cell_type": "markdown",
   "metadata": {},
   "source": [
    "The simplest possible tagger assigns the same tag to each token. This may seem to be a rather banal step, but it establishes an important baseline for tagger performance. In order to get the best result, we tag each word with the most likely tag."
   ]
  },
  {
   "cell_type": "code",
   "execution_count": 69,
   "metadata": {
    "collapsed": true
   },
   "outputs": [],
   "source": [
    "tags = [tag for (word, tag) in nltk.corpus.brown.tagged_words(categories = 'news')]"
   ]
  },
  {
   "cell_type": "code",
   "execution_count": 70,
   "metadata": {
    "collapsed": false
   },
   "outputs": [
    {
     "data": {
      "text/plain": [
       "FreqDist({\"'\": 46,\n",
       "          \"''\": 702,\n",
       "          '(': 148,\n",
       "          '(-HL': 20,\n",
       "          ')': 151,\n",
       "          ')-HL': 20,\n",
       "          '*': 256,\n",
       "          '*-HL': 1,\n",
       "          ',': 5133,\n",
       "          ',-HL': 55,\n",
       "          '--': 300,\n",
       "          '.': 4452,\n",
       "          '.-HL': 20,\n",
       "          ':': 137,\n",
       "          ':-HL': 12,\n",
       "          'ABL': 21,\n",
       "          'ABN': 183,\n",
       "          'ABN-HL': 1,\n",
       "          'ABX': 73,\n",
       "          'AP': 923,\n",
       "          'AP$': 1,\n",
       "          'AP-HL': 7,\n",
       "          'AP-TL': 1,\n",
       "          'AT': 8893,\n",
       "          'AT-HL': 14,\n",
       "          'AT-TL': 50,\n",
       "          'BE': 525,\n",
       "          'BE-HL': 1,\n",
       "          'BED': 252,\n",
       "          'BED*': 1,\n",
       "          'BEDZ': 716,\n",
       "          'BEDZ*': 3,\n",
       "          'BEDZ-HL': 1,\n",
       "          'BEG': 57,\n",
       "          'BEM': 13,\n",
       "          'BEN': 212,\n",
       "          'BER': 328,\n",
       "          'BER*': 4,\n",
       "          'BER-HL': 1,\n",
       "          'BER-TL': 1,\n",
       "          'BEZ': 730,\n",
       "          'BEZ*': 8,\n",
       "          'BEZ-HL': 3,\n",
       "          'CC': 2664,\n",
       "          'CC-HL': 7,\n",
       "          'CC-TL': 46,\n",
       "          'CD': 2020,\n",
       "          'CD$': 2,\n",
       "          'CD-HL': 50,\n",
       "          'CD-TL': 96,\n",
       "          'CS': 1509,\n",
       "          'CS-HL': 1,\n",
       "          'DO': 63,\n",
       "          'DO*': 17,\n",
       "          'DO-HL': 1,\n",
       "          'DOD': 64,\n",
       "          'DOD*': 15,\n",
       "          'DOZ': 26,\n",
       "          'DOZ*': 13,\n",
       "          'DT': 589,\n",
       "          'DT$': 1,\n",
       "          'DT+BEZ': 12,\n",
       "          'DT-HL': 1,\n",
       "          'DTI': 205,\n",
       "          'DTI-HL': 2,\n",
       "          'DTS': 136,\n",
       "          'DTX': 8,\n",
       "          'EX': 161,\n",
       "          'EX+BEZ': 2,\n",
       "          'FW-*': 1,\n",
       "          'FW-AT': 3,\n",
       "          'FW-AT-HL': 1,\n",
       "          'FW-AT-TL': 6,\n",
       "          'FW-CC': 1,\n",
       "          'FW-CD': 1,\n",
       "          'FW-DT': 1,\n",
       "          'FW-IN': 14,\n",
       "          'FW-IN+AT-TL': 1,\n",
       "          'FW-IN+NN': 2,\n",
       "          'FW-IN+NN-TL': 1,\n",
       "          'FW-IN-TL': 1,\n",
       "          'FW-JJ': 3,\n",
       "          'FW-JJ-TL': 12,\n",
       "          'FW-NN': 22,\n",
       "          'FW-NN-TL': 16,\n",
       "          'FW-NNS': 2,\n",
       "          'FW-PP$-NC': 1,\n",
       "          'FW-VB': 1,\n",
       "          'FW-VB-NC': 1,\n",
       "          'FW-WDT': 1,\n",
       "          'HV': 265,\n",
       "          'HVD': 262,\n",
       "          'HVD*': 2,\n",
       "          'HVD-HL': 1,\n",
       "          'HVG': 14,\n",
       "          'HVN': 18,\n",
       "          'HVZ': 301,\n",
       "          'HVZ*': 1,\n",
       "          'IN': 10616,\n",
       "          'IN-HL': 65,\n",
       "          'IN-TL': 164,\n",
       "          'JJ': 4392,\n",
       "          'JJ-HL': 46,\n",
       "          'JJ-NC': 1,\n",
       "          'JJ-TL': 689,\n",
       "          'JJR': 145,\n",
       "          'JJR-HL': 4,\n",
       "          'JJR-NC': 1,\n",
       "          'JJR-TL': 4,\n",
       "          'JJS': 49,\n",
       "          'JJS-TL': 2,\n",
       "          'JJT': 100,\n",
       "          'JJT-HL': 2,\n",
       "          'MD': 1031,\n",
       "          'MD*': 43,\n",
       "          'MD*-HL': 1,\n",
       "          'MD+HV': 1,\n",
       "          'MD-HL': 5,\n",
       "          'MD-TL': 1,\n",
       "          'NN': 13162,\n",
       "          'NN$': 210,\n",
       "          'NN$-HL': 2,\n",
       "          'NN$-TL': 69,\n",
       "          'NN-HL': 171,\n",
       "          'NN-NC': 3,\n",
       "          'NN-TL': 2486,\n",
       "          'NN-TL-HL': 12,\n",
       "          'NNS': 5066,\n",
       "          'NNS$': 50,\n",
       "          'NNS$-HL': 2,\n",
       "          'NNS$-TL': 20,\n",
       "          'NNS-HL': 92,\n",
       "          'NNS-TL': 344,\n",
       "          'NNS-TL-HL': 1,\n",
       "          'NP': 6866,\n",
       "          'NP$': 279,\n",
       "          'NP$-TL': 11,\n",
       "          'NP+BEZ': 1,\n",
       "          'NP-HL': 186,\n",
       "          'NP-TL': 741,\n",
       "          'NP-TL-HL': 1,\n",
       "          'NPS': 215,\n",
       "          'NPS$': 17,\n",
       "          'NPS$-TL': 1,\n",
       "          'NPS-HL': 3,\n",
       "          'NPS-TL': 15,\n",
       "          'NR': 495,\n",
       "          'NR$': 24,\n",
       "          'NR$-TL': 1,\n",
       "          'NR-HL': 2,\n",
       "          'NR-TL': 14,\n",
       "          'OD': 309,\n",
       "          'OD-HL': 1,\n",
       "          'OD-TL': 30,\n",
       "          'PN': 89,\n",
       "          'PN$': 1,\n",
       "          'PN+HVZ': 1,\n",
       "          'PN-HL': 1,\n",
       "          'PP$': 1051,\n",
       "          'PP$$': 3,\n",
       "          'PP$-TL': 1,\n",
       "          'PPL': 36,\n",
       "          'PPLS': 21,\n",
       "          'PPO': 412,\n",
       "          'PPS': 1056,\n",
       "          'PPS+BEZ': 31,\n",
       "          'PPS+BEZ-HL': 1,\n",
       "          'PPS+HVZ': 4,\n",
       "          'PPS+MD': 8,\n",
       "          'PPSS': 602,\n",
       "          'PPSS+BEM': 18,\n",
       "          'PPSS+BER': 20,\n",
       "          'PPSS+HV': 19,\n",
       "          'PPSS+HVD': 1,\n",
       "          'PPSS+MD': 31,\n",
       "          'PPSS-HL': 1,\n",
       "          'QL': 468,\n",
       "          'QL-TL': 1,\n",
       "          'QLP': 12,\n",
       "          'RB': 2166,\n",
       "          'RB$': 1,\n",
       "          'RB+BEZ': 1,\n",
       "          'RB-HL': 15,\n",
       "          'RB-TL': 8,\n",
       "          'RBR': 88,\n",
       "          'RBT': 5,\n",
       "          'RP': 482,\n",
       "          'RP-HL': 4,\n",
       "          'TO': 1237,\n",
       "          'TO-HL': 6,\n",
       "          'TO-TL': 1,\n",
       "          'UH': 12,\n",
       "          'UH-TL': 1,\n",
       "          'VB': 2440,\n",
       "          'VB+PPO': 1,\n",
       "          'VB-HL': 25,\n",
       "          'VB-TL': 8,\n",
       "          'VBD': 2524,\n",
       "          'VBD-HL': 6,\n",
       "          'VBD-TL': 1,\n",
       "          'VBG': 1398,\n",
       "          'VBG-HL': 12,\n",
       "          'VBG-TL': 15,\n",
       "          'VBN': 2269,\n",
       "          'VBN-HL': 53,\n",
       "          'VBN-TL': 87,\n",
       "          'VBN-TL-HL': 1,\n",
       "          'VBZ': 519,\n",
       "          'VBZ-HL': 39,\n",
       "          'WDT': 343,\n",
       "          'WDT+BEZ': 1,\n",
       "          'WP$': 22,\n",
       "          'WPO': 9,\n",
       "          'WPS': 395,\n",
       "          'WPS+BEZ': 2,\n",
       "          'WQL': 1,\n",
       "          'WRB': 328,\n",
       "          '``': 732})"
      ]
     },
     "execution_count": 70,
     "metadata": {},
     "output_type": "execute_result"
    }
   ],
   "source": [
    "nltk.FreqDist(tags)"
   ]
  },
  {
   "cell_type": "code",
   "execution_count": 71,
   "metadata": {
    "collapsed": false
   },
   "outputs": [
    {
     "data": {
      "text/plain": [
       "'NN'"
      ]
     },
     "execution_count": 71,
     "metadata": {},
     "output_type": "execute_result"
    }
   ],
   "source": [
    "nltk.FreqDist(tags).max()"
   ]
  },
  {
   "cell_type": "markdown",
   "metadata": {},
   "source": [
    "Now we can create a tagger that tags everything as NN"
   ]
  },
  {
   "cell_type": "code",
   "execution_count": 72,
   "metadata": {
    "collapsed": true
   },
   "outputs": [],
   "source": [
    "rawText = \"I do not like green egges and ham, I do not like then  Sam I am!\""
   ]
  },
  {
   "cell_type": "code",
   "execution_count": 73,
   "metadata": {
    "collapsed": true
   },
   "outputs": [],
   "source": [
    "rawTextTokens = nltk.word_tokenize(rawText)"
   ]
  },
  {
   "cell_type": "code",
   "execution_count": 74,
   "metadata": {
    "collapsed": true
   },
   "outputs": [],
   "source": [
    "defaultTagger = nltk.DefaultTagger('NN')"
   ]
  },
  {
   "cell_type": "code",
   "execution_count": 75,
   "metadata": {
    "collapsed": false
   },
   "outputs": [
    {
     "data": {
      "text/plain": [
       "[('I', 'NN'),\n",
       " ('do', 'NN'),\n",
       " ('not', 'NN'),\n",
       " ('like', 'NN'),\n",
       " ('green', 'NN'),\n",
       " ('egges', 'NN'),\n",
       " ('and', 'NN'),\n",
       " ('ham', 'NN'),\n",
       " (',', 'NN'),\n",
       " ('I', 'NN'),\n",
       " ('do', 'NN'),\n",
       " ('not', 'NN'),\n",
       " ('like', 'NN'),\n",
       " ('then', 'NN'),\n",
       " ('Sam', 'NN'),\n",
       " ('I', 'NN'),\n",
       " ('am', 'NN'),\n",
       " ('!', 'NN')]"
      ]
     },
     "execution_count": 75,
     "metadata": {},
     "output_type": "execute_result"
    }
   ],
   "source": [
    "defaultTagger.tag(rawTextTokens)"
   ]
  },
  {
   "cell_type": "markdown",
   "metadata": {},
   "source": [
    "Unsurprisingly, this method performs rather poorly. On a typical corpus, it will tag only about an eighth of the tokens correctly, as we see here: "
   ]
  },
  {
   "cell_type": "code",
   "execution_count": 80,
   "metadata": {
    "collapsed": false
   },
   "outputs": [
    {
     "data": {
      "text/plain": [
       "0.13089484257215028"
      ]
     },
     "execution_count": 80,
     "metadata": {},
     "output_type": "execute_result"
    }
   ],
   "source": [
    "brownTaggedSents = nltk.corpus.brown.tagged_sents(categories='news')\n",
    "defaultTagger.evaluate(brownTaggedSents) "
   ]
  },
  {
   "cell_type": "markdown",
   "metadata": {},
   "source": [
    "# The Regular Expression Tagger"
   ]
  },
  {
   "cell_type": "markdown",
   "metadata": {},
   "source": [
    "The regular expression tagger assigns tags to tokens on the basis of matching patterns. "
   ]
  },
  {
   "cell_type": "code",
   "execution_count": 77,
   "metadata": {
    "collapsed": true
   },
   "outputs": [],
   "source": [
    " patterns = [(r'.*ing$', 'VBG'),               # gerunds  \n",
    "             (r'.*ed$', 'VBD'),                # simple past    \n",
    "             (r'.*es$', 'VBZ'),                # 3rd singular present \n",
    "             (r'.*ould$', 'MD'),               # modals \n",
    "             (r'.*\\'s$', 'NN$'),               # possessive nouns \n",
    "             (r'.*s$', 'NNS'),                 # plural nouns \n",
    "             (r'^-?[0-9]+(.[0-9]+)?$', 'CD'),  # cardinal numbers    \n",
    "             (r'.*', 'NN')                     # nouns (default)\n",
    "            ] "
   ]
  },
  {
   "cell_type": "code",
   "execution_count": 78,
   "metadata": {
    "collapsed": false
   },
   "outputs": [],
   "source": [
    "regexpTagger = nltk.RegexpTagger(patterns)"
   ]
  },
  {
   "cell_type": "code",
   "execution_count": 81,
   "metadata": {
    "collapsed": false
   },
   "outputs": [
    {
     "data": {
      "text/plain": [
       "[('``', 'NN'),\n",
       " ('Only', 'NN'),\n",
       " ('a', 'NN'),\n",
       " ('relative', 'NN'),\n",
       " ('handful', 'NN'),\n",
       " ('of', 'NN'),\n",
       " ('such', 'NN'),\n",
       " ('reports', 'NNS'),\n",
       " ('was', 'NNS'),\n",
       " ('received', 'VBD'),\n",
       " (\"''\", 'NN'),\n",
       " (',', 'NN'),\n",
       " ('the', 'NN'),\n",
       " ('jury', 'NN'),\n",
       " ('said', 'NN'),\n",
       " (',', 'NN'),\n",
       " ('``', 'NN'),\n",
       " ('considering', 'VBG'),\n",
       " ('the', 'NN'),\n",
       " ('widespread', 'NN'),\n",
       " ('interest', 'NN'),\n",
       " ('in', 'NN'),\n",
       " ('the', 'NN'),\n",
       " ('election', 'NN'),\n",
       " (',', 'NN'),\n",
       " ('the', 'NN'),\n",
       " ('number', 'NN'),\n",
       " ('of', 'NN'),\n",
       " ('voters', 'NNS'),\n",
       " ('and', 'NN'),\n",
       " ('the', 'NN'),\n",
       " ('size', 'NN'),\n",
       " ('of', 'NN'),\n",
       " ('this', 'NNS'),\n",
       " ('city', 'NN'),\n",
       " (\"''\", 'NN'),\n",
       " ('.', 'NN')]"
      ]
     },
     "execution_count": 81,
     "metadata": {},
     "output_type": "execute_result"
    }
   ],
   "source": [
    "brownSents = nltk.corpus.brown.sents(categories='news') \n",
    "regexpTagger.tag(brownSents[3])"
   ]
  },
  {
   "cell_type": "markdown",
   "metadata": {},
   "source": [
    "# The Lookup Tagger"
   ]
  },
  {
   "cell_type": "markdown",
   "metadata": {},
   "source": [
    "A lot of high-frequency words do not have the NN tag. Let’s find the hundred most frequent words and store their most likely tag.We can then use this information as the model for a “lookup tagger” (an NLTK UnigramTagger): "
   ]
  },
  {
   "cell_type": "code",
   "execution_count": 82,
   "metadata": {
    "collapsed": false
   },
   "outputs": [],
   "source": [
    "brownWordsFd = nltk.FreqDist(nltk.corpus.brown.words(categories = 'news'))"
   ]
  },
  {
   "cell_type": "code",
   "execution_count": 83,
   "metadata": {
    "collapsed": true
   },
   "outputs": [],
   "source": [
    "brownWordsCfd = nltk.ConditionalFreqDist(nltk.corpus.brown.tagged_words(categories = 'news'))"
   ]
  },
  {
   "cell_type": "code",
   "execution_count": 84,
   "metadata": {
    "collapsed": false
   },
   "outputs": [],
   "source": [
    "mostFrequentWords = brownWordsFd.keys()"
   ]
  },
  {
   "cell_type": "code",
   "execution_count": 85,
   "metadata": {
    "collapsed": false
   },
   "outputs": [
    {
     "data": {
      "text/plain": [
       "dict_keys([\"Mississippi's\", 'Bills', 'year', 'ex-schoolteacher', 'advance', \"Mays'\", 'threatened', 'lavish', 'impression', 'Pecos', '11-7', 'gentlemanly', 'accident', 'powerful', 'Okla.', 'tackle', 'aggressive', 'flanked', 'Jewish', 'potato', 'Dicks', 'motivations', 'donor', 'Franklin', 'English', 'indicted', 'Encouraging', 'Bassi', 'Vickery', 'Glen', 'steering', 'cerebrated', 'leisurely', 'judge', '1859', 'woodcarver', 'Coliseum', 'four-letter', 'bum', 'both', 'third', 'arguments', 'regional', \"O'Hare\", 'Coward', 'security', 'receiving', 'Ku', 'declares', 'hole', \"Army's\", 'employs', 'dependence', 'cast', 'paths', 'diocesan', 'Duhagon', 'If', 'tossed', 'Oscar', 'manslaughter', 'attacking', 'Rheims', 'Henri', 'boycott', 'pert', 'sexton', 'Milenoff', '10-year', 'penalty', 'Bucs', 'Producer', 'Hubert', 'Hoyt', 'inquired', 'resolution', 'No', 'squabbles', 'widespread', 'Spahn', 'stared', 'knocks', 'Oct.', 'prod', 'A.M.', 'McGeorge', 'ablaze', 'shaped', \"o'clock\", 'make', 'organized', 'last', 'Philadelphia', 'Mine', 'exported', 'Campobello', 'yard', 'merit', 'pronounced', 'stems', '375', 'Wilbur', 'midnight', 'shaky', 'resolve', \"carpenters'\", 'Action', 'Alden', 'stave', 'free-for-all', 'delegations', 'interim', 'Camilla', 'Malcolm', 'grandfather', 'concentrate', '87th', 'administrators', 'collections', 'nap', 'criticized', 'Broglio', 'Hoaps', 'accounted', 'Verboort', 'cadet', 'Margaret', 'Ind.', 'retrospect', 'cabinetmakers', 'provided', 'offered', 'Gaither', 'Abell', 'corn', 'Industrial', 'piracy', 'Carr', 'renowned', 'million', 'bunker', 'Crystal', 'smoldered', '16,000', \"Year's\", 'Locked', 'Did', '1960', 'Voorhees', 'communist', 'Footnotes', 'archaeology', 'join', 'lip', 'woo', 'instrumentals', 'chains', 'areas', 'Kunkel', 'president', 'creating', 'kicks', 'collectors', \"We're\", 'Caesar', '5-3', 'chatting', 'Seerey', 'centralized', 'voiced', 'misunderstandings', 'dissatisfaction', 'suppressed', 'Isaacson', 'A.', 'prices', 'extraordinary', 'deliberately', 'Seven', \"Maestro's\", 'Lady', \"Dresbachs'\", \"nation's\", 'patient', 'beautiful', 'loud', 'handwriting', 'negotiation', \"administration's\", 'cancel', 'Award', 'tidal', 'adult', 'isolated', 'Hours', 'Hawaiian', 'rental', 'Christianity', '$139.3', 'Vroman', 'flavored', \"President's\", 'Kentucky', 'Out', 'truck', 'voters', 'Yanks', 'fund', 'Ladgham', 'cases', 'signing', 'Nobody', 'willingness', 'clamoring', 'Gift', \"Texas'\", 'Calls', 'placing', 'substitutionary', 'aforementioned', 'Katherine', 'scale', 'lady', 'hit', 'infested', 'cooperating', 'undergoing', 'outnumber', 'soldiers', 'Meyner', 'juice', 'lived', 'declaration', 'freed', 'trust', 'perjury', 'R-Warren', 'Pre-inaugural', 'grads', 'after', 'penetration', '2705', \"Nobody's\", 'zone', 'Instant', 'uncommon', 'accumulation', \"Purdue's\", 'Why', 'occupying', 'Humphrey', 'pester', 'Detroit', 'volunteers', 'means', 'Calmer', 'significance', 'Woonasquatucket', 'legislation', 'characteristic', 'curious', 'open', 'Le', 'removal', 'chicken', 'frank', 'hold-back', 'Township', 'Brocklin', '32,589', 'higher', 'Disarmament', 'populous', 'pondered', 'augment', 'camps', 'Hotel', 'started', 'jangling', 'shall', 'reserves', 'proportionate', '1630', 'hired', 'Compare', 'Hartman', 'fluid', 'Health', 'halting', 'mourn', 'Nevada', 'Battle', 'employes', 'tribunals', 'Vieux', 'Correction', 'anyway', 'reads', '450', 'successfully', 'Elm', 'Brady', \"rocket's\", 'innumerable', 'Trager', 'Eng.', 'Henry', 'sorry', 'circulation', 'outlay', 'We', 'Pavletich', 'hot', 'Blue', 'Pullen', 'showings', 'red', '390-foot', 'mothers', 'Meanwhile', 'Pacific', 'balding', 'spell', 'triumphs', '$634,517,000', 'Abbey', 'presumed', 'plan', 'debates', 'trumpet', 'agency', 'Further', 'Lumpe', 'politicians', 'averages', 'goes', 'Wingback', 'fees', 'weekly', 'sitting', 'quarter', 'Affairs', 'justified', 'cursing', 'Proof', \"SMU's\", 'Throneberry', 'units', 'women', 'Antonio', 'generously', 'Schweitzer', 'Holmes', 'extent', 'bids', 'operating', 'coat', 'upshots', 'qualified', 'Casino', 'two-hour', \"Minnesota's\", 'clerical', 'administration', 'halfway', 'written', 'businessman', 'whip', 'Schwartz', '$451,500', 'sweater', 'Jones', 'exhibited', 'Portland', 'Nordmann', 'Salvador', 'pianists', 'Mack', 'canted', 'title', 'melted', 'buried', 'Carson', '1934', 'veto', 'Souphanouvong', '$200,000', 'Michael', 'Mustang', '2:30', 'discrepancies', 'starring', 'faults', 'Family', 'honoree', 'score', 'Westfield', 'Chapel', 'considering', '$5', 'Tualatin', 'Edith', '1:48', 'seems', 'Area', 'Parmer', '8,000', 'spurt', 'Olvey', 'slippers', 'Must', 'reprisal', 'Bank', 'supplies', 'stereotype', 'discovering', 'Moise', 'petitions', 'decisions', 'preferable', '1.10.1', 'Anticipated', 'Batchelder', 'righthander', 'pardon', 'raced', 'Hayward', '16-22', 'statesmen', 'Meyle', 'involved', '$80,738', 'of', 'engrossed', 'wrongdoing', '$253,355,000', 'Jussel', 'pound', 'buddies', 'Zimmerman', 'Mullenax', 'plain', 'showed', 'rooted', 'boarded', '5,000', 'undergo', 'completes', 'church-state', 'prisoners', 'arched', 'Extend', 'Pontiac', 'appliques', 'sport', 'market', 'aggressiveness', 'video', 'gazing', 'Moving', 'certificate', 'course', 'Fresh', '$115,000', 'combinations', 'application', 'cuts', 'encouragement', 'formulating', 'roundup', 'Federation', 'Outstanding', 'matched', \"Dade's\", 'Incinerator', 'semipublic', 'inspired', 'caught', '37', 'flying', 'rebellion', 'excavation', 'intensifying', 'denied', 'piece', 'bateau', 'Francis', 'virtually', 'Hempstead', 'Sustaining', 'monotony', 'drama', 'officered', 'Man', \"teams'\", 'feet', 'three-front', 'decrease', 'capital', 'appealed', 'Bahi', 'mind', 'always', 'sledding', 'forbidden', 'Reserve', 'uncontrolled', 'Rusk', \"Georgia's\", 'accordion', 'executions', 'strikes', 'see', 'College', 'impunity', 'Molvar', 'Wally', 'perform', 'apart', 'listing', 'tenure', 'Mining', 'diehard', 'Mandarin', 'providing', 'painter', 'Grand', 'format', 'two-year-old', 'subdivision', 'sub', 'responding', 'supplied', 'Forte', 'officials', 'territory', 'case', 'softening', 'instructed', 'signals', 'Lawrence', 'previous', 'Carnegie', 'sleeping', 'deterrent', 'aware', 'Oceania', 'Burgess', 'adds', 'approve', 'nuns', 'resistance', 'rallies', 'Herb', 'Schaefer', 'Buck', 'consolidation', 'upset', '8,293', 'Ariz.', 'Ennis', 'protective', 'drastic', 'stances', 'Crime', '1865', 'atom', 'fractures', 'Time', 'appropriation', 'skip', 'Success', 'petition', 'colonial', '$1.4', 'replies', 'kickoff', 'Johns', 'multi-million-dollar', 'Exclaimed', 'their', 'First', 'squarely', 'Committee', 'knee', 'sphynxes', 'families', 'throws', 'proof', 'winless', 'fast', 'Change', '25-footer', 'beat', 'crown', 'counties', 'moments', 'rooming', 'selections', 'Presbyterian', 'mileage', 'counseled', 'plunder', 'democracy', 'banks', 'inability', 'ivory', 'hurdle', 'immigrant', '72nd', 'accent', '3300', 'diamond', 'Surveys', 'AID', 'Mile', 'range', 'slid', 'today', 'play', 'military', 'authorized', 'previously', \"isn't\", 'how', 'Each', 'parimutuels', 'relationships', '3.1', 'selfish', '1.5', 'Hamilton', 'sins', 'Zealand', 'Calvary', 'essence', 'human', '58th', 'barely', 'luggage', 'Lamar', 'guaranteed', 'compassion', 'Bachelor', 'presiding', '160,000', 'stepped-up', 'propeller', 'Spot', \"Idols'\", 'flew', 'shoji', 'thieves', 'ancestor', 'occasional', 'rekindling', 'locker', 'purposely', 'Shoup', 'Bertoia', 'earned-run', 'limitations', 'hearsay', '145', 'Beginning', 'Bryson', 'bordering', 'olive-green', 'reserving', 'major', 'Louise', 'maneuver', 'charm', 'preferably', 'Stagecoach', 'suffrage', 'disagreement', 'gay', 'Manor', \"We'll\", 'covering', \"Friday's\", 'juror', 'administered', 'biennial', 'interests', 'Administration', 'ran', 'jeopardy', 'vice-chairman', 'forty-year', 'connotes', 'fixing', 'Nugent', 'classical', 'know-how', 'Godwin', 'ample', 'runners', 'groceries', 'Attilio', 'its', 'Grapefruit', 'challenged', 'Foods', 'celebrants', 'worry', 'melt', 'discourage', 'Kivu', 'Martin', 'bogey', 'Sheriff', 'schedule', 'waters', 'Fellini', '1200', 'abolish', 'autonomy', 'tense', 'Book', 'arrange', 'Annapolis', 'electors', 'Since', 'Hammett', 'eat', 'backgrounds', 'Nanook', 'handicapped', 'Strickland', 'paradox', 'feasible', 'Egerton', 'Beronio', '3', 'Turandot', 'al', 'Adams', 'Latinovich', 'detested', 'scrambled', 'road', 'request', 'brick', 'keeps', 'scoreless', 'Participating', 'kindergarten', 'Haskins', 'released', 'participation', 'Hawksley', 'ignited', 'grip', 'Grace', 'scholarship', 'promise', 'exclusive', 'endorse', 'remain', 'Inheriting', 'Wesley', 'ringing', 'definitive', 'chairs', 'Mazeroski', 'Carreon', 'Talking', 'rely', 'Salem', 'domain', '85-student', 'annual', 'disunity', 'machinist', 'excluding', 'neighbor', 'Elevated', 'Vivier', 'Greenberg', '1926', 'Theology', 'Whipple', 'dimension', 'Dirksen', 'someplace', 'remarked', 'world', \"Men's\", 'dissents', 'Investment', 'stimulant', 'Ludwig', 'father', 'Conservation', 'Jump', 'Benington', 'ties', 'which', 'brothers', 'unheard', 'scoreboard', 'amounts', \"Bombers'\", 'walkout', 'Whelan', 'Increasing', 'Kan.', 'Commies', 'actual', '15,000', 'Within', 'enthusiasm', 'acid', \"Rusk's\", 'ministerial', '15-hit', 'replace', 'Cater', '$65', 'Cantonese', 'resentment', 'Tshombe', 'envision', 'coincidence', '5-to-2', 'Grover', 'gallons', 'Houston', \"Bear's\", 'motto', 'teach', 'Indiana', 'vagueness', 'compacts', 'builder', 'cap', 'About', 'Academy', 'Liston', 'elite', 'NE', 'succeeds', 'fully', 'enunciate', 'situations', 'Harvest', 'convince', 'submarine-ball', '11', \"Kramer's\", 'hear', 'architecture', 'Nakoma', 'Point', 'proposing', 'Phyllis', 'spouse', 'Merger', 'buy', 'designated', 'socks', 'racy', 'Hospital', 'charming', 'using', 'attacked', 'fallacious', 'They', 'due', 'his', 'therefore', \"TCU's\", 'Wolverton', 'streamlined', 'testified', 'ambulance', 'Clearwater', 'exert', 'Meek', 'Yuri', 'Jean', '$150', 'conversations', \"U.S.'s\", 'prominent', \"Gee's\", 'Gunther', 'unprepared', 'Brooks', 'Hal', 'Snodgrass', 'patrolman', 'reconvenes', 'detonation', 'northernmost', 'kinds', 'attending', 'visited', 'shows', 'Met', 'paneling', '13-8', 'Sokol', '25-foot', 'cooperation', 'Beam', 'adaptation', 'counts', \"Bros.'\", 'observing', 'Beadles', 'Industries', 'Donald', 'undetermined', 'slammed', 'witnesses', 'nab', 'Freeman', 'Dilworth', 'exotic', 'Taxation', 'Letters', 'Colavito', 'youth', 'barrel', 'level', 'virtue', 'Salt', 'solicit', 'desperate', 'MacPhail', 'heartening', 'Gillis', 'Merritt', 'eggshell', 'Newton', 'hold', 'shoulders', 'touchdowns', 'Although', \"Al's\", 'Convenience', 'Coal', 'finals', 'forma', 'appropriate', 'reign', 'confusion', 'Pezza', 'Turkish', 'UCLA', 'Michigan', 'gaping', \"Stram's\", 'impetus', 'court-appointed', 'O.', 'favorable', 'Kappa', 'cockpit', 'Arms', 'fire', 'learned', 'TV', 'imagine', 'individuals', 'Ludwick', 'Westminster', 'fields', 'rodents', 'driven', 'Moses', 'gang', 'specialized', 'bull-necked', 'eyes', '129%', 'drive', 'Gen.', 'serve', 'Texans', 'under-developed', 'dent', 'workshop', \"Wednesday's\", 'Jansen', 'cliffhanging', '$800', 'yesterday', 'lazy', 'pry', 'identical', 'hard-hit', 'proposes', 'obliterated', 'graduated', 'reconsideration', 'questioned', 'Priddy', 'Wick', 'prodigal', 'ally', 'agent', 'fraternity', 'protocol', 'Wall', 'Momentarily', 'caps', 'brooding', 'low-wage', 'youthful', 'skidding', 'Golf', 'billing', 'Nazi', 'times', '10:50', 'abortive', 'Robinsonville', 'objective', '1920s', 'organdy', 'nineteenth-century', 'Mason', 'Indicating', 'vehicles', 'ashes', 'Ethel', 'frames', 'old', 'fleeing', 'Pennsylvania', 'Hewlett-Woodmere', 'Livermore', 'Anson', 'windows', 'hats', 'wrangler', 'Hyde', 'harrowing', 'Noel', 'masterpiece', 'appointments', 'programmed', 'privilege', 'Yehudi', 'ruled', 'obtained', 'Methodist', 'troubled', 'picket', 'manufactured', 'pest', 'quietly', 'parlor', 'Halfback', 'Reaction', 'Milties', 'pockets', 'simply', 'boxer', 'rooms', 'wrinkles', 'left-handed', 'Towne', 'or', 'de', 'current', 'distinctly', 'Local', 'bobby-sox', 'functionary', 'Cotty', 'figured', 'geographically', 'lodged', 'Boehmer', 'voted', 'bill', 'Fitzhugh', 'neither', 'Nairne', 'nerve', 'Super', 'Marskmen', 'chatte', 'homes', 'presented', 'carriers', 'Lieberman', 'carved', 'Connie', 'focus', 'Canal', 'turbines', 'sex', 'acquired', 'Governor', 'Bourguiba', 'thing', 'staging', 'cuisine', 'Traveler', 'D', 'proud', 'Substance', 'festival', 'birds', '1935', 'Aurora', 'hence', 'an', 'choppy', '4-0', 'Gradual', 'concerns', 'opinion', 'Major-League', 'deputies', 'creation', 'five', 'three-fifths', 'spices', 'indicated', 'Nori', 'school', 'News', 'smelts', 'bossman', 'green', 'Cathedral', 'elements', 'Downtown', 'mainly', 'climate', 'Hoak', 'Morris', 'Chancellor', 'reiterating', 'Ullman', 'violence', 'twice', 'Everything', 'reserved', \"Simmons'\", 'Chen', 'allegedly', \"season's\", 'ordinary', 'transit', 'What', 'city', 'profit', '1,253', 'Lovett', 'hand', 'three-year', 'Laotian', 'located', 'recommendation', 'Spikes', 'picture', 'Hillsdale', 'marginal', 'warfare', 'Jan.', 'Pohl', 'existed', '20%', 'visitors', 'direction', \"union's\", 'crusher', 'Saxton', 'setback', 'revenue', 'timely', 'Transportation', '3:57', 'Valerie', '2274', 'spacious', 'ended', 'Anne', 'confident', 'brotherly', 'contingency', 'Sheraton-Dallas', 'dormitories', 'inlaid', 'stays', '770', 'Austin', 'advised', 'escaping', 'merger', 'Palmer', 'Boyer', 'creditable', 'residential', 'fixture', 'became', 'trees', 'thru', 'withdrawing', 'followed', 'Neighbor', 'going', 'Gaining', 'pretty', 'arms', '1970', 'Mantle', 'excuses', '5835', 'guitar', 'Heating', 'exporting', 'hitched', 'Yards', 'marks', 'specter', 'accommodated', 'travel', 'wildly', 'textile', '$18.9', 'mood', 'Orkney', 'self-respect', 'Zebek', 'like', '415', 'vice-president', 'fund-raisers', '87-1/2', 'customs', 'Ingo', 'appear', 'ours', 'Legers', 'likelihood', '380-foot', 'probing', 'sue', 'ensembles', 'Beesemyers', 'blunders', 'blue', \"'52\", 'candidly', 'sweat-suits', '18', '1921', 'symphony', 'grooming', 'hurry', 'Turin', 'fairgoers', 'neighboring', 'freezes', 'menaced', 'mediocre', 'economics', 'substantiation', 'usefulness', 'no', 'doubtful', 'Pampa', 'occurred', 'Silvers', 'greet', 'reckonings', 'area', '38', 'contract-negotiation', 'creature', 'highs', 'detach', 'proposal', 'posters', 'Haase', 'no-driving', 'unusual', '$16,000', 'distance', 'MacGregors', 'balking', 'Crippled', 'saving', 'SanAntonio', '38-7', 'billed', 'triple', 'dancing', 'dot', 'redhead', \"Geraghtys'\", 'Newport-based', 'Stram', 'cufflinks', 'north', 'convicted', 'Cemal', 'Major', 'Seekonk', 'milestone', \"they're\", 'depending', 'whether', 'streetcar', 'Nilsson', 'sow', 'delight', 'efficiency', 'potentially', 'requires', 'Tune', 'industrial', '1959-60', \"symphony's\", 'Kegham', 'shopping', 'coach', 'Conrad', 'meantime', 'frictions', 'fought', 'repository', 'ceremonies', \"salesman's\", 'Opera', 'Uncle', 'Princess', 'chairmanships', 'familiarity', 'notes', 'Sanger-Harris', '240', 'Foster', 'Money', 'Treasury', 'Stephen', 'quarreling', 'Charles', 'awe', 'probate', 'Cross', 'unemployment', 'yodel', 'debuts', 'Goldwater', 'process', 'Clements', 'employers', 'Bursts', 'cameras', 'again', 'internationalist', 'defeated', 'yellow', 'presidential', 'Grove', 'ringsiders', 'convention', 'Division', 'completion', 'erupts', 'detailed', 'troops', 'coffee', 'NYU', '6-3-3', 'lag', 'Task', 'bans', \"Caltech's\", 'Waters', 'Wednesday', 'firing', 'Magarrell', 'Hudson', 'campus', 'Stoll', 'gigantic', 'Abatuno', 'pistol', 'lows', '$57,500', 'advantages', 'Highway', 'taunted', 'protested', 'Pakistanis', 'cyclical', 'sluice', 'Evans', 'removed', 'fulfill', 'bicycle-auto', 'undergone', 'Stamford', 'Journal-American', \"Ginner's\", 'logical', 'Belvidere', 'Exposition', 'une', 'interfered', \"wife's\", 'informal', 'notorious', 'confirming', '$20,000', 'Fiat', 'contaminating', 'decency', 'you', 'blasted', 'Raoul', '13-1/2', 'helps', 'Ranch', 'lifeblood', 'impressed', 'braced', 'Alice', 'KQED', 'machine', 'steered', 'Ashman', 'propaganda', 'glutted', 'Tarzan', 'did', 'These', 'Mouse', 'Strong', 'Reps.', 'ourselves', '51st', '4:18', 'clear', 'authoritative', 'Holabird', 'hour', \"night's\", 'Alla', 'comradeship', 'Stallard', 'runaway', 'pioneer', 'Tower', 'ration', 'concerned', 'diversified', \"Committee's\", 'Corps', 'bows', 'dirt', 'near-Balkanization', 'primary', 'describing', 'librarian-board', 'Models', 'language', 'groove', 'Folklore', 'Deane', 'Inauguration', 'pall', 'poultry', 'gangsters', 'investigate', 'textile-importing', 'freedom', \"day's\", 'convinced', 'monetary', 'Barr', 'quota', 'truce', 'investigators', 'Curry', 'sentences', 'Old', 'magnification', '11,744', 'coyly', 'Grinsfelder', 'Maryland', 'particular', 'Charlie', 'becomes', 'snow', 'possible', 'board', 'politely', 'experiment', 'ADC', 'bonds', 'totaling', 'ashore', 'celebrates', 'trains', 'registered', 'tee', 'Epsilon', 'literature', 'disgusted', 'delivery', \"Christine's\", 'pitifully', 'ersatz', 'power', 'Tigard', 'unique', 'jersey', 'conservative-liberal', 'valued', 'called', '3.28', 'Eastwick', 'unnoticed', 'granular-type', 'editing', 'sly', 'stomachs', '2.5%', 'variously', 'camp', 'Shrove', 'engage', 'Ehlers', 'Dewey', 'deficiencies', 'humor', 'restrict', 'tractor-trailer', 'Tim', 'protected', 'Eligio', 'grassroots', 'Burke-Rostagno', '$3', 'Republicans', 'persecution', 'Hunter', 'withdraw', 'decorators', 'captain', 'politics', 'high-density', 'domestic', 'no-hit', '92', 'Gulf', '1952', 'water', 'towering', 'lettermen', 'down-payments', 'Skyway', 'Retail', 'dough', 'phone', 'admission', 'Navy', 'do', 'featured', 'Pentagon', 'polished', 'extraction', 'taxes', 'distinguished', 'City', 'breakfast', 'chairmen', '48', 'Northern', 'loosely', 'Bleckley', 'crippled', 'adjusted', 'American', 'Shipley', 'Providence', 'pops', 'elsewhere', 'decor', 'glories', 'performances', 'nowhere', 'guarantee', 'crisis', 'duty', 'ardor', 'quoted', \"Giants'\", 'blamed', 'undersea', 'younger', 'normalcy', 'lamp', 'war', 'Waldorf-Astoria', 'toes', 'trait', 'quote', 'Bradley', 'H.', 'places', 'clinic', 'Natalie', 'bankers', 'ever', 'Myron', 'cruelty', \"Ruth's\", 'proselytizing', 'Gaines', 'Crozier', 'teaches', 'loyalists', '211', 'consultation', 'tired', 'earn', 'groomsmen', 'evolutionary', 'credits', 'dates', 'Connection', 'N.C.', 'permanent', 'Detente', 'local', 'news', 'rivalries', 'injuring', 'winners', 'Because', 'hang', 'home-and-home', 'strive', 'Prosecutor', 'increase', 'Labor', 'Director', 'kerosene', 'confronted', 'rock-strewn', 'wealthy', 'Houghton', 'Longinotti', 'percent', 'magnificent', 'Wilmington', 'Dorsey', 'consumer', 'Herzog', '15th', 'officious', 'flexible', 'bloc', 'Sharpe', 'heed', '12', 'portion', 'Indians', 'publicity', 'Bellows', 'talks', 'slides', 'lagged', 'pretexts', 'livability', 'ineffectual', 'Feb.', 'think', 'Palsy', 'brand', 'suggestion', 'graduate', 'order', '52-year-old', 'grace', 'math', 'Newbold', 'allocate', 'daily', 'method', 'sort', 'evil', 'blacked', \"Kowalski's\", 'verdict', 'parade', 'reservations', 'spiritual', 'Delaney', 'Southwestern', 'scorecard', 'note', \"Baltimore's\", 'Ministers', 'detectives', 'instantly', 'Bahia', 'acting', 'gubernatorial', 'necessary', 'place', 'kicking', 'adopted', 'Waveland', 'twenty-first', '$8', 'Word', 'ideological', 'Marines', 'wrecked', 'Board', 'Gray', 'sun', 'throw', 'cool', 'Bend', '4-year-old', 'fundamental', 'establishing', 'Mo.', 'Leadership', 'Displaying', 'chemistry', 'haltingly', 'executed', 'Ike', 'sp.', 'hire', 'Testifies', 'commerce', 'something', '800', 'UGF', 'excess', 'Dr.', \"Mansion's\", 'bar', 'thriving', '7.19', 'shotgun', 'fact', 'cartels', 'lunch', 'blazing', 'Heinze', 'problem', \"chapter's\", 'monopoly', 'atomic', 'invests', 'majestic', 'Riviera', 'Bucky', 'gradually', 'dozens', 'Equator', 'Billiken', 'Seidel', 'Tunisian', 'enlisted', \"Harvard's\", 'civilian', 'preceeded', 'high-sounding', 'liberals', 'Co.', 'Rayburn-Johnson', 'response', 'movement', \"Palmer's\", 'Lives', 'Weinstein', '``', 'mechanically', 'Mayer', 'organs', 'Gloriana', 'Reynolds', 'gathered', \"Canada's\", 'eventually', 'increases', 'breathes', 'views', 'evacuation', 'Chief', 'Marvin', 'subsidized', 'Djakarta', 'Macassar', '$10,000', 'grows', 'slip', \"car's\", 'Savannah', 'movie', 'bearing', 'Cmdr.', 'bedridden', 'Fall', 'Morgan', 'ahead', 'Boyd', 'Peruvian', 'Brevard', 'plotting', 'decision', 'Cotillion', 'preoccupied', '1950s', 'Porter', 'biologist', 'command', '1948', 'chances', 'Holman', 'subdue', 'Beadle', 'ineptness', 'congestion', 'types', 'representative', 'Wacker', 'embedded', 'trampled', 'issues', 'checked', 'Murphy', 'opposite', 'lefthander', 'ambled', 'stirred', 'paper', '3-run', \"guide's\", 'privately', 'part-time', 'chow', 'summit', 'groups', \"women's\", 'white', 'designs', 'V.', 'mound', 'Eileen', 'wrong', 'sympathetic', 'homemakers', 'secede', 'P.', 'Kaplan', 'colors', 'mob', 'Chef', 'Grady', 'paymaster', 'Grounds', 'dole', 'provocation', 'neutralized', 'lend', 'credit', 'journalism', 'patients', 'seem', 'nicer', 'understatement', '80', 'sugar', 'grisly', 'headmaster', 'shrines', 'malice', 'coasted', 'cotton', '$28,700,000', '22111', 'mantle', 'offenders', 'Cooper', 'Vermeersch', 'derived', 'stoppages', 'tripled', 'Elder', 'Economic', 'sister-in-law', '$1,600', 'pleasure', 'Jurisdiction', 'filly', 'scrutiny', 'Briar', 'recover', 'monstrous', 'evaluate', 'receipts', 'Cafeteria', 'transferring', 'rookie-of-the-year', '96', 'utterly', 'Massey-Ferguson', 'Rip', 'traveled', 'left', 'Jana', 'platform', '$325', 'rapid', 'banshees', 'separators', 'slightly', 'upon', 'lose', 'so', '5', 'satisfactory', '$12', 'Italy', 'regular', 'ministers', 'tacked', 'camping-out', 'lemonade', 'Sunrise', 'profits', 'offerings', 'creations', 'insure', 'overseas', 'paying', 'spree', 'Leighton', 'frosting', 'Gas', 'necessity', 'onto', 'overly', 'tax', 'departed', \"Italy's\", 'condemning', \"club's\", 'attend', '1891', 'Song', 'televised', 'Eisenhower', 'subcommittee', 'manager', 'hunt', 'boiling', 'stepson', 'forswears', 'outspoken', 'owned', 'Lien', 'nw.', 'ago', 'listings', 'flatly', 'invitations', 'inhomogeneous', '$1,500', 'tower', 'appointee', 'starred', \"Chip-o's\", \"year's\", 'thanks', 'Cochran', 'voluntarily', 'employments', '1733', '22', 'stalemate', 'vindicated', 'Thruston', 'Earl', 'Halleck', \"NATO's\", 'magenta', 'safeties', 'coolest', 'violation', 'charmed', \"Landis'\", 'irregularities', 'shelves', \"Here's\", 'reforms', 'Fisher', 'Supervisor', 'instruction', 'weaker', 'processing', 'Dean', 'York', 'Wes', 'races', 'Reno', 'sink', \"it's\", 'Eagles', 'won-lost', 'image', 'Vice-President', 'erected', 'pay', 'austere', 'Leader', 'groupings', 'speech', '1919', 'chance', 'wailed', 'Class-D', 'mistrial', 'communications', 'unquestionably', 'Edwin', 'Bay', 'McLemore', 'managing', 'Camp', 'preach', 'Ordinarily', 'bespectacled', '65,000', 'causes', 'liable', 'crypt', 'die', 'constantly', 'read', 'startling', 'stomach', 'lightweight', 'USSR', 'Honor', 'exhaust', 'Religious', 'enforce', 'Pfau', \"rbi's\", '$740,000', 'faces', 'follows', 'erroneously', 'manuscript', 'specific', 'had', 'thigh', 'masked', 'vigor', '100%', 'catastrophe', 'hailed', 'ankle', 'Terry', 'Nobel', 'Freeholder', 'transcended', 'layout', 'smashed', 'forecasts', 'burns', 'war-ridden', 'seeking', 'Dancers', 'tactic', 'stepping', 'southpaw', 'dogleg', 'succeed', 'Dequindre', 'reaching', 'Juras', 'holes', 'regard', 'capitol', 'tract', 'Now', 'Kay', 'armed', 'shade', \"members'\", 'retire', 'Mediterranean', 'anyone', 'foreseeable', 'heightened', 'pinpoint', 'Museum', 'installed', 'rejoin', 'Rosburg', 'acquire', 'ponies', 'Col.', 'Serra', '$22.50', 'assets', 'Shahn', '695', 'gun', 'Geraghty', 'mall', 'tattered', 'Constant', 'experience', 'Knecht', 'Rensselaer', 'rig', 'circus', 'pass', 'Gregorio', 'doubles', 'goodness', 'hospitality', 'Trooper', 'golfer', 'Lisle', 'repairs', 'Sheldon', 'research', 'until', 'Broadly', 'Richmond', 'admitting', 'Indo-China', 'punching', 'co-operative', 'Sciences', 'facilities', 'appealing', 'particularly', 'avant', 'foresee', 'smash', 'advanced', '58', 'envisioned', 'forming', 'timed', 'Moments', 'quickly', \"you're\", 'drops', 'slowed', 'strictly', 'bunt', 'demand', '11-year-old', 'hubby', 'ham', 'globe-girdling', 'confirm', 'schools', 'design-conscious', 'containing', 'Commission', 'obvious', 'chops', 'wrapping', 'ova', 'try', 'Wangemans', 'nationalized', 'Memphis', 'Wrigley', 'expensive', 'cooled', 'Workers', 'Isaac', 'unlinked', 'Pat', 'Boun', 'go', 'Tallahassee', 'pious', 'Aug.', '1976', 'recommends', 'uranium', 'everything', 'advocating', 'decides', 'wash', 'surprises', 'airport', 'historical', 'latest', 'submachine', 'shot', 'Marshall', 'invites', 'Finance', 'Secretary-designate', 'sent', 'patrol', 'four', 'frigid', 'Stanton', 'mostly', 'Besides', 'objection', 'honoring', 'United', 'sharing', 'highest', 'influence', 'unlikely', 'Sweet', 'displays', 'merchandise', 'precincts', '$55,000', 'august', 'firehouses', 'legislators', 'declare', 'FFA', 'supplement', 'equally', 'concertmaster', 'race', 'Give', 'sighed', 'Press', 'Weinberg', 'locked', 'Stern', 'completing', 'prediction', 'silly', 'indirect', 'Pumpkin', 'reveal', 'Minnesota', 'blonde', 'requirement', 'basis', 'hijacked', 'receives', 'contender', '402', \"U.S.S.R.'s\", 'prudently', 'Molly', 'departments', 'Glass', 'Estimates', 'collective-bargaining', 'fails', 'Pall', 'candor', 'warehouse', 'collective', 'rein', 'Reputedly', 'training', 'miserable', 'Brigantine', 'slob', 'wound', 'Players', 'fulfilled', 'chase', 'consultant', 'measures', 'wide-open', 'polls', 'modest', '4-homer', 'regrettable', 'health', \"mother's\", 'fishing', '28', 'equalizers', 'lists', '12:50', '150', 'hundred', \"janitors'\", 'estimated', 'explained', 'Siberia', 'invoices', 'routine', \"conference's\", 'narcotic', 'Independent', 'exactly', 'finest', '700', 'Flight', 'Switzerland', 'Town', 'conceded', 'world-famous', 'seekers', 'expanding', 'contributing', 'Raymond', 'along', 'infrequent', 'search', 'heading', '100,000', 'supervise', 'Honolulu', 'defray', 'Pfohl', 'Productivity', 'working', 'appreciate', 'charities', 'Houtz', 'thug', 'plaques', 'End', '14th', '7', 'covers', 'smell', 'Aggies', 'Barrett', 'distasteful', 'typewriters', 'pre-season', '5000', 'closest', 'three-day', 'Khrushchev', 'dervishes', 'Bartha', 'continuance', 'oversimplification', 'Sands', 'precipitated', '$3.5', 'Chandler', 'Inaugural', 'allowances', 'perhaps', 'Augusta', 'wrinkle', \"Journal-Bulletin's\", 'logging', 'Cambridge', 'anything', '$1.80', 'Campagnoli', 'observer', 'Memorial', 'Shiflett', 'precinct', \"Braves'\", \"company's\", 'visa', 'Buffalo', 'Profili', 'fired', 'thereafter', 'undoubtedly', 'commitments', 'McN.', 'Lane', 'Exploratory', 'conserve', 'consistently', 'class', 'giants', 'whipped', 'persistent', 'at', 'components', 'Wilshire', 'swipe', 'guided', 'Columnist', 'secure', \"Castro's\", 'Commerce', 'repeatedly', 'McKee', 'diminutive', 'Mr.', 'streamer', 'remaining', 'crews', 'Darrell', 'Newport', 'volume', 'delivered', 'loyalty', 'Communist', 'America', 'lad', 'Hilton', 'moment', 'Dussa', 'knew', 'three-inning', 'Fashion', 'quest', 'Burbank', 'deaf', 'prejudicial', 'dreams', 'forget', 'scientific', 'Hardwicke-Etter', 'oil', 'LSU', 'kill', 'runner-up', 'twelve', 'too', 'bigger', 'Sam', 'tribes', 'chiefs', 'Fla.', 'first-place', 'unearned', 'Kilhour', 'impoverished', 'flower', 'Walkers', 'Angeles', 'caucus', 'contention', 'nomination', 'taxable', 'bridge', 'Accepted', '85', 'chiefly', 'miles', 'lifetime', 'Cotten', 'mushrooms', \"Raiders'\", 'chemical', 'material', 'integrate', 'Rainier', 'disappointing', 'Administrator', '$25', 'Fanning', 'conference', 'officiate', 'Saltonstall', 'bedrooms', 'reporting', 'tremendous', 'Taussig', 'supervisor', 'Kelly', 'champs', 'realizing', 'Twenty-four', 'Simmonsville', 'livestock', '5777', 'senior', 'majorities', 'diplomats', 'rightfield', 'clay-mining', 'Dimaggio', 'Miss', 'muted', 'dispatching', 'allergic', 'unscathed', 'Vague', 'larceny', 'steps', 'welled', 'Franciscans', 'vaguely', 'trials', 'Lumumba', 'property', 'robes', 'original', 'Culbertson', 'versatile', 'totaled', 'deeper', '33d', 'tuck', 'aptly', 'Such', 'McDaniel', '64', \"hemisphere's\", 'Louisville', 'belongs', 'against', 'applaud', 'corporation', 'rioting', 'Multnomah', 'trial', 'Fifteen', 'Jossy', 'Managing', 'jails', 'Whitey', 'indication', \"council's\", 'edges', 'into', 'descendants', 'misses', 'hopelessly', 'Dutch', 'spun', 'titular', 'stephanotis', 'bases', 'Simms', 'Brown', 'ordinarily', 'Owen', 'Even', 'Communisn', 'Between', 'Ivory', 'guise', 'charges', 'awaited', 'comprehensive', 'discussion', 'hinted', '21-2', 'constructive', 'non-farm', 'Sees', 'lift', 'different', 'addressing', 'tools', 'dating', '46', 'Baringer', 'Cocktail', 'five-home', 'outmoded', 'costumes', 'But', 'Paso', 'speeches', '3,000', 'dies', 'Northeast', 'argument', 'jury', 'Two', 'truth', 'lukewarm', 'representations', 'seniors', 'French', 'develop', 'fronts', 'Thrift', '135', 'Employes', 'resignation', 'charged', 'unrest', 'incumbent', 'inconsistencies', 'roar', 'Circuit', \"Leopold's\", 'Music', 'mill', 'seasonal', 'roads', 'Foundation', 'dancers', \"Wackers'\", 'Electra', 'settling', 'pillow', 'Friday', 'folk', \"hasn't\", 'aunt', 'Greek', 'Md.', 'confrontation', '14-term', 'tiles', 'considerably', 'nearly', 'assignment', 'photographing', 'on', 'desired', 'Well-wishers', 'Troop', 'Pittsburgh', 'ceased', 'shrink', 'gale', 'Mmes', 'Toying', 'Civil', 'jurist', 'charge', 'principal', 'Stricken', 'foreman', \"Cipriani's\", 'glib', 'services', 'downstairs', 'Seeking', 'dog', 'nailed', '?', 'Tipoff', 'juries', 'Adamson', 'Hansen', 'spirit', 'saluted', 'mantel', 'Dreadnought', 'medicine', 'bottled', 'Stadium', 'Kolb', 'mountainous', 'extremely', 'Campus', 'Dignity', 'agreements', 'Branch', 'fairies', 'purchase', 'Sarkees', 'App', 'Cedric', 'Attorney', '7034', 'deliberate', 'Coleman', 'insists', '2.295%', 'silhouette', 'railing', '210', 'Gorgeous', 'claim', \"university's\", 'loyalist', 'Composite', 'commenced', 'Stripes', 'canceled', 'store', 'gain', 'jesting', 'cornering', 'Luise', 'Hooked', 'amicable', '1963', 'translates', 'one-sided', 'Blasingame', 'Purse', \"you'll\", 'film', \"Kunkel's\", 'age', 'embassies', 'endurance', 'Embassy', 'Lindy', 'anniversary', 'Harvard', 'established', 'Greer', 'Sylvania', 'Nicklaus', 'built', 'Bordeau', 'Voiture', 'Kroger', 'cope', 'height', 'briefly', 'Polo', 'meteorological', 'beneficiaries', 'storms', '273', 'aroused', 'distinction', 'Virsaladze', 'Tudor', '160', 'Trinity', 'paramount', 'deeply', 'cash', 'Aircraft', 'nations', 'steamed', 'whom', 'Wayne', 'Cherry', 'adversaries', 'rested', 'overdeveloped', 'Cris', 'tomato-red', 'Performers', 'enthralled', 'boos', '$12.7', 'reopening', 'DiSimone', 'Budgetary', \"Tribe's\", 'Prattville', 'takings', 'tables', 'briefing', 'Slate', 'poorly', 'restricted', 'aboard', 'discriminating', 'Rollie', 'resting', 'rail', 'proceeds', 'blueprints', '1943', 'prosecute', 'NBC', 'licenses', 'fill', 'confront', 'courtroom', '50', 'bounds', 'born', 'vouchers', 'Tropic', 'handing', 'emissaries', 'occasionally', 'Fourteen', 'principally', 'decorate', 'spotted', 'appoint', \"Officers'\", 'snubbed', 'drivers', 'embankment', \"librarian's\", 'teeth', 'robbed', 'combo', 'periodicals', 'good-will', 'productive', 'Redevelopment', '$639', 'Mercer', 'teachers', 'Factories', 'slower', 'hasty', 'discarded', 'anti-trust', 'Hester', 'preceding', 'cafeterias', 'locate', 'Scripps', 'budgeted', 'Pohly', \"Weinstein's\", \"Maris's\", 'banjo', 'heptachlor', 'Shortcuts', 'noticed', 'fastened', 'subjects', '9-6', 'fondness', 'administers', \"management's\", 'mining', 'ballgowns', 'unify', 'redoubled', '34.7', 'Richard', 'fouled', 'reconvened', 'gruonded', 'supervisors', 'Slaughter', 'Hurrah', '36th', '77', 'twirler', 'bag', 'Hartsfield', 'pecan', 'addressed', 'tribunal', 'heel', 'these', 'consul', 'outsider', 'blunts', 'frothier', 'manufacturing', 'Petersburg', 'apartment', 'financed', 'champion', 'fumes', 'Explosion', 'custodian', 'Sukarno', 'Pirate', 'contemptuous', '206', 'community', 'Oddly', \"shop's\", 'sinking', 'denounced', 'unexpected', 'sparks', '7-6', 'Simultaneously', 'So', 'winner', 'dividends', 'loser', 'individual', 'TEA', 'Jimmie', 'Winchester', 'hours', 'Cecil', 'hand-crafted', 'complex', 'a', 'brink', 'expire', 'positive', 'pesticides', 'restriction', 'legislature', 'misunderstanding', 'Joplin', 'Requests', 'newsletter', 'Monroe', \"Burkes'\", 'Latin', 'Gather', 'contempt', 'nationally', 'Brooklyn', 'Belafonte', 'stressed', 'geographical', 'Burke', 'native', '2-hour-and-27-minute', 'locally', 'How', 'Eight', 'Danbury', 'layer', 'Gould', 'policies', 'Ronald', 'Screvane', 'honors', 'gloomily', 'Mountains', 'interstate', 'approach', 'Johnson', 'clutch', 'Drexel', 'ships', 'mineral-rich', 'majority', 'squeeze', 'low-down', 'responsibilities', 'indifference', 'tape', 'maintenance', 'cause', 'defraud', 'stayed', 'nine', 'firms', 'spends', \"Tussard's\", 'drifting', 'puzzle', 'thereby', 'Government', 'shake', 'practiced', 'UN', 'encourage', \"America's\", 'presides', 'Branum', 'picker', 'terribly', 'emotionally', 'churches', 'offensives', 'tri-motor', 'react', 'putout', 'Tsitouris', 'Belleville', 'immunization', 'say', 'Football', 'unusually', 'pilots', 'reading', 'bothered', 'irrespective', 'Pratt', 'microfilm', 'two-run', 'Waggin', 'Berlin', 'Sinatra', '17-1/2-inch', 'deposited', 'twosome', 'ride', 'silk', 'zeroed', 'despair', 'directive', 'Series', 'represents', 'projects', 'scrapbook', 'table', 'background', '260-member', 'ship', 'erroneous', 'indispensable', 'resources', 'par-3', 'Somewhere', '215', 'Newfoundland', 'statistics', 'Jesus', '174', 'parties', 'colonel', 'deferred', 'audience', 'McNeil', '6-6', 'proximity', 'quarter-to-quarter', 'Stanley', 'Ordinary', 'Neither', 'marble', 'commissioner', \"Atlanta's\", 'developments', 'boss', 'tax-free', 'logic', 'Christi', 'Bandish', 'Dealer', 'kicked', '1.23', 'apprentices', 'went', 'Hackett', 'ant', 'Ratto', 'resistant', 'Stirling', 'duplicated', 'Association', 'Bingles', 'shelter', 'somewhat', 'windshield', 'thirty-eighth', 'Frito', 'pensions', 'Bess', 'Moody', 'Totaling', 'co-chairmen', 'reduced', 'funds', 'Gate', 'fortune', 'story', 'Agency', 'Irene', 'Dan', 'aside', 'leads', 'boards', \"Augusta's\", 'rigging', 'past', 'losses', 'Dip', 'parklike', 'reviewing', 'dinner', 'monuments', 'unpleasant', 'fare', '29th', 'clerk', '62-year-old', 'manned', 'mid-June', 'pads', '66', \"Stone's\", 'beating', 'Stickler', 'clubhouse', '27', 'oats', 'severe', 'miss', 'Garland', 'Sarasota', '173', \"Louis's\", 'firm', 'express', \"Writers'\", \"parent's\", 'Representatives', 'Lyle', 'Assisting', 'axiomatic', 'match', 'kinda', 'length', 'Societe', 'hall', 'mean', 'Carlo', 'Cranston', 'consulate', 'Kirkland', 'concentration', 'guilty', 'ventured', '.', 'defending', 'towel', 'sees', 'rainy', '1500', \"Shartzer's\", ')', 'parish', \"Allison's\", 'faster', 'Iowa', 'pertained', 'missionary', 'wreath', 'mat', 'addicts', 'setbacks', 'orientation', 'waterline', 'meals', 'Samoa', 'Harmony', \"Morton's\", 'buyers', 'transporting', 'Named', 'seams', 'months', 'launched', 'meant', 'tighten', \"Mongolia's\", '150,000,000', 'ever-present', 'yields', \"Jenkins's\", 'Irina', 'masses', 'nationwide', 'Mark', '1565', 'gear', 'build', 'Phillies', 'demanding', 'steam', 'Larry', 'resented', 'catalogue', '53-year-old', 'dentistry', 'songs', 'realities', 'Caucusing', 'Machinists', 'pressures', 'Harris', 'geeing', 'Tift', 'Isles', 'firmly', 'Pfaff', 'lever', 'adequate', 'measure', 'gunmen', '60-day', 'Clifford', 'closely', 'Winthrop', '8,280', 'successors', 'Mother', 'dais', 'blue-uniformed', 'finished', 'publicly', 'abstaining', '42', 'investigations', 'cane', 'quick', 'Colquitt', 'exhibit', 'Mullen', 'turned', 'official', 'Dodgers', 'yarn', 'Luis', 'He', 'toneless', 'led', 'locale', 'Split', 'skimmed', 'Lorlyn', \"master's\", '13th', 'Vandiver', 'Mitchell', 'janitor', '1962', 'Security', 'items', 'saws', 'to', 'reproductions', 'device', 'swings', 'affiliated', 'political', 'Party', 'white-clad', 'promising', 'winnings', 'subscribe', 'send', 'flourish', 'Carmichael', 'emerges', 'running', 'timetable', 'well-armed', 'Freddie', \"You're\", 'Privately', 'intervals', \"Drexel's\", 'Smoky', 'consists', 'W', 'disclosed', 'deposit', 'Foreign', 'Francesca', 'misfortune', 'franchise', 'Jamaica', 'singled', 'husky', 'Romans', 'Playboy-Show-Biz', 'poets', 'Jefferson', 'dash', 'rundown', 'thoroughly', 'theory', 'con', 'unchecked', 'lacked', 'week-end', 'fuel', 'industrialist', 'conducting', '8-4', 'severly', 'Charge', 'signal', 'Pact', 'insisted', 'ex-convict', 'up', 'exercise', 'New', 'promotion', \"1960's\", 'staffing', 'fizzled', 'influx', 'distribution', 'tax-exempt', 'motor', 'door-to-door', 'Zubkovskaya', 'accosted', 'echoes', 'down-to-earth', 'U-I', 'jurors', 'but', 'Lex', 'Doxiadis', 'permitting', 'Lutheran', 'glove', 'ordinance', \"you'd\", 'Heilman', 'Statesman', 'tenor', 'Harvey', 'statistical', '271', 'classified', '$39,000', 'Colmer', 'Hugh', 'dull', 'deserves', 'Blacks', 'deplored', 'great', 'revelation', 'slender', 'needles', 'Breeding', 'produce', 'tag', 'steer', 'ever-changing', '2-baser', 'dangerously', 'psychology', 'Published', 'Happy', 'While', 'noon', 'calypso', 'politicos', 'phones', 'Florence', 'incomparable', 'unknowns', 'skyjacked', 'Jon', 'refueling', 'Relatively', 'Which', \"farmers'\", 'Ferris', 'bond', 'comic', 'responses', 'infallible', 'city-wide', 'night', 'linen', 'hemisphere', 'Experts', 'four-year', 'difficulties', 'furlough', 'Duncan', 'Edna', 'hill', 'pastime', 'Rafer', '$70', 'discharging', 'Hovarter', 'continuous', '400', 'phrase', 'ribbons', 'Licenses', '102', 'Principals', 'bring', 'Herter', \"Massachusetts'\", '1000', 'long-time', 'Chronicle', 'unpredictability', 'define', 'panel', 'Perennian', 'sadism', 'colonialism', 'leg', 'trend', 'Haddix', 'defend', 'Nikita', 'Utah', 'Abe', 'Famed', 'illegitimacy', 'pennant', 'mutterers', 'Frick', 'Trichieri', 'owners', 'Inn', 'Mansion', 'known', 'Fur', 'Butlers', 'Secretary', 'source', 'Hollywood', 'serving', 'insult', 'depletion', 'commander', 'inviolate', 'details', 'accelerated', 'Alexander', 'Allison', \"He'll\", 'Lewis', 'districts', 'Greenock', 'clientele', 'Rockhall', 'brook', 'fundamentally', 'enthusiastic', 'gives', 'four-wood', 'Angels', \"Boston's\", 'intimated', 'square', 'Denver-area', 'cotton-growing', 'birthday', 'dumping', 'Steeves', 'opened', 'Petitions', \"Green's\", 'Formby', 'Camille', 'Signal', 'supplying', 'replied', 'judges', 'Parents', 'Njust', 'suspects', 'NW', 'massive', 'regrouping', 'bombs', 'delayed', 'program', 'identification', 'seriously', 'downstream', 'Wabash', 'excitement', 'alter', 'Actually', 'Nothing', 'urged', 'Heritage', 'Police', '4th', 'Leverett', 'Emma', 'stoppage', 'Rico', 'buys', 'Army', 'span', 'prepares', 'screenings', 'doubleheader', 'acclimatized', 'letting', 'Bowden', 'Cabinet', 'journey', 'permits', 'ominous', 'merits', 'widow', 'Newcomers', 'Carruthers', 'Blvd.', \"Snyder's\", 'contact', 'rationale', 'KKK', 'England', 'Is', 'fines', 'reluctantly', 'snacks', 'tangible', 'Belgian', 'pepping', 'tease', 'meetings', \"Nugent's\", 'springing', 'Little', 'impinging', 'Brandeis', 'educational', 'Underwood', 'Babe', \"Francisco's\", 'Newark', 'beside', 'tend', 'possessing', 'w.', 'deny', 'Fuhrmann', 'colonialist', 'Trustee', 'arrive', 'pick', 'pennies', 'consisted', 'observers', 'commended', 'festive', '5%', 'bottleneck', 'Douglas', 'blasting', 'Kimpton', 'Zone', 'Hodges', 'Leningrad', 'institutions', 'become', 'alongside', 'Fatima', 'TCU', 'complete', 'basically', 'Saba', 'Funeral', 'Odell', 'courses', 'Kansas', 'Guam', 'spent', 'sponsored', 'boom', 'Symonds', 'Barnes', 'Grocery', 'famed', 'responded', 'Wert', 'collapsed', 'phonies', 'simple', 'aching', 'ceremonial', 'Allies', \"Can't\", 'Leatherman', 'thousands', 'shortages', 'chalk', '$2.80', 'Springfield', 'Bar', 'Controller', 'Eleanor', 'place-kicker', 'blame', '1020', 'unity', 'Oliver', 'numbered', 'inadequate', \"Mills's\", 'group', 'Counties', 'afloat', 'Indications', 'wide', 'bank', '4-H', 'Ala.', '5-day', 'seven-iron', 'clothing', 'notably', 'talked', 'zinc', 'Immigration', 'awaiting', 'drab', 'showdown', 'favors', 'Legislature', 'product', 'slugger', 'Spice-Nice', 'Order', 'Mercy', 'fender', 'humans', 'pilot', 'told', 'slump', 'invoked', 'qualify', 'Victim', 'resent', 'operations', 'radiation', 'regulate', 'bomb', \"A's\", 'drifts', 'tortured', 'Moffett', 'Dane', 'floated', 'Pinar', 'Wilson', 'physiology', 'scholar', 'airplane', 'mess', 'filmy', 'Harold', 'seats', '14%', 'carry', 'pulse-jet', \"system's\", 'whiplash', 'attempting', 'destroy', 'troubles', 'Pye', 'receive', 'announced', 'Make', 'Birds', 'glimpsed', 'raised', 'sped', \"Yankees'\", 'apartments', 'Sox', 'onion', 'afternoon', 'shops', \"there's\", 'Rosella', 'fouling', 'scrimmage', 'societies', 'shouting', 'Nell', 'spontaneously', 'After', 'cautious', '224-170', 'overreach', 'institute', 'breasts', 'turnpikes', 'membership', 'vast', 'traveling', 'Mom', 'picketing', 'occupancy', 'govern', 'Sharon', 'allotted', 'masquerades', 'painted', 'Shamrock', 'interment', 'pointed', 'raises', 'wheat', '19-12', 'serves', 'warm', 'belong', 'impressions', 'Cohen', 'Bolker', 'Ella', 'pinks', 'settlement', 'countries', \"John's\", 'frequent', 'Zoe', 'largely', 'based', 'persuade', 'African', 'typewriter', 'Fortier', 'obtain', 'combined', 'Damascus', 'sore', 'Mall', 'unhappy', 'Cash', 'Evegeni', 'Freedom', 'identified', 'burning', 'talk', 'main', 'Barber', 'Kittredge', 'roll', 'depreciation', 'Leaguers', 'Marty', 'Ambassador-designate', 'cigaret', 'climbed', 'Barnett', 'propeller-driven', 'Collins', 'mid-July', 'Legislatures', 'Gursel', 'knit', 'fanned', 'suspicious', 'medal', 'dwellings', 'uncommitted', 'Economically', 'wreck', '9230', 'Bird', \"wasn't\", 'vehicle', 'federal', 'victims', 'Carlson', 'Special', 'Small', 'lags', '$2.50', 'among', 'horde', 'passengers', 'lead', 'overwhelmingly', 'tests', 'vulgar', 'awakening', 'department', 'sale', 'Shaw', 'conspicuous', 'Fifty-three', 'Milwaukee', \"Ol'\", 'Worrell', 'nerves', 'Chase', 'homeowners', 'Reds', 'educated', 'Ruggiero', 'Lorenz', 'feared', 'incompetents', 'tax-freedom', 'entertain', 'respectable', 'gets', 'climbing', 'deduction', 'uninjured', 'three-hour', 'landed', 'dental', 'ailerons', 'Adventures', 'holdup', 'Woodland', 'exile', 'succeeding', 'eased', \"Caldwell's\", 'sweets', 'settle', 'props', 'Sandman', 'hostess', 'greenish', 'southeast', \"Navy's\", 'creative', 'ten-month', 'dangerous', 'Scenic', 'chandeliers', 'Artist', '16th', 'specialize', 'escape', 'reflected', 'Patty', 'Mizell', 'unmatched', '2544', 'Help', 'primarily', 'rebel', 'Beneficiary', 'Walsh', 'Idaho', 'quarter-century', 'Cuban', 'Armenian', 'siding', 'Greene', '$90', 'Basin', 'Kasavubu', 'Jamaican', 'damage', 'probable', 'tiers', 'Russ', 'folks', 'doubling', 'landscaped', 'shareholder', 'Packers', 'off-duty', 'Alabama', 'Fruit', 'Underlying', 'naval', 'Representative', 'fallen', 'populated', 'Sales', 'Testament', 'affirmation', 'three-way', 'fiction', 'young', 'Secretariat', 'opposition', 'Would', 'accuse', 'orchids', 'Orange', 'competitor', 'minutes', 'tapestries', 'contended', 'Noting', 'hostages', 're-arguing', 'Ponce', 'Nationalist', 'discounts', 'efficient', 'Hutchins', 'ratios', 'advantage', 'weapons', 'swarm', 'LaSalle', 'sixth-sense', '300-450', 'Big', 'Harrity', 'force', 'Slow', 'motel-keepers', 'backbone', 'outline', 'underwriting', 'championship', 'standards', 'require', 'evidently', 'peck', 'Sterling', 'crimson', 'seat', 'juvenile', 'special-interest', 'get-together', 'Eddy', 'endorsed', 'Their', 'improve', 'evenings', 'maids', 'Oxford', 'soldier', 'Brelin', 'McEachern', 'rifle', 'Enforce', 'anemic', 'Bouton', 'taken', 'Goodbye', 'dilemma', 'merge', 'basketball', 'exchanges', 'Mellow', 'Wiley', 'principles', 'warmed', 'inferior', 'topics', 'understood', '195', '3505o', 'recording', '1-1/2', 'inclusive', 'pivotal', '1914', 'Johnny', 'Rae', 'dictatorship', 'assessments', 'Election', 'Others', \"Eisenhower's\", 'lavishly', 'junta', 'shipments', 'hotel', 'However', 'worn', 'matches', 'Due', 'law', 'luncheon-table', 'bankrupt', 'shooting', 'Chips', 'Coronado', 'winds', 'by', 'Ginghams', 'Negroes', 'notice', 'specifically', 'Empire', 'Negro', 'corps', '1,000', 'selected', 'skirt', 'manner', 'technical', '25', '187.5', 'chest', 'asks', 'interviews', 'largest', 'act', 'plaintiffs', 'Julian', 'burrowed', 'footnotes', 'Minister', 'Still', 'mental', 'schoolers', 'Elaine', 'Ivan', '19', 'honest', 'plea', 'when', 'offering', 'feeling', 'Incumbent', \"committee's\", 'officers', 'long-term', 'temper', 'secondary', 'Balkanizing', 'vocalization', 'Assemblies', 'eluded', 'Eustis', 'top-ranking', 'transatlantic', 'Kestner', 'grandchildren', 'prime', 'suburb', 'instituted', 'assent', 'top', 'Green', 'Boston', 'tones', 'doctors', 'Tenn.', 'pl.', 'granted', 'Lord', 'typical', 'nonfiction', 'sand', 'vow', 'facts', 'wages', 'spraying', 'beer', '$840,000', 'underlying', 'Arthur', 'buffets', 'Richmond-Petersburg', 'Brownings', 'Mostly', 'hastened', 'grounds', 'aya', 'copy', 'useful', '6-foot-3-inch', 'AFL-CIO', 'setup', 'lost', 'gliders', 'Any', 'Moscow', 'rescind', 'bet', 'tearing', 'birdies', 'nut', 'converting', 'founded', 'Stepson', 'smallest', 'dedication', 'bodily', 'bunters', 'sooner', 'factors', 'pushing', 'Indian', 'sixth', 'Tell', 'worst', 'plead', 'evoked', 'grimace', 'bottling', 'materialize', '$66,000', 'alloted', 'reliance', 'simplest', 'brisk', '1949', 'solid', 'expenses', 'Lockies', '$5,000', 'offer', 'Trustees', 'territories', \"Danny's\", 'Neil', 'declined', '1:35', 'hijackers', '3-to-o', 'academic', 'presentments', 'shadows', 'nominee', 'Deputy', 'meritorious', 'prestige', 'slow-baked', 'physical', 'Knauer', 'dishes', 'trawler', 'Phillips', 'prizes', 'organizers', 'Roosevelt', \"we're\", 'Robertsons', 'closeness', 'still-building', '1213-15', 'unsupported', 'predictably', 'A135', 'Proceeds', 'wheeled', 'Gee', 'Distributive', '72', \"U.'s\", 'shoe', 'stunk', 'tennis', 'pretext', 'precedent', 'London', 'definitely', 'Howsam', 'Jaross', '10,000,000', 'reelection', 'U.N.', 'Delhi', 'faculty', 'Dumont', 'junction', 'faked', 'lights', \"secretary's\", 'curator', 'Colonial', 'Portugal', 'Fred', 'wore', 'emphasized', 'customers', 'grounder', 'Russian', 'bills', '1923', 'protection', 'seemingly', 'Wallace', 'placed', 'occurrence', \"McCloy's\", 'Unlike', 'gown', 'events', 'disappointments', 'Vietnam', 'number', 'Ltd.', 'approval', 'Tucson', 'tragedies', 'emergency', 'attitude', 'decadence', 'heady', 'Somerville', 'directors', 'moving', 'procedures', 'text', 'most-valuable-player', 'abandonment', 'overtake', 'Philippine', \"Hitler's\", 'cooking', 'Twist', 'prefers', '6934', 'financial', 'stadium', 'foods', 'victory', 'Industry', 'gone', 'ginning', 'Oakland', 'techniques', 'Threat', 'impressive', 'made', 'garbage', 'raw', 'Transylvania', 'ranked', 'nineteenth', 'motel', 'era', 'Missoula', 'Soviet', \"Lanin's\", 'dressers', 'Grossman', \"governor's\", '1933', 'Milt', 'Stengel', 'afford', 'paneled', 'driveway', 'amount', 'Roads', '545-yard', 'decide', 'Elvis', 'heads', 'review', 'improperly', 'branch', '$75', 'Hall', 'Anita', 'Burkes', 'muster', 'unions', 'eleven', 'metropolitan', 'guiding', 'decade', 'preceded', 'revenuers', 'Pharmical', 'flourishes', 'Property', 'Deadlock', 'indicate', 'harvesting', 'Ximenez-Vargas', 'glamor', '1942', 'bundle', '67', 'created', 'this', 'Boys', 'Greenfield', '$4', 'discouraged', 'Ninth', 'display', 'Sample', 'ten-hour', 'Clara', 'consumed', 'Plaza', 'recently', 'ratified', 'monthly', 'menu', 'spark', 'given', 'relearns', 'Nijinsky', 'handsome', 'winning', \"Carreon's\", 'Dedication', '23-year-old', 'stiff', '$278,877,000', 'holed', 'onus', 'crime', 'illustrate', 'Ultimately', 'Foil', 'Tonight', 'listed', 'Perhaps', 'Unfortunately', 'smooth', 'Can', 'Helping', 'shrinkage', 'house-cleaning', '1971', 'disability', \"Wert's\", 'Bimini', 'sued', 'radioed', 'positions', 'chore', 'Roquemore', 'Food', 'mortgages', 'temperatures', 'Matching', 'Mears', 'high', 'culminates', 'performing', '$300,000,000', 'philosophy', 'steelmaker', 'latter', 'evasive', 'peanut', 'responsible', '$20', \"'em\", 'avoids', 'internal', 'ballets', '$4,177.37', 'rally', 'gum', 'Minoso', 'Bob', 'leading', 'FBI', \"Fuhrmann's\", 'guilt', 'commenting', 'trucks', 'Swiss', 'Nehf', 'philosopher', 'Equipment', 'cutback', 'pepper', 'selection', 'JA', 'sorely', \"week's\", 'welcome', 'withdrawn', 'job-seekers', 'opportunities', 'Actor-Crooner', 'cell', \"latter's\", 'Frederic', '37,000', 'during', '1960-61', 'gather', 'build-up', 'Tony', 'realty', 'tube', 'Plus', 'employees', 'darling', 'looked', 'partners', 'intervening', 'halt', '$18', 'all-automatic', 'duffer', 'caucuses', 'recalls', 'believing', 'bestowed', 'brutality', 'Armond', 'render', 'Virgin', 'centuries', 'Ross', 'approved', 'ultimatum', 'mine', 'Individual', 'hawing', 'trims', 'borrowing', 'helped', 'inefficient', 'half-mile', 'combines', 'hope', 'B', 'appointed', 'defeats', 'Island', 'Monet', 'bean', 'leaving', 'Rhodes', 'embargo', 'Living', '$16', 'Chapelles', 'Curie', 'derives', 'deductions', 'destroyers', 'predict', 'teaching', 'St.', 'Faced', 'bludgeon', \"Island's\", 'essentially', 'Manville', 'directorate', 'Science', 'moderate-income', 'watered', 'docile', 'sportsman', 'fan', 'supermarkets', 'Place', 'onrush', '$25-a-plate', 'finds', 'arenas', 'sun-tanned', 'Democratic-sponsored', 'full-time', 'characterized', '26-year-old', 'please', 'taxed', \"capital's\", 'Lumia', 'cabinets', 'noses', 'Actress', 'M', 'public-school', 'island', 'Christmas', 'dismiss', 'successive', 'pressing', 'self-restraint', 'Sybert', 'were', 'Neveh', 'chests', 'underground', 'negative', 'except', 'roadside', 'definite', 'Gene', 'strike', '60,000', '85-piece', '$3100', 'genes', 'failing', 'recognized', 'first-floor', 'tickets', 'slave', 'incorrigible', 'listening', 'Race', 'correctly', 'resulted', 'extensive', 'Philmont', 'planner', 'affect', 'surveillance', 'clicked', 'outlook', 'You', 'organization', 'Federal', 'rank', 'bandstand', 'William', 'practical', 'reply', 'unsure', 'nevertheless', 'continues', 'liaison', 'proposed', 'your', 'evacuate', 'stations', 'dimes', 'Juvenile', '3-0', 'fiercest', 'notarized', 'Brussels', \"tonight's\", 'baseballs', 'remote', 'drizzly', 'Headquarters', 'skies', 'duties', 'Marcus', 'seasoned', 'Trophy', 'Souvanna', 'officiated', 'enemy', 'injuries', 'noticeable', 'find', 'grips', 'nurse', 'inroads', 'Maurice', 'multiplying', 'toll', 'Centredale', 'opposes', 'paid', 'Naturally', 'citation', 'Loving', 'outdoors', 'Dwight', 'ambitious', 'realized', 'began', 'Bluebird', 'stalled', 'Symphony', 'carries', 'Dolce', 'Refuses', 'DiVarco', 'Sufficient', 'entering', 'Gallup', '1.10.4', 'Cody', 'additional', 'Connall', 'chosen', 'space', 'comfortable', 'contract', 'expedient', 'intact', 'Precise', 'waved', 'pine', 'prominently', 'retain', 'acts', 'Night', 'Aaron', 'Hinckley', 'inflow', 'receptive', 'sacker', 'indictments', 'Schley', 'Camilo', 'aspects', 'manganese', 'loving', \"body's\", 'Technology', 'Motorists', 'suspicion', 'crew', 'Recovery', 'go-go-go', 'France', 'Connelly', 'jury-tampering', 'morality', 'reunion', 'reconsider', 'unfortunately', 'assigned', 'solution', 'star', 'Tennis', 'finding', 'enforcing', 'distributed', 'Cardinals', 'finned', 'Truman', 'Gregory', 'Miss.', 'funeral', 'chum', 'accompanied', 'hurlers', 'fountain', 'Prentice-Hall', 'Council', 'Clay', 'Lang', \"Cotten's\", 'duplication', 'Electric', 'puts', 'nickels', 'affixed', 'Wash.', 'Vieth', 'negotiations', 'grant-in-aid', 'Reyes', 'idle', 'adversary', 'crabs', 'son-in-law', 'disproportionate', 'interrupt', 'inspiring', '225,000', 'Expressway', 'subpenas', 'investigated', 'England-born', 'Fighters', 'mineral', 'behind', '1938', 'expressing', \"Force's\", 'result', 'intimidation', 'instruments', 'roster', 'La.', 'agricultural', 'Tribune', 'benches', 'weather', 'flames', 'another', 'victimized', 'coming', 'Lacy', 'Times-Picayune', 'Manager', 'loan', 'grasp', 'neutralists', 'exasperated', '1913', 'Ambassador', 'recorded', 'affairs', 'Eaton', 'Mickey', 'Restaurant', 'advisability', 'Dillon', 'Democrats', 'mid-1960', 'Weatherford', '$842,617', 'first-run', 'clears', \"Blanchard's\", 'Welton', 'mutter', 'contributors', 'Taft-Hartley', 'dish', '10-hour', 'Philharmonique', '361', 'bit', 'preliminary', 'Buick', 'Plains', 'Rowley', 'Squeezed', 'Comedian', 'flex', 'loyal', 'notions', 'brings', 'Nichols', 'Madame', '$85', 'newspapers', '6:15', 'Arundel', 'wage', 'Stacy', 'McFarland', 'Bubenik', 'laid', 'Caroline', 'modified', \"Center's\", 'ex-Mrs.', 'films', '$157,460', 'Wheeler', 'workout', 'absolutely', 'volumes', 'President-elect', 'attracted', 'foster', 'Hurt', 'International', 'south', 'permission', 'mantlepiece', 'proceed', 'matching', 'complication', 'good', 'celebrate', 'unhappily', 'Omega', 'composure', 'batting', 'bushes', 'auto', 'outright', 'headboard', 'choking', 'Already', 'preserve', 'drawing', 'yearly', 'Olive', 'Mana', 'conducted', 'retarded', 'Vincent', 'over-the-counter', 'indeed', 'Cerebral', 'Probably', 'Carol', 'personally', 'railroading', 'People', 'Grenier', 'females', 'Stepanovich', 'employee', 'subsequently', '35', 'off', 'book-selection', 'Atlanta', 'enter', 'ruling', \"Art's\", 'thought', '100-yard', 'Burnes', 'apprentice', 'Results', 'Mays', 'checks', 'day', 'symbol', 'Moller', 'attachment', 'Kretchmer', 'revulsion', 'seventh', 'praise', 'spectators', 'allied', 'esprit', 'limit', 'Concerts', 'cannibalistic', 'K.J.P.', 'Son', 'via', \"Emperor's\", 'skilled', 'there', 'reminiscent', 'swing', 'accounts', \"Hyde's\", 'McRoberts', 'Also', 'net', 'style', 'repaid', 'Round', 'divorced', 'park', 'Hoffa', 'frantic', 'owe', 'roughly', 'P.m.', 'month-long', 'Rep.', 'Bessie', 'stab', 'debut', 'sensation', '$4,800', 'contendere', 'ways', 'ex-singer', 'fullbacking', 'criminal', 'refinement', 'proportionately', \"earth's\", 'wetlands', 'Sheeran', 'caramel', 'equitable', 'grand', 'spring-training', 'farm', 'overcame', 'Sheraton-Biltmore', 'rings', 'Brig.', 'Cervetto', 'protest', 'storm', 'Lake', 'index', 'meter', \"children's\", 'row', 'caskets', 'Hong', 'embezzlement', 'Av.', 'survey', 'Richardson', 'contractual', 'need', 'Americana', 'Confronted', 'grew', 'defective', 'wooden', 'wearing', 'Community', 'strongly', 'Shirley', 'sewage', 'genuine', 'stevedore', 'Buster', 'Marie', 'significant', 'War', 'coeds', 'plant', 'bath', 'household-type', 'ticket', 'Anywhere', 'unmistakably', 'Heywood', 'want', '11-3', 'Pate', 'cook', 'lineman', 'theologian', 'most', 'Ward', 'numerous', 'recipe', 'Globe-Democrat', 'pact', 'total', 'documentary', 'ratification', 'Registrations', 'Grayson', 'On', 'formerly', 'hard-to-get', 'limiting', 'poster', 'surveyed', 'rolling', '343', 'treacheries', 'feminine', '1851', 'eve', 'urges', 'Speaker', 'co-operation', 'Chicken', 'thunderous', 'Thurman', 'resulting', 'neatly', 'string', 'friendly', 'letterman', 'Master', 'Convention', 'traditional', 'phase', 'bucked', '6.5', 'Monday', \"Glimco's\", 'boogie', 'Ellen', 'wide-ranging', \"It's\", 'inside', 'Fairchild', 'Sea', 'head', 'Professors', 'involving', 'extern', 'aide', 'disclosures', 'remove', 'flung', \"Thursday's\", 'beauty', 'affected', 'eight-year', 'Delahanty', 'imposed', 'strategic', 'Bronx', 'stepped', 'where', 'lively', 'scratches', '$17.8', 'modernizing', '823', 'flubbed', '4,441', 'cry', 'gangland', 'delinquency', 'tie', 'Miles', 'comforting', 'drop', 'September-October', 'Net', 'Tommie', 'crowding', 'Aparicio', 'Sprinkle', \"athletes'\", \"Shaw's\", 'begin', '3-inch', 'Pearson', 'Dusseldorf', 'columnist', 'disabuse', 'stresses', 'scholastically', 'assertion', 'landing', 'prevention', 'long-life', '175', 'sets', 'proceedings', 'rival', 'hides', 'worked', 'states', 'opponents', 'annually', 'surged', 'deductibility', 'repay', 'maitre', 'classroom', 'dignitaries', 'London-based', 'giant', 'Leopoldville', '180', 'originating', 'Forever', 'stock', 'Sr.', 'Bowman', 'toward', 'reaches', 'gaudy', 'fighters', 'geometrically', 'safety', 'improvements', 'attempted', 'barbs', 'west', 'Blumenthal', '29-5', 'Farrell', 'Mollusks', 'ayes', 'ears', '$50', 'Organization', 'Washington-Alexandria', 'bites', '9:40', 'baseman', 'bang', 'concrete', 'Spangled', 'similar', 'forbid', 'rebels', '$900', 'depression', 'downhill', 'John', 'Ruth', 'earnings', 'leaked', 'Get', 'candy', 'Ditmar', 'engines', 'Cover', 'tile', 'pleased', 'national', 'Gin', 'Alan', 'crack', 'Works', '11-year', 'equipped', 'Butcher', 'treasurer', 'Falls', 'library', 'piano', '$5000', 'reform', 'Cotton', 'Foxx', 'tea', 'identically', 'skits', 'rookie', 'push', 'intersection', 'bronzy-green-gold', 'Pillsbury', 'dying', 'Pasadena', 'cheap', 'wealth', 'increasingly', 'reader', 'Hose', 'long-bodied', 'graduation', 'direct', 'taxpayer', '1600', 'Club', 'calmest', 'cellar', 'Rider', 'immorality', 'donated', 'Hatfield', 'Adair', '99', 'rainstorm', 'Port', 'Ricci', 'Space', 'Clubs', 'tagged', 'Asia', 'least', 'parole', 'Capello', 'Bradford', 'analysis', 'before', 'high-wage', 'airstrip', 'numbers', 'Semmes', 'imprisonment', 'correctness', 'Hillsboro', 'houses', 'cab', 'lawyer', 'Maplecrest', 'complexity', 'Developments', 'Arvey', 'Warwick', 'crippling', 'mea', 'entourage', 'moderate', 'Various', 'quotas', 'mounting', 'relinquish', 'Games', 'adamant', 'godliness', 'Columbus', 'examine', 'David', 'pledges', 'Frank', 'over-night', 'Clerks', 'Patti', 'brochures', 'Jude', 'Gordin', 'Auditorium', 'redecoration', 'insets', \"A.A.U.'s\", 'Authority', 'Persian', 'maturity', 'spoken', 'Decorators', 'lecturer', 'Freida', 'surely', 'conscious', 'teammates', 'cumulative', \"Collins'\", 'aided', 'saute', '$88,000', 'explanation', 'Aquinas', 'effected', 'entered', 'sponsor', 'upper', 'peculiarities', 'provisional', \"Gannon's\", 'barge', 'considerable', 'keep', 'impact', 'all-woman', 'Casualty', 'retired', 'anywhere', 'federalism', 'deficiency', 'Hayes', 'stating', 'warmth', 'Rhode', 'peaks', 'antidote', 'Britain', 'Chrysler', 'Andrew', 'Saga', 'tight', 'onetime', 'harm', 'redistricting', 'Lexington', 'sprained', 'pour', 'wire', '1961', 'grand-slam', 'Gladden', 'Princes', 'he', 'pitches', 'well-stocked', 'rigged', 'Committees', 'trends', 'lies', 'uniquely', 'nature', 'idealism', 'add', 'prepare', 'Niven', 'motivated', '169', 'Beryl', 'liberty', 'India', 'dissent', 'referred', 'executives', 'capsule', 'Lummus', 'ladder', 'Peck', 'Jorda', 'producers', 'file', 'correct', 'budget', 'Whee', 'researchers', 'screen', 'nonsense', 'Matisses', '645-acre', 'Policies', 'welcoming', 'spurred', 'formed', 'lovely', 'Great', 'erupted', 'street', 'pull', 'pier', 'playable', 'fire-fighting', '37,679', 'boldly', \"girl's\", 'Criminal', 'Lynn', 'uncles', 'teardrop', 'fireplace', 'Stennis', 'bread', 'Jane', '30', 'barbecue', 'Emmert', 'pro-Communist', 'Lehner', 'Vernava', 'intervene', 'land', 'governed', 'weakness', 'Bernard', 'Given', 'Wish', 'assist', 'colossus', 'viewers', 'Physicians', 'Birmingham', 'alterations', 'election', 'object', '120', 'queen', 'fellows', 'Slocum', 'knowing', \"Barnard's\", 'amendments', 'Joey', 'surprise', 'Before', 'Duque', 'thirty', 'three', 'imposing', 'night-coach', 'gains', 'everybody', 'really', 'Tarrant', 'varied', 'correspondents', 'strength', 'last-round', 'Jacksonville', 'respect', 'restraint', 'Executive', 'prospects', '1920', 'pan', 'bid', 'Watson', 'requests', 'stronger', '1924', 'wins', 'Rule', 'Voters', 'desirable', 'Berrellez', 'PTC', 'vented', 'detachment', 'jotted', 'reports', 'big-league', 'prosecutor', 'able', 'automobile', 'Emory', 'culmination', 'scarcely', 'carefully', 'month', 'freer', 'Cheng', 'assumed', 'Truck', 'Antone', 'hospital', '41', 'varying', 'Cluck', 'deserts', 'Davenport', 'Chiuchow', 'textiles', 'spreads', 'Eppler', 'scenery', 'integrated', 'escort', 'engineering', 'Ken', 'Self', 'markets', 'comments', 'games', 'Sabbath', 'Quincy', \"ruling's\", 'accomplished', '68', 'From', '1409', 'engaged', 'belonged', 'start', 'depend', 'workshops', 'Life', 'gained', 'Berton', 'spearhead', '3247', 'readers', 'flaming', 'spread', 'settled', 'refocusing', 'Varani', 'booklists', 'refuted', 'System', 'addresses', 'bluntly', 'Kolpakova', 'somewhere', 'Changes', 'type', 'acceptance', 'Macwhyte', 'Communism', 'entrant', 'Times', 'Mill', 'parading', 'palm', 'Expressions', 'seven-hit', '$2,330,000', 'Consul', 'reams', 'fallout', 'ages', 'far-flung', 'Chinese', 'slim', 'meets', 'idols', 'Cooperation', 'Desmond', '60-inch', 'chapel', 'Sorrentino', 'Treatment', 'trailing', 'unconsciously', 'cover', 'morals', 'subpoenas', \"clients'\", 'Chance', 'propelling', 'Rosen', 'Lou', 'yen', 'musician', 'pipeline', '5-game', 'disapproval', 'staunchest', 'kickbacks', 'Oriental', 'reception', 'Wright', 'rapidly', 'practices', 'graduates', 'abandoned', 'favoring', 'sophisticated', 'above', 'forces', 'pulse', \"month's\", 'opportunity', 'cut', \"Bernadine's\", 'ordained', 'retirements', 'hesitated', 'show', '30-30', 'linking', 'jetliners', '$3,500', 'her', \"weren't\", 'Belanger', 'Everybody', 'filibusters', '1.10.8', 'cardiac', 'Revenue', 'determine', 'streets', 'fielded', 'efficiently', 'jewels', 'Skorich', 'middle-aged', 'cubic', 'Enos', 'animal', 'walls', 'murder', 'Sequoia', 'payroll', 'Among', 'Valley', 'Dannehower', 'hero', \"Patrick's\", 'Riders', 'scandals', 'District', 'Hemus', \"Formby's\", 'boxy', '46th', 'secessionist', 'crosswalk', 'Sherman', 'Until', 'L.', 'monopolies', 'defendants', 'plays', 'determination', 'CBS', \"Broglio's\", 'Bush', 'termed', \"coach's\", 'Rush', 'Wendell', 'game', 'roofer', 'museum', 'hundreds', 'Presbyterian-St.', 'script', 'small-town', 'Odom', 'operation', 'truncated', 'eighteenth-', 'indorsed', 'hand-screened', 'Dow', 'companies', 'beginning', 'hotdogs', 'dichotomy', 'competing', 'collonaded', 'Hearn', 'mystery', 'Senate', 'performance', 'enjoy', 'threads', 'Bonanza', 'convenient', 'contractors', 'automatically', 'Public', 'tops', 'tries', 'percentage', 'Pete', 'gambling', 'loans', \"puppet's\", 'irreconcilable', 'crackpots', 'designer', \"school's\", 'breakoff', 'enthralling', 'moral', 'vindication', 'officiating', '3rd', 'Appropriations', 'supernatural', 'Messrs', 'postgraduate', 'shiny', 'second-half', 'Liquor', 'simplicity', 'artillery', 'needed', 'sublime', 'wardrobe', 'lightly', 'difficulty', 'Ballet', 'Armisteads', 'newly-appointed', 'premier', 'rather', 'engaging', 'Harmon', 'acquaint', 'liked', 'Nepal', 'quarterbacks', 'outsiders', 'clearance', 'rebuild', 'slight', \"Birds'\", 'thesis', 'Ask', 'broke', 'all-round', 'edition', 'give', 'license', 'hard-fought', 'slashed', 'Turnpike', 'monumental', 'cross-examination', 'casuals', 'thus', 'Stetson', 'Virgil', 'ambiguous', 'jewelry', 'entail', 'baseballight', 'failure', 'Candlestick', 'None', 'council', 'critics', 'friends', 'Kiefferm', '56', 'overtime', 'Sanctuary', \"Gaines'\", 'Pablo', 'Later', 'Report', 'says', 'lurked', 'Madison', 'world-wide', 'illusory', 'members', 'block', 'acquaintance', 'negotiate', 'commandant', 'Cable', 'Supt.', 'Mary', 'pickup', 'roller', 'decisive', 'standpoint', 'nymphomaniacs', 'Mortar', 'regulating', \"morning's\", 'unsatisfactory', 'cafeteria', 'Aiken', 'Desert', 'all-county', 'action', 'Walbridge', 'Casassa', 'McClellan', 'plate', 'Rex', 'Metal', 'candidacy', 'Brod', 'reporters', 'aides', 'Sacramento', 'second', 'ease', 'Finan', 'Sisk', 'separating', 'Fulton', 'Certainly', 'seed', 'Swine', '&', 'commentator', 'Burnside', 'mink', '25-minute', 'social', 'March', 'wiped', 'pointing', \"We'd\", 'chocolate', 'unchanged', 'flu', \"Fardulli's\", 'Callan', 'confided', 'Wyman', 'Second', 'Arkansas', 'seven', 'anti-Kennedy', 'Arata', 'inadequacy', 'Ekberg', 'Nine', 'books', 'verbally', 'attached', 'easy', 'Haynes', 'SE', 'slugs', 'covered', 'Perasso', 'successful', 'Festival', 'parolees', 'trips', 'Delegates', 'enforced', 'sensitive', 'accompanying', 'banquet', 'Office', 'holiday', 'floors', 'Parker', 'produced', 'Armed', 'brother', 'expert', 'Gannon', 'legend', 'justify', 'winter', 'Lola', 'Shopping', 'Zinman', \"Brooklyn's\", 'allow', 'check', 'Lester', 'Puerto', 'attacks', 'Are', 'Residential', 'Dallas-based', 'reds', 'par-5', 'improper', 'bodies', 'stagecoach', \"Today's\", 'liquidations', 'march', 'Beatrice', 'mishap', 'sales', 'radiomen', 'Willy', 'ranging', 'heights', 'entails', 'rules', 'Andover', 'Kemm', 'fresh', 'gaining', 'Vital', 'spokesman', 'racial', 'broaden', 'ideology', 'enacting', 'connections', 'pink', 'acquisition', 'utilities', '355', 'thinking', 'Archives', 'combine', 'bringing', 'favorite', 'Bishop', 'disposal', 'Uhles', 'might', 'worship', 'Stratton', 'candidate', 'Dixiecrats', 'purchasing', 'dependency', 'slope', 'Apartments', 'Ghormley', 'clue', 'Electoral', 'doing', 'generated', 'heroics', 'deliberation', 'opener', 'eleventh', 'Neiman-Marcus', 'grammar', 'Union', '60', 'lineup', \"Pirates'\", 'surfaces', 'October', 'contrasting', 'Palm', 'few', 'site', 'consulted', 'Wegener', 'giveaway', 'staggered', 'Sunnyvale', 'Let', 'violent', 'laying', 'innocence', 'buildings', 'Lefty', 'owed', 'goaded', 'heavily', 'slipper', '32,000', 'acacia', 'characters', 'three-building', 'sharp', 'O-B', 'fleet', 'linebackers', 'Tom', 'Drury', 'Arger', 'constituted', 'fringed', 'tribute', 'subdued', 'intend', 'speck', '$1.1', 'Ensign', 'Geddes', 'participate', 'shape', 'publishing', 'wood', 'Richey', 'forum', 'whatever', 'Republican-controlled', '220-yard', 'Letitia', 'denomination', 'infield', 'mile', 'claims', 'Helene', 'congenial', \"Gulf's\", 'effective', 'soup', 'usual', 'fourth', 'Salvatore', 'Adlai', 'recessed', '208-pound', '$1,800', 'swap', 'sentence', 'properly', 'hearty', 'liveliness', 'pressure', 'housed', 'hammered', 'Patience', 'advisement', 'civil', 'Purchasing', 'meat', 'dominated', 'Indication', \"Orioles'\", 'five-year', 'battalion', 'scrimmaged', 'Eugene', '1930s', 'mother', 'hearts', 'Higher', 'Liberal', \"Escape's\", 'Firm', 'enabling', 'garden', '$8,250', '205-pound', 'Dresbach', 'Emilio', 'authorize', 'Southerners', 'myself', 'warnings', '180-degrees', 'remembered', 'bear', 'overshot', 'hitless', 'hoping', 'injury', 'Jorge', 'roles', 'Menuhin', 'meditating', 'fits', 'embossed', 'Thirty-one', 'succession', 'Jacques', 'frock', 'is', 'Reed', 'convenience', 'movies', 'Manhattan', 'defends', 'thousand', 'equation', 'Arden', '11-18', 'Gainesville', 'Figone', 'inviting', 'Consumer', 'requested', 'restaurants', 'Detective', '1792', '124', 'Benched', 'living', 'unit', 'attack', 'hitter', 'Baseball', 'am', 'Glennon', 'University', \"Don't\", 'retiring', 'Bowl', 'stimulus', 'centered', 'aunts', 'interpret', 'uphold', 'Meet', 'fittest', 'Thakhek', 'Bible', 'tripartite', 'air', 'Roman', 'measured', 'specimen', 'wanted', 'Maynor', 'middle', 'Hand', 'adjust', 'franker', 'rose', 'constitution', 'taxing', 'expressed', 'friction', '5847', 'Go', 'Drive', 'bulk', '3211', 'View', 'Dunkel', 'since', 'data', 'B-52', 'squeezed', 'passed', 'Senese', 'Jordan', 'prosecutors', 'minds', 'Bureau', 'duress', 'aiding', 'Solly', 'arches', 'plow', 'golfers', 'strain', 'hooked', 'Orioles', 'chorus', 'profession', 'Newsom', 'Donnelly', 'figure', 'Louchheim', 'le', 'wings', 'admired', 'Baptist', 'Beirut', 'surrounded', 'juniors', 'Newburger', \"Berger's\", 'payments', 'fraud', \"Government's\", 'Toronto', '13', 'greatly', 'consecutive', 'Hammons', 'naughty', 'conspiracies', 'Southerner', 'contractor', 'extended', 'recovering', 'refused', 'taper', 'boosts', 'separation', 'Sabol', 'Welfare', 'weary', 'conspired', 'rubbish', 'ranges', 'book-review', 'democratic', 'singers', 'rational', 'exemption', 'Arab', 'catching', 'realistic', 'depositors', 'welfare', 'cleared', 'variety', 'heard', 'Stock', 'Caron', 'puppet', 'Byron', 'joining', 'Messrs.', 'Conference', 'infant', 'willing', 'muttered', 'Georgetown', 'El', 'lives', 'majors', 'Vice', 'ask', 'three-round', 'believes', 'cousin', 'Knickerbocker', 'Christ', 'joints', 'Leave', 'saved', 'disputes', 'missed', 'establish', 'selling', 'Harbor', 'picked', 'colleges', 'Bundle', 'trophy', 'junior-senior', 'invitation', 'begun', 'Accounting', 'held', 'Parrillo', '281', 'Clifton', 'Institute', 'boats', 'resembled', 'suffragettes', 'Ruling', 'assistance', 'candidates', 'longstanding', 'debuting', 'arrested', '1311', 'ranged', 'holds', 'Nuttall', 'fourteen', 'DiMaggio', 'Resentment', 'Pulling', 'contribution', 'incident', 'revolutionary', 'achieves', 'collection', 'recipient', 'Clinton', 'heaters', 'Placentia', 'Paschall', 'regularly', 'electrical', 'sculptures', 'cheer', 'bench', 'seek', 'shouldda', 'ICC', 'radio', 'crucial', 'Questions', '63', 'engagement', 'Maynard', 'babies', 'viewpoint', 'procedure', 'following', 'earlier', 'pubs', 'asking', 'arts', 'Bellwood', 'barrage', 'Hungarian', 'economically', 'generosity', 'Rimini', 'said', 'Elios', 'revenge', '19th', 'prayers', 'weakened', 'Berteros', 'year-old', 'overpowered', 'precedence', \"mayor's\", 'Without', 'pop', 'people', 'awed', 'N.', 'steel', '200', \"'\", \"Portland's\", 'earnest', 'fuselage', 'stops', \"drivers'\", 'Ignition', 'eulogized', 'conforms', '40%', 'coordinator', 'Murville', 'tell', 'Follow', 'Yet', 'purpose', 'yearbook', 'criminals', '$8.50', 'oriental', 'blundered', \"warehouseman's\", 'older', 'sub-zero', 'well', 'motion-picture', 'verify', 'Giacomo', \"Golf's\", 'heroin', 'recruiter', \"denomination's\", 'calamity', 'disappointment', 'recalled', 'ritiuality', 'costs', 'telling', 'passages', 'lowest', \"France's\", 'mandatory', 'actors', 'builtin', 'third-inning', 'publishes', 'thin', 'dragnet', 'forward', 'Monica', 'refer', 'admittance', 'garde', \"years'\", 'theme', 'fragmentation', 'heartbreaking', 'walked', 'Schrunk', 'happened', 'keyhole', 'animated', 'accomplishment', 'Sanitation', 'gentlemen', 'spooned', 'Innumerable', 'promotional', 'dust', 'career', 'directly', 'received', 'inboard', 'variation', 'muscles', 'Holders', 'Len', '$250', 'seashore', 'allowed', 'Oklahoma', 'drain', 'appeal', 'Ainsley', 'Teller', 'shoes', 'Wilhelm', 'Corcoran', 'stitch', 'interviewed', 'quiet', 'Nancy', 'provincial', 'squads', 'Route', 'founding', 'Merner', 'Surrounding', 'Mayfair', 'still', 'Camera', 'dedicated', 'Contributions', 'Huff', 'Bay-front', 'grin', 'rear', 'prepared', 'citizen', 'luncheons', 'Skinny', 'Adcock', 'male', 'steal', 'economists', 'DeCicco', 'Presently', 'scholarships', 'Vocational', 'Simonelli', 'aft', 'turnpike', 'crises', 'large', 'hip', 'calls', 'cheaper', 'Dey', 'showman', 'lengthy', 'brown', 'stake', 'materials', 'gift', 'speed', 'Commenting', 'perfection', 'shipping', 'ineligible', 'recruit', 'Ciciulla', '7:45', 'Mercury', 'obstacle', 'clobbers', 'parents', 'San', 'Lover', 'Bankers', 'tied', '100', 'Macon', 'Buddy', 'tires', 'secretly', 'unmarried', 'Lancashire', '1970s', 'well-springs', 'shortcuts', '2100', 'Hammond', 'unless', 'Sunday', 'Currys', 'Fireside', 'Society', 'McIntosh', 'cable', 'southward', 'careers', \"Berry's\", 'subtitled', 'arose', 'Pierson', 'noncommissioned', 'deadlock', 'character', '33', 'watchers', 'move', 'Nebraska', 'authorizing', 'downtrodden', 'borders', 'goutte', 'Nevah', 'solos', 'resumption', 'birdied', 'Ex-Oriole', 'Gomez', 'Those', 'Hazard', 'greeting', 'Hyannis', 'entrance', 'Horstman', 'one-week-old', 'Ticker', 'pension', 'illustration', 'Official', 'prosperity', 'Kreisler', 'misuse', 'elephants', 'carried', 'assailed', 'Pitcher', 'swine', 'Anniversary', 'presumably', 'Nations', 'goals', 'oases', 'Survivors', '$1', 'infest', 'hardware', 'cordial', 'Troup', 'headdress', \"Nischwitz'\", 'task', 'exempt', 'demonstrate', 'overhauling', 'Norm', 'dramatic', 'eyebrow', 'backs', 'Chardon', 'whereby', \"Howsam's\", 'antagonisms', 'walnut', 'larger', 'so-so', 'Carnival', 'whopping', 'Cuban-American', 'classmates', 'radioactive', 'sentencing', 'virile', 'leadership', 'Goodman', 'globetrotter', 'loudly', '165-unit', 'accomplish', 'delicate', 'Gimbel', 'seasons', 'Althaus', 'competitively', 'Howard', 'Note', 'Randall', 'tractors', '$40,000,000', 'Associations', 'four-hour', 'foreign', 'Blumberg', 'Gateway', 'deliberations', 'Sixty-seven', '69', 'steaks', 'card', 'assign', 'back', 'Pelham', 'belt', 'margins', \"Wagner's\", 'Sacrifices', 'tasks', 'princess', 'taxpayers', 'Dollar', 'Masque', 'Graham', 'electric', 'Angel', 'could', 'resist', 'inclined', 'Bryan', 'Alvin', 'Waddell', 'detail', 'governments', 'wheels', 'edging', 'man', 'Hartselle', 'committees', 'county-wide', 'dismissed', 'Gregg', 'Goldberg', 'hypocrisies', 'confessed', 'Venable', 'Raymondville', 'averaging', 'second-degree', 'Claus', \"Hollywood's\", 'soviet', 'league', 'Bexar', 'teacher', '22-year-old', '0', 'upstairs', 'industries', '1,400', 'beds', 'Kercheval', 'King', 'nine-year', 'economist', 'Reared', 'aftermath', \"Arnold's\", 'violated', 'patience', 'ramp', 'shaken', 'N.Y.', 'M.', 'patio', 'Kaminsky', 'lengthening', 'Rotelli', 'securities', 'enables', 'consequences', 'Cubans', 'register', 'streaked', 'broken', 'Ford', 'next', 'Moss', 'undertake', 'Carnegey', 'Rose', 'Blyth', 'Prize', 'carpeted', 'assembled', 'McLauchlin', 'Gov.', 'classrooms', 'craftsman', '$37,500', '42d', 'Attendance', 'playing', '$30', 'player', 'Tax', 'pork', 'branches', 'exaltation', 'East-West', 'absorbed', 'reservoir', 'Porters', '949', 'Brothers', 'Coach', 'Farmers', \"China's\", 'Buchanan', 'waiting', 'Blanche', 'who', \"Raphael's\", 'exploring', 'Bregman', 'Cedar', 'possessive', 'commuting', 'prior-year', 'beach', 'sometime', 'raping', 'beneath', 'hardly', 'Huntingtons', 'Chuck', 'criteria', 'sailing', 'proprietor', 'cookie', 'adding', 'coolheaded', 'architect', 'air-conditioned', 'Tuohy', 'unable', 'bowl', '$17', 'fantastic', 'racketeer', \"Republicans'\", 'Arranging', 'avoided', '54', 'Leatherneck', 'Minnie', 'drill', 'wants', 'Kader', 'insurgent', 'Aderholds', 'foes', 'Joseph', 'idleness', 'initial', 'Bert', 'edge', 'missing', 'degree', 'repair', '29', 'mid-flight', 'Nagle', 'substantially', 'Wards', 'expansion', '132,000', 'stages', 'McNair', 'distressing', 'statutory', 'captivating', 'medical', 'Hiring', '1688', 'Price', 'farmers', 'gathering', 'bicameral', 'souvenir', 'worsens', 'flies', 'baking', 'Bet', 'undue', 'amending', 'suburbs', 'awoke', 'scholastics', 'Theater', 'stroke', 'trimmed', '676', 'intense', 'walloped', 'Pabor', 'writing', 'Tearle', \"Molly's\", 'ballots', 'subsidiary', 'never', 'exchanged', 'reactor', 'summitry', '!', 'distant', 'persons', 'Executives', '$344,000', 'genial', 'much-copied', 'Associated', 'rendered', 'Hoover', '6,000', 'Shantz', 'Corp.', 'effects', 'Relations', 'family', 'rhythm', 'Haaek', 'co-signers', 'book', 'flow', 'member', '12-year-old', \"Prentice's\", 'Gets', 'Broncs', 'yielding', 'welcomed', 'neck', 'silent', 'wavelengths', 'faint', 'shrimp', 'engineer', 'forestry', 'George', 'position', 'baby', 'tail', 'tragedy', 'Alsop', 'aeronautical', 'risen', 'beggar', 'Village', \"Governor's\", 'dug', 'Military', 'blackout', 'swim', 'appeasement', 'Leukemia', 'all-out', 'Smith-Colmer', 'weeks', 'Socola', 'challenger', 'poetic', 'penalized', 'outfit', 'Fine', 'regime', 'railway', 'newlyweds', 'switch', 'homers', 'cocky', 'relatively', 'Milton', 'countian', 'forcing', 'Cezannes', 'laurels', 'Asilomar', 'Tiao', 'clearly', 'Capitol', 'Annamorena', 'joint', 'discharged', 'child', 'far-reaching', 'crazy-wonderful', 'Walter', 'gayety', 'rise', 'early', 'elementary', 'Iglehart', 'MacDonald', 'traded', 'Heavy', 'amounted', 'outplayed', 'Fairy', 'Pilots', 'thirds', '40-year-old', 'Champion', 'Skinner', 'intellectual', 'appraisers', 'legislator', 'delegates', 'mechanical', 'cemetery', 'Seats', 'Oxnard', 'garrulous', 'sheriff', \"Field's\", 'Piero', 'mentions', 'smuggling', 'unaccustomed', 'controversial', 'netted', 'walks', 'Mongolia', 'Guerin', '9329', 'handed', '511', 'furlongs', 'stakes', 'attempt', 'popular', 'Mrs', 'outgoing', 'mouths', 'warn', 'education', 'instincts', 'rocket-bombs', 'key', 'Raesz', 'Queen', 'longer', 'enacted', '$8,555', 'pretends', 'thrusts', 'Tech.', 'busied', 'struck', 'jointly', '2,100', 'sequins', 'ends', 'Flip', 'studied', 'residing', 'induce', 'Olympic', 'Braun', 'grave', 'tilling', 'Sexton', 'obtaining', 'motorists', 'Starting', 'missions', 'Pitchers', 'irate', 'Maris', 'Ligget', 'allocation', 'ruddy', '4-under-par', 'horse', 'band', 'Workshops', 'Exhibition', 'Tau', 'Barnet', '$4,500', 'Shari', 'Yokel', '325', 'loses', 'ribbon', 'Grahamstown', 'underwater', 'sick', 'trading', '21-9', 'ventilates', 'Kimbolton', 'communism', 'marked', 'Heitschmidt', 'Mal', '$15,000', 'Ransom', 'upward', 'absorb', \"Lockheed's\", 'treating', 'savings', \"Jr.'s\", 'Cadillac', 'rains', 'earrings', 'Rural', 'Arequipa', 'bad', 'horizon', 'Perkins', 'Idea', 'Sept.', 'revealed', 'entry', '$6,100,000,000', 'counseling', 'wards', 'mingle', 'Honors', 'Shrine', 'Princeton', 'gold', 'beaten', 'plague', 'Noted', 'Marella', 'governs', 'Piersee', 'broad', 'Karns', 'Human', 'bomber', 'Horace', '1886', \"maskers'\", 'hurler', 'Leo', 'appliances', 'interested', 'tended', 're-election', 'account', 'hunter', 'huddling', 'enchantment', 'Bizerte', '20-piece', 'tax-exemption', 'mentioned', 'implements', 'compensated', 'tasteful', 'six', 'Italian', 'chafing', 'anybody', '44-year-old', 'subsidies', 'roommates', 'assisted', 'Allegretti', 'Tranquility', 'pile', 'Design', '6-ounce', 'Writer', 'volunteered', 'Kenny', 'Participants', 'pools', 'Costs', 'strip', 'preview', 'Prior', 'privileges', 'Miniver', 'clerical-lay', 'speculating', '1955', \"boy's\", 'look', \"didn't\", 'intelligent', 'walking', 'delegate', 'column', 'argue', 'Ghana', 'composition', 'southwest', 'surprising', 'Unit', 'nolo', \"firm's\", 'acrobatic', 'expectation', 'comparison', 'County', 'stated', 'Fergeson', 'Urged', '3181', 'knows', 'compiled', 'Africa', 'Using', 'comparatively', 'Calling', 'Australia', 'sports', \"Adair's\", 'bachelor', 'dogs', '$250,000', 'uncorked', 'Doris', 'grumble', 'Bolet', 'choose', 'Laos', 'Y.', 'nice', 'Idealist', 'controlled', 'Neusteters', 'surpassed', 'Called', 'anymore', 'decree', 'Samuels', 'collegiate', 'Jenkins', 'referendum', 'springboard', 'texture', 'Judson', 'clocking', \"Furhmann's\", 'A', 'undergraduate', 'Abraham', \"mob's\", 'reprimanded', '$1,000,000,000', '2-and-2', 'writes', 'liquor', 'Sid', '(', 'across', 'elegant', 'Stewart', 'tone', 'food', 'conversion', 'drums', 'Boxwood', 'obligations', 'surge', 'outfielder', 'altered', '15', 'sumptuous', 'finish', 'personnel', 'Stage', 'base-runner', 'Gilman', 'Ervin', 'Beaumont', 'temporary', 'Notre', 'Play', 'weighs', '121', 'engineers', 'assessors', 'grown', 'AM', 'trio', 'Mmes.', 'Red', 'price-earnings', '242%', 'rightfully', 'During', 'Nunes', 'county', 'skills', 'altho', \"Hutchins'\", '14.2', 'at-bats', 'competitive', 'Defense', 'Saturday', 'radios', 'connect', 'upswing', 'avoid', 'Temple', '74', 'contingent', 'Kentfield', 'understates', \"mechanic's\", 'Loeb', 'Packs', 'Wilmette', 'straight', 'nabbed', 'literally', 'arrangement', '923,076', 'rounded', 'Star', 'arrival', 'loves', 'Confusion', 'schooling', 'Though', 'mutiny', 'word', 'designing', \"Saturday's\", 'Secretary-General', 'business', \"Brassbound's\", 'Bernardine', 'railroad', '$22', 'honored', 'time', 'buddy', 'comprise', 'Principal', 'Paradise', 'Clint', 'currently', 'creed', 'Eire', 'drew', 'felt', 'pace', 'cloture', 'emphasize', 'Come', 'Bietnar', 'dud', 'clients', 'chapter', 'included', 'Otis', 'wagons', 'Anderson', 'continuation', 'advertising-conscious', \"town's\", 'Phoenix', 'Puddingstone', '2%', 'July', '49', 'downtown', 'Elementary', 'illegal', 'husbands', 'Westinghouse', 'specializing', 'policemen', \"taxpayers'\", 'beliefs', 'that', 'presentation', 'Conceding', 'dissension', 'matter', 'Wilderness', 'cotillion', 'campaign', 'irrational', 'Martini', 'Fifth', 'executive', 'Kans.', 'properties', 'titles', 'For', 'agonizing', 'delighted', 'efforts', 'assessment', 'rifles', 'medics', \"world's\", '9th', '2d', 'sparsely', 'ankles', 'Muskegon', 'milk', 'prop', 'violinists', 'rocket', 'Whitfield', 'micro-microcurie', 'SEATO', 'serene', \"Santa's\", '2-3/4', 'Admitting', 'reported', 'Hardy', '21', '86', 'one', 'custom-design', 'Nixon', 'stole', 'below', 'Kerr', 'shouted', 'boost', 'loose', 'mines', \"Authority's\", 'jail', \"Robinson's\", 'cup', 'visibly', '5.1', 'mass', 'Neal', 'Terror', 'swelling', 'whisking', 'easily', 'three-month', 'having', '50%', 'chien', 'Dining', '480', 'than', 'Moritz', 'eccentricity', 'celebrated', 'pro-Yankee', 'makeshift', 'Something', \"Stephen's\", 'altitude', 'Along', 'safely', 'things', 'vital', 'bridegroom', 'promises', '900', 'Louis', 'here', '$37', 'fictitious', 'participating', \"Communism's\", \"Luke's\", 'under', 'tenths', '3-month', 'Gogh', 'success', 'lower-priced', 'itself', 'pitching', 'Church', 'Iran', 'athlete', 'lid', 'animism', 'miscount', 'assemble', \"baseball's\", 'Biblically', 'blabbed', 'flowed', 'tensions', 'Interstate', 'belted', 'tried', '8th', 'certifying', 'exploratory', 'Half', 'Giving', 'manufacture', 'Drum', 'productions', 'brethren', 'amazing', 'discuss', 'appeared', \"steelmakers'\", 'Hood', 'civilians', 'currency', 'selects', \"other's\", 'portions', '15-1', 'fellow', '12-17', 'pupils', 'Steve', 'are', 'Elizabeth', 'frustrations', 'ton', 'Venturi', 'exports', '$135', 'sold', 'boys', 'mistakes', \"Philadelphia's\", 'Mills', 'Southwest', 'Law', 'Maurine', 'pulled', 'Nischwitz', 'pizza', 'Siciliana', 'Musica', '4,500', 'list', 'chamber', 'retirement', 'occupied', 'youngsters', 'Bell', 'shelters', ':', 'revision', 'Another', 'Peace', 'regents', 'independents', 'Sulphur', 'meaningless', 'borrower', '65', 'gulf', 'Ellwood', 'nozzle', 'workers', 'Steak', 'alleged', 'authorities', 'drive-in', 'Shriver', 'Fiedler', 'Herrington', 'borer', 'poised', \"board's\", 'fighting', 'detecting', '25,000,000', 'former', 'developed', 'citizens', 'decided', 'Standard', 'less-developed', 'appearing', \"Pawtucket's\", 'November', 'Comus', 'signature', 'my', 'hopeful', 'Solicitor', 'practicing', 'fairly', '95', 'Sen.', 'log-jam', 'feels', 'refuel', 'identity', 'Teachers', 'wind', 'repeated', 'Kanin', 'entries', 'miners', 'nearby', 'validity', 'Dodge', 'dominate', 'Toll', 'Chapman', 'undermine', '$40,000', 'Bennington', 'subsidy', 'sad', 'paragon', 'as', 'confidence', 'absolute', 'toolmaker', 'Arshinkoff', 'intruders', 'softened', 'Rusty', 'splendid', 'survive', 'Ledge', '$15,000,000', 'southern-central', 'K.', 'haggling', '10th', 'Extension', 'Thomas', 'maverick', 'impossible', 'Carla', 'Churchill', 'Group', 'Grandparents', 'navy', 'Cecilia', 'couple', 'violations', 'Acres', 'splitting', 'agents', 'Ave.', 'batch', 'Patrolmen', 'acclaimed', 'astray', 'worth', \"Rayburn's\", 'extreme', 'agriculture', 'Shop', '31st', 'lasted', 'letter', '33-man', 'hearings', 'publicized', 'pack', 'Majesties', 'Clemente', '26', 'By', 'reformatory', 'Dukes', 'Week', 'minorities', 'Avery', 'shocker', 'Calude', 'Khrush', 'Everywhere', 'timeless', 'Stafford', 'World', 'Friend', 'Eddie', 'anomalies', 'Columbia', 'Strenuous', 'likely', 'harmonies', 'Drawers', 'gesture', 'suites', 'OK', 'Way', 'movements', \"he'll\", 'helm', '75th', 'popularity', 'troublesome', 'Cards', 'turns', 'influences', 'stars', 'Low-flying', 'seated', 'culminating', 'visits', 'Giants', 'pleasant', 'Payson', '$43,000', 'Houk', 'burden', 'Roommates', 'advisory', 'whites', 'kick', 'Moultons', 'Said', 'batters', 'brief', '340-blast', 'torpedoes', 'obligated', 'disapprove', 'achievements', 'instance', '1,119', 'teahouse', 'Troy', 'Very', 'Mardis', 'culpas', 'Chicago', 'soaring', 'hand-woven', \"months'\", 'burst', 'pseudynom', 'relieved', 'Thompson', 'Breuer', 'Attacks', 'dress', 'reaction', 'McCauley', 'Uncas', 'herself', 'circulating', 'floor', 'understandably', 'Plea', 'sprinkle', 'Generale', 'indoor', 'crash', 'Springs', 'craven', 'yield', 'asset', 'Trail', 'salary', 'biz', 'concern', 'Services', 'listen', 'healed', 'ethnic', 'Mohammedanism', 'grandma', 'fell', 'parochial', 'stopovers', \"don't\", '41-8', 'brain', 'newspaper', 'Take', 'bonding', 'administrative', 'makers', 'self-sacrifice', '23d', 'Shelby', 'speak', 'harder', 'eighteen', 'Atty.', 'Hypocrisy', '1951', 'ownership', 'payoff', 'bass', 'fires', 'intends', 'devote', 'excite', 'Lenny', 'Simon', 'amended', 'court-length', 'bolted', 'salaries', 'wedding', 'ninety-nine', 'emphasizing', 'supreme', 'chaos', 'vacated', 'durable', 'Harriman', 'i.e.', \"Maryland's\", 'nightly', 'Trap', 'Weaver', 'abroad', 'contrast', 'discriminatory', 'Communist-led', 'trip', 'qualities', \"Arkansas'\", 'holidays', 'Aldo', 'reconstruction', 'Carty', 'carrying', 'Morton', 'Alex', 'understand', 'Thesis', 'summer', 'luck', 'associate', 'keyboarding', 'Randy', 'staffs', 'proven', 'educators', 'doubtless', 'acute', 'lot', 'evening', 'Raymont', 'conciliatory', 'haze', '$12,500', 'hunting', 'patrons', 'Klux', 'poet', 'protect', 'Serve', 'fringe', 'full', 'Hamm', 'consequently', \"Controller's\", 'Main', 'communication', '145-pound', 'himself', 'price-setting', 'Assuming', 'discrimination', 'obligation', '$52,500', 'soloists', 'progress', 'ready', \"Bootle's\", 'neutralist', 'sewer', 'maintaining', 'adviser', 'Guinea', 'effectively', 'Balenciaga', 'far', 'run', 'Almost', 'Bad', 'Rayburn', 'dinners', 'chicanery', 'makes', 'S.', 'Miami', 'corruption', 'single', 'assured', 'Constitution', 'common', 'behaving', 'expand', 'manifestly', 'tonight', 'Sudier', 'interior', 'paintings', 'scapegoats', 'on-the-scene', '$10', 'excessive', '22-acre', 'divided', 'brunches', 'danseur', 'Plee-Zing', 'element', 'overcome', 'dumb', 'erred', 'Metropolitan', 'accidentally', 'Davidson', 'grant', 'threaten', 'applicant', 'J.', 'grimly', 'Malone', 'Homer', 'panels', 'lecture', 'Henderson', 'patronage', 'Spahnie', 'Wansley', 'Celebration', 'conviction', 'Cincinnati', 'disrepute', 'veil', 'spot', 'Clipper', 'untrammeled', 'Newsweek', \"fall's\", 'turmoil', 'aggressively', 'Clarence', 'fled', 'Eastman', 'Shatilov', 'Sum', 'represented', 'Kalonji', \"medico's\", 'operator', 'mechanics', 'tongues', 'sentenced', '7A', 'preaching', 'informally', 'determined', 'whirling', 'Leary', 'builders', 'Genevieve', 'encouraged', 'channels', 'oft-repeated', 'Blaber', 'Yogi', 'Sievers', 'one-iron', 'seventeen', 'belonging', 'Greenwich', 'normally', 'Pualani', 'nationalism', \"woman's\", 'expansive', \"Berra's\", 'Jersey', 'cut-off', 'succeeded', 'declared', 'recommended', 'appointing', 'directed', 'votes', 'Nassau', 'whichever', 'Blum', 'affair', 'Supreme', 'Moune', 'passing', 'forest', 'solidarity', 'la', 'figuring', 'Me', 'drives', 'satisfying', 'underwriters', 'Premier', \"Europe's\", 'right', 'Zurcher', 'with', 'attention', 'undeveloped', 'anytime', 'frightening', 'Mt.', 'schedules', 'ballplayer', 'prefer', 'Bucharest', 'blunt', 'reasons', 'suggest', \"Case's\", 'difficult', 'Pamela', 'concede', 'At', 'glowing', 'COAHR', '$28', 'gala', 'Auntie', 'machines', 'if', '4.4', 'resigned', 'conditions', 'depended', 'often', 'Wacklin', 'Robbins', 'Bucks', \"York's\", 'steady', 'senators', 'oks', 'continuing', 'rides', 'demands', \"U.N.'s\", 'follow', 'Homeowners', 'dark-haired', '$2,170', 'Mead', 'Anyone', 'heavier', 'Semenov', 'Wolcott', 'finances', 'true', 'gratification', 'restrained', 'Viewing', 'Cooperman', 'gravy', 'Afterward', 'Geraldine', 'unfamiliar', 'Rev.', 'congratulated', 'timing', 'Martinelli', 'T.', 'false', 'consumers', 'interference', 'Republican', 'dead', 'alliance', 'capita', 'Glazer', 'faced', 'DeForest', 'merely', 'detriment', 'drying', 'active', 'Longhorn', 'Arrow', 'diplomatic', 'Tree', 'within', 'MVP', 'residence', 'feeds', 'abstention', 'daughter', 'studies', 'marketings', 'Mass.', 'Wragge', 'trained', 'horses', 'days', 'racing', 'semester', 'Rutherford', 'Chico', 'princesse', 'Ainsworth', 'postman', 'Western', 'Lawford', 'northeast', 'Greenville', 'intention', 'Beyond', 'Airport', 'assignments', 'Skyline', 'immediate', 'terminate', 'uncle', 'merry-go-round', 'Modern', 'entertained', 'Uruguay', 'segregated', 'taking', 'campaigning', 'personification', 'three-wood', 'slaying', '6-3', 'Leroy', 'heels', 'Balkan', 'shrugged', 'initiating', 'maiden', 'sidelines', 'Ridge', 'version', 'Japan', 'Carolyn', 'neckline', 'Tuberculosis', 'Gretchen', 'fate', 'hike', \"Musician's\", 'term-end', 'assaulting', 'despite', 'Post', 'holdings', 'UPI', 'British', 'high-school', 'inauguration', 'Scotland', 'muscular', 'Wellsville', '$39.5', 'Y-Teen', 'fathers', 'Traffic', 'summoned', 'reduce', '1958', 'Rickshaw', 'Expect', 'Irwin', 'compensation', 'Tension', 'exposed', \"Chicago's\", 'freshman', \"Pohl's\", 'surviving', 'coup', '1957', 're-elected', 'Tieken', 'infantile', 'hampered', 'golf', 'outclassed', 'V-1', 'Sherwood', 'manual', 'kidnapping', 'Similar', 'Masons', 'assumption', 'Delta', 'fielders', 'enrollment', 'intervention', 'sectors', 'Abner', 'concert', 'teen-agers', 'gin', '20', 'Cuba', 'accused', 'Paul', 'Marv', 'Department', 'shaking', 'Dallas', 'weight', '2,418', 're-enactment', 'newly', 'Walters', 'getting', 'engagements', 'cookies', 'Vegas', 'theater', 'danger', 'fractured', 'conduct', 'raincoats', 'Beach', 'Plant', 'Parichy', 'sometimes', 'mortgage', 'swung', 'Busch', 'Morocco', 'beyond', '7-9', 'portrait', \"Jersey's\", 'Full', 'modernization', 'exceptions', '185,000', 'spider-leg', 'Former', 'fairway', 'carpenters', 'arise', '8', 'retrenching', 'E.O.', 'Screw', 'naturalized', 'producing', 'Farm', 'accepting', 'furs', 'mercy', 'Moulton', 'Orleans', 'fashion', 'visitor', 'Outer', 'Liss', 'Masonic', 'updated', 'scene', 'muscle', 'over', 'Plainview', 'jobs', 'Passavant', \"ladies'\", '2-score-year', \"manufacturers'\", 'feelings', 'improvement', 'representation', 'strategy', '543', 'Dubovskoi', 'indecisive', 'careful', 'Dubois', '1910', 'virtues', 'Mexican', 'High', 'Nicholas', 'festivities', 'Prince', 'aimed', 'short', 'May', 'Aiding', 'Hord', 'ethical', 'whose', 'headline', 'Certain', 'licensing', 'outset', 'Vagabonds', 'support', 'corporate', '$9', '13.5', '767', 'integration', 'Designs', 'handy', 'scholars', 'generous', 'Rostagnos', 'Olivia', 'acceptable', 'impair', 'extensions', 'wanting', 'Maple', 'investigation', 'Birdie', 'Boonton', 'hoped-for', 'tallies', 'realization', 'right-handed', 'introduced', 'football', 'service', 'release', 'Scherer', 'new', 'quickie', 'sit', \"Roberts'\", 'Dyer', 'handling', \"Gallery's\", 'Here', 'court', 'sound', 'roommate', 'stupidity', 'home-owners', 'barber', 'Soule', 'notable', 'Robert', \"we'd\", 'earning', 'help', 'Only', 'musicians', 'signed', 'Norris-LaGuardia', 'Jack', 'assault', \"Stengel's\", 'lodge', '24', 'officer', 'believed', 'strokes', 'daughters', \"Gordon's\", 'consider', 'sufficiently', 'angry', 'uniformed', 'came', '1776', 'basic', 'Basic', \"one's\", 'steak', 'Emcee', 'stream', 'scheduled', 'Wexler', 'especially', 'oust', 'I', 'dependent', 'anonymous', 'Long-term', 'god-like', 'dampened', 'disposition', 'Don', 'cents', 'historic', 'courts', 'miniature', 'Company', 'Gaynor', 'racket', 'moldboard', 'cannot', 'forgive', \"Meyner's\", 'Stickney', 'Billy', 'veteran', 'reflecting', 'Dictator', 'pad', 'slugging', 'Texan', 'managements', 'experiments', 'Kika', 'mobile', 'His', 'supports', \"golf's\", 'parking', 'tradition', 'Successful', 'Perry', 'Convair', 'Auburn', 'grab', 'hoodlums', 'differently', 'tapped', 'Papa', \"'55\", 'locomotive', 'relegated', 'murdered', 'drank', '5:30', 'hopes', 'does', 'Abra', '50,000,000', 'Mac', 'boasted', '$25,000', 'violating', 'year-to-year', 'scoring', 'provides', 'Wellsley', 'quite', 'steamship', 'quarterly', '12-month', 'teamsters', 'bags', \"bishops'\", 'Petrini', 'arrears', 'cashed', 'Forsyth', '1,065', 'inapt', 'paycheck', 'peasants', 'ideal', 'obstructed', 'hitch', 'Kochaneks', 'double-crosser', 'adverse', '114', 'record-tying', 'See-through', 'consonance', 'even', 'Open', 'warned', 'Jessy', 'Latter', 'Completing', 'obstructionist', 'stove', 'stuff', 'skips', 'plenty', 'Operation', 'wedge', \"Club's\", 'correspondent', \"1800's\", '$172,400', 'Command', 'Jackie', 'volunteer', 'simultaneous', 'Berry', 'speculations', 'monotonous', 'Sens.', 'alternative', 'conclusions', 'Being', 'availability', 'landscape', 'dated', 'complaint', 'Carpentier', 'independence', 'coordinate', 'narrowly', 'metal', 'alert', 'The', 'riding', 'Huddle', 'Laughlin', 'canvas', \"writers'\", 'Meyers', 'parent', 'shootings', 'reasonable', 'salesmanship', 'desegregated', '38-point', 'pork-barrel', 'Catcher', 'deep', 'Musial', 'Riverside', 'Sapio', 'businessmen', \"layman's\", 'portrayal', 'Jimmy', 'tracks', 'Janssen', 'new-rich', 'satisfactorily', 'conflict', 'breakdown', 'Gables', 'Jody', 'subjected', 'stag', 'Asks', 'classes', 'spring', 'Attitude', 'Wichita', 'possibly', 'liquidation', 'Maine', 'pending', 'concessionaires', 'Steel', 'wellknown', 'stolen', 'organizing', 'Bond', 'independent', 'vs.', 'overcrowding', 'Ohio', 'loading', 'take-off', 'rare', 'ha', 'pounds', 'coordination', 'injunctions', 'exception', 'Cabot', 'Nightingale', 'Vast', 'resumed', 'Glimco', 'plows', 'dropped', 'bipartisan', 'banker', 'harsh', 'kids', 'Floresville', 'earliest', '1927', 'probably', 'seaside', 'supposed', 'Bundy', 'Mulligatawny', '4911', 'Bulloch', 'treat', 'squared', 'kitchen', 'g-p', 'defaulted', 'revisions', 'Should', 'struggling', 'Maureen', 'hit-run', '3646', 'love', 'enough', 'secretarial', 'intern', 'raising', 'Inc.', 'together', 'exhibition', 'conspiracy', 'sparing', 'seen', 'intentions', 'Blume', 'Broeg', 'required', 'Lubbock', 'bail', 'explain', 'artists', 'lettered', 'toy', 'roof', 'full-dress', 'McAlister', 'Doctors', 'Sunny', 'offenses', 'resource', 'two-family', 'lacerations', 'Carmine', 'ARF', 'stretching', 'posts', 'Stein', 'wasteful', 'validated', '1950', 'registration', 'Natural', 'unconstitutional', 'Lint', 'vote', 'Heideman', 'ring', 'Republic', 'panic', 'judged', 'deed', 'Kershbaum', 'Long', 'initially', 'Welsh', 'directing', 'seemed', 'routed', 'solicits', 'Viceroy', 'Garden', '$5.2', 'students', 'textile-producing', '$600', 'orderly', 'golden', 'treatment', 'pleaded', 'our', 'shareholders', 'results', 'ones', 'amend', 'huge', 'eradication', 'status', 'decertify', 'grandiose', 'brokers', 'fundamentalism', \"sister's\", 'themselves', 'Wells', '10:30', 'posted', 'sought', 'Luette', 'propose', 'slumped', 'salting', 'Jail', 'filbert', 'Above', 'veiled', 'Wagner', 'servants', 'Chestnut', 'pains', '553', 'Rules', 'avidly', 'Freeport', 'communities', 'Finally', 'separately', 'Ore.', 'family-community', 'artistic', \"Anderson's\", 'slash', 'managed', 'inappropriate', 'toast', 'three-story', 'Stella', 'arithmetical', 'only', 'Person', 'complaining', 'Rounded', 'Golfers', 'pays', 'senator', 'Savage', 'Landrum-Griffin', 'Orchestre', 'Contribution', 'Rickenbaugh', 'dealer', 'survival', 'Bibb', 'Incidentally', 'monument', 'call', 'Vic', 'Hill', 'half', 'admit', 'Bake-Off', 'Piedmont', '21-year-old', 'Kililngsworth', 'Lawn', 'Canada', 'conpired', \"Mantle's\", 'distributions', 'Masters', 'formative', 'bleacher-type', 'Sunshine', '2nd', 'Hinton', \"war's\", 'sites', 'constituents', 'smelling', 'Ideally', 'preclude', 'Had', 'Loen', 'reared', 'chat', 'role', 'Reese', 'Parliament', 'Frankie', 'full-scale', '704', 'dots', \"Falcons'\", 'O', 'Theodore', 'Toni', 'livelihood', 'assaulted', 'rosy', 'AP', 'Bruce', 'Snapped', 'dread', '17,000', 'mayor', 'negotiating', 'heroes', 'title-holder', 'Strip', '$10,000-per-year', 'battle', 'rain-slick', 'voice', 'worthiest', 'Import', 'disillusioned', 'Guests', 'strayed', 'piping', 'Tabb', \"O's\", 'Sportsman', 'Persons', '1956', 'sandwich', 'wild', 'Durwood', 'guidance', 'hiring', 'Averell', \"Hall's\", 'impotency', 'Myers', 'anti-Colmer', \"Willie's\", 'writers', 'accomodations', '17', 'ruefully', 'Avenue', 'slated', 'framed', 'equivalent', 'self-exile', 'enormous', 'restrictions', 'Cal.', 'bombers', 'Warren', 'Bricker', 'vines', '228-229', 'Gains', 'seniority', 'translated', 'unanimous', 'Nonresidential', 'Okinawa', 'arises', 'marching', 'confronting', 'would', 'awareness', 'emasculated', 'feats', 'eggs', \"alliance's\", 'Diversified', '6-foot', 'chef', 'Customary', 'Kong', 'Esther', 'Youngsters', 'Ilyushin', 'Trade', 'barred', 'scheme', 'cooperate', 'border', 'lieutenant', 'blow', 'clouded', 'Peking', 'lustrous', \"Lonsdale's\", 'thinning', 'neighborhood', 'lampoon', 'ailing', 'decline', 'chopper', 'last-minute', 'Stranahan', '3-hitter', 'Backs', 'pieces', 'division', 'Pas', 'why', '1925', 'Defends', 'patterned', 'published', 'Stone', 'allowance', 'ninth', 'Regional', 'warning', 'To', 'camera', 'modification', 'pedestrian', 'Research', 'Brandt', \"let's\", 'available', 'examiner', 'gumption', 'Bldg.', 'Catch', 'Reama', 'visiting', 'recession', 'chic', 'proved', 'stick', 'have', 'pause', 'Gary', 'midway', 'Airlines', 'highways', 'alike', 'Chisholm', 'heritage', 'execute', 'guardians', 'entitled', 'plunkers', 'teammate', 'purse', 'television', 'flights', 'Add', 'grabbing', 'same', 'glaze', 'Important', 'viewed', 'devotion', 'Practice', 'betting', 'Like', 'vowed', 'tears', 'took', 'contribs', 'waged', 'Dorenzo', 'Getting', 'erasing', 'manufacturer', 'draft', 'Pierre', 'Adam', '1960s', 'witnessed', 'precisely', 'escheat', 'clothes', 'science', 'opera', 'bedtime', 'defensive', 'Outfielder', 'Vivacious', 'Tawes', 'lack', 'sidled', 'Sharkey', 'nourished', '8861', 'brother-in-law', 'diplomacy', 'luncheon', 'Progress', 'Track', 'investigating', '1964', 'committee', '1', 'cloakrooms', 'taffeta', '$125', 'State', '1954', 'collected', 'solemnly', 'McAlester', 'Caltech', 'switched', 'Most', 'Building', 'Repertory', 'innings', 'North', 'bloodstream', 'closing', 'condemned', 'sporting', 'quiet-spoken', \"League's\", 'Missionary', 'cats', 'co-ordination', 'a.m.', 'struggle', 'describes', 'grievances', 'dismissal', 'concessions', 'leather', 'Espagnol', 'address', 'chambers', 'bought', 'Led', 'Squad', 'Superior', 'mounted', 'mud', 'Gil', 'Concert', 'disturbing', 'investments', 'unspecified', 'aisle', 'arm', 'worker', '1959', 'wary', 'Aj', 'strengthen', '4-year', 'liberal', 'nonviolent', 'filling', 'Orchestra', \"David's\", 'brokerage', 'Christian', 'swinging', 'Lounge', 'credited', 'gallery', 'label', 'canned', 'collecting', 'Reifenrath', 'aiming', 'shrinking', 'per-game', 'Boeing', \"Dealers'\", 'copies', 'shell', 'Kankakee', 'Volume', 'pushed', 'predominating', 'Giacometti', 'factory', \"association's\", 'provide', 'painful', 'him', 'Monte', 'enlarge', 'Elliott', 'company', 'priests', 'sporadic', 'Coconut', 'trailed', 'Turk', 'pedestal', 'narcotics', 'Killingsworth', 'Sidney', 'Kieffer', 'diagnostic', 'most-valuable', 'strongest', 'features', 'office', 'growth', 'triple-crown', 'Meadow', 'Ilona', 'socialized', \"people's\", '31', 'down', 'Charitable', 'warless', 'Fundamental', 'boundaries', 'Hubbell', 'revolutionized', 'Sousa', 'face-saving', 'arouse', 'wonderful', 'claiming', 'trying', 'Pappas', 'Held', 'respected', 'Cliff', 'Dunn', 'U.', ',', 'Feringa', 'Row', 'adjournment', 'Hays', 'money-winner', 'newsmen', 'shift', 'slums', 'fall-off', 'now', 'Catholics', '237%', 'finale', 'decorator', 'Jerry', 'bureau', 'Audubon', 'side', 'Ceil', 'week', 'occasions', 'attorney', 'choreography', 'added', 'test', 'unprofitable', 'happy', 'desertion', 'wiping', 'Younger', 'Winds', 'abuses', 'intrigue', 'baneful', '1945', 'Escape', 'acquittal', 'donations', 'fight', 'Gerosa', 'Denver', 'return', 'emerge', 'hamlet', 'resisting', 'Ace', 'Use', 'musical', 'battered', 'Taylor', 'satin', '52', 'males', 'prostitution', 'stature', 'almost', 'legitimate', \"workers'\", 'explorers', '21st', 'Dalles', 'Toys', 'skylarking', 'Edgar', 'Streets', 'requesting', 'money', 'richest', 'Troopers', 'ancient', 'none', 'Bali', 'Kennedy', 'Hamey', 'Dave', 'vexing', 'Paul-Minneapolis', '$15', 'Phelan', 'Werner', 'northern', 'requiring', 'scholastic', 'Mustangs', 'rulers', 'impeccable', 'system', 'target', 'rangers', 'exceptionally', 'snack', 'Other', 'eject', 'Hackstaff', 'orange', 'nights', 'collaborated', 'Into', 'apparent', 'McIntyre', 'hands', 'lately', 'Future', 'unite', 'Bow', 'Darlene', 'Bailey', 'flickered', 'failed', 'consent', 'tide', 'Hughes', 'flight', 'peddle', 'it', 'Same', 'Interviews', 'speculative', 'lowered', 'mirror', 'Schools', 'Denverite', 'Kremlin', 'invaded', 'storage', 'Drs.', 'destroying', 'heralded', 'approached', 'slogan', 'indefinite', 'Midway', 'Marietta', '$700', 'Beauty', 'guide', 'Cumbancheros', 'instead', 'experimental', 'Hopefully', 'Kas.', 'stories', 'reason', 'nonwhite', '186', 'Hemphill', 'jacket', 'weekend', 'already', 'abide', 'dynamic', 'focused', 'recognize', 'cent', 'Dulles', 'speaking', 'line', 'insistence', 'joined', 'Mount', 'temporarily', 'Eve', 'organ', 'however', 'nine-game', 'Alexandria', 'keynote', 'German', 'item', 'enactment', 'reacting', 'Longhorns', 'Maintenance', 'engulfed', 'Western-style', 'vows', 'mar', 'firemen', 'points', 'U-2', 'wagging', 'Willett', 'Shea', 'mating', 'gulped', 'professionals', 'bargain', 'Christine', 'restless', 'ebony', 'External', 'Beardens', 'capitalist', '8%', 'Reeder', 'attributable', \"O'Connor's\", 'Railroad', 'Hillcrest', 'masonry', 'Flushing', 'premium', 'Eastland', 'enjoyed', 'win', 'gray', 'hood', 'hearing', 'can', 'fame', \"students'\", 'violate', 'corporations', 'roaring', 'instrument', 'slate', 'mercenaries', 'scope', 'exploit', 'pocket', 'rapport', \"Tech's\", 'R-Cape', 'Dreamboat', '51', 'Katanga', 'captivated', '9-7', 'pitcher', 'fabled', 'twin', 'anticipated', 'lease', 'jumped', 'professional', 'lumped', 'bubble', 'segregation', 'rocket-bomb', 'general', 'Lee', 'masterful', 'wonderfully', 'bite', 'tambourine', 'halfbacks', 'novel', 'base', 'Spurdle', 'contained', 'realize', 'blended', 'drove', 'reward', 'crazy', 'stewardesses', 'precautionary', 'Dunlop', 'copper', 'Leon', 'iron', 'mail', 'stew', 'Political', 'Viet', 'reproduced', 'comprised', '149', 'retracted', 'cities', 'attended', 'pocket-size', 'experiencing', 'attactive', '300', 'Strategic', 'for', 'Adnan', 'victories', \"they've\", 'academies', 'Munger', 'resort', 'suit', 'Neumann', 'F', \"She'll\", 'overthrow', 'Attorneys', 'Cemetery', 'Fidel', 'bunter', 'men', 'baggage', 'exist', 'Tech', 'interpretation', 'in-group', 'Westphalia', 'girl', 'glow', 'super', 'glamorous', 'sirens', 'Cites', 'Ferdinando', 'denunciation', 'understandable', 'councils', \"Jorda's\", 'envisaged', 'Sometimes', 'farmer', 'Cimoli', '$457,000', 'Communists', 'fifth', 'Kimmell', 'workable', 'used', 'Pensacola', 'Park', '687.87', 'big', 'becoming', 'S', 'burned', 'sportswriter', 'bored', 'finalist', 'deal', 'sums', 'optimistic', 'Daniel', 'array', 'feat', 'outclass', 'companionship', 'pleads', 'coaches', 'fraction', 'Piraro', 'refurbishing', 'Harveys', 'Farley', 'Affaire', 'Commandeering', 'completely', 'transfer', 'Emerald', 'choices', 'Professional', 'Jim', 'attracting', \"Bucs'\", 'Pretty', 'Perlman', 'Write', 'pertinent', 'assure', 'Kloman', 'geography', 'Thereafter', 'Da', 'royal', 'loophole', \"government's\", 'Laguna', 'Construction', 'Tommy', 'operators', 'Wild', 'foreign-aid', 'trustees', 'perched', 'Middle', 'Pirie', 'CTA', 'equal', 'turning', 'Dallas-headquartered', 'Keeler', 'Evanston', 'sparkle', 'frankness', 'unrestrictedly', 'signers', 'Owens', 'ban', 'Baird', 'top-grade', 'Beverly', 'Va.', 'Greece', 'heart', 'music', 'Tims', 'Indianapolis', 'begins', 'because', 'oysters', 'interest', 'stand', 'runway', 'Marin', 'decision-making', 'imposition', 'advocacy', '62', 'determining', 'highway', \"Party's\", 'pitch', 'denting', 'cold', 'remedy', 'forgetting', 'planners', \"Veeck's\", 'barn', 'pearl', 'global', 'Player', 'preferred', 'borne', 'enriching', 'cars', 'Buaford', \"football's\", \"father's\", 'bat', 'blows', 'Clyde', 'N.J.', 'misled', 'measuring', 'Mrs.', 'Gehrig', 'announcements', 'mathematically', 'D.', 'moist', 'Colorado', 'Schenk', 'recent', 'Officials', 'exaggerate', 'tactical', 'erratic', 'reminisces', 'Field', \"Airline's\", 'shared', 'dozen', 'Century', 'Nearly', 'streams', 'Hinsdale', 'client', 'looking', 'Railroads', 'Finalists', 'oath-taking', 'imagination', \"10-o'clock\", \"you've\", 'Tic-Tac-Toe', 'less', 'colleagues', 'Mississippians', 'sell', 'pedagogue', 'consisting', 'delay', 'gross', 'Quarterback', 'silhouettes', '$47,101,000', 'maximum', 'strings', 'technicians', \"men's\", \"Rickey's\", 'Southeastern', 'boobify', 'artist', 'approaching', 'offices', 'roses', 'Carolina', 'break', 'walkways', 'attempts', 'dreadful', 'dour', 'widely', 'Michaelson', 'Sports', 'spectacular', 'tractor', 'Patricia', 'constitutional', 'passes', 'jet', 'briefs', 'neighbors', 'allegations', 'zombies', '30,000', 'reporter', 'thirteen', 'author', 'Midwest', 'mention', 'Fair', 'junior', 'Hickok', 'Speaking', 'agreed', 'supper', 'injured', 'magazine', 'appreciation', 'names', 'Basketball', 'mayonnaise', 'eighth', 'Builders', 'Tareytown', 'pilgrimage', 'disinterested', 'Illustrated', 'candid', 'advice', 'Jury', 'switching', 'Queens', 'National', 'know', \"What's\", 'acknowledgment', 'toured', 'conspirators', 'confrontations', 'mano', 'freight', 'benefit', 'fined', 'Policemen', 'notices', 'ability', '508-yard', 'returning', 'advisors', 'spongy', 'Thursday', 'clusters', 'pulling', 'successes', 'colony', 'paving', 'skiddy', 'conservative', '187-mile', 'secretary-treasurer', 'eye', \"we'll\", 'surgery', 'dealers', 'sacrifices', 'choke', 'Fonta', 'My', 'named', 'message', '19,000', 'grabbed', 'survivors', 'Opposition', '300,000', 'congealed', 'remarkable', 'contemporary', 'track', 'one-half', 'boil', 'connection', 'Illinois', 'share', 'criticisms', 'dragged', \"Geraghty's\", 'insurance', 'perfect', '34', 'assailant', 'eight', 'Verrone', 'subsequent', 'duffers', 'Statements', 'Worth', \"Hallowell's\", 'place-kicking', 'Garson', 'avenue', 'Susan', 'bridesmaids', 'studio', \"County's\", 'not', 'awarded', 'mechanic', \"general's\", 'professor', 'Guglielmo', 'near', 'meddle', 'Pa.', 'activity', 'aloud', 'coconut', 'No.', 'startlingly', 'adjustments', 'brilliant', 'improving', 'morning', 'runs', '50-year-old', 'Rice', 'Earlier', 'Joanne', 'Kings', 'syndicate', 'sky', 'secret', 'Governments', 'Rotary', 'evaluating', '31978', 'reference', 'toll-rate', 'Holy', 'easy-to-reach', 'slapstick', 'continent', 'reached', 'battling', 'Justice', 'won', 'shown', 'administrator', 'reach', 'Miller', 'threats', \"Brocklin's\", 'inflamed', 'generation', 'Japanese', 'autumn', 'churchmen', '1928', 'ill', 'aerials', 'rights', 'steep', 'totally', 'slipped', 'Nam', 'example', 'wait', 'student', 'village', '90', 'wonder', 'parks', 'Baldrige', 'intended', 'aircraft', 'coalition', 'tusks', 'washed', 'Muncipal', 'Air', \"pastors'\", 'they', 'Bales', 'Expresses', 'utility', 'suggested', 'Post-Dispatch', 'purchases', 'reactions', 'disable', 'ghastly', 'Quell', 'Duren', 'letters', 'capable', 'Usually', '2825', 'collision', 'resident', 'detract', 'irritable', 'real', '4:30', 'resurrection', 'Oldsmobile', 'Tuttle', '20,000', 'Merit', 'kind', 'D.C.', 'Reid', 'Not', 'Lafe', 'Sargent', 'closer', 'courteous', 'important', 'questions', 'should', 'January', \"Administration's\", 'relentlessly', 'achieved', 'expended', 'baked', 'alleging', 'mouth', 'ex-marine', 'discrepancy', 'electronic', 'Swelling', 'quartet', 'starting', 'straight-line', 'heat', 'boy', 'Solid', 'boxes', 'Street', 'roadblock', 'Stalling', '88', 'Both', 'transports', 'Belt', 'truths', 'forms', \"University's\", 'fail', 'decoration', 'Salvation', '24-inch', 'obliged', 'Administrative', 'wool', 'perturbed', 'benefits', 'expected', 'violin', '18,792', 'earth', 'Cup', '3-game', 'Copeland', 'Broncos', 'Crispin', 'issue', \"grandmother's\", 'hazards', \"Tom's\", 'Philip', 'Willamette', 'Inside', 'economize', 'Harcourt', 'Tibetan', 'fierce', 'defenders', 'combining', 'animals', 'procurement', \"Hansen's\", 'suitable', \"Anne's\", 'Alfred', 'Down', 'undistinguished', 'arson', 'governing', 'rotunda', 'estimates', 'break-even', 'Berger', 'breaching', 'Ball', 'close', 'Rochester', 'establishment', 'Dunbar', 'code', 'posed', 'apt', 'crossed', 'Cavaliere', 'Petipa-Tschaikowsky', 'Baker', 'impressionist', \"There's\", 'Fike', 'draw', 'enemies', 'cottage', 'happier', \"bridegroom's\", 'delivering', 'estate', 'Apparently', 'Therefore', 'Frog-marched', 'exec', 'sheet', 'Seventeen', 'Mackey', 'Expressways', \"Kirov's\", 'twisting', 'convening', 'powderpuff', 'quality', 'millions', 'tanks', 'concerts', 'hoc', 'scheduling', 'Battalion', 'Recounting', \"else's\", 'Banner', 'Quite', 'scenic', 'Roos', 'complicated', 'mailed', 'Funds', 'citizenship', 'overhead', 'rejected', 'Anthony', 'paganism', 'disturbance', 'empires', \"Gore's\", 'automatic', 'production', 'Kedzie', 'knock', 'conducts', \"Hubie's\", \"yesterday's\", 'imposes', 'Coles', 'jitters', \"fund's\", 'honorary', '$32,000', 'backed', 'vests', 'Increase', 'Motor', 'designed', 'shop', 'Anaconda', 'changed', 'Tex.', 'Range', 'disheartening', 'Congress', 'specified', 'tightly', 'Massimo', \"1900's\", 'Washington', 'sisters', 'Sears', 'Tooling', 'Grzesiak', 'intercepted', 'Rosy', 'laws', 'Ah', 'boasting', 'Wissahickon', 'tardiness', 'completed', 'honestly', 'foundation', 'Court', 'Southern-Republican', 'assemblage', 'Maybe', 'Bud', 'reduction', 'Nae', 'ball-hawking', 'Center', 'divulging', 'combating', 'interview', 'River', 'Returning', 'Considering', '280', 'interlude', 'noble', 'Reedville', 'post', 'prevent', 'fine', 'Welborn', 'unofficial', '4-13', 'Journal', \"country's\", 'esplanade', 'Claims', 'B.', '1899', 'opus', 'comes', 'double', 'imbroglio', 'pool', 'Hammarskjold', '$29,000', 'holders', '1947-49', 'obviously', 'Altar', '1922', 'possibility', 'early-season', '$80', 'Hengesbach', 'boosting', 'neutral', 'bluebonnets', 'Cedvet', 'commodity', 'Boy', 'inure', 'district', '1-inch', 'Ambulances', 'stuffed', 'French-born', 'Operating', \"Lenobel's\", '30,000,000', 'normal', 'dazzler', 'evidence', \"Karns'\", 'lay', 'killed', 'multiple', 'apologetically', 'orchestra', 'Growth', 'Channel', 'press', 'Passage', '229', 'rushed', 'studying', 'lay-offs', 'late', '1213', 'Then', 'guard', 'priced', 'thereupon', 'representatives', 'Knight', 'Lt.', 'Clement', 'Couve', 'potatoes', 'bearings', 'passage', 'enrollments', 'correlated', '4:05', 'answered', 'Hollander', 'Ogden', 'Conant', 'doldrums', 'commission', 'private-school', 'affiliations', 'partner', 'taste', 'hopper', 'solve', \"Alusik's\", 'certain', 'bride', 'attainment', 'Symington', 'finishing', 'Thus', 'Decisions', 'intangible', 'Examiner', 'A.A.U.', \"'51\", 'Rackmil', 'Palermo', 'et', 'Charley', 'Case', 'Irish', 'examined', 'hits', \"I'll\", 'Jolly', 'speculated', 'Contemporary', 'skid', 'Hodosh', 'Dade', \"Grizzlies'\", 'Luechtefeld', 'C.', 'unified', 'acknowledge', 'hostesses', 'bulky', 'Missiles', 'attract', 'Ebbetts', 'inquiries', 'tougher', 'crowd', 'conferees', 'Patrice', 'cease-fire', 'wistfully', 'controllers', 'colorful', 'Angelico', 'Of', 'happens', 'stockholders', 'Ludlow', 'fool', 'lull', 'remanding', 'outstanding', 'Lavaughn', 'par', 'gamble', '1910-14', 'inverted', 'Instead', 'ladies', 'Sioux', 'Crump', 'legal', '2-inch', 'Tax-free', 're-set', 'recruits', 'fatal', 'deadline', 'controversy', 'competitors', 'ambition', 'professors', 'villa', 'smoother', 'handles', 'Oriole', 'Frederick', 'Motel', 'allows', 'the', 'Coast', '52-year', 'facto', 'solving', 'dollar', \"Achaeans'\", 'leaguer', 'newest', 'Cod', 'exacerbated', 'Lao', 'standing', 'playtime', 'divorce', 'replacement', 'argued', 'everyday', 'vacancy', 'horsemanship', 'wear', 'walloping', 'Larson', 'inherent', 'scattered', 'played', 'assume', 'enterprises', 'bruises', 'scientist', 'remarks', 'vantage', 'erase', 'all', 'flashy', 'Georgia', 'study', 'composed', '$5,000,000', 'Housing', \"Throneberry's\", 'tip', 'Turkey', 'Heights', 'homerun', 'imagines', \"Huff's\", 'models', 'forever', 'Snellville', 'mutual', 'skyjackers', 'unnecessary', 'businesses', 'April', 'room', 'vocational', 'uses', 'products', 'hardship', 'uprisings', 'relaxation', 'statements', 'employed', 'appearances', 'caliber', 'lumber', 'freeze', 'Buckley', 'mid-September', 'gins', 'Thru', 'Tunis', 'pipe', 'Molinari', 'inflate', 'driver', 'Kaufnabb', 'frequently', 'lucky', 'bent', 'Ann', 'divide', 'Mfg.', 'legs', 'Texas', 'protests', '116', '71', '75-minute', 'outside', 'inhabitants', 'Balloon', '$4,700', 'Tuesday', 'fulfillment', 'Harry', 'spills', 'pirates', 'around', 'Brett', 'signs', '162-game', '2.21.6', 'Killebrew', 'Pleas', 'reacted', 'possess', 'verification', 'Albacore', 'fixed', 'Q.', 'remainder', 'addition', 'tending', 'jazz', 'asserted', 'McNaughton', 'Armour', 'she', 'prayer-time', 'Essex', 'tracts', 'House', 'threshold', 'bunkered', 'outlawed', 'Ct.', 'swift', 'municipalities', 'touched', 'hastily', \"Detroit's\", 'Marcile', 'Fazio', 'Virdon', 'enterprisingly', 'spotlight', 'unanimously', 'Mali', \"they'd\", 'ad', 'Sizova', 'witness', \"Angeles'\", 'international', 'Skipjack', '1.24', 'meager', 'description', 'pitfall', 'history', 'mechanism', 'guys', 'Grovers', 'Mike', 'gray-haired', 'view', 'dense', 'Washington-Oregon', 'relieve', 'leaders', 'fruitful', 'Korman', 'convey', 'remains', 'ye', 'Chantilly', 'related', 'blueberries', 'oops', 'There', 'Meredith', 'sagging', 'yards', 'Asked', 'bounced', '2,963', 'Windsor', 'Anatole', 'pricking', 'imply', '1930', 'Mayoral', 'Karol', 'Yes', 'carpeting', 'upheld', 'uniform', 'teenage', 'Blanchard', 'Tougas', '87-31', 'Whatever', 'grader', 'slugged', 'prove', 'missile', 'building', 'Klein', 'inform', 'sway', 'Capt.', 'pickers', 'oppose', 'point', 'Invitation', 'headquarters', 'heredity', 'formula', 'condition', 'instructor', 'Stout', 'Cacophonist', 'menace', 'ocean', 'pros', 'supposedly', 'Graduate', 'Polls', 'cost', 'Leopold', 'revived', 'Doyle', 'practice', 'shortly', 'Southeast', 'variations', 'Shreveport', 'planes', 'Baltimore', 'chair', 'Karen', 'some', 'Having', 'expires', 'sons', 'Hambric', 'peak', 'Alton', 'Conn.', 'rush', 'Sholom', '93', 'spots', 'Despite', 'affects', 'applied', 'Several', 'Castro', 'relationship', 'construction', 'Sigma', 'purposes', 'debate', 'continue', 'optimism', 'permanence', 'spelled', 'two-thirds', 'Supply', '5-5', 'Joe', 'introduction', 'Weldon', 'Result', 'Ierulli', 'suspended', 'cabinet', 'vigorous', 'insist', 'transition', 'originally', '7,000', 'intervened', 'inches', 'Social', 'capers', 'hotels', 'Cynthia', 'one-story', 'doubly', 'immediately', 'defense', 'issued', 'dismal', 'Adequate', \"countin'\", 'Roland', 'epicure', 'penalties', 'cracked', 'Narragansett', 'wayward', 'Scarsdale', \"owners'\", 'low-key', 'more-than-ordinary', 'bogeyed', 'indignation', 'Reno-Lake', 'equality', 'fund-raiser', 'etc.', 'Los', 'contain', 'Universal-International', 'permit', 'jurisdictional', 'anti', 'calling', 'monks', 'reservoirs', 'Palo', 'retains', 'window', 'Pierce', 'done', 'robber', 'yeast', 'Alba', 'nitroglycerine', 'well-established', 'Hector', 'managers', 'Serving', '900,000', 'functional', 'naughtier', '10-team', '$12,192,865', 'namely', 'opinions', 'deficit', 'birdie', 'wording', 'structured', 'non-partisan', 'spotlights', 'density', 'generally', 'printed', 'woman', 'bus', 'pin', 'Force', 'adequately', 'flooded', 'respective', 'plagued', 'handle', 'state', 'bare', 'otherwise', 'sophomore', 'Lyon', 'continued', 'contributions', 'laymen', 'boatload', 'breaking', \"city's\", 'left-centerfield', \"O'Sullivan\", 'Streeters', 'Armory', 'oldest', 'jarred', 'Barbara', 'R.L.', 'restrain', 'Stephenson', '36-year-old', 'Nazarene', 'innocent', 'palmed', 'Lois', 'Skip', 'sessions', 'reside', 'pooling', 'Arrington', 'cold-war', 'furnishings', 'vitally', 'Gotham', 'exhibitors', 'value', 'Sitting', '$251', 'universal', 'labeled', 'stopping', 'ballroom', 'contested', 'narrow', 'Soloviev', \"junior's\", 'Salinger', 'seconds', 'lower', 'auditorium', 'Potter', 'R.', 'strikingly', 'rushing', 'Edwards', 'second-place', 'tentative', 'NATO', 'republic', 'recommendations', 'Just', 'challenge', 'stop', 'lining', 'Palace', 'shirking', 'feathers', 'Breakthrough', 'Wealth', 'delightful', '280-yard', 'chain', 'levy', 'import', 'extends', 'frame', 'canvassers', 'presidency', 'six-point', 'snake', 'doormen', 'sluggers', 'respects', 'put', 'equipment', 'Reading', 'offense', 'agreement', 'Sinfonica', 'informed', 'son', 'Equal', '400,000,000', 'cellist', 'Augustine', 'walk', 'creator', 'Enrique', 'clearing', '13-5', 'encounter', 'picketed', 'Hmpf', 'Dodger', 'Bookwalter', '646', 'Gamma', 'Indemnity', 'Collett', 'five-day', 'Pennock', 'Meyer', 'announce', 'processes', 'illness', \"teammate's\", 'trout', 'Publisher', 'run-up', 'hurting', 'throughout', 'temperament', 'Acting', 'commissioners', 'Flock', 'megaton', 'women-trodden', 'McCluskey', 'attends', 'Corporate', 'drought-seared', 'seized', 'suddenly', 'tiny', 'mates', 'diplomat', 'Pauleys', 'Mayor', 'Schmidl-Seeberg', 'Consequently', 'church', 'God', 'appointment', 'residents', 'century', 'sights', 'occupation', 'Pinsk', 'cream', 'Chairman', 'pardoned', 'purchased', 'Jackson', 'assuring', \"Marr's\", 'eminent', 'corrected', 'urging', 'stimulatory', 'vanilla', 'farewell', \"won't\", 'alienated', 'revolt', 'Cabana', 'wormy', 'Behind', 'White', 'wintertime', 'Novosibirsk', 'reiterate', 'ensued', 'DeSoto', 'mere', 'Delray', 'romp', 'co-ops', 'Cir.', 'This', 'network', 'per', 'flared', 'overlooked', 'slow', 'Griffin', 'suite', 'jumpy', 'pastors', 'compartment', 'diving', \"Cuba's\", 'irrationality', 'burl', 'Inter-American', \"superintendent's\", 'emphasizes', 'sanctuary', 'multi-family', 'Rostagno', 'approximately', 'lean', '7.5', \"Britain's\", 'Vacancy', 'reasoning', 'E.', 'summertime', 'foolish', 'Hills', '1947', 'Jr.', 'Inna', 'pre-Fair', 'terms', 'Vernor', 'increasing', 'motels', 'collect', 'apparently', \"R's\", 'impolitic', 'bypass', 'tidying', 'giving', 'quarrel', 'intangibles', 'Madonna', 'threw', 'stimulation', 'All', 'destroyer', 'thwarted', 'domination', 'presently', '162', 'Handsome', 'Roberts', 'Alpharetta', 'Coulson', 'Investors', 'And', 'infiltrating', '15-year-old', 'Zoning', 'repartee', \"we've\", 'pars', 'Paget', 'Disapproval', 'very', 'dares', 'Ancient', 'Secret', 'Foliage', 'Course', 'Workshop', 'Reconstruction', '61st', 'public', 'Klaus', 'Anderlini', 'regulated', 'manipulate', 'sells', 'Du', 'An', 'debonair', 'toll-road', '$45', '189', 'reiterated', 'Lewelleyn', 'Inspections', 'laborers', \"They'll\", 'borrowed', 'Patrolman', 'touch', 'design', 'lessons', 'Plan', 'Frances', 'way', 'anti-organization', 'bounty', 'flowers', 'bonanza', 'Fulbright', 'Crawford', 'marking', 'literary', 'Hyndman', 'greater', 'Smallwood', 'sampled', 'Mauch', 'municipal', 'dollars', 'weapon', 'amid', 'compare', 'Luthuli', '$214', \"Stevenses'\", 'steamily', 'Casals', 'colored', 'Daley', 'Stansbery', '$7.20', 'difference', 'Third', 'surprised', 'faith', 'Jacqueline', 'employment', 'front', 'Alva', 'tourists', \"They're\", 'though', 'small', 'hair', \"Nation's\", 'Mineral', 'clarification', 'washed-out', 'such', 'Bake', 'circumstances', \"Sunday's\", 'session', 'Next', 'gotten', 'sponsors', 'Publishing', 'dispatched', 'Rocky', 'quo', 'adjustment', 'chestnut', 'typhoon', 'bombing', 'hurtling', 'pictured', 'offers', 'life', 'necessitate', 'federalize', 'convertible', 'antagonism', 'Seagoville', 'beads', 'economy', 'South', 'heather', 'She', 'testing', 'effort', 'Paris', '$7,500,000', \"ordinary's\", 'maid', 'Scott', 'knees', 'Fort', 'fourteen-team', 'Simmons', 'doubt', 'famous', '$2,700', '1885', 'computers', 'Epstein', 'pursuit', 'high-ceilinged', 'pressed-paper', 'guards', '$67,000', 'miracles', 'maker', 'stripped', 'Conversion', 'elaborate', 'precarious', '1908', 'historian', 'amateurish', 'midst', 'crowning', \"Fiedler's\", 'breaks', 'Minneapolis', 'ignition', 'operated', 'N.D.', 'enterprise', 'over-corrected', 'Fil', 'cherished', 'monopolistic', 'Morse', 'Atlantic', 'flood', 'Cauffman', 'drafted', 'Parkhouse', 'tribesmen', 'slackening', 'undefined', 'ideas', 'Bonn', 'must', 'stood', \"Russell's\", 'Typical', 'Angola', 'Put', '13%', \"Khrushchev's\", 'wilderness', 'applying', 'and', 'Casey', 'employ', 'endangering', 'college', 'catcher', 'champions', 'Holbrook', 'years', '$300', 'soon', 'reckless', \"couldn't\", 'Dist.', 'voting', 'Some', 'terminated', 'children', 'spending', 'motions', 'thoroughfare', 'institution', 'underprivileged', 'Regarding', 'advances', 'works', 'lucrative', '1961-62', 'Country', 'union', '10-year-old', 'Eldon', 'through', '4-1/2%', 'clash', 'Vernon', 'Zurich', 'lovers', 'Savings', 'Conflict', 'librarian', 'athletics', 'expect', 'vision', 'prelude', 'Gay', 'officially', 'Trimble', 'dispute', 'shapeless', 'bound', 'lied', 'Bel-Air', 'Tailback', 'collects', 'rejection', 'Quaker', 'Aeronautics', 'Alpha', 'Liberals', '50th', \"league's\", 'December', '127', 'Read', \"taxpayer's\", 'homer', \"builders'\", 'mortal', 'grillwork', 'Do', 'joblessness', 'clay', 'speedy', 'hat', 'wholly', 'cauliflower', '3-to-3', 'Davis', 'so-far', 'Ratcliff', 'tumbled', 'physician', 'enforcers', 'interlibrary', 'takes', 'base-stealing', 'Examiners', 'Somerset', 'Five', 'Wise', 'commit', 'spirits', 'agencies', 'lifted', 'chip', 'hamburger', 'industrialized', 'deputy', 'Russians', 'slowly-mending', 'certainly', 'seceded', 'tank', \"Daniel's\", 'grass-green', 'grain', 'term', 'Paradoxically', 'Sons', 'Grimm', 'stretch', 'Radio', 'Occasionally', 'aims', 'Scotchgard', 'catapulted', 'period', 'marriage', \"You'll\", 'narrowed', 'Dominic', 'bowed', \"States'\", 'care', 'substantial', 'achieve', 'aid', 'Carter', 'merchandising', 'feeble', 'retaliating', 'Pfc.', 'nose', 'hungry', 'nearing', 'Audrey', 'Fire', 'detention', 'elected', 'Look', 'pollution', 'binding', 'Campbell', 'burglary', \"that's\", 'vocals', 'recruiting', 'defendant', 'vacation', 'superior', 'ringside', 'I.R.S.', 'furniture', 'originated', 'canvassed', 'Oslo', 'Orcutt', 'honor', 'strengthening', 'Playboy', 'temperate', 'dropping', 'reorganization', 'emissary', 'yardage', 'exaggerated', 'Courbet', 'Gerald', 'displaying', 'nightmare', 'Reichenberg', 'injection', '1044', 'disbanded', 'drafts', \"Senate's\", 'Geneticist', 'embarrassing', 'Golden', 'eulogizers', 'seasonally', 'conservatives', 'shoulder', 'Skylark', 'Sulcer', 'Ernst', 'Cubs', 'count', 'Last', 'ending', 'Lorain', 'Rabb', 'I.', 'Greyhound', 'making', 'illusion', '40', 'Marine', 'Evelyn', 'easier', 'Republicanism', 'leader', \"'40's\", '44', 'vitality', \"church's\", 'Summerdale', 'craftsmen', 'chapters', 'editor', 'Thrush', 'one-room', 'Gaston', 'assemblies', 'strong', '3-10', 'documents', 'venture', 'answer', 'king', 'returned', '30th', 'satisfy', 'kid', 'inflexible', 'Mame', 'Mets', 'solo', 'Displayed', 'low', 'unknown', 'probability', 'tilts', 'knuckleball', 'allowing', 'tells', 'Steelers', 'stores', 'Intervenes', \"commission's\", 'bogeys', 'Answer', '6-5', 'Ferdinand', 'Mississippi', 'journalist', 'dining', 'Wide', 'naturally', 'Congo', 'Insuring', 'awarding', 'Danger', 'Baylor', 'bumper', 'completions', 'engine', \"trustees'\", \"can't\", 'Concern', 'scored', 'profound', 'snapback', 'twice-a-year', 'Ritchie', 'embroidered', 'Merrill', 'Toppers', 'Izvestia', 'Gardner', 'C', 'Rouge', 'spontaneous', \"McConnell's\", 'punted', 'actions', 'wave', 'bargaining', 'knock-down', 'contacted', 'earns', 'filial', 'bottom', 'reputation', 'finance', 'Line', 'us', 'theft', 'safari', 'high-legged', 'definition', 'Today', 'miscellaneous', 'relations', 'revamped', 'pictures', 'solicitor', \"Lenygon's\", 'coercion', 'body', '540', 'commitment', 'Control', 'decried', 'gifts', 'China', 'problems', 'ceremony', 'seven-stories', 'entire', 'Johns-Manville', 'Loan', 'lying', 'transfers', 'debutante', 'peril', 'fun-loving', 'Station', \"he's\", 'Dame', 'comfort', 'vice', \"Nixon's\", 'Children', 'dynamo', 'disposed', 'burglarproof', 'pricing', 'losing', \"Forbes's\", 'inconclusive', 'Ballroom', \"another's\", 'Isodine', 'fairways', 'dividend', 'eager', 'Royal', 'invited', 'chipped', '734', 'Pakistan', 'multi-product', 'Unconscionable', 'all-time', 'Accardo', 'work', 'cabled', 'momentum', 'compulsory', 'investment', 'teams', 'stands', 'Beaverton', 'trick', 'Johnston', 'vessel', 'rises', 'antiquarians', 'apartment-building', 'Choice', 'huddle', 'recognizes', 'arrangements', 'Back', 'Valuable', 'bars', 'compelled', 'ball-carriers', 'swept', '25,000', 'Francisco', 'threesome', 'fearing', 'physically', 'Europe', 'Alto', \"player's\", 'complacency', \"bulletin'd\", 'effect', 'ten-concert', 'auspiciously', 'briskly', 'watch', 'idol', 'founder', 'GOP', 'plenary', 'Dobbs', 'Kaiser', 'extending', 'Apartment', 'Athlete', 'contests', '$2400', 'Dec.', 'save', '9,273', '56-yard', 'Griffith-Jones', \"Pentagon's\", 'adopt', 'Hank', 'miracle', 'wherever', 'Rylie', '869', 'Williams', 'guests', '1946', \"Gladden's\", '55', 'needs', 'long-range', '900-student', 'Afterwards', 'See', 'wall', 'Pen', 'Fellowship', 'ants', '3-5', 'bed-time', 'Traxel', 'twenty', 'little', 'Putt', 'indicates', 'conversation', 'Gevurtz', 'transportation', 'one-third', 'Morehouse', 'Stark', \"Lumumba's\", '25,000-man', 'fly', 'judgment', 'decorative', 'Break', 'stuck', 'Willard', 'path', 'manufacturers', 'Sanitary', 'stage', 'halted', 'vigorously', 'stewards', 'factor', 'everyone', \"Council's\", 'incredibly', 'claimed', '$14', 'rough', 'nobody', 'mergers', 'rescue', 'interfere', 'elderly', 'lenient', 'subordinated', 'inevitably', 'tab', 'S.C.', 'Stalingr', \"High's\", 'Sir', 'amiable', 'stopped', 'sewing', 'preserving', 'plans', \"Spahn's\", 'nucleus', 'one-over-par', 'mission', \"county's\", 'ripped', 'skins', 'It', 'Louisiana', 'two-and-a-half-mile', 'Fleisher', 'revised', 'Greenwood', 'Darrow', 'Howell', 'lowliest', 'maligned', 'swum', 'Navigation', \"'49\", 'error', 'arrived', 'gas-fired', \"McClellan's\", 'aid-to-education', 'sing', 'doorstep', 'Baltimorean', 'car', 'condiments', 'bunched', 'many', 'Olivetti', '65%', 'Maroy', 'nightfall', 'tool', 'beardown', 'diem', 'Trigg', 'catchers', '1671', 'Melvin', 'quipping', 'atmosphere', 'defeat', 'pinch-hitter', 'suffered', 'Havana', 'Flower', 'drawn', 'obstacles', 'them', 'Cleaner', 'Bears', 'bodice', 'home-run', 'Chamber', 'trouble', 'gasoline', 'guiltless', 'nominated', 'comparable', 'subbing', 'counting', \"Mexico's\", 'Nelson', 'Anti-Communist', 'wrote', 'dancer', 'Siebern', 'imprudently', 'Jay', 'Woodyard', 'Chases', 'entertainment', \"aren't\", 'away', '1937', 'construed', 'ethics', 'taxi', \"child's\", 'pitchers', 'regretted', 'sinless', 'clock', 'Districts', 'Severna', 'broadened', 'Garza', '$18.2', 'tying', 'average', \"Yanks'\", 'budgets', \"'20's\", 'Grooms', 'revenues', 'initiative', 'tomorrow', 'Hatters', \"We've\", 'specialties', 'supersensitive', 'compete', 'advertises', 'personality', 'ballet', 'minister', 'Jock', 'exaggeration', 'embezzling', 'from', '250', 'Carroll', 'drum', 'double-header', 'sacrifice', 'Work', 'hosts', 'ransacked', 'Bal', 'Phil', 'Bearden', '2809', 'guerrilla', 'out-of-bounds', 'Appeals', 'quieted', 'structures', 'intra-mural', 'flag-stick', 'Stevenson', 'taught', 'end', 'Doctor', 'then', 'apply', 'Citizens', \"Skipjack's\", '3-year-old', 'Democratic-endorsed', 'crossroads', 'ante', 'Gala', 'organizations', 'readiness', 'watched', 'Trouble-free', 'June', 'Hobart', \"Denver's\", 'Ernie', '11:30', 'When', 'prevailed', 'just', 'contracted', 'Harriet', 'Taking', 'Vienna', 'box', 'Kelsey', 'expense', 'chart', 'shifting', 'bright', 'mature', 'James', 'courageous', 'raiser', 'Ga.', '37-year-old', '12th', 'drunk', 'Water', 'understands', 'rumored', 'Mound', 'discussions', 'pre-academic', 'Peter', 'snubbing', 'Fortin', 'although', 'imports', 'slow-bouncing', 'bookseller', 'stirling', 'agitating', 'L', 'relief', 'principle', 'flattened', 'rounds', 'Cancer', 'Leonard', 'uncertain', 'Polytechnic', 'Aikin', '$102,285,000', '2731', 'flattering', 'pre-Easter', 'threat', \"It'll\", 'disallowed', 'taxation', 'Banks', 'Initially', 'risk', 'harmony', '$7,082', 'Weeks', 'Draper', 'Felske', 'labor-management', 'Democrat', 'lest', 'Slim', 'government', 'reconvention', 'buying', 'headlines', 'Caldwell', \"AID's\", 'Grant', 'gardenias', 'sellout', 'incredible', 'comment', 'fins', 'omitted', 'carcass', 'wished', 'invoking', 'black', 'stewardess', 'Orlando', 'labor', 'believe', 'aspect', 'heyday', '25th', 'crossing', 'tons', 'wish', '8-year-old', 'master', 'Ron', 'take', 'Stephanie', 'sheep', 'phalanx', 'looting', 'first-class', 'wing', 'Border', 'forced', 'core', 'described', 'Random', 'W.', 'Carey', 'Three', 'valuation', 'wars', 'silenced', 'reactors', 'article', 'Show', 'compassionate', 'statement', 'fair', 'successor', 'Asian', 'Arlington', 'Rumford', 'Vientiane', 'Dawson', 'Bourcier', 'relatives', \"ol'\", 'statewide', 'probation', 'talking', 'will', 'well-informed', 'conditioned', 'photographers', 'agreeing', 'one-fourth', '--', 'Oh-the-pain-of-it', 'forth', 'conspicuously', 'Panama', 'Oak', 'NLRB', 'Study', 'treasures', 'Scotch', 'section', 'statutes', 'existence', 'Spanish', 'Cudmore', 'Chapter', 'fueled', 'picks', 'bobbles', 'S.P.C.A.', 'Riverview', '$40', 'Atlee', 'Albany', 'Consolidated', 'alternate', 'better', \"West's\", 'merchants', 'suited', 'five-month', \"Miller's\", 'magic', 'information', 'dance', 'clubs', 'Walker', 'strengthened', '90%', \"leader's\", 'grocery', 'discussing', 'swearing', 'tolls', 'connected', 'couples', 'crashed', 'enmity', 'thrill', 'plane', 'misconstrued', 'Legislative', 'Olsen', 'Bester', 'strongrooms', \"D'Art\", 'peddlers', 'Insurance', 'paid-for', 'Lawrenceville', 'diamond-studded', 'legislation-delaying', 'McConnell', 'Vinson', 'McGehee', 'consultations', 'Presidential', 'renew', 'Hartweger', '1917', 'Carrel', 'Misses', \"Commissioner's\", 'readjust', 'peacetime', 'classics', 'severely', 'speakers', 'lap', 'Yankees', '7:30', 'spectator', 'waterfront', 'displayed', 'computed', 'collapse', '1825', 'Scores', 'ten', 'Whitney', 'size', 'demonstrated', 'frau', 'Edgewater', 'Romantic', 'thrilling', 'observations', 'threatening', 'rumor', 'adjoining', 'cloud', 'Brook', \"Shea's\", 'growing', 'advertising', 'audio-visual', 'enlarging', 'Eighteenth-century', 'absence', 'putt', 'Officer', 'considered', 'flows', 'confirmation', '1,700', 'slogans', 'female', 'Reprisals', 'windy', 'celebrating', 'excellence', 'hottest', 'terrace', 'AF', 'aggression', 'Fra', 'wed', 'denote', 'Vero', '$120', 'Di', 'hospital-care', 'Flowers', 'nominating', 'wrongful', 'Thirteen', 'Kubek', 'Issue', 'bankruptcy', 'jockeying', 'nodded', 'demanded', '111', 'Stay', 'suspect', 'Suddenly', 'crop', 'totals', 'Comic', 'discover', 'tactics', 'unfair', 'Again', 'Senator', 'Ralph', 'honeymoon', \"Milwaukee's\", 'smile', 'trim', 'Prix', 'long', 'Stars', 'Rum', 'plates', 'featuring', 'Huntley', 'getaway', \"Gardner's\", 'teletype', '$1,500,000', 'onslaught', 'purple', 'Pirates', '64-cent', 'declines', 'lamb', '$172,000', 'Roger', 'rivalry', 'zeal', 'thorny', 'producer-hubby', 'police', 'President', \"Poor's\", 'foliage', 'decreeing', 'Days', 'performers', 'non-profit', \"Women's\", 'Or', 'Ryne', 'stockholder', '6-12', 'Reilly', 'contributed', 'meaning', 'co-educational', 'first', 'exciting', 'Birgit', 'Hagner', 'me', 'Scots', 'Prejudice', '21-year', 'pianist', 'precede', 'Smithfield', 'textile-exporting', 'Cannon', 'captured', 'By-passing', 'in', 'Borland', '8:30', 'indicating', 'm.p.h.', 'disharmony', 'Red-prone', '11-month-old', 'guttural', 'Salter', 'authority', '3,399', 'Congresses', 'split-level', 'brought', 'learning', '57', 'tulle', 'excise', 'incurred', 'finger-paint', 'Kel', '6th', 'Books', 'supported', \"road's\", 'renting', '$46.7', 'marines', 'Mission', 'Sentry', 'doorman', 'deductible', 'Listed', 'yet', 'Assembly', 'produces', 'Wyoming', 'La', 'page', 'paired', 'biography', 'pretenses', 'Medical', 'Cox', 'Billikens', 'smothered', 'miscalculation', 'seeing', 'Northwest', 'situation', 'implication', 'controls', '$1.5', 'solved', 'foot', 'Misunderstanding', 'poll', '59', 'denying', 'York-Pennsylvania', 'Llewellyn', 'inflation', '$60', '1940s', 'someone', 'fundamentals', 'States', 'segregationist', 'USN.', \"shouldn't\", 'mechanization', 'stand-ins', 'essential', 'Forsythe', 'falls', 'yardstick', 'scoop', 'descent', 'husband', 'Send', 'Baines', 'telephoned', '61', 'Many', 'supply', 'paces', 'feted', 'Athletics', 'Norristown', 'tournaments', 'somehow', 'testify', 'Except', \"Rembrandt's\", 'Southern', 'Good', 'bridges', 'Vikings', 'Swim', 'clown', 'draught', 'disarmament', 'rising', 'icy', '4', 'Munoz', 'run-scoring', 'warden', 'clustered', 'Hollowell', 'lawmakers', 'Betsy', 'bellboys', 'logistical', 'Bandstand', 'conventional', '$500', 'two-year', 'striking', 'Sent', \"Byrd's\", 'topnotch', 'Hit', 'developing', 'foreign-policy', '1965', 'Belgians', 'pinch-hitters', 'resourcefulness', 'Marsicano', 'lobby', 'driers', 'occupants', 'General', 'wholly-owned', 'amazement', 'presence', 'Becket', 'Judy', 'Braves', \"Tennessee's\", 'maintains', 'breakups', 'three-man', 'two-story', 'Treadwell', 'deemed', 'conferences', 'Mexico', 'sudden', 'charging', 'ritual', 'Pompano', 'rock', 'whims', 'derive', 'Decathlon', 'elevated', 'Nevertheless', 'recovery', 'Nieman', 'scalloped', 'players', 'favored', 'agree', 'voluntary', 'toys', 'rehearsal', 'Picasso', \"Woman's\", 'Senators', 'illustrated', 'form', 'fastest', 'contented', 'oilman-rancher', 'Soon', 'closed-door', 'questioning', 'Generally', 'endeared', 'rarity', \"Beadles'\", 'Durocher', 'underwrite', 'Sunay', 'gates', 'Mail', 'strange', 'afraid', 'fumble', 'disparities', 'saturation', 'Ginning', 'fore', 'Prairie', 'disbelief', '675', 'ought', 'steaming', 'Cushman', 'Browning', 'tapestry', 'exchange', 'lawn', '154', 'more', 'face', 'chose', '637', 'Continental', 'tall', \"Titche's\", 'motion', 'graciously', 'Clayton', 'powers', 'Sunset', 'calico', 'facing', 'kept', 'feature', 'retained', 'country', 'pursued', 'putting', '36', 'Horton', 'blues', 'globe', '12,000', 'mighty', 'toughness', 'tucked', '70,000', 'tuba', 'Nursing', 'calculating', 'Harlingen', 'Rte.', 'rate', 'extend', 'minor', 'European', 'ouster', 'industry', 'Groat', 'Abel', 'tutors', 'League', 'Charges', 'richer', 'Butler', 'Lucille', 'Cardinal', 'investor', 'Under', 'sympathy', 'signaled', 'chaotic', 'Teleprompter', 'taxiing', 'seeks', 'plus', 'ogled', 'Private', 'opens', 'F.', 'paternalism', 'finger', \"Berlin's\", 'Abolition', 'Logan', \"Russians'\", 'wife', 'constructing', 'shortage', 'explosive', 'counsel', \"Lowe's\", \"Doris'\", 'Ramsey', 'Nyberg', 'special', '$450', 'Opelika', 'physics', 'Hail', 'beautifully', 'society', 'bedroom', 'Gallery', 'bulge', '198', 'directions', \"today's\", 'Singles', 'tore', 'seize', 'openly', 'fete', \"d'hotel\", \"employers'\", 'Scolatti', 'Gus', \"president's\", 'exceed', 'banned', 'extraordinarily', 'reminiscence', 'Dobbins', 'filed', 'select', 'tension', 'secular', 'commodities', 'ex-Yankee', 'reviewed', 'substance', 'sleeps', 'triumph', 'rural', 'noes', 'doors', 'costly', 'explaining', 'mark', 'Tulsa', 'actress', 'rentals', 'discredited', 'greens', 'Gettysburg', 'reestablish', 'Sethness', 'tin', 'round', 'Pearl', 'Broadway', 'Frankford', 'daring', 'errors', 'contrasts', 'married', 'sending', 'adjourned', 'Keizer', 'prompt', 'codes', 'decolletage', 'Hicks', 'Insofar', '10:45', 'paused', 'army', 'guarding', 'stocks', 'reelected', 'mad', 'let', 'Herman', '10,000', 'Angelo', '76', 'responsibility', 'farms', 'Thailand', 'lawyers', 'Conductor', \"hadn't\", 'Starts', '4-7/8', 'filled', 'elect', '72-hole', '350', 'Sheila', 'head-on', 'warbling', 'Skid', 'every', 'batter', 'episodes', 'fit', 'died', 'sense', 'Sheets', 'speech-making', 'grateful', 'Laotians', 'tent', 'Dublin', 'central', 'capabilities', 'each', 'belated', 'Lloyd', 'according', 'Junior', 'Confederacy', 'anti-Negro', 'Four', 'declaring', 'elections', 'McDermott', 'particulars', \"Owl's\", 'Nick', 'Trading', 'permitted', 'switch-hitter', 'safe', 'Driver', '7599', 'hospitals', 'Threshold', 'Oum', 'colonies', \"athlete's\", '158-pounder', 'rookies', 'belting', 'inner', 'specialists', 'sliced', 'justice', 'skidded', 'Pantas', 'Smith', 'ridiculous', 'plight', 'stay', 'specialization', 'far-out', 'forbids', 'minute', 'Gander', 'Cerv', \"Baylor's\", 'provoked', 'remember', 'signatures', 'surrender', 'Shipman', 'Outside', 'unresponsive', \"Brooks's\", 'Helen', 'enjoys', 'Sydney', 'replaced', 'event', 'advisers', 'P.M.', 'acclaim', 'Janice', 'music-loving', 'capture', 'endure', 'submitted', 'fun', 'Joan', 'ligament', 'Turner', '16-year-old', \"Russia's\", 'towels', 'exploited', 'Capitalism', 'Bernhard', 'viewing', 'competed', 'styling', 'peace-loving', 'barriers', 'Hargett', '$26,000,000', 'fund-raising', 'hung', 'coaching', 'U.S.', '750', 'radical', 'startled', 'qualifications', 'Hampton', 'Mortgage', 'machinery', 'Lay', 'Crusade', 'technology', 'Ocean', \"Colmer's\", 'repealed', 'buss', 'Coopers', 'bondsman', 'Levittown', 'four-jet', 'masquerade', 'allotting', 'critic', 'expects', 'Buckhead', 'all-important', 'Agencies', \"summer's\", 'associated', 'grapes', 'Giorgio', 'Rio', 'full-fledged', 'finally', 'Fingered', 'Bake-off', 'robbing', \"Player's\", 'Act', 'governor', 'weaknesses', 'boils', ';', 'Implementation', 'dessert', 'preached', 'rates', 'wardens', 'Culmone', 'mammoth', 'Rizzuto', 'fee', 'departure', 'pro-Western', 'Pathet', 'sacrilege', '1-3', 'Byrd', 'blood', 'quit', 'peasant', 'eliminate', 'cross', 'Alliance', 'Richards', '43', 'devised', 'rid', 'Bassis', 'blocked', 'Bertorelli', 'Webster', 'implementation', 'Flanagan', 'Leaders', 'amendment', 'Seeks', 'gangling', \"Wouldn't\", 'knocked', 'abilities', 'jealousies', 'charity', 'Cook', 'newsman', 'organize', 'nineteen', 'Wendells', 'Tractor', 'universities', '1,212,000', 'tours', 'secrets', 'satisfaction', 'cherish', 'category', 'eating', 'lots', 'segment', 'conscience', 'valid', 'unveiled', 'blond', 'friendliness', 'Anniston', 'levels', 'Map', 'miffed', 'classed', 'gave', 'lightness', 'innate', 'separated', 'Rozelle', 'yesteryear', 'mistake', 'raise', 'Analysts', '9:30', 'couch', 'figures', 'Housewives', 'private-eye', '$17,000', 'critical', 'structure', 'painting', 'filing', 'allies', 'fitted', 'driving', 'Fletcher', 'stein', 'demolished', '$9,841,000', 'Thieves', 'nor', 'huzzahs', 'saves', 'remarkably', '677', 'athletic', 'grow', 'stoked', '75', 'starts', 'guns', 'interesting', 'cobalt', 'rapt', 'Satterfield', 'flash', 'deducted', '1940', 'Student', 'outlets', 'cross-section', '39', 'Shore', 'fullback', 'club', 'touches', 'Baraclough', 'western', 'Stuart', 'prepayment', \"Simpson's\", 'withdrawal', 'Teaching', 'dept.', 'meet', 'clean', 'Fritz', 'fewer', 'Northwestern', '81', 'converted', 'occur', 'Bevo', 'pun', 'parts', 'vicinity', 'planned', 'chemise', \"Phouma's\", 'tendency', 'portable', 'plants', 'operate', 'Nov.', 'Gentile', 'remark', 'pray', 'teen-age', 'nearest', 'waited', 'coins', 'auspices', 'Fears', 'tidelands', 'vicious', 'token', 'damages', 'Congressman', 'factories', 'Bontempo', 'commented', '1,512', 'fielding', 'output', 'candle', '101b', 'fuller', 'cleaning', 'earned', 'performed', 'licked', 'collided', 'Assn.', 'magistrate', 'West', 'glad', 'offensive', 'corresponding', 'Erection', 'development', 'out', 'Blaine', '6-7', 'well-played', 'Moore', 'Beman', 'invasion', 'exact', '3.25', 'Norell', 'tipped', 'Leading', 'Chaplin', 'Kiowa', 'companion', 'flour', 'Sims', 'tribe', 'Advisors', 'incomparably', 'untold', 'desk', 'Chesapeake', 'repaired', 'several', 'run-ups', 'intensified', 'idea', 'burr', 'satisfied', 'excellent', \"House's\", 'fuels', '5-run', 'margin', 'bleachers', 'Goodis', 'haute', 'Manzanola', 'Newtown', 'fence', 'Dearborn', 'leftfield', \"I'm\", 'flowing', 'Wellesley', 'pitched', 'beaming', 'percentages', 'Feis', '130', 'seldom', '3,325', 'Barnard', \"O'Neill\", 'artificial', 'Pride', 'Santa', '3.98', 'sources', \"game's\", 'eventual', 'sounded', 'Langsdorf', 'vivid', 'hog', 'turn', 'cows', 'served', 'Twelve', 'tax-aided', 'Dennis', 'Greater', 'probe', 'redevelopers', 'coverage', 'Rite', 'measles', 'MacWhorter', 'smoothed', 'Throw', 'Moreover', 'demonstration', 'compel', 'sir', 'rough-housing', 'crashes', \"contractor's\", 'Lovely', 'paratroops', 'Marr', 'free', 'Judith', 'represent', 'Cott', 'Dick', 'Diocesan', 'words', 'kidnaped', 'bouncy', \"doesn't\", 'undermining', 'salutary', 'Cadillacs', 'salesman', 'Over', \"I've\", 'while', '6', 'compared', 'Missouri', 'squad', \"team's\", 'cooked', 'staged', 'Commissioners', '$58,918', 'tolerated', '$2,000', 'deliver', 'confessing', 'desire', '213', 'Trenton', 'susceptible', 'scramble', 'useless', 'Vermont', 'Paree', 'specifications', 'accepted', 'Cost', 'complained', 'Rob', 'Democratic', 'bric-a-brac', 'W.M.', 'suggestions', 'choice', 'imminent', 'marveled', 'moans', '16', 'Service', '1986', 'Drinkhouse', 'renewed', 'answerable', 'Jeremiah', 'fiery', 'acknowledged', 'Cologne', 'Legion', 'load', 'advocate', 'Olivet', '1,509', 'sections', 'pre-school', 'incidents', 'Plainfield', 'blind', 'motorist', 'Women', 'rehabilitation', 'Wilkinson', 'reducing', 'incorporated', 'Dark', 'Edward', 'Arts', 'furnished', 'recipients', '90-day', 'arrests', 'inject', 'remained', 'consult', 'cornerstone', 'Graft', 'happening', 'flicker', 'friend', 'vary', 'appropriations', 'lighters', '6-foot-10', '9', 'guest', 'venom', 'socket', 'deterioration', 'governmental', '1912', 'raft', 'death', 'questionable', '1953', 'Durante', 'Rogers', 'flavor', 'motel-keeping', 'Twenty-one-year-old', 'Outlays', 'Copper', 'train', 'assistant', 'Ellsworth', 'Lacking', 'attendants', 'blast', 'somebody', 'shuns', 'Georgia-Pacific', 'Lonsdale', 'cleaners', 'predicted', 'deteriorating', 'fourteen-nation', 'Class', 'Policeman', 'McCormick', 'set', 'exclusively', 'part', '$2', 'rangy', 'desiring', 'hunter-killer', 'elder', 'transaction', '447', 'needy', 'heavy-electrical-goods', 'Lemon', 'towards', 'vacancies', 'mathematics', 'Spanish-born', 'inning', 'tosses', '125,000', '1.09.3', 'Ter.', 'crucified', 'person', 'appears', 'Scampini', 'Phouma', 'behalf', 'Tyson', 'caused', 'weaken', 'sunbonnet', 'inspection', 'halfback', 'relative', 'climaxed', 'conservation', 'trusted', 'countless', 'household', 'Fairless', 'Achaeans', 'supporters', 'Creations', 'Budapest', 'cease', 'fans', 'unlike', 'fiance', 'incentive', 'battalions', 'balance', 'fast-grossing', 'Jensen', 'Braques', 'moved', '214', 'Habib', 'respond', 'expectations', '469', 'Germania', 'soft-shell', 'incinerator', 'Ankara', 'rich', 'provision', 'use', 'Couturier', 'Herbert', 'speeding', 'Page', 'fat', 'teenagers', 'warhead', 'including', 'Kapnek', 'Teter', 'nominal', 'Klees', 'periodic', 'Benjamin', 'enigma', 'biology', 'pursuing', \"O'Clock\", 'competition', 'dark', 'nation', 'sidemen', 'bleak', 'greeted', \"darlin'\", 'fiscal', 'Denials', 'Darnell', 'Better', 'route', 'Oilers', 'goods', 'acres', 'Sopsaisana', 'leaned', 'Scotch-Irish-Scandinavian', 'pro', 'riot', 'Advance', 'Ledford', 'Mayor-nominate', 'Hartford', '47', 'cautioned', 'woods', 'urgent', '14-power', 'sculpture', 'Appeal', '6124', '12:01', 'scoreboards', 'badly', 'Snead', 'later', 'may', 'teamster', 'anti-submarine', 'Rights', 'Oregon', 'idolize', '707', 'liner', 'lamps', 'inventories', 'staffed', 'guessing', 'grants', 'spare', '1932', \"February's\", 'gleam', 'Our', 'Boucher', 'either', 'Winchell', 'booked', 'association', 'September', 'Treaty', 'alarmingly', 'Leland', 'suspected', 'self-portrait', '2-run', 'Cooke', 'name', 'Television-Electronics', 'Writers', 'headache', 'maybe', 'nondescript', 'abuse', \"Smith's\", 'Decries', 'export', 'dawn', 'Berra', 'unhappiest', 'theatrical', '2', 'those', 'explosion', 'beatnik', 'planning', 'moves', 'Slack', \"organization's\", 'Blanton', 'Guard', 'mechanisms', 'Fund', 'Kriss', 'ASDIC', 'programs', 'Charlayne', 'Nolan', 'sofas', '1-0', 'Cleveland', 'Librarians', 'submarine', 'anti-monopoly', 'charter', 'award', 'any', 'lending', 'Knox', 'thinks', 'Failure', 'pronto', 'SWC', 'embassy', 'adoption', 'chemicals', 'has', 'subsistence', 'emotion', 'entirely', 'enabled', 'lighter', 'August', 'talents', 'cocktail', 'parked', 'pledged', 'calendar', 'Howser', 'crops', 'sizable', 'centralization', 'loath', 'multiply', 'Kerby', 'Amateur', 'Calif.', 'spy', 'armchairs', \"W.'s\", 'Room', 'Fields', 'Deloris', 'appeals', 'In', 'merited', 'self-plagiarisms', 'access', 'watching', 'doctor', 'tiled', 'Phyfe', 'inherited', 'Day', 'Vita', 'shades', 'Allied', 'Easter', 'sponsoring', 'best', 'wired', 'Arnold', 'gully', 'Stan', 'congressional', '1991', 'worded', 'SMU', \"Mickey's\", 'Allen', '$20,447,000', 'Paulah', 'GA', 'bulwark', 'treated', 'Theatre', 'systems', 'en', 'Saul', 'Kern', 'conferred', 'gas', 'nursing', 'Engaging', 'whole', 'promote', '1215', 'staff', 'Decorating', 'Buchheister', 'hackers', 'Geneva', 'Russia', 'compensations', 'renderings', 'helping', 'attractive', 'smiles', 'present', '1981', 'newer', 'gifted', '27-year-old', 'looks', 'entirety', 'Total', 'decades', 'income', 'Contempt', 'Measure', 'arc', 'debentures', 'baseball', 'Burgher', 'remodeling', 'Tokyo', 'speaker', 'gals', 'Cornell', 'model', 'prosecution', 'Colorful', 'competence', 'Lichtenstein', 'discharge', 'tough', 'Year', 'overnight', 'Montgomery', 'Slenczynka', 'Cohn', 'proper', 'attributed', 'rest', 'Handicapped', 'escaped', 'got', 'party', 'financing', 'followers', 'thank', 'link', 'leagues', 'Donnell', 'banked', 'compact', 'rebuffed', 'subs', 'impossibly', 'poured', 'frustrated', 'Band', 'enlivened', 'standard', 'Register', 'rain', 'disagreed', 'nostalgic', 'suavity', 'Shortly', 'energy', 'experienced', 'putted', 'lefthanders', 'Kirov', 'abrupt', 'ensconced', 'intellectually', 'Havilland', 'brocade', 'Where', 'town', 'pain', 'Americans', '1-1/2-story', 'ruggedly', 'sank', 'changing', 'Brandenburg', 'Legislators', 'double-bogeyed', 'quarter-mile', 'aged-care', '83', 'Corpus', 'femininity', 'Marc', 'Tyler', 'commencing', 'Scottish', 'Could', 'campaigned', 'midmorning', 'Students', 'home', 'Friends', 'Hole', 'Seminole', 'chrome', 'distribute', 'complementary', 'limited', 'Reports', 'outcome', 'Egypt', 'Tex', 'ugly', 'bed', 'That', 'Delaware', 'conductor', 'Ted', 'pride', \"Shop's\", 'overturned', 'representing', 'Islands', 'lasting', 'pastel-like', 'regrets', 'Six', 'Once', 'Levitt', 'Congregation', 'devoted', 'formal', \"Hughes'\", 'Heinkel', 'coast', 'Buell', 'passport', 'pixies', 'swearing-in', 'enlarged', 'killer', 'ex-gambler', 'handled', 'breed', 'silver', 'Gods', 'submarines', 'daylight', 'assisting', 'Always', 'snapped', 'Ed', 'wallet', 'Members', 'keeping', 'phases', 'sidechairs', '142', '500', 'warrant', '28th', 'conversions', 'Newman', 'rule', 'retailers', 'Business', 'self-crimination', 'Box', 'aerial', 'subject', 'Tactics', 'enforcement', 'entertaining', 'Waxworks', 'Spring', 'Morley', 'Deaf', 'Wheel', 'continents', 'Invitations', 'wholesale', '22-12', 'airfield', \"He's\", 'include', 'Ray', 'detector', 'dapper', 'Redbirds', 'surplus', 'broadcast', 'School', 'bookkeeping', 'Crumlish', 'owner', 'Campaigning', 'duels', 'loop', 'popped', 'Vern', 'outfield', 'purged', \"Department's\", 'visit', 'emphasis', 'rabbit', 'impersonal', 'hard', 'lover', 'off-beat', 'Vicky', 'pole', 'Lovelace', 'ward', 'pre-set', 'shrewd', 'Strafaci', 'Hogan', 'sang', 'Home', 'maintain', 'acre', 'blackmail', 'commuted', 'pledge', 'Kasai', 'modifications', 'fifteen', 'Mister', 'avid', 'upwards', 'Tulane', 'peppery', 'Paschal', 'Factory', 'Her', 'Fogelson', '130-year', '5-to-3', 'tangle', 'reluctant', 'sum', 'Melcher', 'major-league', 'Fitzgerald', 'bake-offs', 'spoke', 'rapped', 'meeting', 'dwindled', 'necessitated', \"Speaker's\", '7-day', 'committeewoman', 'favor', 'belief', 'Investigation', 'frustrating', 'throwing', 'voter', 'Bowie', 'Nor', 'Rd.', 'Mobutu', 'Larimer', 'balanced', 'other', 'Schultz', \"''\", 'been', 'learn', 'biggest', 'Congolese', 'Hess', 'provisions', 'stabilization', 'Searles', 'Galveston', 'Tee', 'ripened', 'Fuchs', 'headlights', 'wheel', 'Esnards', \"She's\", 'workmen', 'records', 'yourself', 'putter', 'damaged', 'Racquet', 'congressmen', 'deodorant', 'inclination', 'Mervin', 'further', 'odds', 'explains', 'lace', 'depends', 'Thousands', 'dreamed', 'modern', 'listened', 'cooperative', 'various', 'fiasco', 'brushed', 'between', '14', 'touchdown', 'Staiger', 'Danish', 'Huntington', 'aids', 'dive', 'janitors', 'ex-National', 'traditionally', 'technique', 'grapefruit', 'well-prepared', 'minors', 'withstand', 'detente', 'suitcases', 'preserved', 'religions', 'Todd', 'Advisory', 'Fargo', 'Densmore', 'pedestrians', '1,257,700', 'alone', 'Debutante', 'suicide', 'harmless', 'raged', 'sight', 'TNT', 'north-bound', 'increased', 'personal', 'jump', 'endowments', 'Givers', 'noting', 'Kiwanis', 'gripped', 'combination', 'With', \"Leavitt's\", 'function', 'comedy', 'wildlife', 'relieves', 'Kathy', 'delegation', 'intensity', 'curbing', 'norm', 'languages', 'Flashed', 'caution', 'Monk', 'pessimism', 'reserve', '1834', 'Subsequent', 'senseless', 'priority', 'disclosure', 'ribs', 'conquer', 'One', 'without', 'Loper', 'planted', 'Hope', 'writer', 'Roy', 'facets', 'balls', 'Huffman', 'Powell', '1896', 'poor', 'Jockey', 'accurate', 'culture', 'ceramic', 'report', 'e.g.', 'Neusteter', 'Response', 'fair-weather', '25%', 'combat', '$109', 'Kenilworth', 'Germany', 'plot', 'vehicular', 'Presidents', 'create', 'prospective', 'Lown', 'policy', 'dynamite', 'totalitarian', 'Smythe', 'Vietnamese', 'kidding', 'Gino', 'Bobby', 'girls', 'unconventional', 'endowment', 'opening', 'northwest', 'Jenks', 'Harvester', 'Formula', 'Thornton', 'headed', 'Portuguese', 'nightclubs', 'job', 'Chromspun', 'Hockaday', 'boast', 'baton', 'Basel', 'unanimity', 'Interested', 'April-June', 'moderates', 'corrupt', 'provinces', 'Salary', 'cloudless', 'indictment', 'fear', \"Underwood's\", 'Pullings', 'youngest', 'project', 'step', 'Tournament', '87', 'lure', 'Hartley', 'golfing', 'rolled', 'cleaner', 'Parsons', 'uniforms', 'Canadian', 'disaster', 'shadowy', 'beef', 'fashions', 'regarded', 'saw', 'belatedly', 'Sixth', 'incomplete', 'heirs', 'killing', 'Gill', 'Appointment', 'Gauer', 'Has', 'fast-spreading', 'discovered', 'Michaels', 'Krogers', 'Willie', '1966', 'adminstration', 'split', 'Apart', 'Corruption', 'get', 'bestowal', 'jolt', 'station', 'behavior', 'Vinegar', 'attire', 'Boyce', 'inflicted', 'Publique', 'Elks', 'traffic', 'Ill.', 'skit', 'talent', '$50,000', 'Cutting', 'Hack', 'R-Bergen', 'leave', 'extension', 'conductors', 'Forest', 'vehemence', 'Common', 'develops', 'live', 'highly', 'Imperial', 'termination', 'choosing', 'all-American', 'Studio', 'was', 'Barker', 'February', 'Speakers', 'familiar', 'revolving', 'uptown', 'summed', 'knowledge', 'busy', '24th', 'Brain', 'Nilsen', 'Lehman', 'alive', 'puppets', 'Pi', 'Lenygon', 'decent', 'Check', 'Easier', 'else', 'dean', \"Gerosa's\", 'halftime', 'counted', 'Chemical', 'proposals', 'suffering', 'queries', 'weigh', 'rejoining', \"motorists'\", 'East', 'payment', 'Alusik', 'challenging', 'Allan', 'two-game', 'Sweden', 'Dior', 'underestimate', 'stairs', \"armory's\", '1958-60', 'Chester', 'twelfth', 'Courtney', 'McElyee', 'Virginia', 'closed', 'ranks', 'year-round', \"physician's\", 'dignity', 'challenges', 'Judge', 'Klan', \"moment's\", 'inevitable', 'Deadly', 'orders', 'Wales', 'highest-paid', 'Duffy', 'victim', 'judgeship', \"wouldn't\", \"Princes'\", 'cutting', 'centers', 'Glison', 'Verstandig', 'Schuyler', 'libraries', 'province', 'Terral', 'Loewe', 'Beat', 'Galt', 'Pittsboro', 'spokesmen', 'methods', 'newcomers', 'edged', 'Library', 'Fernberger', 'Moscone', \"That's\", 'More', 'toss', 'Vladilen', 'filibuster', 'decorations', 'usually', 'quarters', 'Leavitt', 'discriminate', '354', '$77,389,000', 'tally', 'control', 'we', 'implement', 'suits', 'starter', 'accessories', 'railroads', 'Olney', 'hitting', 'crabapple', 'gauntlet', 'winged', 'management', 'Beyeler', 'discredit', 'team', 'superintendent', 'private', 'Syria', 'happen', 'jeopardizing', 'associates', 'acted', 'prospect', 'Pankowski', 'telephone', 'fall', 'Congressional', 'helpless', 'Simpkins', 'shipped', \"players'\", 'theaters', 'lie', \"Pal's\", 'melee', \"d'etat\", 'slaughter', 'titled', 'birth', 'liberal-conservative', 'magnetic', '133', 'future', 'carpet', 'shares', 'insects', 'reportedly', 'Education', 'Ky.', 'R', 'instances', 'doubled', 'alcoholics', 'Athletic', 'rancho', '7026', 'Indonesia', \"engineers'\", 'piety', 'Ben', 'employer', \"Stein's\", 'eliminating', 'Polaris', 'Felix', 'applause', 'Through', 'achievement', 'Trust', '250-275', 'be', 'ballot', 'series', 'announcement', \"Dresbach's\", 'mastodons', 'balconies', 'accord', 'resembles', 'personalities', 'boomed', 'investors', 'Rudolph', 'teacher-employee', 'McAuliffe', 'stultifying', 'Nautilus', 'Revolutionary', 'crushing', 'Chiang', 'Lilac', 'shots', 'petty', 'Byer-Rolnick', 'Surprised', 'Fenwick', 'agenda', 'Question', 'Cen-Tennial', 'begging', 'undertaken', 'suburban', 'Kissak', 'underbelly', 'laboratory', 'contracting', 'saying', 'snowfall', 'Nev.', 'spice', 'assembly', 'Anna', 'flat', 'Murtaugh', 'color', 'nuclear', 'Craig', 'adjourning', 'quarterback', 'Robinson', 'write', 'Tunisia', 'colts', 'loaded', 'accommodations', 'drawings', 'crushed', 'Knoll', 'bundles', 'soft', 'allocated', 'troopships', 'SW', 'Simpson', 'secretary', '3:30', 'Sullivan', 'ignoring', 'formation', 'Valedictorian', 'tour', 'buses', 'confession', 'proceeded', 'issuance', 'playoff', 'coveted', 'residences', 'being', 'population', 'undertakes', 'streamliner', 'involve', 'sign', 'Massachusetts', 'Eastern', 'understanding', 'missiles', 'Best', \"panel's\", 'Kochanek', 'Neuberger', 'over-all', 'Ruiz', 'sweeping', 'Andy', 'come', '5-1', 'butter', 'sat', 'classic', 'Bermuda', 'dealing', 'Stetsons', 'heavy', 'field', 'coal', 'final', 'ball', 'Elburn', 'Clark', 'designers', 'collaborators', 'encouraging', 'Kowalski', 'luxury', \"ain't\", 'swimming', 'smaller', 'Sandra', 'buffet', 'latch', 'amateur', 'natural', 'operates', 'half-brothers', 'what', 'Beame', 'Rhine-Westphalia', 'record', 'Curtis', 'sculptured', 'anecdote', 'Elsie', '$754', 'attraction', '34220', '1944', '$581,000', 'Double', 'Mont.', '126', 'crowns', 'inaugural', 'Square', 'Commissioner', 'Achievement', 'praised', 'Lambert', 'others', '963', \"Mayor's\", 'Lowe', 'Atwells', 'pair', 'firmer', 'Winston', 'actually', 'geriatric', 'Florida', 'Lauderdale', 'Hitting', 'Lopez', 'Van', 'Herridge', 'Luther', 'about', 'electricity', 'breast', 'Section', 'estimate', 'liens', '10', 'Janet', 'controlling', 'appearance', '4-for-5', 'confirmed', 'Carbones', 'Paine', 'eliminates', 'own', 'hitters', 'constant', 'memory', 'sorts', 'neo-stagnationist', 'Bianco', 'Indeed', 'origin', 'plowing', 'default', 'truly', 'ground', 'interfering', 'boarding', 'worse', 'unmeritorious', 'Lafayette', 'Dresbachs', 'consulting', 'CD', 'door', 'prone', 'tracing', 'dances', 'marriages', 'showing', 'pure', 'sea', 'episode', 'religious', 'poor-mouth', 'explicit', 'stemmed', 'footing', 'titian-haired', 'sales-conscious', 'Balkanize', 'fertilizer', 'equatorial', 'Marketing', 'fur', 'promised', 'robberies', 'Ozzie', 'Rookie', 'experts', 'hate', 'forthcoming', 'Elmer', 'dangers', 'Schmalzried', 'Monthly', \"I'd\", 'sister', 'Samuel', 'Norman', '11-5', 'unworkable', 'scriptures', 'question', 'furnish', 'also', 'utilitarian', 'Sarmi', 'chairman', 'hospitable', 'Weissmuller', 'comeback', 'slowly', 'Fabian', 'unarmed', 'mails', 'terror', 'substitute', 'functions', 'Much', 'Shay', 'Norway', 'Road', 'Its', 'extractors', 'implicit', 'ignored', 'university', 'forecast', 'director', 'batted', 'bitter', 'Patterson', \"Tuttle's\", 'acreage', 'Daily', 'bayonet', '255', 'Captain', 'Mich.', 'Shoettle', 'Konstantin', 'Story', 'appraisal', '155-yarder', 'separate', 'broccoli', '$100', 'arranged', 'dutifully', 'upturn', 'hilt', 'allotment', 'tricked', '2433', 'Summer', 'promptly', 'effectiveness', 'struggles', 'compromise', 'Cheshire', 'seedless', 'undisputed', 'battleground', 'statues', 'presents', 'ordered', 'alternatives', 'greatest', '1900', 'p.m.', 'bandit', 'bull', 'Patrol', 'mentally', 'cited', 'pal', 'Aid', '$11.50', 'producer', 'peddler', 'loss', 'Afro-Cuban', 'rat-a-tat-tatty', 'contest', 'dipped', 'Appropriately', 'clashes', 'Coe', 'cultural', 'crowds', '$1,000', 'Rome', \"railroad's\", 'Carl', 'Kira', 'lacking', 'dullest', 'Al', 'Knights', 'fancy', '49ers', 'inducted', 'accredited', 'torn', \"Tuesday's\", 'suspend', 'unprecedented', 'soil', 'tentatively', 'cheery', 'Notte', 'aged', 'aggravates', 'bay', 'lesson', '5155', 'shortstop', 'fifteenth', 'Socialist', 'Dumas', 'requirements', 'fourth-down', 'distracted', 'Light', 'revive', 'grist', 'two', 'loomed', 'senate', 'destined', 'varieties', 'Renaissance', 'enact', 'Kamens', 'Diving', '10%', 'Possible', 'battery', 'art', 'Councilman', 'Owls', 'Menderes', '600-yard', 'nothing', 'subpenaed', 'dividing', 'Murray', '31730', 'assaults', 'bookcases', 'handful', 'Lockheed', \"Missouri's\", 'Assistant', 'championships', 'Woodrow', 'Cain', 'Crunch', 'youths', 'Every', 'transmitter', 'Connecticut', 'retail', 'Marriage', 'accented', 'Circle', 'so-called', 'Gordon', 'prosecutions', 'picnic', 'Winnetka', \"Bill's\", 'two-season', \"bill's\", 'noise', 'mined', 'chief', 'Sleeping', 'librarians', 'Stevens', 'slice', 'light', 'eligible', 'air-conditioning', 'concluded', 'showmanship', 'year-earlier', 'by-laws', 'legislative', '18th', 'appreciated', 'returns', 'arrest', 'feed', 'bustling', 'tastes', 'opposed', 'correspondence', 'contend', 'canvass', 'fabrics', 'witnessing', 'co-op', 'recommend', 'owns', \"Reily's\", 'Hat', 'Mutual', 'Kawecki', 'Guest', '$12.50', 'Opponents', 'prison', 'Twins', '$3,675', 'Yankee', \"Monday's\", 'potential', 'Del', 'weeds', 'Catholic', 'Corneilus', 'valuable', 'hoped', 'Coolidge', 'visible', 'US', 'bounded', 'Adjusted', 'Keegan', 'asked', 'conclusion', 'surpluses', 'Offenses', 'perennial', '357', 'trade', 'Parichy-Hamm', 'trusting', 'urgency', 'sponsorship', 'door-fronted', 'boy-manager', 'contracts', '182', 'guy', 'housewife', 'includes', 'Bernie', 'Boothby', 'announcing', 'Manila', 'airlines', \"Kai-shek's\", 'ranch', \"Chronicle's\", 'much', 'valve', 'regulation', 'goal', 'east', 'Cocktails', '5-4', 'encounters', 'G.', 'convert', 'sake', 'dragging', 'McElvaney', '2,700,877', 'Avon', \"bride's\", 'Jerome', 'Competent', 'Debate', 'ultimate', \"They've\", 'Sunman', 'lieutenants', '1%', 'Travelers', 'ruthless', 'applications', 'desegregation', 'streak', 'Sue', 'Authenticated', 'Ronnie', 'straightaway', \"sheriff's\", 'packed', 'Exchange', 'Crosby', 'downed', 'Young', 'manifestations', 'Oil', 'Pp.', 'translate', 'Black', '70', 'shocked', 'blades', '420', 'Omsk', 'religion', 'Morgart', '2269', 'rated', 'niece', 'expired', 'Councilwoman', 'bird', 'prior', \"Krogers'\", \"Flock's\", 'existing', 'Grenoble', 'expenditures', 'justices', 'season', 'rescued', 'powered', 'date', 'prize', 'restaurant', '108', 'bats', 'Kathleen', 'wind-and-water', 'afternoons', 'Sutherland', 'Things', '73', '1.58', 'reactionary', 'matters', 'Russell', 'Pike', 'pattern', 'Delinquency', 'passenger', 'found', 'Planning', 'wall-to-wall', 'adept', 'renewal', 'ultimately', 'glanced', 'Lodge', 'Bloom', 'duel', 'Corporation', 'billion', 'Cafe', 'Glenda', 'corner', 'urban', 'short-term', 'accept', 'Guy', 'humiliating', 'underwriter', 'preservation', 'citizenry', 'judging', 'policeman', 'bridal', 'Bea', 'polled', 'whiz', 'second-echelon', 'Claude', 'picking', 'well-planned', 'slug', 'extra', 'Schwab', 'antiques', 'Gold', 'Constantinos', 'admitted', 'sharply', 'Besset', 'Zeising', 'bilateral', 'courtly', 'feel', \"teammates'\", 'Youth', 'hidden', 'five-cent', 'chartered', \"Redbirds'\", 'Denton', 'Rickards', 'once', 'center', 'versed', 'modernized', 'occasion', 'Tires', 'papers', 'Malmud', 'entertainers', 'transferred', 'awards', \"man's\", 'marketed', 'Guatemala', 'chores', 'costlier', 'price', 'met', 'Elected', 'Sprinkel', '67-year-old', 'testimony', 'crystal', 'formally', 'errs', 'rebound', 'Housed', 'Bootle', 'pedigreed', 'Stonestown', 'doubted', 'California', 'option', 'unspoken', 'utter', \"navy's\", 'leathery', 'reputedly', 'Art', '330', 'vacationing', 'scratching', 'singing', 'Central', 'robbery', 'noted', 'malingering', 'brainwashing', '2-over-par', 'lines', 'calm', 'Tahoe', 'Mag', 'adapting', 'Saledo', '2-1/2', 'supervision', 'Walnut', 'coping', \"tomorrow's\", 'Eighteenth', 'Regrets', 'excused', 'De', 'Bill', 'Peterson', 'Gibson', 'super-secret', 'wisdom', 'confronts', 'sensational', 'Mankowski', 'objected', 'privileged', 'eva', 'As', 'expanded', 'Albert', 'outrun', 'Coral', 'improved', 'likes', 'romped', 'wider', 'grade', 'fifty', 'Rolnick', 'doings', 'Agriculture', 'paralyzed', '798', 'Millie', 'peculiar', 'economic', 'Cape', 'entomologist', 'spend', \"court's\", '$100,000', 'Rosemary', 'Kerrville', 'upped', 'Joyce', 'ace', 'boldness', 'saffron', 'grass', 'busy-work', 'head-and-shoulders', 'Episcopal', '$400', 'trivial', '23', 'house', 'reflexes', 'Danny', 'changes', 'savage', 'Seattle', \"state's\", 'hoodlum', 'Ireland', 'furloughed', 'kingdom', 'Loop', 'sure', 'happily', 'dealt', 'marvel', 'setting', 'potent', 'Scrapiron', 'uptrend', 'song', 'peoples', 'E.G.T.', '45-degree', 'Shortstop', 'inscription', 'skeet', 'gait', 'attorneys', '110', 'venerable', 'swift-striding', 'dialects', 'Lucy', 'Gore', 'Volney', 'widowed', 'sufficient', 'Cinemactor', '24-year-old', 'notion', 'serious', 'housing', 'peace', 'marketing', 'underdeveloped', 'Las', 'tripping', 'entities', 'Carre', 'Journal-Bulletin', 'adults', 'Diety', 'change', '2.325%', '45', 'commercial', 'absent', 'tomb', 'activities', 'Pesce', 'outpatient', 'decorating', 'tournament', 'Baton', 'capacity', '520-acre', 'Olerichs', 'Development', 'Rather', 'meanwhile', 'discussed', 'bulletins', 'Bernet', 'hull', 'coordinating', \"Kennedy's\", 'partially'])"
      ]
     },
     "execution_count": 85,
     "metadata": {},
     "output_type": "execute_result"
    }
   ],
   "source": [
    "mostFrequentWords"
   ]
  },
  {
   "cell_type": "code",
   "execution_count": 86,
   "metadata": {
    "collapsed": false
   },
   "outputs": [],
   "source": [
    "mostFrequent100Words = list(mostFrequentWords)[:100]"
   ]
  },
  {
   "cell_type": "code",
   "execution_count": null,
   "metadata": {
    "collapsed": false
   },
   "outputs": [],
   "source": [
    "mostFrequent100Words"
   ]
  },
  {
   "cell_type": "code",
   "execution_count": 87,
   "metadata": {
    "collapsed": false
   },
   "outputs": [],
   "source": [
    " likelyTags = dict((word, brownWordsCfd[word].max()) for word in mostFrequent100Words)"
   ]
  },
  {
   "cell_type": "code",
   "execution_count": 88,
   "metadata": {
    "collapsed": false
   },
   "outputs": [
    {
     "name": "stdout",
     "output_type": "stream",
     "text": [
      "{\"Mississippi's\": 'NP$', 'Bills': 'NPS', 'year': 'NN', 'ex-schoolteacher': 'NN', 'advance': 'VB', \"Mays'\": 'NP$', 'knocks': 'NNS', 'lavish': 'JJ', 'Ku': 'NP', 'impression': 'NN', 'Pecos': 'NP', '11-7': 'CD', 'gentlemanly': 'JJ', 'accident': 'NN', 'powerful': 'JJ', 'Okla.': 'NP', 'tackle': 'NN', 'Jewish': 'JJ-TL', 'potato': 'NN', 'Dicks': 'NP-TL', 'motivations': 'NNS', 'donor': 'NN', 'Franklin': 'NP-TL', 'English': 'NP', 'indicted': 'VBN', 'Encouraging': 'VBG', 'Bassi': 'NP', 'Vickery': 'NP', 'Glen': 'NP', 'steering': 'VBG', 'cerebrated': 'VBN', 'leisurely': 'RB', 'judge': 'NN', 'Coliseum': 'NP-TL', 'four-letter': 'JJ', 'bum': 'VB', 'both': 'ABX', 'third': 'OD', 'arguments': 'NNS', 'regional': 'JJ', \"O'Hare\": 'NP', 'cast': 'NN', 'Coward': 'NP', 'receiving': 'VBG', 'declares': 'VBZ', 'hole': 'NN', '1859': 'CD', 'employs': 'VBZ', 'dependence': 'NN', 'woodcarver': 'NN', 'diocesan': 'JJ', 'Duhagon': 'NP', 'security': 'NN', \"Army's\": 'NN$-TL', 'If': 'CS', 'tossed': 'VBD', 'manslaughter': 'NN', 'Oscar': 'NP', 'attacking': 'VBG', 'aggressive': 'JJ', 'Campobello': 'NP-TL', 'Henri': 'NP', 'Rheims': 'NP', 'boycott': 'NN', 'pert': 'JJ', 'sexton': 'NN', 'paths': 'NNS', 'Milenoff': 'NP-TL', '10-year': 'JJ', 'penalty': 'NN', 'Bucs': 'NPS-HL', 'Hoyt': 'NP', 'inquired': 'VBD', 'resolution': 'NN', 'No': 'AT', 'squabbles': 'NNS', 'Spahn': 'NP', 'stared': 'VBD', 'threatened': 'VBD', 'Oct.': 'NP', 'prod': 'VB', 'flanked': 'VBN', 'A.M.': 'RB', 'McGeorge': 'NP', 'ablaze': 'RB', \"o'clock\": 'RB', 'Producer': 'NN', 'organized': 'VBN', 'widespread': 'JJ', 'last': 'AP', 'Philadelphia': 'NP-TL', 'exported': 'VBN', 'make': 'VB', 'Mine': 'NN-TL', 'yard': 'NN', 'merit': 'NN', 'Hubert': 'NP', 'stems': 'VBZ', 'pronounced': 'VBN', 'shaped': 'VBN'}\n"
     ]
    }
   ],
   "source": [
    "print(likelyTags)"
   ]
  },
  {
   "cell_type": "code",
   "execution_count": 89,
   "metadata": {
    "collapsed": true
   },
   "outputs": [],
   "source": [
    "baselineTagger = nltk.UnigramTagger(model=likelyTags)"
   ]
  },
  {
   "cell_type": "code",
   "execution_count": 90,
   "metadata": {
    "collapsed": false
   },
   "outputs": [
    {
     "data": {
      "text/plain": [
       "0.00704099289933767"
      ]
     },
     "execution_count": 90,
     "metadata": {},
     "output_type": "execute_result"
    }
   ],
   "source": [
    "baselineTagger.evaluate(brownTaggedSents)"
   ]
  },
  {
   "cell_type": "markdown",
   "metadata": {},
   "source": [
    "It should come as no surprise by now that simply knowing the tags for the 100 most frequent words enables us to tag a large fraction of tokens correctly (nearly half, in fact). Let’s see what it does on some untagged input text: "
   ]
  },
  {
   "cell_type": "code",
   "execution_count": 92,
   "metadata": {
    "collapsed": false
   },
   "outputs": [
    {
     "data": {
      "text/plain": [
       "[('``', None),\n",
       " ('Only', None),\n",
       " ('a', None),\n",
       " ('relative', None),\n",
       " ('handful', None),\n",
       " ('of', None),\n",
       " ('such', None),\n",
       " ('reports', None),\n",
       " ('was', None),\n",
       " ('received', None),\n",
       " (\"''\", None),\n",
       " (',', None),\n",
       " ('the', None),\n",
       " ('jury', None),\n",
       " ('said', None),\n",
       " (',', None),\n",
       " ('``', None),\n",
       " ('considering', None),\n",
       " ('the', None),\n",
       " ('widespread', 'JJ'),\n",
       " ('interest', None),\n",
       " ('in', None),\n",
       " ('the', None),\n",
       " ('election', None),\n",
       " (',', None),\n",
       " ('the', None),\n",
       " ('number', None),\n",
       " ('of', None),\n",
       " ('voters', None),\n",
       " ('and', None),\n",
       " ('the', None),\n",
       " ('size', None),\n",
       " ('of', None),\n",
       " ('this', None),\n",
       " ('city', None),\n",
       " (\"''\", None),\n",
       " ('.', None)]"
      ]
     },
     "execution_count": 92,
     "metadata": {},
     "output_type": "execute_result"
    }
   ],
   "source": [
    "\n",
    "baselineTagger.tag(brownSents[3])"
   ]
  },
  {
   "cell_type": "markdown",
   "metadata": {},
   "source": [
    "Many words have been assigned a tag of None, because they were not among the 100 most frequent words. In these cases we would like to assign the default tag of NN. In other words, we want to use the lookup table first, and if it is unable to assign a tag, then use the default tagger, a process known as backoff. We do this by specifying one tagger as a parameter to the other, as shown next. Now the lookup tagger will only store word-tag pairs for words other than nouns, and whenever it cannot assign a tag to a word, it will invoke the default tagger. "
   ]
  },
  {
   "cell_type": "code",
   "execution_count": 93,
   "metadata": {
    "collapsed": true
   },
   "outputs": [],
   "source": [
    "baselineTagger = nltk.UnigramTagger(model=likelyTags, backoff=nltk.DefaultTagger('NN'))"
   ]
  },
  {
   "cell_type": "markdown",
   "metadata": {},
   "source": [
    "# N-Gram Tagging"
   ]
  },
  {
   "cell_type": "markdown",
   "metadata": {},
   "source": [
    "Unigram Taging\n",
    "Unigram taggers are based on a simple statistical algorithm: for each token, assign the tag that is most likely for that particular token. For example, it will assign the tag JJ to any occurrence of the word frequent, since frequent is used as an adjective (e.g., a frequent word) more often than it is used as a verb (e.g., I frequent this cafe).  A unigram tagger behaves just like a lookup tagger, except there is a more convenient technique for setting it up, called training"
   ]
  },
  {
   "cell_type": "code",
   "execution_count": 94,
   "metadata": {
    "collapsed": true
   },
   "outputs": [],
   "source": [
    "unigramTagger = nltk.UnigramTagger(brownTaggedSents)"
   ]
  },
  {
   "cell_type": "code",
   "execution_count": 97,
   "metadata": {
    "collapsed": false
   },
   "outputs": [
    {
     "data": {
      "text/plain": [
       "[('Various', 'JJ'),\n",
       " ('of', 'IN'),\n",
       " ('the', 'AT'),\n",
       " ('apartments', 'NNS'),\n",
       " ('are', 'BER'),\n",
       " ('of', 'IN'),\n",
       " ('the', 'AT'),\n",
       " ('terrace', 'NN'),\n",
       " ('type', 'NN'),\n",
       " (',', ','),\n",
       " ('being', 'BEG'),\n",
       " ('on', 'IN'),\n",
       " ('the', 'AT'),\n",
       " ('ground', 'NN'),\n",
       " ('floor', 'NN'),\n",
       " ('so', 'QL'),\n",
       " ('that', 'CS'),\n",
       " ('entrance', 'NN'),\n",
       " ('is', 'BEZ'),\n",
       " ('direct', 'JJ'),\n",
       " ('.', '.')]"
      ]
     },
     "execution_count": 97,
     "metadata": {},
     "output_type": "execute_result"
    }
   ],
   "source": [
    "unigramTagger.tag(brownSents[2007])"
   ]
  },
  {
   "cell_type": "code",
   "execution_count": 98,
   "metadata": {
    "collapsed": false
   },
   "outputs": [
    {
     "data": {
      "text/plain": [
       "0.9349006503968017"
      ]
     },
     "execution_count": 98,
     "metadata": {},
     "output_type": "execute_result"
    }
   ],
   "source": [
    "unigramTagger.evaluate(brownTaggedSents)"
   ]
  },
  {
   "cell_type": "markdown",
   "metadata": {},
   "source": [
    "# Training the Unigram Tagger"
   ]
  },
  {
   "cell_type": "code",
   "execution_count": 99,
   "metadata": {
    "collapsed": true
   },
   "outputs": [],
   "source": [
    "size = int(len(brownTaggedSents) * 0.9)"
   ]
  },
  {
   "cell_type": "code",
   "execution_count": 101,
   "metadata": {
    "collapsed": false
   },
   "outputs": [
    {
     "name": "stdout",
     "output_type": "stream",
     "text": [
      "4160\n"
     ]
    }
   ],
   "source": [
    "print(size)"
   ]
  },
  {
   "cell_type": "code",
   "execution_count": 103,
   "metadata": {
    "collapsed": false
   },
   "outputs": [],
   "source": [
    "trainSents = brownTaggedSents[:size]"
   ]
  },
  {
   "cell_type": "code",
   "execution_count": 104,
   "metadata": {
    "collapsed": true
   },
   "outputs": [],
   "source": [
    "testSents = brownTaggedSents[size:]"
   ]
  },
  {
   "cell_type": "code",
   "execution_count": 105,
   "metadata": {
    "collapsed": true
   },
   "outputs": [],
   "source": [
    "unigramTagger = nltk.UnigramTagger(trainSents)"
   ]
  },
  {
   "cell_type": "code",
   "execution_count": 106,
   "metadata": {
    "collapsed": false
   },
   "outputs": [
    {
     "data": {
      "text/plain": [
       "0.8119206618160072"
      ]
     },
     "execution_count": 106,
     "metadata": {},
     "output_type": "execute_result"
    }
   ],
   "source": [
    "unigramTagger.evaluate(testSents)"
   ]
  },
  {
   "cell_type": "markdown",
   "metadata": {},
   "source": [
    "# General N-Gram Tagger"
   ]
  },
  {
   "cell_type": "markdown",
   "metadata": {},
   "source": [
    "we do is tag each word with its a priori most likely tag. This means we would tag a word such as wind with the same tag, regardless of whether it appears in the context the wind or to wind"
   ]
  },
  {
   "cell_type": "markdown",
   "metadata": {},
   "source": [
    "The NgramTagger class uses a tagged training corpus to determine which part-of-speech tag is most likely for each context. Here we see a special case of an n-gram tagger, namely a bigram tagger. First we train it, then use it to tag untagged sentences:"
   ]
  },
  {
   "cell_type": "code",
   "execution_count": 107,
   "metadata": {
    "collapsed": true
   },
   "outputs": [],
   "source": [
    "bigramTagger = nltk.BigramTagger(trainSents)"
   ]
  },
  {
   "cell_type": "code",
   "execution_count": 108,
   "metadata": {
    "collapsed": false
   },
   "outputs": [
    {
     "data": {
      "text/plain": [
       "[('Various', 'JJ'),\n",
       " ('of', 'IN'),\n",
       " ('the', 'AT'),\n",
       " ('apartments', 'NNS'),\n",
       " ('are', 'BER'),\n",
       " ('of', 'IN'),\n",
       " ('the', 'AT'),\n",
       " ('terrace', 'NN'),\n",
       " ('type', 'NN'),\n",
       " (',', ','),\n",
       " ('being', 'BEG'),\n",
       " ('on', 'IN'),\n",
       " ('the', 'AT'),\n",
       " ('ground', 'NN'),\n",
       " ('floor', 'NN'),\n",
       " ('so', 'CS'),\n",
       " ('that', 'CS'),\n",
       " ('entrance', 'NN'),\n",
       " ('is', 'BEZ'),\n",
       " ('direct', 'JJ'),\n",
       " ('.', '.')]"
      ]
     },
     "execution_count": 108,
     "metadata": {},
     "output_type": "execute_result"
    }
   ],
   "source": [
    "bigramTagger.tag(brownSents[2007])"
   ]
  },
  {
   "cell_type": "code",
   "execution_count": 109,
   "metadata": {
    "collapsed": true
   },
   "outputs": [],
   "source": [
    "unseenSent = brownSents[4203]"
   ]
  },
  {
   "cell_type": "code",
   "execution_count": 110,
   "metadata": {
    "collapsed": false
   },
   "outputs": [
    {
     "data": {
      "text/plain": [
       "[('The', 'AT'),\n",
       " ('population', 'NN'),\n",
       " ('of', 'IN'),\n",
       " ('the', 'AT'),\n",
       " ('Congo', 'NP'),\n",
       " ('is', 'BEZ'),\n",
       " ('13.5', None),\n",
       " ('million', None),\n",
       " (',', None),\n",
       " ('divided', None),\n",
       " ('into', None),\n",
       " ('at', None),\n",
       " ('least', None),\n",
       " ('seven', None),\n",
       " ('major', None),\n",
       " ('``', None),\n",
       " ('culture', None),\n",
       " ('clusters', None),\n",
       " (\"''\", None),\n",
       " ('and', None),\n",
       " ('innumerable', None),\n",
       " ('tribes', None),\n",
       " ('speaking', None),\n",
       " ('400', None),\n",
       " ('separate', None),\n",
       " ('dialects', None),\n",
       " ('.', None)]"
      ]
     },
     "execution_count": 110,
     "metadata": {},
     "output_type": "execute_result"
    }
   ],
   "source": [
    "bigramTagger.tag(unseenSent)"
   ]
  },
  {
   "cell_type": "code",
   "execution_count": 111,
   "metadata": {
    "collapsed": false
   },
   "outputs": [
    {
     "data": {
      "text/plain": [
       "0.10216286255357321"
      ]
     },
     "execution_count": 111,
     "metadata": {},
     "output_type": "execute_result"
    }
   ],
   "source": [
    "bigramTagger.evaluate(testSents)"
   ]
  },
  {
   "cell_type": "markdown",
   "metadata": {},
   "source": [
    "# Combining Taggers"
   ]
  },
  {
   "cell_type": "markdown",
   "metadata": {},
   "source": [
    "One way to address the trade-off between accuracy and coverage is to use the more accurate algorithms when we can, but to fall back on algorithms with wider coverage when necessary. For example, we could combine the results of a bigram tagger, a unigram tagger, and a default tagger, as follows: \n",
    "\n",
    "1. Try tagging the token with the bigram tagger. \n",
    "2. If the bigram tagger is unable to find a tag for the token, try the unigram tagger. \n",
    "3. If the unigram tagger is also unable to find a tag, use a default tagger"
   ]
  },
  {
   "cell_type": "code",
   "execution_count": 112,
   "metadata": {
    "collapsed": true
   },
   "outputs": [],
   "source": [
    "defaultTagger = nltk.DefaultTagger('NN')\n",
    "unigramTagger = nltk.UnigramTagger(trainSents, backoff=defaultTagger)\n",
    "bigramTagger = nltk.BigramTagger(trainSents, backoff=unigramTagger)"
   ]
  },
  {
   "cell_type": "code",
   "execution_count": 113,
   "metadata": {
    "collapsed": false
   },
   "outputs": [
    {
     "data": {
      "text/plain": [
       "0.8460081730290043"
      ]
     },
     "execution_count": 113,
     "metadata": {},
     "output_type": "execute_result"
    }
   ],
   "source": [
    "bigramTagger.evaluate(testSents)"
   ]
  },
  {
   "cell_type": "code",
   "execution_count": null,
   "metadata": {
    "collapsed": true
   },
   "outputs": [],
   "source": []
  }
 ],
 "metadata": {
  "kernelspec": {
   "display_name": "Python [Root]",
   "language": "python",
   "name": "Python [Root]"
  },
  "language_info": {
   "codemirror_mode": {
    "name": "ipython",
    "version": 3
   },
   "file_extension": ".py",
   "mimetype": "text/x-python",
   "name": "python",
   "nbconvert_exporter": "python",
   "pygments_lexer": "ipython3",
   "version": "3.5.2"
  }
 },
 "nbformat": 4,
 "nbformat_minor": 0
}
