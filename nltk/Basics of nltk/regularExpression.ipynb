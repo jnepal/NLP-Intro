{
 "cells": [
  {
   "cell_type": "code",
   "execution_count": 3,
   "metadata": {
    "collapsed": true
   },
   "outputs": [],
   "source": [
    "import nltk\n",
    "import re #for regular expression"
   ]
  },
  {
   "cell_type": "code",
   "execution_count": 4,
   "metadata": {
    "collapsed": true
   },
   "outputs": [],
   "source": [
    "#wordset for alice in wonderland\n",
    "aliceWordSet = nltk.corpus.gutenberg.words('carroll-alice.txt')"
   ]
  },
  {
   "cell_type": "code",
   "execution_count": 9,
   "metadata": {
    "collapsed": false
   },
   "outputs": [
    {
     "name": "stdout",
     "output_type": "stream",
     "text": [
      "new\n",
      "new\n",
      "new\n",
      "new\n",
      "newspapers\n"
     ]
    },
    {
     "data": {
      "text/plain": [
       "{'new', 'newspapers'}"
      ]
     },
     "execution_count": 9,
     "metadata": {},
     "output_type": "execute_result"
    }
   ],
   "source": [
    "#words that starts with new\n",
    "#^(caret) dentoes the start of the expression\n",
    "for word in aliceWordSet:\n",
    "    if re.search('^new', word):\n",
    "         print(word)\n",
    "\n",
    "#can also be done as\n",
    "set([word for word in aliceWordSet if re.search('^new', word)])"
   ]
  },
  {
   "cell_type": "code",
   "execution_count": 12,
   "metadata": {
    "collapsed": false
   },
   "outputs": [
    {
     "data": {
      "text/plain": [
       "{'Beautiful',\n",
       " 'barrowful',\n",
       " 'beautiful',\n",
       " 'delightful',\n",
       " 'doubtful',\n",
       " 'dreadful',\n",
       " 'graceful',\n",
       " 'hopeful',\n",
       " 'mournful',\n",
       " 'ootiful',\n",
       " 'respectful',\n",
       " 'sorrowful',\n",
       " 'truthful',\n",
       " 'useful',\n",
       " 'wonderful'}"
      ]
     },
     "execution_count": 12,
     "metadata": {},
     "output_type": "execute_result"
    }
   ],
   "source": [
    "#words that starts end with ful\n",
    "#$(dollar) denotes the end of the expression\n",
    "set(word for word in aliceWordSet if re.search('ful$', word))"
   ]
  },
  {
   "cell_type": "code",
   "execution_count": 14,
   "metadata": {
    "collapsed": false
   },
   "outputs": [
    {
     "data": {
      "text/plain": [
       "{'cannot', 'dinner', 'fanned', 'manner', 'tunnel'}"
      ]
     },
     "execution_count": 14,
     "metadata": {},
     "output_type": "execute_result"
    }
   ],
   "source": [
    "#finds words which are 6 characters and nn in middle\n",
    "#.(dot) denotes the wild character\n",
    "#to find actual dot(.) like in email use \\.\n",
    "set(word for word in aliceWordSet if re.search('^..nn..$', word))"
   ]
  },
  {
   "cell_type": "code",
   "execution_count": 15,
   "metadata": {
    "collapsed": false
   },
   "outputs": [
    {
     "data": {
      "text/plain": [
       "{'cat', 'hat', 'rat'}"
      ]
     },
     "execution_count": 15,
     "metadata": {},
     "output_type": "execute_result"
    }
   ],
   "source": [
    "#find words like cat | hat | rat\n",
    "#[chr] denotes that the character might be c,h or r\n",
    "set(word for word in aliceWordSet if re.search('^[chr]at$', word))"
   ]
  },
  {
   "cell_type": "code",
   "execution_count": 17,
   "metadata": {
    "collapsed": false
   },
   "outputs": [
    {
     "data": {
      "text/plain": [
       "{'Ann',\n",
       " 'Dinn',\n",
       " 'Pennyworth',\n",
       " 'annoy',\n",
       " 'annoyed',\n",
       " 'beginning',\n",
       " 'cannot',\n",
       " 'cunning',\n",
       " 'dinn',\n",
       " 'dinner',\n",
       " 'fanned',\n",
       " 'fanning',\n",
       " 'funny',\n",
       " 'grinned',\n",
       " 'grinning',\n",
       " 'manner',\n",
       " 'manners',\n",
       " 'planning',\n",
       " 'running',\n",
       " 'tunnel'}"
      ]
     },
     "execution_count": 17,
     "metadata": {},
     "output_type": "execute_result"
    }
   ],
   "source": [
    "#finding words with random characters before nn and random character\n",
    "#.* means 0 or more wild card characters\n",
    "#^.*nn.*$ means 0 or more wild card characters followed by nn then 0 or more wild card character\n",
    "set(word for word in aliceWordSet if re.search('^.*nn.*$', word))"
   ]
  },
  {
   "cell_type": "code",
   "execution_count": 24,
   "metadata": {
    "collapsed": false
   },
   "outputs": [
    {
     "data": {
      "text/plain": [
       "{'accidentally', 'actually', 'occasionally'}"
      ]
     },
     "execution_count": 24,
     "metadata": {},
     "output_type": "execute_result"
    }
   ],
   "source": [
    "#finding words that start wit vowels and second character c and end with y\n",
    "#.+ specifies atleast 1 or more wildcard characters\n",
    "\n",
    "set(word for word in aliceWordSet if re.search('^[aeiou]c.+y$', word))"
   ]
  },
  {
   "cell_type": "code",
   "execution_count": 28,
   "metadata": {
    "collapsed": false
   },
   "outputs": [
    {
     "data": {
      "text/plain": [
       "{'W',\n",
       " 'WAISTCOAT',\n",
       " 'WAS',\n",
       " 'WASHING',\n",
       " 'WATCH',\n",
       " 'WE',\n",
       " 'WHAT',\n",
       " 'WHATEVER',\n",
       " 'WILL',\n",
       " 'WILLIAM',\n",
       " 'WITH',\n",
       " 'WOULD',\n",
       " 'Waiting',\n",
       " 'Wake',\n",
       " 'Was',\n",
       " 'We',\n",
       " 'Well',\n",
       " 'What',\n",
       " 'When',\n",
       " 'Where',\n",
       " 'Which',\n",
       " 'While',\n",
       " 'White',\n",
       " 'Who',\n",
       " 'Whoever',\n",
       " 'Why',\n",
       " 'Will',\n",
       " 'William',\n",
       " 'With',\n",
       " 'Wonderland',\n",
       " 'Would',\n",
       " 'Wouldn',\n",
       " 'Wow',\n",
       " 'Write',\n",
       " 'Writhing',\n",
       " 'wag',\n",
       " 'wags',\n",
       " 'waist',\n",
       " 'waistcoat',\n",
       " 'wait',\n",
       " 'waited',\n",
       " 'waiting',\n",
       " 'walk',\n",
       " 'walked',\n",
       " 'walking',\n",
       " 'walrus',\n",
       " 'wander',\n",
       " 'wandered',\n",
       " 'wandering',\n",
       " 'want',\n",
       " 'wanted',\n",
       " 'wants',\n",
       " 'warning',\n",
       " 'was',\n",
       " 'wash',\n",
       " 'washing',\n",
       " 'wasn',\n",
       " 'waste',\n",
       " 'wasting',\n",
       " 'watch',\n",
       " 'watched',\n",
       " 'watching',\n",
       " 'water',\n",
       " 'waters',\n",
       " 'waving',\n",
       " 'way',\n",
       " 'ways',\n",
       " 'we',\n",
       " 'weak',\n",
       " 'wearily',\n",
       " 'week',\n",
       " 'weeks',\n",
       " 'welcome',\n",
       " 'well',\n",
       " 'went',\n",
       " 'wept',\n",
       " 'were',\n",
       " 'weren',\n",
       " 'wet',\n",
       " 'what',\n",
       " 'whatever',\n",
       " 'when',\n",
       " 'whenever',\n",
       " 'where',\n",
       " 'whereupon',\n",
       " 'wherever',\n",
       " 'whether',\n",
       " 'which',\n",
       " 'while',\n",
       " 'whiles',\n",
       " 'whiskers',\n",
       " 'whisper',\n",
       " 'whispered',\n",
       " 'whispers',\n",
       " 'whistle',\n",
       " 'whistling',\n",
       " 'white',\n",
       " 'whiting',\n",
       " 'who',\n",
       " 'whole',\n",
       " 'whom',\n",
       " 'whose',\n",
       " 'why',\n",
       " 'wide',\n",
       " 'wider',\n",
       " 'wife',\n",
       " 'wig',\n",
       " 'wild',\n",
       " 'wildly',\n",
       " 'will',\n",
       " 'win',\n",
       " 'wind',\n",
       " 'window',\n",
       " 'wine',\n",
       " 'wings',\n",
       " 'wink',\n",
       " 'winter',\n",
       " 'wise',\n",
       " 'wish',\n",
       " 'with',\n",
       " 'within',\n",
       " 'without',\n",
       " 'witness',\n",
       " 'wits',\n",
       " 'woke',\n",
       " 'woman',\n",
       " 'won',\n",
       " 'wonder',\n",
       " 'wondered',\n",
       " 'wonderful',\n",
       " 'wondering',\n",
       " 'wood',\n",
       " 'wooden',\n",
       " 'word',\n",
       " 'words',\n",
       " 'wore',\n",
       " 'work',\n",
       " 'works',\n",
       " 'world',\n",
       " 'worm',\n",
       " 'worried',\n",
       " 'worry',\n",
       " 'worse',\n",
       " 'worth',\n",
       " 'would',\n",
       " 'wouldn',\n",
       " 'wow',\n",
       " 'wrapping',\n",
       " 'wretched',\n",
       " 'wriggling',\n",
       " 'write',\n",
       " 'writing',\n",
       " 'written',\n",
       " 'wrong',\n",
       " 'wrote'}"
      ]
     },
     "execution_count": 28,
     "metadata": {},
     "output_type": "execute_result"
    }
   ],
   "source": [
    "'''\n",
    "[A-Z] means any capital letter character between that range\n",
    "[a-z] means any small letter character between that range\n",
    "[0-9] means any small numeric digit between that range]\n",
    "[A-Za-z] match all alphanumeric character\n",
    "[ !] match non alphanumberic character like space and exclamation\n",
    "'''\n",
    "#finding all the words that begins with W or w\n",
    "set(word for word in aliceWordSet if re.search('^[Ww]', word))"
   ]
  },
  {
   "cell_type": "code",
   "execution_count": 34,
   "metadata": {
    "collapsed": false
   },
   "outputs": [
    {
     "data": {
      "text/plain": [
       "{'cat', 'catch', 'catching', 'caterpillar', 'cats', 'cattle', 'dog', 'dogs'}"
      ]
     },
     "execution_count": 34,
     "metadata": {},
     "output_type": "execute_result"
    }
   ],
   "source": [
    "'''\n",
    "Negation \n",
    "^[Ss] means all words that either starts with capital or small s\n",
    "[^Ss] means all words with capital or small s\n",
    "[^e^] means neither e nor caret(^)\n",
    "[^A-Z] means Not an uppercase letter\n",
    "\\^ is used to find actual caret(^)\n",
    "a|b means either a or b \n",
    "a|b|c is same as [abc]\n",
    "[gG]roundhog|[Ww]oodchuck means either groundhog or Groundhog or Woodchuck or woodchuck\n",
    "'''\n",
    "\n",
    "set(word for word in aliceWordSet if re.search('^cat|dog', word))"
   ]
  },
  {
   "cell_type": "code",
   "execution_count": null,
   "metadata": {
    "collapsed": true
   },
   "outputs": [],
   "source": [
    "'''\n",
    "? means previous character is optional\n",
    "colou?r means u is optional i.e either colour or color\n",
    "* means 0 or more of previous character\n",
    "oo*h matches 0 or more of o eg. oh! ooh! oooh! oooh!\n",
    "+ matches atleast 1 or more of previous character\n",
    "oo+h matches atleast one oor more o eg. oh! ooh! oooh! ooooh!\n",
    "'''"
   ]
  }
 ],
 "metadata": {
  "anaconda-cloud": {},
  "kernelspec": {
   "display_name": "Python [Root]",
   "language": "python",
   "name": "Python [Root]"
  },
  "language_info": {
   "codemirror_mode": {
    "name": "ipython",
    "version": 3
   },
   "file_extension": ".py",
   "mimetype": "text/x-python",
   "name": "python",
   "nbconvert_exporter": "python",
   "pygments_lexer": "ipython3",
   "version": "3.5.2"
  }
 },
 "nbformat": 4,
 "nbformat_minor": 0
}
