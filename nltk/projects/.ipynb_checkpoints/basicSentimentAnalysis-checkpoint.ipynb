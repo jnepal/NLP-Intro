{
 "cells": [
  {
   "cell_type": "code",
   "execution_count": 3,
   "metadata": {
    "collapsed": true
   },
   "outputs": [],
   "source": [
    "import nltk\n",
    "import csv\n",
    "import numpy as np"
   ]
  },
  {
   "cell_type": "code",
   "execution_count": 4,
   "metadata": {
    "collapsed": true
   },
   "outputs": [],
   "source": [
    "negative = []"
   ]
  },
  {
   "cell_type": "code",
   "execution_count": 5,
   "metadata": {
    "collapsed": false
   },
   "outputs": [],
   "source": [
    "with open(\"words_negative.csv\", \"r\") as file:\n",
    "    reader = csv.reader(file)\n",
    "    for row in reader:\n",
    "        negative.append(row)"
   ]
  },
  {
   "cell_type": "code",
   "execution_count": 7,
   "metadata": {
    "collapsed": true
   },
   "outputs": [],
   "source": [
    "positive = []"
   ]
  },
  {
   "cell_type": "code",
   "execution_count": 8,
   "metadata": {
    "collapsed": false
   },
   "outputs": [],
   "source": [
    "with open(\"words_positive.csv\", \"r\") as file:\n",
    "    reader = csv.reader(file)\n",
    "    for row in reader:\n",
    "        positive.append(row)"
   ]
  },
  {
   "cell_type": "code",
   "execution_count": 9,
   "metadata": {
    "collapsed": false
   },
   "outputs": [
    {
     "data": {
      "text/plain": [
       "[['absolutely'],\n",
       " ['adorable'],\n",
       " ['accepted'],\n",
       " ['acclaimed'],\n",
       " ['accomplish'],\n",
       " ['accomplishment'],\n",
       " ['achievement'],\n",
       " ['action'],\n",
       " ['active'],\n",
       " ['admire']]"
      ]
     },
     "execution_count": 9,
     "metadata": {},
     "output_type": "execute_result"
    }
   ],
   "source": [
    "positive[:10]"
   ]
  },
  {
   "cell_type": "code",
   "execution_count": 10,
   "metadata": {
    "collapsed": false
   },
   "outputs": [
    {
     "data": {
      "text/plain": [
       "[['abysmal'],\n",
       " ['adverse'],\n",
       " ['alarming'],\n",
       " ['angry'],\n",
       " ['annoy'],\n",
       " ['annoying'],\n",
       " ['anxious'],\n",
       " ['apathy'],\n",
       " ['appalling'],\n",
       " ['atrocious']]"
      ]
     },
     "execution_count": 10,
     "metadata": {},
     "output_type": "execute_result"
    }
   ],
   "source": [
    "negative[:10]"
   ]
  },
  {
   "cell_type": "code",
   "execution_count": 64,
   "metadata": {
    "collapsed": false
   },
   "outputs": [],
   "source": [
    "def sentiment(text):\n",
    "    sentTokens = nltk.sent_tokenize(text)\n",
    "    for sentence in sentTokens:\n",
    "        nCount = 0 #for negative\n",
    "        pCount = 0 #for positve\n",
    "        wordTokens = nltk.word_tokenize(sentence)\n",
    "        for word in wordTokens:\n",
    "            for item in positive:\n",
    "                if word in item:\n",
    "                    pCount += 1\n",
    "            for item in negative:\n",
    "                if word in item:\n",
    "                    nCount += 1\n",
    "        if pCount > 0 and nCount == 0:\n",
    "            print('+ : '+ sentence)\n",
    "        elif nCount % 2 > 0:\n",
    "            print('- :'+ sentence)\n",
    "        elif nCount % 2 == 0 and nCount > 0:\n",
    "            print('+ :'+ sentence)\n",
    "        else:\n",
    "            print(\"? :\"+ sentence) "
   ]
  },
  {
   "cell_type": "code",
   "execution_count": 65,
   "metadata": {
    "collapsed": false
   },
   "outputs": [
    {
     "name": "stdout",
     "output_type": "stream",
     "text": [
      "- :It was terribly bad.\n"
     ]
    }
   ],
   "source": [
    "sentiment(\"It was terribly bad.\")"
   ]
  },
  {
   "cell_type": "code",
   "execution_count": 66,
   "metadata": {
    "collapsed": false
   },
   "outputs": [
    {
     "name": "stdout",
     "output_type": "stream",
     "text": [
      "+ :Actually, It was not bad at all\n"
     ]
    }
   ],
   "source": [
    "sentiment(\"Actually, It was not bad at all\")"
   ]
  },
  {
   "cell_type": "code",
   "execution_count": 67,
   "metadata": {
    "collapsed": false
   },
   "outputs": [
    {
     "name": "stdout",
     "output_type": "stream",
     "text": [
      "? :This is sentence about nothing\n"
     ]
    }
   ],
   "source": [
    "sentiment(\"This is sentence about nothing\")"
   ]
  },
  {
   "cell_type": "code",
   "execution_count": null,
   "metadata": {
    "collapsed": true
   },
   "outputs": [],
   "source": []
  }
 ],
 "metadata": {
  "anaconda-cloud": {},
  "kernelspec": {
   "display_name": "Python [Root]",
   "language": "python",
   "name": "Python [Root]"
  },
  "language_info": {
   "codemirror_mode": {
    "name": "ipython",
    "version": 3
   },
   "file_extension": ".py",
   "mimetype": "text/x-python",
   "name": "python",
   "nbconvert_exporter": "python",
   "pygments_lexer": "ipython3",
   "version": "3.5.2"
  }
 },
 "nbformat": 4,
 "nbformat_minor": 0
}
