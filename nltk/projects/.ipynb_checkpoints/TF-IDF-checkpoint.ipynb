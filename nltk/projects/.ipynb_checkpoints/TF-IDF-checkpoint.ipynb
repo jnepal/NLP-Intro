{
 "cells": [
  {
   "cell_type": "code",
   "execution_count": 2,
   "metadata": {
    "collapsed": false
   },
   "outputs": [],
   "source": [
    "from sklearn.feature_extraction.text import TfidfVectorizer"
   ]
  },
  {
   "cell_type": "code",
   "execution_count": 4,
   "metadata": {
    "collapsed": false
   },
   "outputs": [],
   "source": [
    "import pandas as pd\n",
    "import numpy as np"
   ]
  },
  {
   "cell_type": "code",
   "execution_count": 5,
   "metadata": {
    "collapsed": true
   },
   "outputs": [],
   "source": [
    "phrases = [\n",
    "    \"I am going to have a pizza delivered for dinner.\",\n",
    "    \"I am going to try that new French restaurant for dinner.\",\n",
    "    \"I prefer reading over going to the movies.\",\n",
    "    \"I prefer going to the moviees over reading books.\",\n",
    "    \"I have friends in New York City.\",\n",
    "    \"She loves going to the movies.\"\n",
    "]"
   ]
  },
  {
   "cell_type": "code",
   "execution_count": 8,
   "metadata": {
    "collapsed": false
   },
   "outputs": [],
   "source": [
    "#Features Vectors\n",
    "#min_df = 1 is the threshold for ignoring terms\n",
    "vector =  TfidfVectorizer(min_df = 1)\n",
    "tfidf  = vector.fit_transform(phrases)#cutoff by default is 1"
   ]
  },
  {
   "cell_type": "code",
   "execution_count": 9,
   "metadata": {
    "collapsed": true
   },
   "outputs": [],
   "source": [
    "#cosine similarity\n",
    "cosineSimilarity = (tfidf * tfidf.T).A"
   ]
  },
  {
   "cell_type": "code",
   "execution_count": 10,
   "metadata": {
    "collapsed": false
   },
   "outputs": [
    {
     "name": "stdout",
     "output_type": "stream",
     "text": [
      "[[ 1.          0.414471    0.1196096   0.1025873   0.12736866  0.11989019]\n",
      " [ 0.414471    1.          0.1016883   0.08721648  0.10828481  0.10192685]\n",
      " [ 0.1196096   0.1016883   1.          0.70155695  0.          0.45496329]\n",
      " [ 0.1025873   0.08721648  0.70155695  1.          0.          0.23372112]\n",
      " [ 0.12736866  0.10828481  0.          0.          1.          0.        ]\n",
      " [ 0.11989019  0.10192685  0.45496329  0.23372112  0.          1.        ]]\n"
     ]
    }
   ],
   "source": [
    "print(cosineSimilarity)"
   ]
  },
  {
   "cell_type": "code",
   "execution_count": 12,
   "metadata": {
    "collapsed": false
   },
   "outputs": [],
   "source": [
    "#cleaning the cosine similarity visually\n",
    "df = pd.DataFrame(cosineSimilarity, index=phrases, columns=phrases)"
   ]
  },
  {
   "cell_type": "code",
   "execution_count": 13,
   "metadata": {
    "collapsed": false
   },
   "outputs": [
    {
     "data": {
      "text/html": [
       "<div>\n",
       "<table border=\"1\" class=\"dataframe\">\n",
       "  <thead>\n",
       "    <tr style=\"text-align: right;\">\n",
       "      <th></th>\n",
       "      <th>I am going to have a pizza delivered for dinner.</th>\n",
       "      <th>I am going to try that new French restaurant for dinner.</th>\n",
       "      <th>I prefer reading over going to the movies.</th>\n",
       "      <th>I prefer going to the moviees over reading books.</th>\n",
       "      <th>I have friends in New York City.</th>\n",
       "      <th>She loves going to the movies.</th>\n",
       "    </tr>\n",
       "  </thead>\n",
       "  <tbody>\n",
       "    <tr>\n",
       "      <th>I am going to have a pizza delivered for dinner.</th>\n",
       "      <td>1.000000</td>\n",
       "      <td>0.414471</td>\n",
       "      <td>0.119610</td>\n",
       "      <td>0.102587</td>\n",
       "      <td>0.127369</td>\n",
       "      <td>0.119890</td>\n",
       "    </tr>\n",
       "    <tr>\n",
       "      <th>I am going to try that new French restaurant for dinner.</th>\n",
       "      <td>0.414471</td>\n",
       "      <td>1.000000</td>\n",
       "      <td>0.101688</td>\n",
       "      <td>0.087216</td>\n",
       "      <td>0.108285</td>\n",
       "      <td>0.101927</td>\n",
       "    </tr>\n",
       "    <tr>\n",
       "      <th>I prefer reading over going to the movies.</th>\n",
       "      <td>0.119610</td>\n",
       "      <td>0.101688</td>\n",
       "      <td>1.000000</td>\n",
       "      <td>0.701557</td>\n",
       "      <td>0.000000</td>\n",
       "      <td>0.454963</td>\n",
       "    </tr>\n",
       "    <tr>\n",
       "      <th>I prefer going to the moviees over reading books.</th>\n",
       "      <td>0.102587</td>\n",
       "      <td>0.087216</td>\n",
       "      <td>0.701557</td>\n",
       "      <td>1.000000</td>\n",
       "      <td>0.000000</td>\n",
       "      <td>0.233721</td>\n",
       "    </tr>\n",
       "    <tr>\n",
       "      <th>I have friends in New York City.</th>\n",
       "      <td>0.127369</td>\n",
       "      <td>0.108285</td>\n",
       "      <td>0.000000</td>\n",
       "      <td>0.000000</td>\n",
       "      <td>1.000000</td>\n",
       "      <td>0.000000</td>\n",
       "    </tr>\n",
       "    <tr>\n",
       "      <th>She loves going to the movies.</th>\n",
       "      <td>0.119890</td>\n",
       "      <td>0.101927</td>\n",
       "      <td>0.454963</td>\n",
       "      <td>0.233721</td>\n",
       "      <td>0.000000</td>\n",
       "      <td>1.000000</td>\n",
       "    </tr>\n",
       "  </tbody>\n",
       "</table>\n",
       "</div>"
      ],
      "text/plain": [
       "                                                    I am going to have a pizza delivered for dinner.  \\\n",
       "I am going to have a pizza delivered for dinner.                                            1.000000   \n",
       "I am going to try that new French restaurant fo...                                          0.414471   \n",
       "I prefer reading over going to the movies.                                                  0.119610   \n",
       "I prefer going to the moviees over reading books.                                           0.102587   \n",
       "I have friends in New York City.                                                            0.127369   \n",
       "She loves going to the movies.                                                              0.119890   \n",
       "\n",
       "                                                    I am going to try that new French restaurant for dinner.  \\\n",
       "I am going to have a pizza delivered for dinner.                                             0.414471          \n",
       "I am going to try that new French restaurant fo...                                           1.000000          \n",
       "I prefer reading over going to the movies.                                                   0.101688          \n",
       "I prefer going to the moviees over reading books.                                            0.087216          \n",
       "I have friends in New York City.                                                             0.108285          \n",
       "She loves going to the movies.                                                               0.101927          \n",
       "\n",
       "                                                    I prefer reading over going to the movies.  \\\n",
       "I am going to have a pizza delivered for dinner.                                      0.119610   \n",
       "I am going to try that new French restaurant fo...                                    0.101688   \n",
       "I prefer reading over going to the movies.                                            1.000000   \n",
       "I prefer going to the moviees over reading books.                                     0.701557   \n",
       "I have friends in New York City.                                                      0.000000   \n",
       "She loves going to the movies.                                                        0.454963   \n",
       "\n",
       "                                                    I prefer going to the moviees over reading books.  \\\n",
       "I am going to have a pizza delivered for dinner.                                             0.102587   \n",
       "I am going to try that new French restaurant fo...                                           0.087216   \n",
       "I prefer reading over going to the movies.                                                   0.701557   \n",
       "I prefer going to the moviees over reading books.                                            1.000000   \n",
       "I have friends in New York City.                                                             0.000000   \n",
       "She loves going to the movies.                                                               0.233721   \n",
       "\n",
       "                                                    I have friends in New York City.  \\\n",
       "I am going to have a pizza delivered for dinner.                            0.127369   \n",
       "I am going to try that new French restaurant fo...                          0.108285   \n",
       "I prefer reading over going to the movies.                                  0.000000   \n",
       "I prefer going to the moviees over reading books.                           0.000000   \n",
       "I have friends in New York City.                                            1.000000   \n",
       "She loves going to the movies.                                              0.000000   \n",
       "\n",
       "                                                    She loves going to the movies.  \n",
       "I am going to have a pizza delivered for dinner.                          0.119890  \n",
       "I am going to try that new French restaurant fo...                        0.101927  \n",
       "I prefer reading over going to the movies.                                0.454963  \n",
       "I prefer going to the moviees over reading books.                         0.233721  \n",
       "I have friends in New York City.                                          0.000000  \n",
       "She loves going to the movies.                                            1.000000  "
      ]
     },
     "execution_count": 13,
     "metadata": {},
     "output_type": "execute_result"
    }
   ],
   "source": [
    "df"
   ]
  },
  {
   "cell_type": "code",
   "execution_count": 17,
   "metadata": {
    "collapsed": false
   },
   "outputs": [],
   "source": [
    "import seaborn as sns #for visual representation\n",
    "%matplotlib inline"
   ]
  },
  {
   "cell_type": "code",
   "execution_count": 18,
   "metadata": {
    "collapsed": false
   },
   "outputs": [
    {
     "data": {
      "text/plain": [
       "<matplotlib.axes._subplots.AxesSubplot at 0x630512add8>"
      ]
     },
     "execution_count": 18,
     "metadata": {},
     "output_type": "execute_result"
    },
    {
     "data": {
      "image/png": "[encoded data removed]",
      "text/plain": [
       "<matplotlib.figure.Figure at 0x630510e630>"
      ]
     },
     "metadata": {},
     "output_type": "display_data"
    }
   ],
   "source": [
    "sns.heatmap(df, annot=True)"
   ]
  },
  {
   "cell_type": "code",
   "execution_count": 19,
   "metadata": {
    "collapsed": true
   },
   "outputs": [],
   "source": [
    "#TFIDF on a set a documents\n",
    "from sklearn.decomposition import NMF"
   ]
  },
  {
   "cell_type": "code",
   "execution_count": 51,
   "metadata": {
    "collapsed": false
   },
   "outputs": [],
   "source": [
    "d1 = open('tfidf_1.txt', encoding=\"utf-8\").read()\n",
    "d2 = open('tfidf_2.txt', encoding=\"utf-8\").read()\n",
    "d3 = open('tfidf_3.txt', encoding=\"utf-8\").read()\n",
    "d4 = open('tfidf_4.txt', encoding=\"utf-8\").read()\n",
    "d5 = open('tfidf_5.txt', encoding=\"utf-8\").read()\n",
    "d6 = open('tfidf_6.txt', encoding=\"utf-8\").read()\n",
    "d7 = open('tfidf_7.txt', encoding=\"utf-8\").read()\n",
    "d8 = open('tfidf_8.txt', encoding=\"utf-8\").read()\n",
    "d9 = open('tfidf_9.txt', encoding=\"utf-8\").read()\n",
    "d10 = open('tfidf_10.txt', encoding=\"utf-8\").read()\n"
   ]
  },
  {
   "cell_type": "code",
   "execution_count": 62,
   "metadata": {
    "collapsed": false
   },
   "outputs": [],
   "source": [
    "dataset = [d1,d2,d3,d4,d5,d6,d7,d8,d9,d10]"
   ]
  },
  {
   "cell_type": "code",
   "execution_count": 79,
   "metadata": {
    "collapsed": true
   },
   "outputs": [],
   "source": [
    "vectorizer = TfidfVectorizer(min_df = 1, max_features = 100, stop_words = \"english\")"
   ]
  },
  {
   "cell_type": "code",
   "execution_count": 80,
   "metadata": {
    "collapsed": true
   },
   "outputs": [],
   "source": [
    "tfidf = vectorizer.fit_transform(dataset)"
   ]
  },
  {
   "cell_type": "code",
   "execution_count": 81,
   "metadata": {
    "collapsed": true
   },
   "outputs": [],
   "source": [
    "nmf = NMF(n_components = 10, random_state = 1).fit(tfidf)#n_components refers to the number of topics we want returned for each document"
   ]
  },
  {
   "cell_type": "code",
   "execution_count": 82,
   "metadata": {
    "collapsed": false
   },
   "outputs": [],
   "source": [
    "featureNames = vectorizer.get_feature_names()"
   ]
  },
  {
   "cell_type": "code",
   "execution_count": 83,
   "metadata": {
    "collapsed": false
   },
   "outputs": [
    {
     "name": "stdout",
     "output_type": "stream",
     "text": [
      "Topic #0:\n",
      "revolution french revolutionary napoleon political directory popular modern republic 1789 military\n",
      "\n",
      "\n",
      "Topic #1:\n",
      "tesla electrical wireless work york popular new power american series time\n",
      "\n",
      "\n",
      "Topic #2:\n",
      "newton work earth day time later president church european revolution widely\n",
      "\n",
      "\n",
      "Topic #3:\n",
      "leonardo man time later widely world life history april called scientific\n",
      "\n",
      "\n",
      "Topic #4:\n",
      "lunar module armstrong apollo earth landed command july 11 man later\n",
      "\n",
      "\n",
      "Topic #5:\n",
      "rockefeller oil church life american modern man national scientific supported central\n",
      "\n",
      "\n",
      "Topic #6:\n",
      "war soviet union axis germany japan allies united invasion 1945 pacific\n",
      "\n",
      "\n",
      "Topic #7:\n",
      "titanic ship passengers safety april new wireless world led people life\n",
      "\n",
      "\n",
      "Topic #8:\n",
      "washington american president british continental national army united states war government\n",
      "\n",
      "\n",
      "Topic #9:\n",
      "napoleon french coalition europe france battle empire military army allies revolution\n",
      "\n",
      "\n"
     ]
    }
   ],
   "source": [
    "for topic_idx, topic in enumerate(nmf.components_): #underscore suffixed variable is usually to avoid conflicts with python keywords \n",
    "    print(\"Topic #%d:\" % topic_idx)\n",
    "    print(\" \".join([featureNames[i]\n",
    "                    for i in topic.argsort()[:-11 - 1:-1]]))\n",
    "    print(\"\\n\")"
   ]
  },
  {
   "cell_type": "code",
   "execution_count": null,
   "metadata": {
    "collapsed": true
   },
   "outputs": [],
   "source": []
  }
 ],
 "metadata": {
  "anaconda-cloud": {},
  "kernelspec": {
   "display_name": "Python [Root]",
   "language": "python",
   "name": "Python [Root]"
  },
  "language_info": {
   "codemirror_mode": {
    "name": "ipython",
    "version": 3
   },
   "file_extension": ".py",
   "mimetype": "text/x-python",
   "name": "python",
   "nbconvert_exporter": "python",
   "pygments_lexer": "ipython3",
   "version": "3.5.2"
  }
 },
 "nbformat": 4,
 "nbformat_minor": 0
}
