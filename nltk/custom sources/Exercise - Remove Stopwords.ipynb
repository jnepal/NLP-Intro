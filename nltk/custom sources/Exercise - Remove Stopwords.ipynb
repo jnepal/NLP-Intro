{
 "cells": [
  {
   "cell_type": "code",
   "execution_count": 1,
   "metadata": {
    "collapsed": true
   },
   "outputs": [],
   "source": [
    "import nltk"
   ]
  },
  {
   "cell_type": "code",
   "execution_count": 3,
   "metadata": {
    "collapsed": false
   },
   "outputs": [],
   "source": [
    "#creating wordset for alice in wonderland text\n",
    "aliceWordSet = nltk.corpus.gutenberg.words('carroll-alice.txt')"
   ]
  },
  {
   "cell_type": "code",
   "execution_count": 12,
   "metadata": {
    "collapsed": false
   },
   "outputs": [],
   "source": [
    "#normalisation\n",
    "aliceWordSetTokens = [word.lower() for word in aliceWordSet if word.isalpha()]"
   ]
  },
  {
   "cell_type": "code",
   "execution_count": 13,
   "metadata": {
    "collapsed": true
   },
   "outputs": [],
   "source": [
    "#Frequency Distribution\n",
    "aliceWordFd = nltk.FreqDist(aliceWordSetTokens)"
   ]
  },
  {
   "cell_type": "code",
   "execution_count": 16,
   "metadata": {
    "collapsed": false
   },
   "outputs": [],
   "source": [
    "#Most common 100 works\n",
    "alice100Common = aliceWordFd.most_common(100)"
   ]
  },
  {
   "cell_type": "code",
   "execution_count": 17,
   "metadata": {
    "collapsed": false
   },
   "outputs": [
    {
     "data": {
      "text/plain": [
       "[('the', 1642),\n",
       " ('and', 872),\n",
       " ('to', 729),\n",
       " ('a', 632),\n",
       " ('it', 595),\n",
       " ('she', 553),\n",
       " ('i', 543),\n",
       " ('of', 514),\n",
       " ('said', 462),\n",
       " ('you', 411),\n",
       " ('alice', 398),\n",
       " ('in', 369),\n",
       " ('was', 357),\n",
       " ('that', 315),\n",
       " ('as', 263),\n",
       " ('her', 248),\n",
       " ('t', 218),\n",
       " ('at', 212),\n",
       " ('s', 201),\n",
       " ('on', 193),\n",
       " ('all', 182),\n",
       " ('with', 180),\n",
       " ('had', 178),\n",
       " ('but', 170),\n",
       " ('for', 153),\n",
       " ('they', 152),\n",
       " ('so', 151),\n",
       " ('be', 148),\n",
       " ('not', 145),\n",
       " ('very', 144),\n",
       " ('what', 141),\n",
       " ('this', 134),\n",
       " ('little', 128),\n",
       " ('he', 125),\n",
       " ('out', 117),\n",
       " ('is', 108),\n",
       " ('one', 104),\n",
       " ('down', 102),\n",
       " ('up', 100),\n",
       " ('there', 99),\n",
       " ('if', 96),\n",
       " ('his', 96),\n",
       " ('about', 94),\n",
       " ('then', 94),\n",
       " ('no', 90),\n",
       " ('them', 88),\n",
       " ('know', 88),\n",
       " ('like', 85),\n",
       " ('were', 85),\n",
       " ('would', 83),\n",
       " ('herself', 83),\n",
       " ('again', 83),\n",
       " ('went', 83),\n",
       " ('do', 81),\n",
       " ('have', 80),\n",
       " ('when', 79),\n",
       " ('or', 77),\n",
       " ('could', 77),\n",
       " ('queen', 75),\n",
       " ('thought', 74),\n",
       " ('off', 73),\n",
       " ('time', 71),\n",
       " ('how', 68),\n",
       " ('me', 68),\n",
       " ('see', 67),\n",
       " ('into', 67),\n",
       " ('m', 63),\n",
       " ('who', 63),\n",
       " ('king', 63),\n",
       " ('did', 63),\n",
       " ('can', 63),\n",
       " ('well', 63),\n",
       " ('your', 62),\n",
       " ('don', 61),\n",
       " ('now', 60),\n",
       " ('turtle', 59),\n",
       " ('by', 59),\n",
       " ('my', 58),\n",
       " ('began', 58),\n",
       " ('an', 57),\n",
       " ('its', 57),\n",
       " ('ll', 57),\n",
       " ('mock', 56),\n",
       " ('hatter', 56),\n",
       " ('way', 56),\n",
       " ('gryphon', 55),\n",
       " ('quite', 55),\n",
       " ('are', 54),\n",
       " ('think', 53),\n",
       " ('their', 52),\n",
       " ('just', 52),\n",
       " ('much', 51),\n",
       " ('say', 51),\n",
       " ('some', 51),\n",
       " ('here', 51),\n",
       " ('rabbit', 51),\n",
       " ('first', 51),\n",
       " ('head', 50),\n",
       " ('only', 50),\n",
       " ('go', 50)]"
      ]
     },
     "execution_count": 17,
     "metadata": {},
     "output_type": "execute_result"
    }
   ],
   "source": [
    "alice100Common"
   ]
  },
  {
   "cell_type": "code",
   "execution_count": 18,
   "metadata": {
    "collapsed": true
   },
   "outputs": [],
   "source": [
    "alice100WordsOnly = [word[0] for word in alice100Common]"
   ]
  },
  {
   "cell_type": "code",
   "execution_count": 19,
   "metadata": {
    "collapsed": false
   },
   "outputs": [
    {
     "data": {
      "text/plain": [
       "['the',\n",
       " 'and',\n",
       " 'to',\n",
       " 'a',\n",
       " 'it',\n",
       " 'she',\n",
       " 'i',\n",
       " 'of',\n",
       " 'said',\n",
       " 'you',\n",
       " 'alice',\n",
       " 'in',\n",
       " 'was',\n",
       " 'that',\n",
       " 'as',\n",
       " 'her',\n",
       " 't',\n",
       " 'at',\n",
       " 's',\n",
       " 'on',\n",
       " 'all',\n",
       " 'with',\n",
       " 'had',\n",
       " 'but',\n",
       " 'for',\n",
       " 'they',\n",
       " 'so',\n",
       " 'be',\n",
       " 'not',\n",
       " 'very',\n",
       " 'what',\n",
       " 'this',\n",
       " 'little',\n",
       " 'he',\n",
       " 'out',\n",
       " 'is',\n",
       " 'one',\n",
       " 'down',\n",
       " 'up',\n",
       " 'there',\n",
       " 'if',\n",
       " 'his',\n",
       " 'about',\n",
       " 'then',\n",
       " 'no',\n",
       " 'them',\n",
       " 'know',\n",
       " 'like',\n",
       " 'were',\n",
       " 'would',\n",
       " 'herself',\n",
       " 'again',\n",
       " 'went',\n",
       " 'do',\n",
       " 'have',\n",
       " 'when',\n",
       " 'or',\n",
       " 'could',\n",
       " 'queen',\n",
       " 'thought',\n",
       " 'off',\n",
       " 'time',\n",
       " 'how',\n",
       " 'me',\n",
       " 'see',\n",
       " 'into',\n",
       " 'm',\n",
       " 'who',\n",
       " 'king',\n",
       " 'did',\n",
       " 'can',\n",
       " 'well',\n",
       " 'your',\n",
       " 'don',\n",
       " 'now',\n",
       " 'turtle',\n",
       " 'by',\n",
       " 'my',\n",
       " 'began',\n",
       " 'an',\n",
       " 'its',\n",
       " 'll',\n",
       " 'mock',\n",
       " 'hatter',\n",
       " 'way',\n",
       " 'gryphon',\n",
       " 'quite',\n",
       " 'are',\n",
       " 'think',\n",
       " 'their',\n",
       " 'just',\n",
       " 'much',\n",
       " 'say',\n",
       " 'some',\n",
       " 'here',\n",
       " 'rabbit',\n",
       " 'first',\n",
       " 'head',\n",
       " 'only',\n",
       " 'go']"
      ]
     },
     "execution_count": 19,
     "metadata": {},
     "output_type": "execute_result"
    }
   ],
   "source": [
    "alice100WordsOnly"
   ]
  },
  {
   "cell_type": "code",
   "execution_count": 20,
   "metadata": {
    "collapsed": true
   },
   "outputs": [],
   "source": [
    "#stopwords for english\n",
    "stopWords = nltk.corpus.stopwords.words(\"english\")"
   ]
  },
  {
   "cell_type": "code",
   "execution_count": 21,
   "metadata": {
    "collapsed": false
   },
   "outputs": [
    {
     "data": {
      "text/plain": [
       "{'alice',\n",
       " 'began',\n",
       " 'could',\n",
       " 'first',\n",
       " 'go',\n",
       " 'gryphon',\n",
       " 'hatter',\n",
       " 'head',\n",
       " 'king',\n",
       " 'know',\n",
       " 'like',\n",
       " 'little',\n",
       " 'mock',\n",
       " 'much',\n",
       " 'one',\n",
       " 'queen',\n",
       " 'quite',\n",
       " 'rabbit',\n",
       " 'said',\n",
       " 'say',\n",
       " 'see',\n",
       " 'think',\n",
       " 'thought',\n",
       " 'time',\n",
       " 'turtle',\n",
       " 'way',\n",
       " 'well',\n",
       " 'went',\n",
       " 'would'}"
      ]
     },
     "execution_count": 21,
     "metadata": {},
     "output_type": "execute_result"
    }
   ],
   "source": [
    "set(alice100WordsOnly)-set(stopWords) #provides description of text"
   ]
  },
  {
   "cell_type": "code",
   "execution_count": null,
   "metadata": {
    "collapsed": true
   },
   "outputs": [],
   "source": []
  }
 ],
 "metadata": {
  "anaconda-cloud": {},
  "kernelspec": {
   "display_name": "Python [Root]",
   "language": "python",
   "name": "Python [Root]"
  },
  "language_info": {
   "codemirror_mode": {
    "name": "ipython",
    "version": 3
   },
   "file_extension": ".py",
   "mimetype": "text/x-python",
   "name": "python",
   "nbconvert_exporter": "python",
   "pygments_lexer": "ipython3",
   "version": "3.5.2"
  }
 },
 "nbformat": 4,
 "nbformat_minor": 0
}
