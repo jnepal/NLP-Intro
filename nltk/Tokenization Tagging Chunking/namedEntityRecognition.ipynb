{
 "cells": [
  {
   "cell_type": "markdown",
   "metadata": {},
   "source": [
    "Advanced Application of Chunking to find Named Entity Recognition\n",
    "Named Entity are considered to be people, organisation, location and geographical political events"
   ]
  },
  {
   "cell_type": "code",
   "execution_count": 1,
   "metadata": {
    "collapsed": true
   },
   "outputs": [],
   "source": [
    "import nltk"
   ]
  },
  {
   "cell_type": "code",
   "execution_count": 5,
   "metadata": {
    "collapsed": false
   },
   "outputs": [],
   "source": [
    "#loading custom text\n",
    "text = open(\"example.txt\").read()"
   ]
  },
  {
   "cell_type": "code",
   "execution_count": 7,
   "metadata": {
    "collapsed": false
   },
   "outputs": [],
   "source": [
    "#Tokenize\n",
    "textTokens = nltk.word_tokenize(text)"
   ]
  },
  {
   "cell_type": "code",
   "execution_count": 8,
   "metadata": {
    "collapsed": true
   },
   "outputs": [],
   "source": [
    "#POS Tagging\n",
    "textPOSTags = nltk.pos_tag(textTokens)"
   ]
  },
  {
   "cell_type": "code",
   "execution_count": 13,
   "metadata": {
    "collapsed": false
   },
   "outputs": [],
   "source": [
    "#Name Entity Recognition\n",
    "textChunks = nltk.ne_chunk(textPOSTags)"
   ]
  },
  {
   "cell_type": "code",
   "execution_count": 14,
   "metadata": {
    "collapsed": false
   },
   "outputs": [
    {
     "name": "stdout",
     "output_type": "stream",
     "text": [
      "ORGANIZATION WWII\n",
      "ORGANIZATION WW2\n",
      "ORGANIZATION Second\n",
      "ORGANIZATION Axis\n",
      "ORGANIZATION Hiroshima\n",
      "GPE Nagasaki\n",
      "ORGANIZATION Empire of Japan\n",
      "GPE Asia\n",
      "ORGANIZATION Pacific\n",
      "ORGANIZATION Republic\n",
      "GPE China\n",
      "GPE Poland\n",
      "GPE Germany\n",
      "GPE Germany\n",
      "GPE France\n",
      "ORGANIZATION United Kingdom\n",
      "GPE Germany\n",
      "GPE Europe\n",
      "ORGANIZATION Axis\n",
      "GPE Italy\n",
      "GPE Japan\n",
      "GPE Germany\n",
      "GPE Soviet Union\n",
      "GPE European\n",
      "GPE Poland\n",
      "GPE Finland\n",
      "GPE Romania\n",
      "GPE Baltic\n",
      "ORGANIZATION United Kingdom\n",
      "GPE British\n",
      "ORGANIZATION European Axis\n",
      "GPE North Africa\n",
      "ORGANIZATION Horn\n",
      "GPE Africa\n",
      "GPE Britain\n",
      "GPE Blitz\n",
      "ORGANIZATION Atlantic\n",
      "ORGANIZATION European Axis\n",
      "GPE Soviet Union\n",
      "ORGANIZATION Axis\n",
      "GPE Japan\n",
      "GPE United States\n",
      "GPE European\n",
      "ORGANIZATION Pacific Ocean\n",
      "LOCATION Western Pacific\n",
      "ORGANIZATION Axis\n",
      "PERSON Japan\n",
      "GPE Midway\n",
      "GPE Hawaii\n",
      "GPE Germany\n",
      "GPE North Africa\n",
      "FACILITY Stalingrad\n",
      "GPE Soviet Union\n",
      "GPE German\n",
      "LOCATION Eastern Front\n",
      "GPE Italy\n",
      "GPE Italian\n",
      "GPE Allied\n",
      "ORGANIZATION Pacific\n",
      "ORGANIZATION Axis\n",
      "LOCATION Western\n",
      "GPE France\n",
      "GPE Soviet Union\n",
      "GPE Germany\n",
      "GPE Japanese\n",
      "GPE Asia\n",
      "GPE South\n",
      "GPE China\n",
      "GPE Burma\n",
      "GPE Japanese\n",
      "ORGANIZATION Navy\n",
      "LOCATION Western Pacific\n",
      "GPE Europe\n",
      "GPE Germany\n",
      "LOCATION Western\n",
      "GPE Soviet Union\n",
      "GPE Berlin\n",
      "GPE Soviet\n",
      "GPE Polish\n",
      "GPE German\n",
      "ORGANIZATION Potsdam\n",
      "GPE Japan\n",
      "GPE United States\n",
      "GPE Japanese\n",
      "ORGANIZATION Hiroshima\n",
      "PERSON Nagasaki\n",
      "GPE Japanese\n",
      "GPE Soviet Union\n",
      "GPE Japan\n",
      "GPE Manchuria\n",
      "GPE Japan\n",
      "GPE Asia\n",
      "ORGANIZATION United Nations\n",
      "GPE United States\n",
      "GPE Soviet Union\n",
      "GPE China\n",
      "ORGANIZATION United Kingdom\n",
      "ORGANIZATION United Nations\n",
      "ORGANIZATION Security Council\n",
      "GPE Soviet Union\n",
      "GPE United States\n",
      "GPE European\n",
      "GPE Asia\n",
      "PERSON Africa\n",
      "GPE Europe\n"
     ]
    }
   ],
   "source": [
    "for chunk in textChunks:\n",
    "    if hasattr(chunk, 'label'):\n",
    "        print(chunk.label(),\" \". join(c[0] for c in chunk.leaves()))"
   ]
  },
  {
   "cell_type": "code",
   "execution_count": null,
   "metadata": {
    "collapsed": true
   },
   "outputs": [],
   "source": []
  }
 ],
 "metadata": {
  "kernelspec": {
   "display_name": "Python [Root]",
   "language": "python",
   "name": "Python [Root]"
  },
  "language_info": {
   "codemirror_mode": {
    "name": "ipython",
    "version": 3
   },
   "file_extension": ".py",
   "mimetype": "text/x-python",
   "name": "python",
   "nbconvert_exporter": "python",
   "pygments_lexer": "ipython3",
   "version": "3.5.2"
  }
 },
 "nbformat": 4,
 "nbformat_minor": 0
}
