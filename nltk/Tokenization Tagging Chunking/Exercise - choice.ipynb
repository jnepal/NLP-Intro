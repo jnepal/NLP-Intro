{
 "cells": [
  {
   "cell_type": "code",
   "execution_count": 1,
   "metadata": {
    "collapsed": true
   },
   "outputs": [],
   "source": [
    "import nltk"
   ]
  },
  {
   "cell_type": "code",
   "execution_count": 2,
   "metadata": {
    "collapsed": true
   },
   "outputs": [],
   "source": [
    "#creating word set of text bryant stories\n",
    "bryantStories = nltk.corpus.gutenberg.words('bryant-stories.txt')"
   ]
  },
  {
   "cell_type": "code",
   "execution_count": 3,
   "metadata": {
    "collapsed": true
   },
   "outputs": [],
   "source": [
    "#Normalizing\n",
    "bryantStoriesNorm = [word.lower() for word in bryantStories if word.isalpha()]"
   ]
  },
  {
   "cell_type": "code",
   "execution_count": 5,
   "metadata": {
    "collapsed": true
   },
   "outputs": [],
   "source": [
    "#POS Tag\n",
    "bryantStoriesNormPOSTag = nltk.pos_tag(bryantStoriesNorm, tagset=\"universal\")"
   ]
  },
  {
   "cell_type": "code",
   "execution_count": 6,
   "metadata": {
    "collapsed": false
   },
   "outputs": [
    {
     "data": {
      "text/plain": [
       "[('stories', 'NOUN'),\n",
       " ('to', 'PRT'),\n",
       " ('tell', 'VERB'),\n",
       " ('to', 'PRT'),\n",
       " ('children', 'NOUN'),\n",
       " ('by', 'ADP'),\n",
       " ('sara', 'NOUN'),\n",
       " ('cone', 'NOUN'),\n",
       " ('bryant', 'ADJ'),\n",
       " ('two', 'NUM')]"
      ]
     },
     "execution_count": 6,
     "metadata": {},
     "output_type": "execute_result"
    }
   ],
   "source": [
    "#first 10 POS tag\n",
    "bryantStoriesNormPOSTag[:10]"
   ]
  },
  {
   "cell_type": "code",
   "execution_count": 19,
   "metadata": {
    "collapsed": false
   },
   "outputs": [
    {
     "data": {
      "text/plain": [
       "<generator object trigrams at 0x000000499FCD76D0>"
      ]
     },
     "execution_count": 19,
     "metadata": {},
     "output_type": "execute_result"
    }
   ],
   "source": [
    "#finding trigrams\n",
    "bryantStoriesTrigram = nltk.trigrams(bryantStoriesNormPOSTag)"
   ]
  },
  {
   "cell_type": "code",
   "execution_count": 21,
   "metadata": {
    "collapsed": false
   },
   "outputs": [
    {
     "name": "stdout",
     "output_type": "stream",
     "text": [
      "ship or part\n",
      "rest or food\n",
      "food or clothes\n",
      "food or water\n",
      "queens or princesses\n",
      "catholics or protestants\n",
      "door or driving\n",
      "rank or wealth\n"
     ]
    }
   ],
   "source": [
    "for (word1,tag1),(word2,tag2),(word3,tag3) in bryantStoriesTrigram:\n",
    "    if tag1 == \"NOUN\" and word2 == \"or\" and tag3 == \"NOUN\":\n",
    "        print(word1+ ' '+ word2+ ' '+ word3)"
   ]
  },
  {
   "cell_type": "code",
   "execution_count": null,
   "metadata": {
    "collapsed": true
   },
   "outputs": [],
   "source": []
  }
 ],
 "metadata": {
  "anaconda-cloud": {},
  "kernelspec": {
   "display_name": "Python [Root]",
   "language": "python",
   "name": "Python [Root]"
  },
  "language_info": {
   "codemirror_mode": {
    "name": "ipython",
    "version": 3
   },
   "file_extension": ".py",
   "mimetype": "text/x-python",
   "name": "python",
   "nbconvert_exporter": "python",
   "pygments_lexer": "ipython3",
   "version": "3.5.2"
  }
 },
 "nbformat": 4,
 "nbformat_minor": 0
}
